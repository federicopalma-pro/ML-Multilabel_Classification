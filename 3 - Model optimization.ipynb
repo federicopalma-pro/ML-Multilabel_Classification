{
 "cells": [
  {
   "cell_type": "markdown",
   "id": "6eb65739",
   "metadata": {},
   "source": [
    "# Import libraries"
   ]
  },
  {
   "cell_type": "code",
   "execution_count": 1,
   "id": "ed302d14",
   "metadata": {},
   "outputs": [],
   "source": [
    "import pandas as pd\n",
    "import numpy as np\n",
    "import matplotlib.pyplot as plt\n",
    "import seaborn as sns\n",
    "import pickle"
   ]
  },
  {
   "cell_type": "code",
   "execution_count": 2,
   "id": "4736f008",
   "metadata": {},
   "outputs": [],
   "source": [
    "from sklearn.model_selection import train_test_split, GridSearchCV\n",
    "from sklearn.metrics import classification_report\n",
    "from sklearn.preprocessing import StandardScaler, Normalizer, OneHotEncoder, MinMaxScaler,RobustScaler,MaxAbsScaler\n",
    "from sklearn.decomposition import PCA, DictionaryLearning, SparsePCA, TruncatedSVD, IncrementalPCA, FastICA, FactorAnalysis, NMF\n",
    "from sklearn.compose import ColumnTransformer\n",
    "from  sklearn.pipeline  import  Pipeline\n",
    "from  sklearn  import  set_config\n",
    "set_config(display='diagram')"
   ]
  },
  {
   "cell_type": "code",
   "execution_count": 3,
   "id": "1a615dd5",
   "metadata": {},
   "outputs": [],
   "source": [
    "from sklearn.multioutput import MultiOutputClassifier\n",
    "from sklearn.neural_network import MLPClassifier"
   ]
  },
  {
   "cell_type": "markdown",
   "id": "389497c0",
   "metadata": {},
   "source": [
    "# Custom functions"
   ]
  },
  {
   "cell_type": "code",
   "execution_count": 4,
   "id": "eba22afb",
   "metadata": {},
   "outputs": [],
   "source": [
    "def dataset_parameters(df,target):\n",
    "    df_features = df.drop(columns=target)\n",
    "    data_type_numerical = ['int64', 'float64']\n",
    "    data_type_object = ['object', 'bool', 'category']\n",
    "    data_type_date = ['datetime64']\n",
    "    categorical_features  = list(filter(lambda x: df_features[x].dtype in data_type_object, df_features.columns))\n",
    "    numerical_features = list(filter(lambda x: df_features[x].dtype in data_type_numerical, df_features.columns))\n",
    "    date_features = list(filter(lambda x: df_features[x].dtype in data_type_date, df_features.columns))\n",
    "    all_features  = numerical_features  + categorical_features + date_features \n",
    "    return categorical_features, numerical_features, date_features, all_features,target "
   ]
  },
  {
   "cell_type": "code",
   "execution_count": 5,
   "id": "e47d9706",
   "metadata": {},
   "outputs": [],
   "source": [
    "def accuracy_performance(model, X, y):\n",
    "    accuracy = round(model.score(X,y),3)\n",
    "    return pd.DataFrame({'pipeline':[str(model)], 'accuracy':[accuracy]})"
   ]
  },
  {
   "cell_type": "code",
   "execution_count": 6,
   "id": "290a1e72",
   "metadata": {},
   "outputs": [],
   "source": [
    "def classification_analysis(df):\n",
    "    df['pipeline'] = df['pipeline'].apply(lambda x: x.split('(')[0])\n",
    "    \n",
    "    fig = plt.figure(figsize=(6, 4))\n",
    "    sns.barplot(x='pipeline', y='accuracy', data=df)\n",
    "    plt.ylim(0, 1)\n",
    "    plt.xlabel('')\n",
    "    plt.ylabel('accuracy', fontsize=10)\n",
    "    plt.xticks(rotation=60, fontsize=10)\n",
    "    plt.yticks(fontsize=10)\n",
    "    plt.grid(axis='y', linestyle='--', linewidth=0.8)\n",
    "\n",
    "    plt.show()\n",
    "    return df"
   ]
  },
  {
   "cell_type": "code",
   "execution_count": 7,
   "id": "4aafa185",
   "metadata": {},
   "outputs": [],
   "source": [
    "def classificator_performance(model, X_test, y_test, target_names):\n",
    "    y_pred = model.predict(X_test)\n",
    "    return print(classification_report(y_test, y_pred, target_names=target_names, zero_division=0))  "
   ]
  },
  {
   "cell_type": "markdown",
   "id": "2cc89fdb",
   "metadata": {},
   "source": [
    "# Loading data"
   ]
  },
  {
   "cell_type": "code",
   "execution_count": 8,
   "id": "a625daeb",
   "metadata": {},
   "outputs": [],
   "source": [
    "with open('reuters_labels_classes.pkl', 'rb') as f:\n",
    "    target_classes = pickle.load(f)"
   ]
  },
  {
   "cell_type": "code",
   "execution_count": 9,
   "id": "ae59d7c0",
   "metadata": {},
   "outputs": [
    {
     "data": {
      "text/plain": [
       "{0: False, 1: True}"
      ]
     },
     "execution_count": 9,
     "metadata": {},
     "output_type": "execute_result"
    }
   ],
   "source": [
    "target_classes"
   ]
  },
  {
   "cell_type": "code",
   "execution_count": 10,
   "id": "05e7516d",
   "metadata": {},
   "outputs": [],
   "source": [
    "labels = ['label1', 'label2', 'label3', 'label4', 'label5', 'label6', 'label7']"
   ]
  },
  {
   "cell_type": "code",
   "execution_count": 11,
   "id": "b5adac42",
   "metadata": {},
   "outputs": [],
   "source": [
    "with open('reuters_df.pkl', 'rb') as f:\n",
    "    df = pickle.load(f)"
   ]
  },
  {
   "cell_type": "code",
   "execution_count": 12,
   "id": "94c38b42",
   "metadata": {},
   "outputs": [
    {
     "data": {
      "text/html": [
       "<div>\n",
       "<style scoped>\n",
       "    .dataframe tbody tr th:only-of-type {\n",
       "        vertical-align: middle;\n",
       "    }\n",
       "\n",
       "    .dataframe tbody tr th {\n",
       "        vertical-align: top;\n",
       "    }\n",
       "\n",
       "    .dataframe thead th {\n",
       "        text-align: right;\n",
       "    }\n",
       "</style>\n",
       "<table border=\"1\" class=\"dataframe\">\n",
       "  <thead>\n",
       "    <tr style=\"text-align: right;\">\n",
       "      <th></th>\n",
       "      <th>feature1</th>\n",
       "      <th>feature2</th>\n",
       "      <th>feature3</th>\n",
       "      <th>feature4</th>\n",
       "      <th>feature5</th>\n",
       "      <th>feature6</th>\n",
       "      <th>feature7</th>\n",
       "      <th>feature8</th>\n",
       "      <th>feature9</th>\n",
       "      <th>feature10</th>\n",
       "      <th>...</th>\n",
       "      <th>feature241</th>\n",
       "      <th>feature242</th>\n",
       "      <th>feature243</th>\n",
       "      <th>label1</th>\n",
       "      <th>label2</th>\n",
       "      <th>label3</th>\n",
       "      <th>label4</th>\n",
       "      <th>label5</th>\n",
       "      <th>label6</th>\n",
       "      <th>label7</th>\n",
       "    </tr>\n",
       "  </thead>\n",
       "  <tbody>\n",
       "    <tr>\n",
       "      <th>0</th>\n",
       "      <td>0.0</td>\n",
       "      <td>0.0</td>\n",
       "      <td>0.0</td>\n",
       "      <td>0.0</td>\n",
       "      <td>3.0</td>\n",
       "      <td>3.0</td>\n",
       "      <td>0.0</td>\n",
       "      <td>0.0</td>\n",
       "      <td>0.0</td>\n",
       "      <td>0.0</td>\n",
       "      <td>...</td>\n",
       "      <td>0.0</td>\n",
       "      <td>0.0</td>\n",
       "      <td>0.0</td>\n",
       "      <td>False</td>\n",
       "      <td>False</td>\n",
       "      <td>False</td>\n",
       "      <td>True</td>\n",
       "      <td>False</td>\n",
       "      <td>False</td>\n",
       "      <td>False</td>\n",
       "    </tr>\n",
       "    <tr>\n",
       "      <th>1</th>\n",
       "      <td>1.0</td>\n",
       "      <td>0.0</td>\n",
       "      <td>0.0</td>\n",
       "      <td>0.0</td>\n",
       "      <td>0.0</td>\n",
       "      <td>0.0</td>\n",
       "      <td>0.0</td>\n",
       "      <td>0.0</td>\n",
       "      <td>0.0</td>\n",
       "      <td>1.0</td>\n",
       "      <td>...</td>\n",
       "      <td>0.0</td>\n",
       "      <td>0.0</td>\n",
       "      <td>0.0</td>\n",
       "      <td>False</td>\n",
       "      <td>False</td>\n",
       "      <td>False</td>\n",
       "      <td>True</td>\n",
       "      <td>False</td>\n",
       "      <td>False</td>\n",
       "      <td>True</td>\n",
       "    </tr>\n",
       "    <tr>\n",
       "      <th>2</th>\n",
       "      <td>1.0</td>\n",
       "      <td>0.0</td>\n",
       "      <td>0.0</td>\n",
       "      <td>0.0</td>\n",
       "      <td>0.0</td>\n",
       "      <td>0.0</td>\n",
       "      <td>0.0</td>\n",
       "      <td>0.0</td>\n",
       "      <td>0.0</td>\n",
       "      <td>0.0</td>\n",
       "      <td>...</td>\n",
       "      <td>0.0</td>\n",
       "      <td>0.0</td>\n",
       "      <td>2.0</td>\n",
       "      <td>False</td>\n",
       "      <td>True</td>\n",
       "      <td>False</td>\n",
       "      <td>False</td>\n",
       "      <td>False</td>\n",
       "      <td>False</td>\n",
       "      <td>False</td>\n",
       "    </tr>\n",
       "    <tr>\n",
       "      <th>3</th>\n",
       "      <td>1.0</td>\n",
       "      <td>0.0</td>\n",
       "      <td>1.0</td>\n",
       "      <td>0.0</td>\n",
       "      <td>0.0</td>\n",
       "      <td>0.0</td>\n",
       "      <td>0.0</td>\n",
       "      <td>0.0</td>\n",
       "      <td>0.0</td>\n",
       "      <td>0.0</td>\n",
       "      <td>...</td>\n",
       "      <td>0.0</td>\n",
       "      <td>0.0</td>\n",
       "      <td>0.0</td>\n",
       "      <td>False</td>\n",
       "      <td>False</td>\n",
       "      <td>True</td>\n",
       "      <td>False</td>\n",
       "      <td>False</td>\n",
       "      <td>False</td>\n",
       "      <td>False</td>\n",
       "    </tr>\n",
       "    <tr>\n",
       "      <th>4</th>\n",
       "      <td>1.0</td>\n",
       "      <td>0.0</td>\n",
       "      <td>1.0</td>\n",
       "      <td>0.0</td>\n",
       "      <td>0.0</td>\n",
       "      <td>0.0</td>\n",
       "      <td>7.0</td>\n",
       "      <td>5.0</td>\n",
       "      <td>2.0</td>\n",
       "      <td>0.0</td>\n",
       "      <td>...</td>\n",
       "      <td>0.0</td>\n",
       "      <td>0.0</td>\n",
       "      <td>0.0</td>\n",
       "      <td>False</td>\n",
       "      <td>False</td>\n",
       "      <td>True</td>\n",
       "      <td>False</td>\n",
       "      <td>False</td>\n",
       "      <td>False</td>\n",
       "      <td>True</td>\n",
       "    </tr>\n",
       "    <tr>\n",
       "      <th>...</th>\n",
       "      <td>...</td>\n",
       "      <td>...</td>\n",
       "      <td>...</td>\n",
       "      <td>...</td>\n",
       "      <td>...</td>\n",
       "      <td>...</td>\n",
       "      <td>...</td>\n",
       "      <td>...</td>\n",
       "      <td>...</td>\n",
       "      <td>...</td>\n",
       "      <td>...</td>\n",
       "      <td>...</td>\n",
       "      <td>...</td>\n",
       "      <td>...</td>\n",
       "      <td>...</td>\n",
       "      <td>...</td>\n",
       "      <td>...</td>\n",
       "      <td>...</td>\n",
       "      <td>...</td>\n",
       "      <td>...</td>\n",
       "      <td>...</td>\n",
       "    </tr>\n",
       "    <tr>\n",
       "      <th>1995</th>\n",
       "      <td>1.0</td>\n",
       "      <td>1.0</td>\n",
       "      <td>0.0</td>\n",
       "      <td>0.0</td>\n",
       "      <td>0.0</td>\n",
       "      <td>0.0</td>\n",
       "      <td>1.0</td>\n",
       "      <td>1.0</td>\n",
       "      <td>0.0</td>\n",
       "      <td>0.0</td>\n",
       "      <td>...</td>\n",
       "      <td>0.0</td>\n",
       "      <td>0.0</td>\n",
       "      <td>0.0</td>\n",
       "      <td>False</td>\n",
       "      <td>False</td>\n",
       "      <td>False</td>\n",
       "      <td>False</td>\n",
       "      <td>True</td>\n",
       "      <td>False</td>\n",
       "      <td>False</td>\n",
       "    </tr>\n",
       "    <tr>\n",
       "      <th>1996</th>\n",
       "      <td>1.0</td>\n",
       "      <td>0.0</td>\n",
       "      <td>0.0</td>\n",
       "      <td>0.0</td>\n",
       "      <td>0.0</td>\n",
       "      <td>0.0</td>\n",
       "      <td>1.0</td>\n",
       "      <td>6.0</td>\n",
       "      <td>3.0</td>\n",
       "      <td>1.0</td>\n",
       "      <td>...</td>\n",
       "      <td>0.0</td>\n",
       "      <td>0.0</td>\n",
       "      <td>0.0</td>\n",
       "      <td>False</td>\n",
       "      <td>True</td>\n",
       "      <td>False</td>\n",
       "      <td>False</td>\n",
       "      <td>False</td>\n",
       "      <td>False</td>\n",
       "      <td>False</td>\n",
       "    </tr>\n",
       "    <tr>\n",
       "      <th>1997</th>\n",
       "      <td>1.0</td>\n",
       "      <td>1.0</td>\n",
       "      <td>1.0</td>\n",
       "      <td>1.0</td>\n",
       "      <td>4.0</td>\n",
       "      <td>4.0</td>\n",
       "      <td>0.0</td>\n",
       "      <td>0.0</td>\n",
       "      <td>4.0</td>\n",
       "      <td>4.0</td>\n",
       "      <td>...</td>\n",
       "      <td>0.0</td>\n",
       "      <td>0.0</td>\n",
       "      <td>0.0</td>\n",
       "      <td>True</td>\n",
       "      <td>False</td>\n",
       "      <td>False</td>\n",
       "      <td>False</td>\n",
       "      <td>False</td>\n",
       "      <td>False</td>\n",
       "      <td>False</td>\n",
       "    </tr>\n",
       "    <tr>\n",
       "      <th>1998</th>\n",
       "      <td>1.0</td>\n",
       "      <td>0.0</td>\n",
       "      <td>1.0</td>\n",
       "      <td>0.0</td>\n",
       "      <td>0.0</td>\n",
       "      <td>0.0</td>\n",
       "      <td>0.0</td>\n",
       "      <td>0.0</td>\n",
       "      <td>0.0</td>\n",
       "      <td>0.0</td>\n",
       "      <td>...</td>\n",
       "      <td>0.0</td>\n",
       "      <td>0.0</td>\n",
       "      <td>0.0</td>\n",
       "      <td>False</td>\n",
       "      <td>False</td>\n",
       "      <td>False</td>\n",
       "      <td>True</td>\n",
       "      <td>False</td>\n",
       "      <td>False</td>\n",
       "      <td>False</td>\n",
       "    </tr>\n",
       "    <tr>\n",
       "      <th>1999</th>\n",
       "      <td>1.0</td>\n",
       "      <td>1.0</td>\n",
       "      <td>1.0</td>\n",
       "      <td>1.0</td>\n",
       "      <td>1.0</td>\n",
       "      <td>1.0</td>\n",
       "      <td>0.0</td>\n",
       "      <td>0.0</td>\n",
       "      <td>2.0</td>\n",
       "      <td>2.0</td>\n",
       "      <td>...</td>\n",
       "      <td>0.0</td>\n",
       "      <td>0.0</td>\n",
       "      <td>0.0</td>\n",
       "      <td>True</td>\n",
       "      <td>False</td>\n",
       "      <td>False</td>\n",
       "      <td>False</td>\n",
       "      <td>False</td>\n",
       "      <td>False</td>\n",
       "      <td>False</td>\n",
       "    </tr>\n",
       "  </tbody>\n",
       "</table>\n",
       "<p>2000 rows × 250 columns</p>\n",
       "</div>"
      ],
      "text/plain": [
       "      feature1  feature2  feature3  feature4  feature5  feature6  feature7  \\\n",
       "0          0.0       0.0       0.0       0.0       3.0       3.0       0.0   \n",
       "1          1.0       0.0       0.0       0.0       0.0       0.0       0.0   \n",
       "2          1.0       0.0       0.0       0.0       0.0       0.0       0.0   \n",
       "3          1.0       0.0       1.0       0.0       0.0       0.0       0.0   \n",
       "4          1.0       0.0       1.0       0.0       0.0       0.0       7.0   \n",
       "...        ...       ...       ...       ...       ...       ...       ...   \n",
       "1995       1.0       1.0       0.0       0.0       0.0       0.0       1.0   \n",
       "1996       1.0       0.0       0.0       0.0       0.0       0.0       1.0   \n",
       "1997       1.0       1.0       1.0       1.0       4.0       4.0       0.0   \n",
       "1998       1.0       0.0       1.0       0.0       0.0       0.0       0.0   \n",
       "1999       1.0       1.0       1.0       1.0       1.0       1.0       0.0   \n",
       "\n",
       "      feature8  feature9  feature10  ...  feature241  feature242  feature243  \\\n",
       "0          0.0       0.0        0.0  ...         0.0         0.0         0.0   \n",
       "1          0.0       0.0        1.0  ...         0.0         0.0         0.0   \n",
       "2          0.0       0.0        0.0  ...         0.0         0.0         2.0   \n",
       "3          0.0       0.0        0.0  ...         0.0         0.0         0.0   \n",
       "4          5.0       2.0        0.0  ...         0.0         0.0         0.0   \n",
       "...        ...       ...        ...  ...         ...         ...         ...   \n",
       "1995       1.0       0.0        0.0  ...         0.0         0.0         0.0   \n",
       "1996       6.0       3.0        1.0  ...         0.0         0.0         0.0   \n",
       "1997       0.0       4.0        4.0  ...         0.0         0.0         0.0   \n",
       "1998       0.0       0.0        0.0  ...         0.0         0.0         0.0   \n",
       "1999       0.0       2.0        2.0  ...         0.0         0.0         0.0   \n",
       "\n",
       "      label1  label2  label3  label4  label5  label6  label7  \n",
       "0      False   False   False    True   False   False   False  \n",
       "1      False   False   False    True   False   False    True  \n",
       "2      False    True   False   False   False   False   False  \n",
       "3      False   False    True   False   False   False   False  \n",
       "4      False   False    True   False   False   False    True  \n",
       "...      ...     ...     ...     ...     ...     ...     ...  \n",
       "1995   False   False   False   False    True   False   False  \n",
       "1996   False    True   False   False   False   False   False  \n",
       "1997    True   False   False   False   False   False   False  \n",
       "1998   False   False   False    True   False   False   False  \n",
       "1999    True   False   False   False   False   False   False  \n",
       "\n",
       "[2000 rows x 250 columns]"
      ]
     },
     "execution_count": 12,
     "metadata": {},
     "output_type": "execute_result"
    }
   ],
   "source": [
    "df"
   ]
  },
  {
   "cell_type": "code",
   "execution_count": 13,
   "id": "6b518b86",
   "metadata": {},
   "outputs": [],
   "source": [
    "categorical_features, numerical_features, date_features, all_features, target = dataset_parameters(df,labels)"
   ]
  },
  {
   "cell_type": "code",
   "execution_count": 14,
   "id": "3b07559a",
   "metadata": {},
   "outputs": [],
   "source": [
    "X = df[all_features]"
   ]
  },
  {
   "cell_type": "code",
   "execution_count": 15,
   "id": "62ca3588",
   "metadata": {},
   "outputs": [],
   "source": [
    "y = df[target]"
   ]
  },
  {
   "cell_type": "code",
   "execution_count": 16,
   "id": "4264cdc9",
   "metadata": {},
   "outputs": [],
   "source": [
    "X_train, X_test, y_train, y_test = train_test_split(X, y, test_size=0.25, random_state=13) "
   ]
  },
  {
   "cell_type": "markdown",
   "id": "99105f76",
   "metadata": {},
   "source": [
    "# Setup pipeline"
   ]
  },
  {
   "cell_type": "code",
   "execution_count": 17,
   "id": "751cc436",
   "metadata": {},
   "outputs": [],
   "source": [
    "categorical_transformer = Pipeline(steps=[\n",
    "    ('one' , OneHotEncoder())\n",
    "])"
   ]
  },
  {
   "cell_type": "code",
   "execution_count": 18,
   "id": "d80c89b2",
   "metadata": {},
   "outputs": [],
   "source": [
    "numerical_transformer = Pipeline(steps=[\n",
    "    ('scale', StandardScaler()),\n",
    "    ('normalize', Normalizer())\n",
    "])"
   ]
  },
  {
   "cell_type": "code",
   "execution_count": 19,
   "id": "7e47042c",
   "metadata": {},
   "outputs": [],
   "source": [
    "preprocessor = ColumnTransformer(transformers=[\n",
    "    ('num', numerical_transformer, numerical_features),\n",
    "    ('cat', categorical_transformer, categorical_features)\n",
    "])"
   ]
  },
  {
   "cell_type": "code",
   "execution_count": 20,
   "id": "79cd2cef",
   "metadata": {},
   "outputs": [],
   "source": [
    "pipeline = Pipeline(steps=[\n",
    "    ('preprocessor', preprocessor),\n",
    "    ('model', MultiOutputClassifier(MLPClassifier()))\n",
    "])"
   ]
  },
  {
   "cell_type": "code",
   "execution_count": 21,
   "id": "278983c0",
   "metadata": {},
   "outputs": [
    {
     "data": {
      "text/html": [
       "<style>#sk-128aa1d6-d7ba-49f3-918f-58c75b646821 {color: black;background-color: white;}#sk-128aa1d6-d7ba-49f3-918f-58c75b646821 pre{padding: 0;}#sk-128aa1d6-d7ba-49f3-918f-58c75b646821 div.sk-toggleable {background-color: white;}#sk-128aa1d6-d7ba-49f3-918f-58c75b646821 label.sk-toggleable__label {cursor: pointer;display: block;width: 100%;margin-bottom: 0;padding: 0.3em;box-sizing: border-box;text-align: center;}#sk-128aa1d6-d7ba-49f3-918f-58c75b646821 label.sk-toggleable__label-arrow:before {content: \"▸\";float: left;margin-right: 0.25em;color: #696969;}#sk-128aa1d6-d7ba-49f3-918f-58c75b646821 label.sk-toggleable__label-arrow:hover:before {color: black;}#sk-128aa1d6-d7ba-49f3-918f-58c75b646821 div.sk-estimator:hover label.sk-toggleable__label-arrow:before {color: black;}#sk-128aa1d6-d7ba-49f3-918f-58c75b646821 div.sk-toggleable__content {max-height: 0;max-width: 0;overflow: hidden;text-align: left;background-color: #f0f8ff;}#sk-128aa1d6-d7ba-49f3-918f-58c75b646821 div.sk-toggleable__content pre {margin: 0.2em;color: black;border-radius: 0.25em;background-color: #f0f8ff;}#sk-128aa1d6-d7ba-49f3-918f-58c75b646821 input.sk-toggleable__control:checked~div.sk-toggleable__content {max-height: 200px;max-width: 100%;overflow: auto;}#sk-128aa1d6-d7ba-49f3-918f-58c75b646821 input.sk-toggleable__control:checked~label.sk-toggleable__label-arrow:before {content: \"▾\";}#sk-128aa1d6-d7ba-49f3-918f-58c75b646821 div.sk-estimator input.sk-toggleable__control:checked~label.sk-toggleable__label {background-color: #d4ebff;}#sk-128aa1d6-d7ba-49f3-918f-58c75b646821 div.sk-label input.sk-toggleable__control:checked~label.sk-toggleable__label {background-color: #d4ebff;}#sk-128aa1d6-d7ba-49f3-918f-58c75b646821 input.sk-hidden--visually {border: 0;clip: rect(1px 1px 1px 1px);clip: rect(1px, 1px, 1px, 1px);height: 1px;margin: -1px;overflow: hidden;padding: 0;position: absolute;width: 1px;}#sk-128aa1d6-d7ba-49f3-918f-58c75b646821 div.sk-estimator {font-family: monospace;background-color: #f0f8ff;border: 1px dotted black;border-radius: 0.25em;box-sizing: border-box;margin-bottom: 0.5em;}#sk-128aa1d6-d7ba-49f3-918f-58c75b646821 div.sk-estimator:hover {background-color: #d4ebff;}#sk-128aa1d6-d7ba-49f3-918f-58c75b646821 div.sk-parallel-item::after {content: \"\";width: 100%;border-bottom: 1px solid gray;flex-grow: 1;}#sk-128aa1d6-d7ba-49f3-918f-58c75b646821 div.sk-label:hover label.sk-toggleable__label {background-color: #d4ebff;}#sk-128aa1d6-d7ba-49f3-918f-58c75b646821 div.sk-serial::before {content: \"\";position: absolute;border-left: 1px solid gray;box-sizing: border-box;top: 2em;bottom: 0;left: 50%;}#sk-128aa1d6-d7ba-49f3-918f-58c75b646821 div.sk-serial {display: flex;flex-direction: column;align-items: center;background-color: white;padding-right: 0.2em;padding-left: 0.2em;}#sk-128aa1d6-d7ba-49f3-918f-58c75b646821 div.sk-item {z-index: 1;}#sk-128aa1d6-d7ba-49f3-918f-58c75b646821 div.sk-parallel {display: flex;align-items: stretch;justify-content: center;background-color: white;}#sk-128aa1d6-d7ba-49f3-918f-58c75b646821 div.sk-parallel::before {content: \"\";position: absolute;border-left: 1px solid gray;box-sizing: border-box;top: 2em;bottom: 0;left: 50%;}#sk-128aa1d6-d7ba-49f3-918f-58c75b646821 div.sk-parallel-item {display: flex;flex-direction: column;position: relative;background-color: white;}#sk-128aa1d6-d7ba-49f3-918f-58c75b646821 div.sk-parallel-item:first-child::after {align-self: flex-end;width: 50%;}#sk-128aa1d6-d7ba-49f3-918f-58c75b646821 div.sk-parallel-item:last-child::after {align-self: flex-start;width: 50%;}#sk-128aa1d6-d7ba-49f3-918f-58c75b646821 div.sk-parallel-item:only-child::after {width: 0;}#sk-128aa1d6-d7ba-49f3-918f-58c75b646821 div.sk-dashed-wrapped {border: 1px dashed gray;margin: 0 0.4em 0.5em 0.4em;box-sizing: border-box;padding-bottom: 0.4em;background-color: white;position: relative;}#sk-128aa1d6-d7ba-49f3-918f-58c75b646821 div.sk-label label {font-family: monospace;font-weight: bold;background-color: white;display: inline-block;line-height: 1.2em;}#sk-128aa1d6-d7ba-49f3-918f-58c75b646821 div.sk-label-container {position: relative;z-index: 2;text-align: center;}#sk-128aa1d6-d7ba-49f3-918f-58c75b646821 div.sk-container {/* jupyter's `normalize.less` sets `[hidden] { display: none; }` but bootstrap.min.css set `[hidden] { display: none !important; }` so we also need the `!important` here to be able to override the default hidden behavior on the sphinx rendered scikit-learn.org. See: https://github.com/scikit-learn/scikit-learn/issues/21755 */display: inline-block !important;position: relative;}#sk-128aa1d6-d7ba-49f3-918f-58c75b646821 div.sk-text-repr-fallback {display: none;}</style><div id=\"sk-128aa1d6-d7ba-49f3-918f-58c75b646821\" class=\"sk-top-container\"><div class=\"sk-text-repr-fallback\"><pre>Pipeline(steps=[(&#x27;preprocessor&#x27;,\n",
       "                 ColumnTransformer(transformers=[(&#x27;num&#x27;,\n",
       "                                                  Pipeline(steps=[(&#x27;scale&#x27;,\n",
       "                                                                   StandardScaler()),\n",
       "                                                                  (&#x27;normalize&#x27;,\n",
       "                                                                   Normalizer())]),\n",
       "                                                  [&#x27;feature1&#x27;, &#x27;feature2&#x27;,\n",
       "                                                   &#x27;feature3&#x27;, &#x27;feature4&#x27;,\n",
       "                                                   &#x27;feature5&#x27;, &#x27;feature6&#x27;,\n",
       "                                                   &#x27;feature7&#x27;, &#x27;feature8&#x27;,\n",
       "                                                   &#x27;feature9&#x27;, &#x27;feature10&#x27;,\n",
       "                                                   &#x27;feature11&#x27;, &#x27;feature12&#x27;,\n",
       "                                                   &#x27;feature13&#x27;, &#x27;feature14&#x27;,\n",
       "                                                   &#x27;feature15&#x27;, &#x27;feature16&#x27;,\n",
       "                                                   &#x27;feature17&#x27;, &#x27;feature18&#x27;,\n",
       "                                                   &#x27;feature19&#x27;, &#x27;feature20&#x27;,\n",
       "                                                   &#x27;feature21&#x27;, &#x27;feature22&#x27;,\n",
       "                                                   &#x27;feature23&#x27;, &#x27;feature24&#x27;,\n",
       "                                                   &#x27;feature25&#x27;, &#x27;feature26&#x27;,\n",
       "                                                   &#x27;feature27&#x27;, &#x27;feature28&#x27;,\n",
       "                                                   &#x27;feature29&#x27;, &#x27;feature30&#x27;, ...]),\n",
       "                                                 (&#x27;cat&#x27;,\n",
       "                                                  Pipeline(steps=[(&#x27;one&#x27;,\n",
       "                                                                   OneHotEncoder())]),\n",
       "                                                  [])])),\n",
       "                (&#x27;model&#x27;, MultiOutputClassifier(estimator=MLPClassifier()))])</pre><b>Please rerun this cell to show the HTML repr or trust the notebook.</b></div><div class=\"sk-container\" hidden><div class=\"sk-item sk-dashed-wrapped\"><div class=\"sk-label-container\"><div class=\"sk-label sk-toggleable\"><input class=\"sk-toggleable__control sk-hidden--visually\" id=\"e32742b3-1b2c-4b36-81e6-90c74a3a2a5c\" type=\"checkbox\" ><label for=\"e32742b3-1b2c-4b36-81e6-90c74a3a2a5c\" class=\"sk-toggleable__label sk-toggleable__label-arrow\">Pipeline</label><div class=\"sk-toggleable__content\"><pre>Pipeline(steps=[(&#x27;preprocessor&#x27;,\n",
       "                 ColumnTransformer(transformers=[(&#x27;num&#x27;,\n",
       "                                                  Pipeline(steps=[(&#x27;scale&#x27;,\n",
       "                                                                   StandardScaler()),\n",
       "                                                                  (&#x27;normalize&#x27;,\n",
       "                                                                   Normalizer())]),\n",
       "                                                  [&#x27;feature1&#x27;, &#x27;feature2&#x27;,\n",
       "                                                   &#x27;feature3&#x27;, &#x27;feature4&#x27;,\n",
       "                                                   &#x27;feature5&#x27;, &#x27;feature6&#x27;,\n",
       "                                                   &#x27;feature7&#x27;, &#x27;feature8&#x27;,\n",
       "                                                   &#x27;feature9&#x27;, &#x27;feature10&#x27;,\n",
       "                                                   &#x27;feature11&#x27;, &#x27;feature12&#x27;,\n",
       "                                                   &#x27;feature13&#x27;, &#x27;feature14&#x27;,\n",
       "                                                   &#x27;feature15&#x27;, &#x27;feature16&#x27;,\n",
       "                                                   &#x27;feature17&#x27;, &#x27;feature18&#x27;,\n",
       "                                                   &#x27;feature19&#x27;, &#x27;feature20&#x27;,\n",
       "                                                   &#x27;feature21&#x27;, &#x27;feature22&#x27;,\n",
       "                                                   &#x27;feature23&#x27;, &#x27;feature24&#x27;,\n",
       "                                                   &#x27;feature25&#x27;, &#x27;feature26&#x27;,\n",
       "                                                   &#x27;feature27&#x27;, &#x27;feature28&#x27;,\n",
       "                                                   &#x27;feature29&#x27;, &#x27;feature30&#x27;, ...]),\n",
       "                                                 (&#x27;cat&#x27;,\n",
       "                                                  Pipeline(steps=[(&#x27;one&#x27;,\n",
       "                                                                   OneHotEncoder())]),\n",
       "                                                  [])])),\n",
       "                (&#x27;model&#x27;, MultiOutputClassifier(estimator=MLPClassifier()))])</pre></div></div></div><div class=\"sk-serial\"><div class=\"sk-item sk-dashed-wrapped\"><div class=\"sk-label-container\"><div class=\"sk-label sk-toggleable\"><input class=\"sk-toggleable__control sk-hidden--visually\" id=\"d47da9cc-bb2b-4cec-bc58-01f26fda1141\" type=\"checkbox\" ><label for=\"d47da9cc-bb2b-4cec-bc58-01f26fda1141\" class=\"sk-toggleable__label sk-toggleable__label-arrow\">preprocessor: ColumnTransformer</label><div class=\"sk-toggleable__content\"><pre>ColumnTransformer(transformers=[(&#x27;num&#x27;,\n",
       "                                 Pipeline(steps=[(&#x27;scale&#x27;, StandardScaler()),\n",
       "                                                 (&#x27;normalize&#x27;, Normalizer())]),\n",
       "                                 [&#x27;feature1&#x27;, &#x27;feature2&#x27;, &#x27;feature3&#x27;,\n",
       "                                  &#x27;feature4&#x27;, &#x27;feature5&#x27;, &#x27;feature6&#x27;,\n",
       "                                  &#x27;feature7&#x27;, &#x27;feature8&#x27;, &#x27;feature9&#x27;,\n",
       "                                  &#x27;feature10&#x27;, &#x27;feature11&#x27;, &#x27;feature12&#x27;,\n",
       "                                  &#x27;feature13&#x27;, &#x27;feature14&#x27;, &#x27;feature15&#x27;,\n",
       "                                  &#x27;feature16&#x27;, &#x27;feature17&#x27;, &#x27;feature18&#x27;,\n",
       "                                  &#x27;feature19&#x27;, &#x27;feature20&#x27;, &#x27;feature21&#x27;,\n",
       "                                  &#x27;feature22&#x27;, &#x27;feature23&#x27;, &#x27;feature24&#x27;,\n",
       "                                  &#x27;feature25&#x27;, &#x27;feature26&#x27;, &#x27;feature27&#x27;,\n",
       "                                  &#x27;feature28&#x27;, &#x27;feature29&#x27;, &#x27;feature30&#x27;, ...]),\n",
       "                                (&#x27;cat&#x27;,\n",
       "                                 Pipeline(steps=[(&#x27;one&#x27;, OneHotEncoder())]),\n",
       "                                 [])])</pre></div></div></div><div class=\"sk-parallel\"><div class=\"sk-parallel-item\"><div class=\"sk-item\"><div class=\"sk-label-container\"><div class=\"sk-label sk-toggleable\"><input class=\"sk-toggleable__control sk-hidden--visually\" id=\"d165e393-edb3-4f56-931a-d022b2dbd9b6\" type=\"checkbox\" ><label for=\"d165e393-edb3-4f56-931a-d022b2dbd9b6\" class=\"sk-toggleable__label sk-toggleable__label-arrow\">num</label><div class=\"sk-toggleable__content\"><pre>[&#x27;feature1&#x27;, &#x27;feature2&#x27;, &#x27;feature3&#x27;, &#x27;feature4&#x27;, &#x27;feature5&#x27;, &#x27;feature6&#x27;, &#x27;feature7&#x27;, &#x27;feature8&#x27;, &#x27;feature9&#x27;, &#x27;feature10&#x27;, &#x27;feature11&#x27;, &#x27;feature12&#x27;, &#x27;feature13&#x27;, &#x27;feature14&#x27;, &#x27;feature15&#x27;, &#x27;feature16&#x27;, &#x27;feature17&#x27;, &#x27;feature18&#x27;, &#x27;feature19&#x27;, &#x27;feature20&#x27;, &#x27;feature21&#x27;, &#x27;feature22&#x27;, &#x27;feature23&#x27;, &#x27;feature24&#x27;, &#x27;feature25&#x27;, &#x27;feature26&#x27;, &#x27;feature27&#x27;, &#x27;feature28&#x27;, &#x27;feature29&#x27;, &#x27;feature30&#x27;, &#x27;feature31&#x27;, &#x27;feature32&#x27;, &#x27;feature33&#x27;, &#x27;feature34&#x27;, &#x27;feature35&#x27;, &#x27;feature36&#x27;, &#x27;feature37&#x27;, &#x27;feature38&#x27;, &#x27;feature39&#x27;, &#x27;feature40&#x27;, &#x27;feature41&#x27;, &#x27;feature42&#x27;, &#x27;feature43&#x27;, &#x27;feature44&#x27;, &#x27;feature45&#x27;, &#x27;feature46&#x27;, &#x27;feature47&#x27;, &#x27;feature48&#x27;, &#x27;feature49&#x27;, &#x27;feature50&#x27;, &#x27;feature51&#x27;, &#x27;feature52&#x27;, &#x27;feature53&#x27;, &#x27;feature54&#x27;, &#x27;feature55&#x27;, &#x27;feature56&#x27;, &#x27;feature57&#x27;, &#x27;feature58&#x27;, &#x27;feature59&#x27;, &#x27;feature60&#x27;, &#x27;feature61&#x27;, &#x27;feature62&#x27;, &#x27;feature63&#x27;, &#x27;feature64&#x27;, &#x27;feature65&#x27;, &#x27;feature66&#x27;, &#x27;feature67&#x27;, &#x27;feature68&#x27;, &#x27;feature69&#x27;, &#x27;feature70&#x27;, &#x27;feature71&#x27;, &#x27;feature72&#x27;, &#x27;feature73&#x27;, &#x27;feature74&#x27;, &#x27;feature75&#x27;, &#x27;feature76&#x27;, &#x27;feature77&#x27;, &#x27;feature78&#x27;, &#x27;feature79&#x27;, &#x27;feature80&#x27;, &#x27;feature81&#x27;, &#x27;feature82&#x27;, &#x27;feature83&#x27;, &#x27;feature84&#x27;, &#x27;feature85&#x27;, &#x27;feature86&#x27;, &#x27;feature87&#x27;, &#x27;feature88&#x27;, &#x27;feature89&#x27;, &#x27;feature90&#x27;, &#x27;feature91&#x27;, &#x27;feature92&#x27;, &#x27;feature93&#x27;, &#x27;feature94&#x27;, &#x27;feature95&#x27;, &#x27;feature96&#x27;, &#x27;feature97&#x27;, &#x27;feature98&#x27;, &#x27;feature99&#x27;, &#x27;feature100&#x27;, &#x27;feature101&#x27;, &#x27;feature102&#x27;, &#x27;feature103&#x27;, &#x27;feature104&#x27;, &#x27;feature105&#x27;, &#x27;feature106&#x27;, &#x27;feature107&#x27;, &#x27;feature108&#x27;, &#x27;feature109&#x27;, &#x27;feature110&#x27;, &#x27;feature111&#x27;, &#x27;feature112&#x27;, &#x27;feature113&#x27;, &#x27;feature114&#x27;, &#x27;feature115&#x27;, &#x27;feature116&#x27;, &#x27;feature117&#x27;, &#x27;feature118&#x27;, &#x27;feature119&#x27;, &#x27;feature120&#x27;, &#x27;feature121&#x27;, &#x27;feature122&#x27;, &#x27;feature123&#x27;, &#x27;feature124&#x27;, &#x27;feature125&#x27;, &#x27;feature126&#x27;, &#x27;feature127&#x27;, &#x27;feature128&#x27;, &#x27;feature129&#x27;, &#x27;feature130&#x27;, &#x27;feature131&#x27;, &#x27;feature132&#x27;, &#x27;feature133&#x27;, &#x27;feature134&#x27;, &#x27;feature135&#x27;, &#x27;feature136&#x27;, &#x27;feature137&#x27;, &#x27;feature138&#x27;, &#x27;feature139&#x27;, &#x27;feature140&#x27;, &#x27;feature141&#x27;, &#x27;feature142&#x27;, &#x27;feature143&#x27;, &#x27;feature144&#x27;, &#x27;feature145&#x27;, &#x27;feature146&#x27;, &#x27;feature147&#x27;, &#x27;feature148&#x27;, &#x27;feature149&#x27;, &#x27;feature150&#x27;, &#x27;feature151&#x27;, &#x27;feature152&#x27;, &#x27;feature153&#x27;, &#x27;feature154&#x27;, &#x27;feature155&#x27;, &#x27;feature156&#x27;, &#x27;feature157&#x27;, &#x27;feature158&#x27;, &#x27;feature159&#x27;, &#x27;feature160&#x27;, &#x27;feature161&#x27;, &#x27;feature162&#x27;, &#x27;feature163&#x27;, &#x27;feature164&#x27;, &#x27;feature165&#x27;, &#x27;feature166&#x27;, &#x27;feature167&#x27;, &#x27;feature168&#x27;, &#x27;feature169&#x27;, &#x27;feature170&#x27;, &#x27;feature171&#x27;, &#x27;feature172&#x27;, &#x27;feature173&#x27;, &#x27;feature174&#x27;, &#x27;feature175&#x27;, &#x27;feature176&#x27;, &#x27;feature177&#x27;, &#x27;feature178&#x27;, &#x27;feature179&#x27;, &#x27;feature180&#x27;, &#x27;feature181&#x27;, &#x27;feature182&#x27;, &#x27;feature183&#x27;, &#x27;feature184&#x27;, &#x27;feature185&#x27;, &#x27;feature186&#x27;, &#x27;feature187&#x27;, &#x27;feature188&#x27;, &#x27;feature189&#x27;, &#x27;feature190&#x27;, &#x27;feature191&#x27;, &#x27;feature192&#x27;, &#x27;feature193&#x27;, &#x27;feature194&#x27;, &#x27;feature195&#x27;, &#x27;feature196&#x27;, &#x27;feature197&#x27;, &#x27;feature198&#x27;, &#x27;feature199&#x27;, &#x27;feature200&#x27;, &#x27;feature201&#x27;, &#x27;feature202&#x27;, &#x27;feature203&#x27;, &#x27;feature204&#x27;, &#x27;feature205&#x27;, &#x27;feature206&#x27;, &#x27;feature207&#x27;, &#x27;feature208&#x27;, &#x27;feature209&#x27;, &#x27;feature210&#x27;, &#x27;feature211&#x27;, &#x27;feature212&#x27;, &#x27;feature213&#x27;, &#x27;feature214&#x27;, &#x27;feature215&#x27;, &#x27;feature216&#x27;, &#x27;feature217&#x27;, &#x27;feature218&#x27;, &#x27;feature219&#x27;, &#x27;feature220&#x27;, &#x27;feature221&#x27;, &#x27;feature222&#x27;, &#x27;feature223&#x27;, &#x27;feature224&#x27;, &#x27;feature225&#x27;, &#x27;feature226&#x27;, &#x27;feature227&#x27;, &#x27;feature228&#x27;, &#x27;feature229&#x27;, &#x27;feature230&#x27;, &#x27;feature231&#x27;, &#x27;feature232&#x27;, &#x27;feature233&#x27;, &#x27;feature234&#x27;, &#x27;feature235&#x27;, &#x27;feature236&#x27;, &#x27;feature237&#x27;, &#x27;feature238&#x27;, &#x27;feature239&#x27;, &#x27;feature240&#x27;, &#x27;feature241&#x27;, &#x27;feature242&#x27;, &#x27;feature243&#x27;]</pre></div></div></div><div class=\"sk-serial\"><div class=\"sk-item\"><div class=\"sk-serial\"><div class=\"sk-item\"><div class=\"sk-estimator sk-toggleable\"><input class=\"sk-toggleable__control sk-hidden--visually\" id=\"461e680e-9483-49dd-b586-8b94d2f9c5f5\" type=\"checkbox\" ><label for=\"461e680e-9483-49dd-b586-8b94d2f9c5f5\" class=\"sk-toggleable__label sk-toggleable__label-arrow\">StandardScaler</label><div class=\"sk-toggleable__content\"><pre>StandardScaler()</pre></div></div></div><div class=\"sk-item\"><div class=\"sk-estimator sk-toggleable\"><input class=\"sk-toggleable__control sk-hidden--visually\" id=\"ad80bc56-7b9d-45f8-be88-0fba4f91b415\" type=\"checkbox\" ><label for=\"ad80bc56-7b9d-45f8-be88-0fba4f91b415\" class=\"sk-toggleable__label sk-toggleable__label-arrow\">Normalizer</label><div class=\"sk-toggleable__content\"><pre>Normalizer()</pre></div></div></div></div></div></div></div></div><div class=\"sk-parallel-item\"><div class=\"sk-item\"><div class=\"sk-label-container\"><div class=\"sk-label sk-toggleable\"><input class=\"sk-toggleable__control sk-hidden--visually\" id=\"aa4329ab-85c9-48ff-adb9-b49cf8ced2ab\" type=\"checkbox\" ><label for=\"aa4329ab-85c9-48ff-adb9-b49cf8ced2ab\" class=\"sk-toggleable__label sk-toggleable__label-arrow\">cat</label><div class=\"sk-toggleable__content\"><pre>[]</pre></div></div></div><div class=\"sk-serial\"><div class=\"sk-item\"><div class=\"sk-serial\"><div class=\"sk-item\"><div class=\"sk-estimator sk-toggleable\"><input class=\"sk-toggleable__control sk-hidden--visually\" id=\"df51a410-d4de-48e7-8707-b83cd2e49933\" type=\"checkbox\" ><label for=\"df51a410-d4de-48e7-8707-b83cd2e49933\" class=\"sk-toggleable__label sk-toggleable__label-arrow\">OneHotEncoder</label><div class=\"sk-toggleable__content\"><pre>OneHotEncoder()</pre></div></div></div></div></div></div></div></div></div></div><div class=\"sk-item sk-dashed-wrapped\"><div class=\"sk-label-container\"><div class=\"sk-label sk-toggleable\"><input class=\"sk-toggleable__control sk-hidden--visually\" id=\"28677b5b-0169-4e83-bd51-1ec53939c0eb\" type=\"checkbox\" ><label for=\"28677b5b-0169-4e83-bd51-1ec53939c0eb\" class=\"sk-toggleable__label sk-toggleable__label-arrow\">model: MultiOutputClassifier</label><div class=\"sk-toggleable__content\"><pre>MultiOutputClassifier(estimator=MLPClassifier())</pre></div></div></div><div class=\"sk-parallel\"><div class=\"sk-parallel-item\"><div class=\"sk-item\"><div class=\"sk-serial\"><div class=\"sk-item\"><div class=\"sk-estimator sk-toggleable\"><input class=\"sk-toggleable__control sk-hidden--visually\" id=\"df1a1747-0bbf-4f76-a281-691cdc85fe92\" type=\"checkbox\" ><label for=\"df1a1747-0bbf-4f76-a281-691cdc85fe92\" class=\"sk-toggleable__label sk-toggleable__label-arrow\">MLPClassifier</label><div class=\"sk-toggleable__content\"><pre>MLPClassifier()</pre></div></div></div></div></div></div></div></div></div></div></div></div>"
      ],
      "text/plain": [
       "Pipeline(steps=[('preprocessor',\n",
       "                 ColumnTransformer(transformers=[('num',\n",
       "                                                  Pipeline(steps=[('scale',\n",
       "                                                                   StandardScaler()),\n",
       "                                                                  ('normalize',\n",
       "                                                                   Normalizer())]),\n",
       "                                                  ['feature1', 'feature2',\n",
       "                                                   'feature3', 'feature4',\n",
       "                                                   'feature5', 'feature6',\n",
       "                                                   'feature7', 'feature8',\n",
       "                                                   'feature9', 'feature10',\n",
       "                                                   'feature11', 'feature12',\n",
       "                                                   'feature13', 'feature14',\n",
       "                                                   'feature15', 'feature16',\n",
       "                                                   'feature17', 'feature18',\n",
       "                                                   'feature19', 'feature20',\n",
       "                                                   'feature21', 'feature22',\n",
       "                                                   'feature23', 'feature24',\n",
       "                                                   'feature25', 'feature26',\n",
       "                                                   'feature27', 'feature28',\n",
       "                                                   'feature29', 'feature30', ...]),\n",
       "                                                 ('cat',\n",
       "                                                  Pipeline(steps=[('one',\n",
       "                                                                   OneHotEncoder())]),\n",
       "                                                  [])])),\n",
       "                ('model', MultiOutputClassifier(estimator=MLPClassifier()))])"
      ]
     },
     "execution_count": 21,
     "metadata": {},
     "output_type": "execute_result"
    }
   ],
   "source": [
    "pipeline"
   ]
  },
  {
   "cell_type": "markdown",
   "id": "587d47c1",
   "metadata": {},
   "source": [
    "# Setup and run grid search"
   ]
  },
  {
   "cell_type": "code",
   "execution_count": 58,
   "id": "52d26ad4",
   "metadata": {},
   "outputs": [],
   "source": [
    "params_space = {\n",
    "     'preprocessor__num__normalize': [Normalizer(), 'passthrought'],\n",
    "     'preprocessor__num__scale': [StandardScaler(), 'passthrought'],\n",
    "     'model__estimator__alpha': [0.01],\n",
    "     'model__estimator__batch_size': [60],\n",
    "     'model__estimator__beta_1': [0.6],\n",
    "     'model__estimator__early_stopping': [False],\n",
    "     'model__estimator__hidden_layer_sizes': [(100, 100, 100), [100, 100]],\n",
    "     'model__estimator__max_iter': [50,75,100],\n",
    "     'model__estimator__momentum': [0.0],\n",
    "     'model__estimator__nesterovs_momentum': [True, False],\n",
    "     'model__estimator__power_t': [1],\n",
    "     'model__estimator__shuffle': [True, False],\n",
    "     'model__estimator__tol': [0.001],\n",
    "     'model__estimator__validation_fraction': [0.3],\n",
    "     'model__estimator__warm_start': [True, False],\n",
    "}\n"
   ]
  },
  {
   "cell_type": "code",
   "execution_count": 59,
   "id": "1d5d71b6",
   "metadata": {},
   "outputs": [],
   "source": [
    "scoring = {\n",
    "    'accuracy': 'accuracy',\n",
    "    'precision': 'precision_macro',\n",
    "    'recall': 'recall_macro',\n",
    "    'f1': 'f1_macro'\n",
    "}"
   ]
  },
  {
   "cell_type": "code",
   "execution_count": 60,
   "id": "74c0bafc",
   "metadata": {},
   "outputs": [],
   "source": [
    "grid = GridSearchCV(pipeline, param_grid=params_space, cv=5, n_jobs=-1, scoring=scoring, refit=\"accuracy\", verbose=1)"
   ]
  },
  {
   "cell_type": "code",
   "execution_count": 61,
   "id": "e461353a",
   "metadata": {},
   "outputs": [
    {
     "name": "stdout",
     "output_type": "stream",
     "text": [
      "Fitting 5 folds for each of 192 candidates, totalling 960 fits\n"
     ]
    },
    {
     "name": "stderr",
     "output_type": "stream",
     "text": [
      "/home/chicco/anaconda3/lib/python3.9/site-packages/sklearn/neural_network/_multilayer_perceptron.py:692: ConvergenceWarning: Stochastic Optimizer: Maximum iterations (50) reached and the optimization hasn't converged yet.\n",
      "  warnings.warn(\n",
      "/home/chicco/anaconda3/lib/python3.9/site-packages/sklearn/neural_network/_multilayer_perceptron.py:692: ConvergenceWarning: Stochastic Optimizer: Maximum iterations (50) reached and the optimization hasn't converged yet.\n",
      "  warnings.warn(\n"
     ]
    },
    {
     "name": "stdout",
     "output_type": "stream",
     "text": [
      "[CV] END model__estimator__alpha=0.01, model__estimator__batch_size=60, model__estimator__beta_1=0.6, model__estimator__early_stopping=False, model__estimator__hidden_layer_sizes=(100, 100, 100), model__estimator__max_iter=50, model__estimator__momentum=0.0, model__estimator__nesterovs_momentum=True, model__estimator__power_t=1, model__estimator__shuffle=True, model__estimator__tol=0.001, model__estimator__validation_fraction=0.3, model__estimator__warm_start=True, preprocessor__num__normalize=Normalizer(), preprocessor__num__scale=StandardScaler(); total time=  27.7s\n",
      "[CV] END model__estimator__alpha=0.01, model__estimator__batch_size=60, model__estimator__beta_1=0.6, model__estimator__early_stopping=False, model__estimator__hidden_layer_sizes=(100, 100, 100), model__estimator__max_iter=50, model__estimator__momentum=0.0, model__estimator__nesterovs_momentum=True, model__estimator__power_t=1, model__estimator__shuffle=True, model__estimator__tol=0.001, model__estimator__validation_fraction=0.3, model__estimator__warm_start=True, preprocessor__num__normalize=Normalizer(), preprocessor__num__scale=passthrought; total time=   0.0s\n",
      "[CV] END model__estimator__alpha=0.01, model__estimator__batch_size=60, model__estimator__beta_1=0.6, model__estimator__early_stopping=False, model__estimator__hidden_layer_sizes=(100, 100, 100), model__estimator__max_iter=50, model__estimator__momentum=0.0, model__estimator__nesterovs_momentum=True, model__estimator__power_t=1, model__estimator__shuffle=True, model__estimator__tol=0.001, model__estimator__validation_fraction=0.3, model__estimator__warm_start=True, preprocessor__num__normalize=Normalizer(), preprocessor__num__scale=passthrought; total time=   0.0s\n",
      "[CV] END model__estimator__alpha=0.01, model__estimator__batch_size=60, model__estimator__beta_1=0.6, model__estimator__early_stopping=False, model__estimator__hidden_layer_sizes=(100, 100, 100), model__estimator__max_iter=50, model__estimator__momentum=0.0, model__estimator__nesterovs_momentum=True, model__estimator__power_t=1, model__estimator__shuffle=True, model__estimator__tol=0.001, model__estimator__validation_fraction=0.3, model__estimator__warm_start=True, preprocessor__num__normalize=Normalizer(), preprocessor__num__scale=passthrought; total time=   0.0s\n",
      "[CV] END model__estimator__alpha=0.01, model__estimator__batch_size=60, model__estimator__beta_1=0.6, model__estimator__early_stopping=False, model__estimator__hidden_layer_sizes=(100, 100, 100), model__estimator__max_iter=50, model__estimator__momentum=0.0, model__estimator__nesterovs_momentum=True, model__estimator__power_t=1, model__estimator__shuffle=True, model__estimator__tol=0.001, model__estimator__validation_fraction=0.3, model__estimator__warm_start=True, preprocessor__num__normalize=Normalizer(), preprocessor__num__scale=passthrought; total time=   0.0s\n",
      "[CV] END model__estimator__alpha=0.01, model__estimator__batch_size=60, model__estimator__beta_1=0.6, model__estimator__early_stopping=False, model__estimator__hidden_layer_sizes=(100, 100, 100), model__estimator__max_iter=50, model__estimator__momentum=0.0, model__estimator__nesterovs_momentum=True, model__estimator__power_t=1, model__estimator__shuffle=True, model__estimator__tol=0.001, model__estimator__validation_fraction=0.3, model__estimator__warm_start=True, preprocessor__num__normalize=Normalizer(), preprocessor__num__scale=passthrought; total time=   0.0s\n",
      "[CV] END model__estimator__alpha=0.01, model__estimator__batch_size=60, model__estimator__beta_1=0.6, model__estimator__early_stopping=False, model__estimator__hidden_layer_sizes=(100, 100, 100), model__estimator__max_iter=50, model__estimator__momentum=0.0, model__estimator__nesterovs_momentum=True, model__estimator__power_t=1, model__estimator__shuffle=True, model__estimator__tol=0.001, model__estimator__validation_fraction=0.3, model__estimator__warm_start=True, preprocessor__num__normalize=passthrought, preprocessor__num__scale=StandardScaler(); total time=   0.0s\n",
      "[CV] END model__estimator__alpha=0.01, model__estimator__batch_size=60, model__estimator__beta_1=0.6, model__estimator__early_stopping=False, model__estimator__hidden_layer_sizes=(100, 100, 100), model__estimator__max_iter=50, model__estimator__momentum=0.0, model__estimator__nesterovs_momentum=True, model__estimator__power_t=1, model__estimator__shuffle=True, model__estimator__tol=0.001, model__estimator__validation_fraction=0.3, model__estimator__warm_start=True, preprocessor__num__normalize=passthrought, preprocessor__num__scale=StandardScaler(); total time=   0.0s\n",
      "[CV] END model__estimator__alpha=0.01, model__estimator__batch_size=60, model__estimator__beta_1=0.6, model__estimator__early_stopping=False, model__estimator__hidden_layer_sizes=(100, 100, 100), model__estimator__max_iter=50, model__estimator__momentum=0.0, model__estimator__nesterovs_momentum=True, model__estimator__power_t=1, model__estimator__shuffle=True, model__estimator__tol=0.001, model__estimator__validation_fraction=0.3, model__estimator__warm_start=True, preprocessor__num__normalize=passthrought, preprocessor__num__scale=StandardScaler(); total time=   0.0s\n",
      "[CV] END model__estimator__alpha=0.01, model__estimator__batch_size=60, model__estimator__beta_1=0.6, model__estimator__early_stopping=False, model__estimator__hidden_layer_sizes=(100, 100, 100), model__estimator__max_iter=50, model__estimator__momentum=0.0, model__estimator__nesterovs_momentum=True, model__estimator__power_t=1, model__estimator__shuffle=True, model__estimator__tol=0.001, model__estimator__validation_fraction=0.3, model__estimator__warm_start=True, preprocessor__num__normalize=passthrought, preprocessor__num__scale=StandardScaler(); total time=   0.0s\n",
      "[CV] END model__estimator__alpha=0.01, model__estimator__batch_size=60, model__estimator__beta_1=0.6, model__estimator__early_stopping=False, model__estimator__hidden_layer_sizes=(100, 100, 100), model__estimator__max_iter=50, model__estimator__momentum=0.0, model__estimator__nesterovs_momentum=True, model__estimator__power_t=1, model__estimator__shuffle=True, model__estimator__tol=0.001, model__estimator__validation_fraction=0.3, model__estimator__warm_start=True, preprocessor__num__normalize=passthrought, preprocessor__num__scale=StandardScaler(); total time=   0.0s\n",
      "[CV] END model__estimator__alpha=0.01, model__estimator__batch_size=60, model__estimator__beta_1=0.6, model__estimator__early_stopping=False, model__estimator__hidden_layer_sizes=(100, 100, 100), model__estimator__max_iter=50, model__estimator__momentum=0.0, model__estimator__nesterovs_momentum=True, model__estimator__power_t=1, model__estimator__shuffle=True, model__estimator__tol=0.001, model__estimator__validation_fraction=0.3, model__estimator__warm_start=True, preprocessor__num__normalize=passthrought, preprocessor__num__scale=passthrought; total time=   0.0s\n",
      "[CV] END model__estimator__alpha=0.01, model__estimator__batch_size=60, model__estimator__beta_1=0.6, model__estimator__early_stopping=False, model__estimator__hidden_layer_sizes=(100, 100, 100), model__estimator__max_iter=50, model__estimator__momentum=0.0, model__estimator__nesterovs_momentum=True, model__estimator__power_t=1, model__estimator__shuffle=True, model__estimator__tol=0.001, model__estimator__validation_fraction=0.3, model__estimator__warm_start=True, preprocessor__num__normalize=passthrought, preprocessor__num__scale=passthrought; total time=   0.0s\n",
      "[CV] END model__estimator__alpha=0.01, model__estimator__batch_size=60, model__estimator__beta_1=0.6, model__estimator__early_stopping=False, model__estimator__hidden_layer_sizes=(100, 100, 100), model__estimator__max_iter=50, model__estimator__momentum=0.0, model__estimator__nesterovs_momentum=True, model__estimator__power_t=1, model__estimator__shuffle=True, model__estimator__tol=0.001, model__estimator__validation_fraction=0.3, model__estimator__warm_start=True, preprocessor__num__normalize=passthrought, preprocessor__num__scale=passthrought; total time=   0.0s\n"
     ]
    },
    {
     "name": "stderr",
     "output_type": "stream",
     "text": [
      "/home/chicco/anaconda3/lib/python3.9/site-packages/sklearn/neural_network/_multilayer_perceptron.py:692: ConvergenceWarning: Stochastic Optimizer: Maximum iterations (50) reached and the optimization hasn't converged yet.\n",
      "  warnings.warn(\n",
      "/home/chicco/anaconda3/lib/python3.9/site-packages/sklearn/neural_network/_multilayer_perceptron.py:692: ConvergenceWarning: Stochastic Optimizer: Maximum iterations (50) reached and the optimization hasn't converged yet.\n",
      "  warnings.warn(\n",
      "/home/chicco/anaconda3/lib/python3.9/site-packages/sklearn/neural_network/_multilayer_perceptron.py:692: ConvergenceWarning: Stochastic Optimizer: Maximum iterations (50) reached and the optimization hasn't converged yet.\n",
      "  warnings.warn(\n",
      "/home/chicco/anaconda3/lib/python3.9/site-packages/sklearn/neural_network/_multilayer_perceptron.py:692: ConvergenceWarning: Stochastic Optimizer: Maximum iterations (50) reached and the optimization hasn't converged yet.\n",
      "  warnings.warn(\n",
      "/home/chicco/anaconda3/lib/python3.9/site-packages/sklearn/neural_network/_multilayer_perceptron.py:692: ConvergenceWarning: Stochastic Optimizer: Maximum iterations (50) reached and the optimization hasn't converged yet.\n",
      "  warnings.warn(\n",
      "/home/chicco/anaconda3/lib/python3.9/site-packages/sklearn/neural_network/_multilayer_perceptron.py:692: ConvergenceWarning: Stochastic Optimizer: Maximum iterations (50) reached and the optimization hasn't converged yet.\n",
      "  warnings.warn(\n",
      "/home/chicco/anaconda3/lib/python3.9/site-packages/sklearn/neural_network/_multilayer_perceptron.py:692: ConvergenceWarning: Stochastic Optimizer: Maximum iterations (50) reached and the optimization hasn't converged yet.\n",
      "  warnings.warn(\n"
     ]
    },
    {
     "name": "stdout",
     "output_type": "stream",
     "text": [
      "[CV] END model__estimator__alpha=0.01, model__estimator__batch_size=60, model__estimator__beta_1=0.6, model__estimator__early_stopping=False, model__estimator__hidden_layer_sizes=(100, 100, 100), model__estimator__max_iter=50, model__estimator__momentum=0.0, model__estimator__nesterovs_momentum=True, model__estimator__power_t=1, model__estimator__shuffle=True, model__estimator__tol=0.001, model__estimator__validation_fraction=0.3, model__estimator__warm_start=True, preprocessor__num__normalize=Normalizer(), preprocessor__num__scale=StandardScaler(); total time=  28.7s\n",
      "[CV] END model__estimator__alpha=0.01, model__estimator__batch_size=60, model__estimator__beta_1=0.6, model__estimator__early_stopping=False, model__estimator__hidden_layer_sizes=(100, 100, 100), model__estimator__max_iter=50, model__estimator__momentum=0.0, model__estimator__nesterovs_momentum=True, model__estimator__power_t=1, model__estimator__shuffle=True, model__estimator__tol=0.001, model__estimator__validation_fraction=0.3, model__estimator__warm_start=False, preprocessor__num__normalize=Normalizer(), preprocessor__num__scale=StandardScaler(); total time=  35.0s\n",
      "[CV] END model__estimator__alpha=0.01, model__estimator__batch_size=60, model__estimator__beta_1=0.6, model__estimator__early_stopping=False, model__estimator__hidden_layer_sizes=(100, 100, 100), model__estimator__max_iter=50, model__estimator__momentum=0.0, model__estimator__nesterovs_momentum=True, model__estimator__power_t=1, model__estimator__shuffle=True, model__estimator__tol=0.001, model__estimator__validation_fraction=0.3, model__estimator__warm_start=False, preprocessor__num__normalize=Normalizer(), preprocessor__num__scale=passthrought; total time=   0.0s\n",
      "[CV] END model__estimator__alpha=0.01, model__estimator__batch_size=60, model__estimator__beta_1=0.6, model__estimator__early_stopping=False, model__estimator__hidden_layer_sizes=(100, 100, 100), model__estimator__max_iter=50, model__estimator__momentum=0.0, model__estimator__nesterovs_momentum=True, model__estimator__power_t=1, model__estimator__shuffle=True, model__estimator__tol=0.001, model__estimator__validation_fraction=0.3, model__estimator__warm_start=False, preprocessor__num__normalize=Normalizer(), preprocessor__num__scale=passthrought; total time=   0.0s\n",
      "[CV] END model__estimator__alpha=0.01, model__estimator__batch_size=60, model__estimator__beta_1=0.6, model__estimator__early_stopping=False, model__estimator__hidden_layer_sizes=(100, 100, 100), model__estimator__max_iter=50, model__estimator__momentum=0.0, model__estimator__nesterovs_momentum=True, model__estimator__power_t=1, model__estimator__shuffle=True, model__estimator__tol=0.001, model__estimator__validation_fraction=0.3, model__estimator__warm_start=False, preprocessor__num__normalize=Normalizer(), preprocessor__num__scale=passthrought; total time=   0.0s\n",
      "[CV] END model__estimator__alpha=0.01, model__estimator__batch_size=60, model__estimator__beta_1=0.6, model__estimator__early_stopping=False, model__estimator__hidden_layer_sizes=(100, 100, 100), model__estimator__max_iter=50, model__estimator__momentum=0.0, model__estimator__nesterovs_momentum=True, model__estimator__power_t=1, model__estimator__shuffle=True, model__estimator__tol=0.001, model__estimator__validation_fraction=0.3, model__estimator__warm_start=False, preprocessor__num__normalize=Normalizer(), preprocessor__num__scale=passthrought; total time=   0.0s\n",
      "[CV] END model__estimator__alpha=0.01, model__estimator__batch_size=60, model__estimator__beta_1=0.6, model__estimator__early_stopping=False, model__estimator__hidden_layer_sizes=(100, 100, 100), model__estimator__max_iter=50, model__estimator__momentum=0.0, model__estimator__nesterovs_momentum=True, model__estimator__power_t=1, model__estimator__shuffle=True, model__estimator__tol=0.001, model__estimator__validation_fraction=0.3, model__estimator__warm_start=False, preprocessor__num__normalize=Normalizer(), preprocessor__num__scale=passthrought; total time=   0.0s\n",
      "[CV] END model__estimator__alpha=0.01, model__estimator__batch_size=60, model__estimator__beta_1=0.6, model__estimator__early_stopping=False, model__estimator__hidden_layer_sizes=(100, 100, 100), model__estimator__max_iter=50, model__estimator__momentum=0.0, model__estimator__nesterovs_momentum=True, model__estimator__power_t=1, model__estimator__shuffle=True, model__estimator__tol=0.001, model__estimator__validation_fraction=0.3, model__estimator__warm_start=False, preprocessor__num__normalize=passthrought, preprocessor__num__scale=StandardScaler(); total time=   0.0s\n",
      "[CV] END model__estimator__alpha=0.01, model__estimator__batch_size=60, model__estimator__beta_1=0.6, model__estimator__early_stopping=False, model__estimator__hidden_layer_sizes=(100, 100, 100), model__estimator__max_iter=50, model__estimator__momentum=0.0, model__estimator__nesterovs_momentum=True, model__estimator__power_t=1, model__estimator__shuffle=True, model__estimator__tol=0.001, model__estimator__validation_fraction=0.3, model__estimator__warm_start=False, preprocessor__num__normalize=passthrought, preprocessor__num__scale=StandardScaler(); total time=   0.0s\n",
      "[CV] END model__estimator__alpha=0.01, model__estimator__batch_size=60, model__estimator__beta_1=0.6, model__estimator__early_stopping=False, model__estimator__hidden_layer_sizes=(100, 100, 100), model__estimator__max_iter=50, model__estimator__momentum=0.0, model__estimator__nesterovs_momentum=True, model__estimator__power_t=1, model__estimator__shuffle=True, model__estimator__tol=0.001, model__estimator__validation_fraction=0.3, model__estimator__warm_start=False, preprocessor__num__normalize=passthrought, preprocessor__num__scale=StandardScaler(); total time=   0.0s\n",
      "[CV] END model__estimator__alpha=0.01, model__estimator__batch_size=60, model__estimator__beta_1=0.6, model__estimator__early_stopping=False, model__estimator__hidden_layer_sizes=(100, 100, 100), model__estimator__max_iter=50, model__estimator__momentum=0.0, model__estimator__nesterovs_momentum=True, model__estimator__power_t=1, model__estimator__shuffle=True, model__estimator__tol=0.001, model__estimator__validation_fraction=0.3, model__estimator__warm_start=False, preprocessor__num__normalize=passthrought, preprocessor__num__scale=StandardScaler(); total time=   0.0s\n",
      "[CV] END model__estimator__alpha=0.01, model__estimator__batch_size=60, model__estimator__beta_1=0.6, model__estimator__early_stopping=False, model__estimator__hidden_layer_sizes=(100, 100, 100), model__estimator__max_iter=50, model__estimator__momentum=0.0, model__estimator__nesterovs_momentum=True, model__estimator__power_t=1, model__estimator__shuffle=True, model__estimator__tol=0.001, model__estimator__validation_fraction=0.3, model__estimator__warm_start=False, preprocessor__num__normalize=passthrought, preprocessor__num__scale=StandardScaler(); total time=   0.0s\n",
      "[CV] END model__estimator__alpha=0.01, model__estimator__batch_size=60, model__estimator__beta_1=0.6, model__estimator__early_stopping=False, model__estimator__hidden_layer_sizes=(100, 100, 100), model__estimator__max_iter=50, model__estimator__momentum=0.0, model__estimator__nesterovs_momentum=True, model__estimator__power_t=1, model__estimator__shuffle=True, model__estimator__tol=0.001, model__estimator__validation_fraction=0.3, model__estimator__warm_start=False, preprocessor__num__normalize=passthrought, preprocessor__num__scale=passthrought; total time=   0.0s\n",
      "[CV] END model__estimator__alpha=0.01, model__estimator__batch_size=60, model__estimator__beta_1=0.6, model__estimator__early_stopping=False, model__estimator__hidden_layer_sizes=(100, 100, 100), model__estimator__max_iter=50, model__estimator__momentum=0.0, model__estimator__nesterovs_momentum=True, model__estimator__power_t=1, model__estimator__shuffle=True, model__estimator__tol=0.001, model__estimator__validation_fraction=0.3, model__estimator__warm_start=False, preprocessor__num__normalize=passthrought, preprocessor__num__scale=passthrought; total time=   0.0s\n"
     ]
    },
    {
     "name": "stderr",
     "output_type": "stream",
     "text": [
      "/home/chicco/anaconda3/lib/python3.9/site-packages/sklearn/neural_network/_multilayer_perceptron.py:692: ConvergenceWarning: Stochastic Optimizer: Maximum iterations (50) reached and the optimization hasn't converged yet.\n",
      "  warnings.warn(\n",
      "/home/chicco/anaconda3/lib/python3.9/site-packages/sklearn/neural_network/_multilayer_perceptron.py:692: ConvergenceWarning: Stochastic Optimizer: Maximum iterations (50) reached and the optimization hasn't converged yet.\n",
      "  warnings.warn(\n",
      "/home/chicco/anaconda3/lib/python3.9/site-packages/sklearn/neural_network/_multilayer_perceptron.py:692: ConvergenceWarning: Stochastic Optimizer: Maximum iterations (50) reached and the optimization hasn't converged yet.\n",
      "  warnings.warn(\n"
     ]
    },
    {
     "name": "stdout",
     "output_type": "stream",
     "text": [
      "[CV] END model__estimator__alpha=0.01, model__estimator__batch_size=60, model__estimator__beta_1=0.6, model__estimator__early_stopping=False, model__estimator__hidden_layer_sizes=(100, 100, 100), model__estimator__max_iter=50, model__estimator__momentum=0.0, model__estimator__nesterovs_momentum=True, model__estimator__power_t=1, model__estimator__shuffle=True, model__estimator__tol=0.001, model__estimator__validation_fraction=0.3, model__estimator__warm_start=True, preprocessor__num__normalize=Normalizer(), preprocessor__num__scale=StandardScaler(); total time=  30.2s\n",
      "[CV] END model__estimator__alpha=0.01, model__estimator__batch_size=60, model__estimator__beta_1=0.6, model__estimator__early_stopping=False, model__estimator__hidden_layer_sizes=(100, 100, 100), model__estimator__max_iter=50, model__estimator__momentum=0.0, model__estimator__nesterovs_momentum=True, model__estimator__power_t=1, model__estimator__shuffle=True, model__estimator__tol=0.001, model__estimator__validation_fraction=0.3, model__estimator__warm_start=False, preprocessor__num__normalize=Normalizer(), preprocessor__num__scale=StandardScaler(); total time=  32.0s\n",
      "[CV] END model__estimator__alpha=0.01, model__estimator__batch_size=60, model__estimator__beta_1=0.6, model__estimator__early_stopping=False, model__estimator__hidden_layer_sizes=(100, 100, 100), model__estimator__max_iter=50, model__estimator__momentum=0.0, model__estimator__nesterovs_momentum=True, model__estimator__power_t=1, model__estimator__shuffle=True, model__estimator__tol=0.001, model__estimator__validation_fraction=0.3, model__estimator__warm_start=False, preprocessor__num__normalize=Normalizer(), preprocessor__num__scale=StandardScaler(); total time=  30.8s\n",
      "[CV] END model__estimator__alpha=0.01, model__estimator__batch_size=60, model__estimator__beta_1=0.6, model__estimator__early_stopping=False, model__estimator__hidden_layer_sizes=(100, 100, 100), model__estimator__max_iter=50, model__estimator__momentum=0.0, model__estimator__nesterovs_momentum=True, model__estimator__power_t=1, model__estimator__shuffle=False, model__estimator__tol=0.001, model__estimator__validation_fraction=0.3, model__estimator__warm_start=True, preprocessor__num__normalize=Normalizer(), preprocessor__num__scale=passthrought; total time=   0.0s\n",
      "[CV] END model__estimator__alpha=0.01, model__estimator__batch_size=60, model__estimator__beta_1=0.6, model__estimator__early_stopping=False, model__estimator__hidden_layer_sizes=(100, 100, 100), model__estimator__max_iter=50, model__estimator__momentum=0.0, model__estimator__nesterovs_momentum=True, model__estimator__power_t=1, model__estimator__shuffle=False, model__estimator__tol=0.001, model__estimator__validation_fraction=0.3, model__estimator__warm_start=True, preprocessor__num__normalize=Normalizer(), preprocessor__num__scale=passthrought; total time=   0.0s\n",
      "[CV] END model__estimator__alpha=0.01, model__estimator__batch_size=60, model__estimator__beta_1=0.6, model__estimator__early_stopping=False, model__estimator__hidden_layer_sizes=(100, 100, 100), model__estimator__max_iter=50, model__estimator__momentum=0.0, model__estimator__nesterovs_momentum=True, model__estimator__power_t=1, model__estimator__shuffle=False, model__estimator__tol=0.001, model__estimator__validation_fraction=0.3, model__estimator__warm_start=True, preprocessor__num__normalize=Normalizer(), preprocessor__num__scale=passthrought; total time=   0.0s\n",
      "[CV] END model__estimator__alpha=0.01, model__estimator__batch_size=60, model__estimator__beta_1=0.6, model__estimator__early_stopping=False, model__estimator__hidden_layer_sizes=(100, 100, 100), model__estimator__max_iter=50, model__estimator__momentum=0.0, model__estimator__nesterovs_momentum=True, model__estimator__power_t=1, model__estimator__shuffle=False, model__estimator__tol=0.001, model__estimator__validation_fraction=0.3, model__estimator__warm_start=True, preprocessor__num__normalize=Normalizer(), preprocessor__num__scale=passthrought; total time=   0.0s\n",
      "[CV] END model__estimator__alpha=0.01, model__estimator__batch_size=60, model__estimator__beta_1=0.6, model__estimator__early_stopping=False, model__estimator__hidden_layer_sizes=(100, 100, 100), model__estimator__max_iter=50, model__estimator__momentum=0.0, model__estimator__nesterovs_momentum=True, model__estimator__power_t=1, model__estimator__shuffle=False, model__estimator__tol=0.001, model__estimator__validation_fraction=0.3, model__estimator__warm_start=True, preprocessor__num__normalize=Normalizer(), preprocessor__num__scale=passthrought; total time=   0.0s\n",
      "[CV] END model__estimator__alpha=0.01, model__estimator__batch_size=60, model__estimator__beta_1=0.6, model__estimator__early_stopping=False, model__estimator__hidden_layer_sizes=(100, 100, 100), model__estimator__max_iter=50, model__estimator__momentum=0.0, model__estimator__nesterovs_momentum=True, model__estimator__power_t=1, model__estimator__shuffle=False, model__estimator__tol=0.001, model__estimator__validation_fraction=0.3, model__estimator__warm_start=True, preprocessor__num__normalize=passthrought, preprocessor__num__scale=StandardScaler(); total time=   0.0s\n",
      "[CV] END model__estimator__alpha=0.01, model__estimator__batch_size=60, model__estimator__beta_1=0.6, model__estimator__early_stopping=False, model__estimator__hidden_layer_sizes=(100, 100, 100), model__estimator__max_iter=50, model__estimator__momentum=0.0, model__estimator__nesterovs_momentum=True, model__estimator__power_t=1, model__estimator__shuffle=False, model__estimator__tol=0.001, model__estimator__validation_fraction=0.3, model__estimator__warm_start=True, preprocessor__num__normalize=passthrought, preprocessor__num__scale=StandardScaler(); total time=   0.0s\n",
      "[CV] END model__estimator__alpha=0.01, model__estimator__batch_size=60, model__estimator__beta_1=0.6, model__estimator__early_stopping=False, model__estimator__hidden_layer_sizes=(100, 100, 100), model__estimator__max_iter=50, model__estimator__momentum=0.0, model__estimator__nesterovs_momentum=True, model__estimator__power_t=1, model__estimator__shuffle=False, model__estimator__tol=0.001, model__estimator__validation_fraction=0.3, model__estimator__warm_start=True, preprocessor__num__normalize=passthrought, preprocessor__num__scale=StandardScaler(); total time=   0.0s\n",
      "[CV] END model__estimator__alpha=0.01, model__estimator__batch_size=60, model__estimator__beta_1=0.6, model__estimator__early_stopping=False, model__estimator__hidden_layer_sizes=(100, 100, 100), model__estimator__max_iter=50, model__estimator__momentum=0.0, model__estimator__nesterovs_momentum=True, model__estimator__power_t=1, model__estimator__shuffle=False, model__estimator__tol=0.001, model__estimator__validation_fraction=0.3, model__estimator__warm_start=True, preprocessor__num__normalize=passthrought, preprocessor__num__scale=StandardScaler(); total time=   0.0s\n",
      "[CV] END model__estimator__alpha=0.01, model__estimator__batch_size=60, model__estimator__beta_1=0.6, model__estimator__early_stopping=False, model__estimator__hidden_layer_sizes=(100, 100, 100), model__estimator__max_iter=50, model__estimator__momentum=0.0, model__estimator__nesterovs_momentum=True, model__estimator__power_t=1, model__estimator__shuffle=False, model__estimator__tol=0.001, model__estimator__validation_fraction=0.3, model__estimator__warm_start=True, preprocessor__num__normalize=passthrought, preprocessor__num__scale=StandardScaler(); total time=   0.0s\n",
      "[CV] END model__estimator__alpha=0.01, model__estimator__batch_size=60, model__estimator__beta_1=0.6, model__estimator__early_stopping=False, model__estimator__hidden_layer_sizes=(100, 100, 100), model__estimator__max_iter=50, model__estimator__momentum=0.0, model__estimator__nesterovs_momentum=True, model__estimator__power_t=1, model__estimator__shuffle=False, model__estimator__tol=0.001, model__estimator__validation_fraction=0.3, model__estimator__warm_start=True, preprocessor__num__normalize=passthrought, preprocessor__num__scale=passthrought; total time=   0.0s\n",
      "[CV] END model__estimator__alpha=0.01, model__estimator__batch_size=60, model__estimator__beta_1=0.6, model__estimator__early_stopping=False, model__estimator__hidden_layer_sizes=(100, 100, 100), model__estimator__max_iter=50, model__estimator__momentum=0.0, model__estimator__nesterovs_momentum=True, model__estimator__power_t=1, model__estimator__shuffle=True, model__estimator__tol=0.001, model__estimator__validation_fraction=0.3, model__estimator__warm_start=False, preprocessor__num__normalize=passthrought, preprocessor__num__scale=passthrought; total time=   0.0s\n",
      "[CV] END model__estimator__alpha=0.01, model__estimator__batch_size=60, model__estimator__beta_1=0.6, model__estimator__early_stopping=False, model__estimator__hidden_layer_sizes=(100, 100, 100), model__estimator__max_iter=50, model__estimator__momentum=0.0, model__estimator__nesterovs_momentum=True, model__estimator__power_t=1, model__estimator__shuffle=True, model__estimator__tol=0.001, model__estimator__validation_fraction=0.3, model__estimator__warm_start=False, preprocessor__num__normalize=passthrought, preprocessor__num__scale=passthrought; total time=   0.0s\n",
      "[CV] END model__estimator__alpha=0.01, model__estimator__batch_size=60, model__estimator__beta_1=0.6, model__estimator__early_stopping=False, model__estimator__hidden_layer_sizes=(100, 100, 100), model__estimator__max_iter=50, model__estimator__momentum=0.0, model__estimator__nesterovs_momentum=True, model__estimator__power_t=1, model__estimator__shuffle=True, model__estimator__tol=0.001, model__estimator__validation_fraction=0.3, model__estimator__warm_start=False, preprocessor__num__normalize=passthrought, preprocessor__num__scale=passthrought; total time=   0.0s\n",
      "[CV] END model__estimator__alpha=0.01, model__estimator__batch_size=60, model__estimator__beta_1=0.6, model__estimator__early_stopping=False, model__estimator__hidden_layer_sizes=(100, 100, 100), model__estimator__max_iter=50, model__estimator__momentum=0.0, model__estimator__nesterovs_momentum=True, model__estimator__power_t=1, model__estimator__shuffle=False, model__estimator__tol=0.001, model__estimator__validation_fraction=0.3, model__estimator__warm_start=True, preprocessor__num__normalize=Normalizer(), preprocessor__num__scale=StandardScaler(); total time=  21.1s\n",
      "[CV] END model__estimator__alpha=0.01, model__estimator__batch_size=60, model__estimator__beta_1=0.6, model__estimator__early_stopping=False, model__estimator__hidden_layer_sizes=(100, 100, 100), model__estimator__max_iter=50, model__estimator__momentum=0.0, model__estimator__nesterovs_momentum=True, model__estimator__power_t=1, model__estimator__shuffle=False, model__estimator__tol=0.001, model__estimator__validation_fraction=0.3, model__estimator__warm_start=True, preprocessor__num__normalize=Normalizer(), preprocessor__num__scale=StandardScaler(); total time=  20.3s\n",
      "[CV] END model__estimator__alpha=0.01, model__estimator__batch_size=60, model__estimator__beta_1=0.6, model__estimator__early_stopping=False, model__estimator__hidden_layer_sizes=(100, 100, 100), model__estimator__max_iter=50, model__estimator__momentum=0.0, model__estimator__nesterovs_momentum=True, model__estimator__power_t=1, model__estimator__shuffle=False, model__estimator__tol=0.001, model__estimator__validation_fraction=0.3, model__estimator__warm_start=False, preprocessor__num__normalize=Normalizer(), preprocessor__num__scale=StandardScaler(); total time=  16.6s\n",
      "[CV] END model__estimator__alpha=0.01, model__estimator__batch_size=60, model__estimator__beta_1=0.6, model__estimator__early_stopping=False, model__estimator__hidden_layer_sizes=(100, 100, 100), model__estimator__max_iter=50, model__estimator__momentum=0.0, model__estimator__nesterovs_momentum=True, model__estimator__power_t=1, model__estimator__shuffle=False, model__estimator__tol=0.001, model__estimator__validation_fraction=0.3, model__estimator__warm_start=False, preprocessor__num__normalize=Normalizer(), preprocessor__num__scale=passthrought; total time=   0.0s\n",
      "[CV] END model__estimator__alpha=0.01, model__estimator__batch_size=60, model__estimator__beta_1=0.6, model__estimator__early_stopping=False, model__estimator__hidden_layer_sizes=(100, 100, 100), model__estimator__max_iter=50, model__estimator__momentum=0.0, model__estimator__nesterovs_momentum=True, model__estimator__power_t=1, model__estimator__shuffle=False, model__estimator__tol=0.001, model__estimator__validation_fraction=0.3, model__estimator__warm_start=False, preprocessor__num__normalize=Normalizer(), preprocessor__num__scale=passthrought; total time=   0.0s\n",
      "[CV] END model__estimator__alpha=0.01, model__estimator__batch_size=60, model__estimator__beta_1=0.6, model__estimator__early_stopping=False, model__estimator__hidden_layer_sizes=(100, 100, 100), model__estimator__max_iter=50, model__estimator__momentum=0.0, model__estimator__nesterovs_momentum=True, model__estimator__power_t=1, model__estimator__shuffle=False, model__estimator__tol=0.001, model__estimator__validation_fraction=0.3, model__estimator__warm_start=False, preprocessor__num__normalize=Normalizer(), preprocessor__num__scale=passthrought; total time=   0.0s\n",
      "[CV] END model__estimator__alpha=0.01, model__estimator__batch_size=60, model__estimator__beta_1=0.6, model__estimator__early_stopping=False, model__estimator__hidden_layer_sizes=(100, 100, 100), model__estimator__max_iter=50, model__estimator__momentum=0.0, model__estimator__nesterovs_momentum=True, model__estimator__power_t=1, model__estimator__shuffle=False, model__estimator__tol=0.001, model__estimator__validation_fraction=0.3, model__estimator__warm_start=False, preprocessor__num__normalize=Normalizer(), preprocessor__num__scale=passthrought; total time=   0.0s\n",
      "[CV] END model__estimator__alpha=0.01, model__estimator__batch_size=60, model__estimator__beta_1=0.6, model__estimator__early_stopping=False, model__estimator__hidden_layer_sizes=(100, 100, 100), model__estimator__max_iter=50, model__estimator__momentum=0.0, model__estimator__nesterovs_momentum=True, model__estimator__power_t=1, model__estimator__shuffle=False, model__estimator__tol=0.001, model__estimator__validation_fraction=0.3, model__estimator__warm_start=False, preprocessor__num__normalize=Normalizer(), preprocessor__num__scale=passthrought; total time=   0.0s\n",
      "[CV] END model__estimator__alpha=0.01, model__estimator__batch_size=60, model__estimator__beta_1=0.6, model__estimator__early_stopping=False, model__estimator__hidden_layer_sizes=(100, 100, 100), model__estimator__max_iter=50, model__estimator__momentum=0.0, model__estimator__nesterovs_momentum=True, model__estimator__power_t=1, model__estimator__shuffle=False, model__estimator__tol=0.001, model__estimator__validation_fraction=0.3, model__estimator__warm_start=False, preprocessor__num__normalize=passthrought, preprocessor__num__scale=StandardScaler(); total time=   0.0s\n",
      "[CV] END model__estimator__alpha=0.01, model__estimator__batch_size=60, model__estimator__beta_1=0.6, model__estimator__early_stopping=False, model__estimator__hidden_layer_sizes=(100, 100, 100), model__estimator__max_iter=50, model__estimator__momentum=0.0, model__estimator__nesterovs_momentum=True, model__estimator__power_t=1, model__estimator__shuffle=False, model__estimator__tol=0.001, model__estimator__validation_fraction=0.3, model__estimator__warm_start=False, preprocessor__num__normalize=passthrought, preprocessor__num__scale=StandardScaler(); total time=   0.0s\n",
      "[CV] END model__estimator__alpha=0.01, model__estimator__batch_size=60, model__estimator__beta_1=0.6, model__estimator__early_stopping=False, model__estimator__hidden_layer_sizes=(100, 100, 100), model__estimator__max_iter=50, model__estimator__momentum=0.0, model__estimator__nesterovs_momentum=True, model__estimator__power_t=1, model__estimator__shuffle=False, model__estimator__tol=0.001, model__estimator__validation_fraction=0.3, model__estimator__warm_start=False, preprocessor__num__normalize=passthrought, preprocessor__num__scale=StandardScaler(); total time=   0.0s\n"
     ]
    },
    {
     "name": "stderr",
     "output_type": "stream",
     "text": [
      "/home/chicco/anaconda3/lib/python3.9/site-packages/sklearn/neural_network/_multilayer_perceptron.py:692: ConvergenceWarning: Stochastic Optimizer: Maximum iterations (50) reached and the optimization hasn't converged yet.\n",
      "  warnings.warn(\n",
      "/home/chicco/anaconda3/lib/python3.9/site-packages/sklearn/neural_network/_multilayer_perceptron.py:692: ConvergenceWarning: Stochastic Optimizer: Maximum iterations (50) reached and the optimization hasn't converged yet.\n",
      "  warnings.warn(\n",
      "/home/chicco/anaconda3/lib/python3.9/site-packages/sklearn/neural_network/_multilayer_perceptron.py:692: ConvergenceWarning: Stochastic Optimizer: Maximum iterations (50) reached and the optimization hasn't converged yet.\n",
      "  warnings.warn(\n",
      "/home/chicco/anaconda3/lib/python3.9/site-packages/sklearn/neural_network/_multilayer_perceptron.py:692: ConvergenceWarning: Stochastic Optimizer: Maximum iterations (50) reached and the optimization hasn't converged yet.\n",
      "  warnings.warn(\n",
      "/home/chicco/anaconda3/lib/python3.9/site-packages/sklearn/neural_network/_multilayer_perceptron.py:692: ConvergenceWarning: Stochastic Optimizer: Maximum iterations (50) reached and the optimization hasn't converged yet.\n",
      "  warnings.warn(\n",
      "/home/chicco/anaconda3/lib/python3.9/site-packages/sklearn/neural_network/_multilayer_perceptron.py:692: ConvergenceWarning: Stochastic Optimizer: Maximum iterations (50) reached and the optimization hasn't converged yet.\n",
      "  warnings.warn(\n"
     ]
    },
    {
     "name": "stdout",
     "output_type": "stream",
     "text": [
      "[CV] END model__estimator__alpha=0.01, model__estimator__batch_size=60, model__estimator__beta_1=0.6, model__estimator__early_stopping=False, model__estimator__hidden_layer_sizes=(100, 100, 100), model__estimator__max_iter=50, model__estimator__momentum=0.0, model__estimator__nesterovs_momentum=True, model__estimator__power_t=1, model__estimator__shuffle=True, model__estimator__tol=0.001, model__estimator__validation_fraction=0.3, model__estimator__warm_start=True, preprocessor__num__normalize=Normalizer(), preprocessor__num__scale=StandardScaler(); total time=  26.3s\n",
      "[CV] END model__estimator__alpha=0.01, model__estimator__batch_size=60, model__estimator__beta_1=0.6, model__estimator__early_stopping=False, model__estimator__hidden_layer_sizes=(100, 100, 100), model__estimator__max_iter=50, model__estimator__momentum=0.0, model__estimator__nesterovs_momentum=True, model__estimator__power_t=1, model__estimator__shuffle=True, model__estimator__tol=0.001, model__estimator__validation_fraction=0.3, model__estimator__warm_start=True, preprocessor__num__normalize=Normalizer(), preprocessor__num__scale=StandardScaler(); total time=  37.9s\n",
      "[CV] END model__estimator__alpha=0.01, model__estimator__batch_size=60, model__estimator__beta_1=0.6, model__estimator__early_stopping=False, model__estimator__hidden_layer_sizes=(100, 100, 100), model__estimator__max_iter=50, model__estimator__momentum=0.0, model__estimator__nesterovs_momentum=True, model__estimator__power_t=1, model__estimator__shuffle=False, model__estimator__tol=0.001, model__estimator__validation_fraction=0.3, model__estimator__warm_start=True, preprocessor__num__normalize=Normalizer(), preprocessor__num__scale=StandardScaler(); total time=  20.9s\n",
      "[CV] END model__estimator__alpha=0.01, model__estimator__batch_size=60, model__estimator__beta_1=0.6, model__estimator__early_stopping=False, model__estimator__hidden_layer_sizes=(100, 100, 100), model__estimator__max_iter=50, model__estimator__momentum=0.0, model__estimator__nesterovs_momentum=True, model__estimator__power_t=1, model__estimator__shuffle=False, model__estimator__tol=0.001, model__estimator__validation_fraction=0.3, model__estimator__warm_start=True, preprocessor__num__normalize=Normalizer(), preprocessor__num__scale=StandardScaler(); total time=  19.2s\n",
      "[CV] END model__estimator__alpha=0.01, model__estimator__batch_size=60, model__estimator__beta_1=0.6, model__estimator__early_stopping=False, model__estimator__hidden_layer_sizes=(100, 100, 100), model__estimator__max_iter=50, model__estimator__momentum=0.0, model__estimator__nesterovs_momentum=True, model__estimator__power_t=1, model__estimator__shuffle=False, model__estimator__tol=0.001, model__estimator__validation_fraction=0.3, model__estimator__warm_start=False, preprocessor__num__normalize=Normalizer(), preprocessor__num__scale=StandardScaler(); total time=  18.7s\n",
      "[CV] END model__estimator__alpha=0.01, model__estimator__batch_size=60, model__estimator__beta_1=0.6, model__estimator__early_stopping=False, model__estimator__hidden_layer_sizes=(100, 100, 100), model__estimator__max_iter=50, model__estimator__momentum=0.0, model__estimator__nesterovs_momentum=False, model__estimator__power_t=1, model__estimator__shuffle=True, model__estimator__tol=0.001, model__estimator__validation_fraction=0.3, model__estimator__warm_start=True, preprocessor__num__normalize=Normalizer(), preprocessor__num__scale=StandardScaler(); total time=  29.8s\n",
      "[CV] END model__estimator__alpha=0.01, model__estimator__batch_size=60, model__estimator__beta_1=0.6, model__estimator__early_stopping=False, model__estimator__hidden_layer_sizes=(100, 100, 100), model__estimator__max_iter=50, model__estimator__momentum=0.0, model__estimator__nesterovs_momentum=False, model__estimator__power_t=1, model__estimator__shuffle=True, model__estimator__tol=0.001, model__estimator__validation_fraction=0.3, model__estimator__warm_start=True, preprocessor__num__normalize=Normalizer(), preprocessor__num__scale=passthrought; total time=   0.0s\n",
      "[CV] END model__estimator__alpha=0.01, model__estimator__batch_size=60, model__estimator__beta_1=0.6, model__estimator__early_stopping=False, model__estimator__hidden_layer_sizes=(100, 100, 100), model__estimator__max_iter=50, model__estimator__momentum=0.0, model__estimator__nesterovs_momentum=False, model__estimator__power_t=1, model__estimator__shuffle=True, model__estimator__tol=0.001, model__estimator__validation_fraction=0.3, model__estimator__warm_start=True, preprocessor__num__normalize=Normalizer(), preprocessor__num__scale=passthrought; total time=   0.0s\n",
      "[CV] END model__estimator__alpha=0.01, model__estimator__batch_size=60, model__estimator__beta_1=0.6, model__estimator__early_stopping=False, model__estimator__hidden_layer_sizes=(100, 100, 100), model__estimator__max_iter=50, model__estimator__momentum=0.0, model__estimator__nesterovs_momentum=False, model__estimator__power_t=1, model__estimator__shuffle=True, model__estimator__tol=0.001, model__estimator__validation_fraction=0.3, model__estimator__warm_start=True, preprocessor__num__normalize=Normalizer(), preprocessor__num__scale=passthrought; total time=   0.0s\n",
      "[CV] END model__estimator__alpha=0.01, model__estimator__batch_size=60, model__estimator__beta_1=0.6, model__estimator__early_stopping=False, model__estimator__hidden_layer_sizes=(100, 100, 100), model__estimator__max_iter=50, model__estimator__momentum=0.0, model__estimator__nesterovs_momentum=False, model__estimator__power_t=1, model__estimator__shuffle=True, model__estimator__tol=0.001, model__estimator__validation_fraction=0.3, model__estimator__warm_start=True, preprocessor__num__normalize=Normalizer(), preprocessor__num__scale=passthrought; total time=   0.0s\n",
      "[CV] END model__estimator__alpha=0.01, model__estimator__batch_size=60, model__estimator__beta_1=0.6, model__estimator__early_stopping=False, model__estimator__hidden_layer_sizes=(100, 100, 100), model__estimator__max_iter=50, model__estimator__momentum=0.0, model__estimator__nesterovs_momentum=False, model__estimator__power_t=1, model__estimator__shuffle=True, model__estimator__tol=0.001, model__estimator__validation_fraction=0.3, model__estimator__warm_start=True, preprocessor__num__normalize=Normalizer(), preprocessor__num__scale=passthrought; total time=   0.0s\n",
      "[CV] END model__estimator__alpha=0.01, model__estimator__batch_size=60, model__estimator__beta_1=0.6, model__estimator__early_stopping=False, model__estimator__hidden_layer_sizes=(100, 100, 100), model__estimator__max_iter=50, model__estimator__momentum=0.0, model__estimator__nesterovs_momentum=False, model__estimator__power_t=1, model__estimator__shuffle=True, model__estimator__tol=0.001, model__estimator__validation_fraction=0.3, model__estimator__warm_start=True, preprocessor__num__normalize=passthrought, preprocessor__num__scale=StandardScaler(); total time=   0.0s\n",
      "[CV] END model__estimator__alpha=0.01, model__estimator__batch_size=60, model__estimator__beta_1=0.6, model__estimator__early_stopping=False, model__estimator__hidden_layer_sizes=(100, 100, 100), model__estimator__max_iter=50, model__estimator__momentum=0.0, model__estimator__nesterovs_momentum=False, model__estimator__power_t=1, model__estimator__shuffle=True, model__estimator__tol=0.001, model__estimator__validation_fraction=0.3, model__estimator__warm_start=True, preprocessor__num__normalize=passthrought, preprocessor__num__scale=StandardScaler(); total time=   0.0s\n",
      "[CV] END model__estimator__alpha=0.01, model__estimator__batch_size=60, model__estimator__beta_1=0.6, model__estimator__early_stopping=False, model__estimator__hidden_layer_sizes=(100, 100, 100), model__estimator__max_iter=50, model__estimator__momentum=0.0, model__estimator__nesterovs_momentum=False, model__estimator__power_t=1, model__estimator__shuffle=True, model__estimator__tol=0.001, model__estimator__validation_fraction=0.3, model__estimator__warm_start=True, preprocessor__num__normalize=passthrought, preprocessor__num__scale=StandardScaler(); total time=   0.0s\n"
     ]
    },
    {
     "name": "stderr",
     "output_type": "stream",
     "text": [
      "/home/chicco/anaconda3/lib/python3.9/site-packages/sklearn/neural_network/_multilayer_perceptron.py:692: ConvergenceWarning: Stochastic Optimizer: Maximum iterations (50) reached and the optimization hasn't converged yet.\n",
      "  warnings.warn(\n",
      "/home/chicco/anaconda3/lib/python3.9/site-packages/sklearn/neural_network/_multilayer_perceptron.py:692: ConvergenceWarning: Stochastic Optimizer: Maximum iterations (50) reached and the optimization hasn't converged yet.\n",
      "  warnings.warn(\n",
      "/home/chicco/anaconda3/lib/python3.9/site-packages/sklearn/neural_network/_multilayer_perceptron.py:692: ConvergenceWarning: Stochastic Optimizer: Maximum iterations (50) reached and the optimization hasn't converged yet.\n",
      "  warnings.warn(\n",
      "/home/chicco/anaconda3/lib/python3.9/site-packages/sklearn/neural_network/_multilayer_perceptron.py:692: ConvergenceWarning: Stochastic Optimizer: Maximum iterations (50) reached and the optimization hasn't converged yet.\n",
      "  warnings.warn(\n"
     ]
    },
    {
     "name": "stdout",
     "output_type": "stream",
     "text": [
      "[CV] END model__estimator__alpha=0.01, model__estimator__batch_size=60, model__estimator__beta_1=0.6, model__estimator__early_stopping=False, model__estimator__hidden_layer_sizes=(100, 100, 100), model__estimator__max_iter=50, model__estimator__momentum=0.0, model__estimator__nesterovs_momentum=True, model__estimator__power_t=1, model__estimator__shuffle=True, model__estimator__tol=0.001, model__estimator__validation_fraction=0.3, model__estimator__warm_start=True, preprocessor__num__normalize=passthrought, preprocessor__num__scale=passthrought; total time=   0.0s\n",
      "[CV] END model__estimator__alpha=0.01, model__estimator__batch_size=60, model__estimator__beta_1=0.6, model__estimator__early_stopping=False, model__estimator__hidden_layer_sizes=(100, 100, 100), model__estimator__max_iter=50, model__estimator__momentum=0.0, model__estimator__nesterovs_momentum=True, model__estimator__power_t=1, model__estimator__shuffle=True, model__estimator__tol=0.001, model__estimator__validation_fraction=0.3, model__estimator__warm_start=True, preprocessor__num__normalize=passthrought, preprocessor__num__scale=passthrought; total time=   0.0s\n",
      "[CV] END model__estimator__alpha=0.01, model__estimator__batch_size=60, model__estimator__beta_1=0.6, model__estimator__early_stopping=False, model__estimator__hidden_layer_sizes=(100, 100, 100), model__estimator__max_iter=50, model__estimator__momentum=0.0, model__estimator__nesterovs_momentum=True, model__estimator__power_t=1, model__estimator__shuffle=True, model__estimator__tol=0.001, model__estimator__validation_fraction=0.3, model__estimator__warm_start=False, preprocessor__num__normalize=Normalizer(), preprocessor__num__scale=StandardScaler(); total time=  30.7s\n",
      "[CV] END model__estimator__alpha=0.01, model__estimator__batch_size=60, model__estimator__beta_1=0.6, model__estimator__early_stopping=False, model__estimator__hidden_layer_sizes=(100, 100, 100), model__estimator__max_iter=50, model__estimator__momentum=0.0, model__estimator__nesterovs_momentum=True, model__estimator__power_t=1, model__estimator__shuffle=True, model__estimator__tol=0.001, model__estimator__validation_fraction=0.3, model__estimator__warm_start=False, preprocessor__num__normalize=Normalizer(), preprocessor__num__scale=StandardScaler(); total time=  31.5s\n",
      "[CV] END model__estimator__alpha=0.01, model__estimator__batch_size=60, model__estimator__beta_1=0.6, model__estimator__early_stopping=False, model__estimator__hidden_layer_sizes=(100, 100, 100), model__estimator__max_iter=50, model__estimator__momentum=0.0, model__estimator__nesterovs_momentum=True, model__estimator__power_t=1, model__estimator__shuffle=False, model__estimator__tol=0.001, model__estimator__validation_fraction=0.3, model__estimator__warm_start=True, preprocessor__num__normalize=Normalizer(), preprocessor__num__scale=StandardScaler(); total time=  20.2s\n",
      "[CV] END model__estimator__alpha=0.01, model__estimator__batch_size=60, model__estimator__beta_1=0.6, model__estimator__early_stopping=False, model__estimator__hidden_layer_sizes=(100, 100, 100), model__estimator__max_iter=50, model__estimator__momentum=0.0, model__estimator__nesterovs_momentum=True, model__estimator__power_t=1, model__estimator__shuffle=False, model__estimator__tol=0.001, model__estimator__validation_fraction=0.3, model__estimator__warm_start=False, preprocessor__num__normalize=Normalizer(), preprocessor__num__scale=StandardScaler(); total time=  19.2s\n",
      "[CV] END model__estimator__alpha=0.01, model__estimator__batch_size=60, model__estimator__beta_1=0.6, model__estimator__early_stopping=False, model__estimator__hidden_layer_sizes=(100, 100, 100), model__estimator__max_iter=50, model__estimator__momentum=0.0, model__estimator__nesterovs_momentum=False, model__estimator__power_t=1, model__estimator__shuffle=True, model__estimator__tol=0.001, model__estimator__validation_fraction=0.3, model__estimator__warm_start=True, preprocessor__num__normalize=Normalizer(), preprocessor__num__scale=StandardScaler(); total time=  28.0s\n",
      "[CV] END model__estimator__alpha=0.01, model__estimator__batch_size=60, model__estimator__beta_1=0.6, model__estimator__early_stopping=False, model__estimator__hidden_layer_sizes=(100, 100, 100), model__estimator__max_iter=50, model__estimator__momentum=0.0, model__estimator__nesterovs_momentum=False, model__estimator__power_t=1, model__estimator__shuffle=True, model__estimator__tol=0.001, model__estimator__validation_fraction=0.3, model__estimator__warm_start=False, preprocessor__num__normalize=Normalizer(), preprocessor__num__scale=StandardScaler(); total time=  29.9s\n",
      "[CV] END model__estimator__alpha=0.01, model__estimator__batch_size=60, model__estimator__beta_1=0.6, model__estimator__early_stopping=False, model__estimator__hidden_layer_sizes=(100, 100, 100), model__estimator__max_iter=50, model__estimator__momentum=0.0, model__estimator__nesterovs_momentum=False, model__estimator__power_t=1, model__estimator__shuffle=True, model__estimator__tol=0.001, model__estimator__validation_fraction=0.3, model__estimator__warm_start=False, preprocessor__num__normalize=Normalizer(), preprocessor__num__scale=passthrought; total time=   0.0s\n",
      "[CV] END model__estimator__alpha=0.01, model__estimator__batch_size=60, model__estimator__beta_1=0.6, model__estimator__early_stopping=False, model__estimator__hidden_layer_sizes=(100, 100, 100), model__estimator__max_iter=50, model__estimator__momentum=0.0, model__estimator__nesterovs_momentum=False, model__estimator__power_t=1, model__estimator__shuffle=True, model__estimator__tol=0.001, model__estimator__validation_fraction=0.3, model__estimator__warm_start=False, preprocessor__num__normalize=Normalizer(), preprocessor__num__scale=passthrought; total time=   0.0s\n",
      "[CV] END model__estimator__alpha=0.01, model__estimator__batch_size=60, model__estimator__beta_1=0.6, model__estimator__early_stopping=False, model__estimator__hidden_layer_sizes=(100, 100, 100), model__estimator__max_iter=50, model__estimator__momentum=0.0, model__estimator__nesterovs_momentum=False, model__estimator__power_t=1, model__estimator__shuffle=True, model__estimator__tol=0.001, model__estimator__validation_fraction=0.3, model__estimator__warm_start=False, preprocessor__num__normalize=Normalizer(), preprocessor__num__scale=passthrought; total time=   0.0s\n",
      "[CV] END model__estimator__alpha=0.01, model__estimator__batch_size=60, model__estimator__beta_1=0.6, model__estimator__early_stopping=False, model__estimator__hidden_layer_sizes=(100, 100, 100), model__estimator__max_iter=50, model__estimator__momentum=0.0, model__estimator__nesterovs_momentum=False, model__estimator__power_t=1, model__estimator__shuffle=True, model__estimator__tol=0.001, model__estimator__validation_fraction=0.3, model__estimator__warm_start=False, preprocessor__num__normalize=Normalizer(), preprocessor__num__scale=passthrought; total time=   0.0s\n",
      "[CV] END model__estimator__alpha=0.01, model__estimator__batch_size=60, model__estimator__beta_1=0.6, model__estimator__early_stopping=False, model__estimator__hidden_layer_sizes=(100, 100, 100), model__estimator__max_iter=50, model__estimator__momentum=0.0, model__estimator__nesterovs_momentum=False, model__estimator__power_t=1, model__estimator__shuffle=True, model__estimator__tol=0.001, model__estimator__validation_fraction=0.3, model__estimator__warm_start=False, preprocessor__num__normalize=Normalizer(), preprocessor__num__scale=passthrought; total time=   0.0s\n",
      "[CV] END model__estimator__alpha=0.01, model__estimator__batch_size=60, model__estimator__beta_1=0.6, model__estimator__early_stopping=False, model__estimator__hidden_layer_sizes=(100, 100, 100), model__estimator__max_iter=50, model__estimator__momentum=0.0, model__estimator__nesterovs_momentum=False, model__estimator__power_t=1, model__estimator__shuffle=True, model__estimator__tol=0.001, model__estimator__validation_fraction=0.3, model__estimator__warm_start=False, preprocessor__num__normalize=passthrought, preprocessor__num__scale=StandardScaler(); total time=   0.0s\n"
     ]
    },
    {
     "name": "stderr",
     "output_type": "stream",
     "text": [
      "/home/chicco/anaconda3/lib/python3.9/site-packages/sklearn/neural_network/_multilayer_perceptron.py:692: ConvergenceWarning: Stochastic Optimizer: Maximum iterations (50) reached and the optimization hasn't converged yet.\n",
      "  warnings.warn(\n",
      "/home/chicco/anaconda3/lib/python3.9/site-packages/sklearn/neural_network/_multilayer_perceptron.py:692: ConvergenceWarning: Stochastic Optimizer: Maximum iterations (50) reached and the optimization hasn't converged yet.\n",
      "  warnings.warn(\n",
      "/home/chicco/anaconda3/lib/python3.9/site-packages/sklearn/neural_network/_multilayer_perceptron.py:692: ConvergenceWarning: Stochastic Optimizer: Maximum iterations (50) reached and the optimization hasn't converged yet.\n",
      "  warnings.warn(\n",
      "/home/chicco/anaconda3/lib/python3.9/site-packages/sklearn/neural_network/_multilayer_perceptron.py:692: ConvergenceWarning: Stochastic Optimizer: Maximum iterations (50) reached and the optimization hasn't converged yet.\n",
      "  warnings.warn(\n"
     ]
    },
    {
     "name": "stdout",
     "output_type": "stream",
     "text": [
      "[CV] END model__estimator__alpha=0.01, model__estimator__batch_size=60, model__estimator__beta_1=0.6, model__estimator__early_stopping=False, model__estimator__hidden_layer_sizes=(100, 100, 100), model__estimator__max_iter=50, model__estimator__momentum=0.0, model__estimator__nesterovs_momentum=True, model__estimator__power_t=1, model__estimator__shuffle=False, model__estimator__tol=0.001, model__estimator__validation_fraction=0.3, model__estimator__warm_start=True, preprocessor__num__normalize=passthrought, preprocessor__num__scale=passthrought; total time=   0.0s\n",
      "[CV] END model__estimator__alpha=0.01, model__estimator__batch_size=60, model__estimator__beta_1=0.6, model__estimator__early_stopping=False, model__estimator__hidden_layer_sizes=(100, 100, 100), model__estimator__max_iter=50, model__estimator__momentum=0.0, model__estimator__nesterovs_momentum=True, model__estimator__power_t=1, model__estimator__shuffle=False, model__estimator__tol=0.001, model__estimator__validation_fraction=0.3, model__estimator__warm_start=True, preprocessor__num__normalize=passthrought, preprocessor__num__scale=passthrought; total time=   0.0s\n",
      "[CV] END model__estimator__alpha=0.01, model__estimator__batch_size=60, model__estimator__beta_1=0.6, model__estimator__early_stopping=False, model__estimator__hidden_layer_sizes=(100, 100, 100), model__estimator__max_iter=50, model__estimator__momentum=0.0, model__estimator__nesterovs_momentum=True, model__estimator__power_t=1, model__estimator__shuffle=False, model__estimator__tol=0.001, model__estimator__validation_fraction=0.3, model__estimator__warm_start=True, preprocessor__num__normalize=passthrought, preprocessor__num__scale=passthrought; total time=   0.0s\n",
      "[CV] END model__estimator__alpha=0.01, model__estimator__batch_size=60, model__estimator__beta_1=0.6, model__estimator__early_stopping=False, model__estimator__hidden_layer_sizes=(100, 100, 100), model__estimator__max_iter=50, model__estimator__momentum=0.0, model__estimator__nesterovs_momentum=True, model__estimator__power_t=1, model__estimator__shuffle=False, model__estimator__tol=0.001, model__estimator__validation_fraction=0.3, model__estimator__warm_start=True, preprocessor__num__normalize=passthrought, preprocessor__num__scale=passthrought; total time=   0.0s\n",
      "[CV] END model__estimator__alpha=0.01, model__estimator__batch_size=60, model__estimator__beta_1=0.6, model__estimator__early_stopping=False, model__estimator__hidden_layer_sizes=(100, 100, 100), model__estimator__max_iter=50, model__estimator__momentum=0.0, model__estimator__nesterovs_momentum=True, model__estimator__power_t=1, model__estimator__shuffle=False, model__estimator__tol=0.001, model__estimator__validation_fraction=0.3, model__estimator__warm_start=False, preprocessor__num__normalize=Normalizer(), preprocessor__num__scale=StandardScaler(); total time=  19.7s\n",
      "[CV] END model__estimator__alpha=0.01, model__estimator__batch_size=60, model__estimator__beta_1=0.6, model__estimator__early_stopping=False, model__estimator__hidden_layer_sizes=(100, 100, 100), model__estimator__max_iter=50, model__estimator__momentum=0.0, model__estimator__nesterovs_momentum=True, model__estimator__power_t=1, model__estimator__shuffle=False, model__estimator__tol=0.001, model__estimator__validation_fraction=0.3, model__estimator__warm_start=False, preprocessor__num__normalize=Normalizer(), preprocessor__num__scale=StandardScaler(); total time=  19.9s\n",
      "[CV] END model__estimator__alpha=0.01, model__estimator__batch_size=60, model__estimator__beta_1=0.6, model__estimator__early_stopping=False, model__estimator__hidden_layer_sizes=(100, 100, 100), model__estimator__max_iter=50, model__estimator__momentum=0.0, model__estimator__nesterovs_momentum=False, model__estimator__power_t=1, model__estimator__shuffle=True, model__estimator__tol=0.001, model__estimator__validation_fraction=0.3, model__estimator__warm_start=True, preprocessor__num__normalize=Normalizer(), preprocessor__num__scale=StandardScaler(); total time=  30.6s\n",
      "[CV] END model__estimator__alpha=0.01, model__estimator__batch_size=60, model__estimator__beta_1=0.6, model__estimator__early_stopping=False, model__estimator__hidden_layer_sizes=(100, 100, 100), model__estimator__max_iter=50, model__estimator__momentum=0.0, model__estimator__nesterovs_momentum=False, model__estimator__power_t=1, model__estimator__shuffle=True, model__estimator__tol=0.001, model__estimator__validation_fraction=0.3, model__estimator__warm_start=False, preprocessor__num__normalize=Normalizer(), preprocessor__num__scale=StandardScaler(); total time=  28.3s\n",
      "[CV] END model__estimator__alpha=0.01, model__estimator__batch_size=60, model__estimator__beta_1=0.6, model__estimator__early_stopping=False, model__estimator__hidden_layer_sizes=(100, 100, 100), model__estimator__max_iter=50, model__estimator__momentum=0.0, model__estimator__nesterovs_momentum=False, model__estimator__power_t=1, model__estimator__shuffle=False, model__estimator__tol=0.001, model__estimator__validation_fraction=0.3, model__estimator__warm_start=True, preprocessor__num__normalize=Normalizer(), preprocessor__num__scale=StandardScaler(); total time=  20.4s\n",
      "[CV] END model__estimator__alpha=0.01, model__estimator__batch_size=60, model__estimator__beta_1=0.6, model__estimator__early_stopping=False, model__estimator__hidden_layer_sizes=(100, 100, 100), model__estimator__max_iter=50, model__estimator__momentum=0.0, model__estimator__nesterovs_momentum=False, model__estimator__power_t=1, model__estimator__shuffle=False, model__estimator__tol=0.001, model__estimator__validation_fraction=0.3, model__estimator__warm_start=True, preprocessor__num__normalize=Normalizer(), preprocessor__num__scale=passthrought; total time=   0.0s\n",
      "[CV] END model__estimator__alpha=0.01, model__estimator__batch_size=60, model__estimator__beta_1=0.6, model__estimator__early_stopping=False, model__estimator__hidden_layer_sizes=(100, 100, 100), model__estimator__max_iter=50, model__estimator__momentum=0.0, model__estimator__nesterovs_momentum=False, model__estimator__power_t=1, model__estimator__shuffle=False, model__estimator__tol=0.001, model__estimator__validation_fraction=0.3, model__estimator__warm_start=True, preprocessor__num__normalize=Normalizer(), preprocessor__num__scale=passthrought; total time=   0.0s\n",
      "[CV] END model__estimator__alpha=0.01, model__estimator__batch_size=60, model__estimator__beta_1=0.6, model__estimator__early_stopping=False, model__estimator__hidden_layer_sizes=(100, 100, 100), model__estimator__max_iter=50, model__estimator__momentum=0.0, model__estimator__nesterovs_momentum=False, model__estimator__power_t=1, model__estimator__shuffle=False, model__estimator__tol=0.001, model__estimator__validation_fraction=0.3, model__estimator__warm_start=True, preprocessor__num__normalize=Normalizer(), preprocessor__num__scale=passthrought; total time=   0.0s\n",
      "[CV] END model__estimator__alpha=0.01, model__estimator__batch_size=60, model__estimator__beta_1=0.6, model__estimator__early_stopping=False, model__estimator__hidden_layer_sizes=(100, 100, 100), model__estimator__max_iter=50, model__estimator__momentum=0.0, model__estimator__nesterovs_momentum=False, model__estimator__power_t=1, model__estimator__shuffle=False, model__estimator__tol=0.001, model__estimator__validation_fraction=0.3, model__estimator__warm_start=True, preprocessor__num__normalize=Normalizer(), preprocessor__num__scale=passthrought; total time=   0.0s\n",
      "[CV] END model__estimator__alpha=0.01, model__estimator__batch_size=60, model__estimator__beta_1=0.6, model__estimator__early_stopping=False, model__estimator__hidden_layer_sizes=(100, 100, 100), model__estimator__max_iter=50, model__estimator__momentum=0.0, model__estimator__nesterovs_momentum=False, model__estimator__power_t=1, model__estimator__shuffle=False, model__estimator__tol=0.001, model__estimator__validation_fraction=0.3, model__estimator__warm_start=True, preprocessor__num__normalize=Normalizer(), preprocessor__num__scale=passthrought; total time=   0.0s\n",
      "[CV] END model__estimator__alpha=0.01, model__estimator__batch_size=60, model__estimator__beta_1=0.6, model__estimator__early_stopping=False, model__estimator__hidden_layer_sizes=(100, 100, 100), model__estimator__max_iter=50, model__estimator__momentum=0.0, model__estimator__nesterovs_momentum=True, model__estimator__power_t=1, model__estimator__shuffle=False, model__estimator__tol=0.001, model__estimator__validation_fraction=0.3, model__estimator__warm_start=False, preprocessor__num__normalize=passthrought, preprocessor__num__scale=StandardScaler(); total time=   0.0s\n",
      "[CV] END model__estimator__alpha=0.01, model__estimator__batch_size=60, model__estimator__beta_1=0.6, model__estimator__early_stopping=False, model__estimator__hidden_layer_sizes=(100, 100, 100), model__estimator__max_iter=50, model__estimator__momentum=0.0, model__estimator__nesterovs_momentum=True, model__estimator__power_t=1, model__estimator__shuffle=False, model__estimator__tol=0.001, model__estimator__validation_fraction=0.3, model__estimator__warm_start=False, preprocessor__num__normalize=passthrought, preprocessor__num__scale=StandardScaler(); total time=   0.0s\n",
      "[CV] END model__estimator__alpha=0.01, model__estimator__batch_size=60, model__estimator__beta_1=0.6, model__estimator__early_stopping=False, model__estimator__hidden_layer_sizes=(100, 100, 100), model__estimator__max_iter=50, model__estimator__momentum=0.0, model__estimator__nesterovs_momentum=True, model__estimator__power_t=1, model__estimator__shuffle=False, model__estimator__tol=0.001, model__estimator__validation_fraction=0.3, model__estimator__warm_start=False, preprocessor__num__normalize=passthrought, preprocessor__num__scale=passthrought; total time=   0.0s\n",
      "[CV] END model__estimator__alpha=0.01, model__estimator__batch_size=60, model__estimator__beta_1=0.6, model__estimator__early_stopping=False, model__estimator__hidden_layer_sizes=(100, 100, 100), model__estimator__max_iter=50, model__estimator__momentum=0.0, model__estimator__nesterovs_momentum=True, model__estimator__power_t=1, model__estimator__shuffle=False, model__estimator__tol=0.001, model__estimator__validation_fraction=0.3, model__estimator__warm_start=False, preprocessor__num__normalize=passthrought, preprocessor__num__scale=passthrought; total time=   0.0s\n",
      "[CV] END model__estimator__alpha=0.01, model__estimator__batch_size=60, model__estimator__beta_1=0.6, model__estimator__early_stopping=False, model__estimator__hidden_layer_sizes=(100, 100, 100), model__estimator__max_iter=50, model__estimator__momentum=0.0, model__estimator__nesterovs_momentum=True, model__estimator__power_t=1, model__estimator__shuffle=False, model__estimator__tol=0.001, model__estimator__validation_fraction=0.3, model__estimator__warm_start=False, preprocessor__num__normalize=passthrought, preprocessor__num__scale=passthrought; total time=   0.0s\n",
      "[CV] END model__estimator__alpha=0.01, model__estimator__batch_size=60, model__estimator__beta_1=0.6, model__estimator__early_stopping=False, model__estimator__hidden_layer_sizes=(100, 100, 100), model__estimator__max_iter=50, model__estimator__momentum=0.0, model__estimator__nesterovs_momentum=True, model__estimator__power_t=1, model__estimator__shuffle=False, model__estimator__tol=0.001, model__estimator__validation_fraction=0.3, model__estimator__warm_start=False, preprocessor__num__normalize=passthrought, preprocessor__num__scale=passthrought; total time=   0.0s\n",
      "[CV] END model__estimator__alpha=0.01, model__estimator__batch_size=60, model__estimator__beta_1=0.6, model__estimator__early_stopping=False, model__estimator__hidden_layer_sizes=(100, 100, 100), model__estimator__max_iter=50, model__estimator__momentum=0.0, model__estimator__nesterovs_momentum=True, model__estimator__power_t=1, model__estimator__shuffle=False, model__estimator__tol=0.001, model__estimator__validation_fraction=0.3, model__estimator__warm_start=False, preprocessor__num__normalize=passthrought, preprocessor__num__scale=passthrought; total time=   0.0s\n",
      "[CV] END model__estimator__alpha=0.01, model__estimator__batch_size=60, model__estimator__beta_1=0.6, model__estimator__early_stopping=False, model__estimator__hidden_layer_sizes=(100, 100, 100), model__estimator__max_iter=50, model__estimator__momentum=0.0, model__estimator__nesterovs_momentum=False, model__estimator__power_t=1, model__estimator__shuffle=True, model__estimator__tol=0.001, model__estimator__validation_fraction=0.3, model__estimator__warm_start=True, preprocessor__num__normalize=Normalizer(), preprocessor__num__scale=StandardScaler(); total time=  26.4s\n",
      "[CV] END model__estimator__alpha=0.01, model__estimator__batch_size=60, model__estimator__beta_1=0.6, model__estimator__early_stopping=False, model__estimator__hidden_layer_sizes=(100, 100, 100), model__estimator__max_iter=50, model__estimator__momentum=0.0, model__estimator__nesterovs_momentum=False, model__estimator__power_t=1, model__estimator__shuffle=True, model__estimator__tol=0.001, model__estimator__validation_fraction=0.3, model__estimator__warm_start=True, preprocessor__num__normalize=Normalizer(), preprocessor__num__scale=StandardScaler(); total time=  29.4s\n",
      "[CV] END model__estimator__alpha=0.01, model__estimator__batch_size=60, model__estimator__beta_1=0.6, model__estimator__early_stopping=False, model__estimator__hidden_layer_sizes=(100, 100, 100), model__estimator__max_iter=50, model__estimator__momentum=0.0, model__estimator__nesterovs_momentum=False, model__estimator__power_t=1, model__estimator__shuffle=True, model__estimator__tol=0.001, model__estimator__validation_fraction=0.3, model__estimator__warm_start=False, preprocessor__num__normalize=Normalizer(), preprocessor__num__scale=StandardScaler(); total time=  28.2s\n",
      "[CV] END model__estimator__alpha=0.01, model__estimator__batch_size=60, model__estimator__beta_1=0.6, model__estimator__early_stopping=False, model__estimator__hidden_layer_sizes=(100, 100, 100), model__estimator__max_iter=50, model__estimator__momentum=0.0, model__estimator__nesterovs_momentum=False, model__estimator__power_t=1, model__estimator__shuffle=False, model__estimator__tol=0.001, model__estimator__validation_fraction=0.3, model__estimator__warm_start=True, preprocessor__num__normalize=Normalizer(), preprocessor__num__scale=StandardScaler(); total time=  17.6s\n",
      "[CV] END model__estimator__alpha=0.01, model__estimator__batch_size=60, model__estimator__beta_1=0.6, model__estimator__early_stopping=False, model__estimator__hidden_layer_sizes=(100, 100, 100), model__estimator__max_iter=50, model__estimator__momentum=0.0, model__estimator__nesterovs_momentum=False, model__estimator__power_t=1, model__estimator__shuffle=False, model__estimator__tol=0.001, model__estimator__validation_fraction=0.3, model__estimator__warm_start=False, preprocessor__num__normalize=Normalizer(), preprocessor__num__scale=StandardScaler(); total time=  17.6s\n",
      "[CV] END model__estimator__alpha=0.01, model__estimator__batch_size=60, model__estimator__beta_1=0.6, model__estimator__early_stopping=False, model__estimator__hidden_layer_sizes=(100, 100, 100), model__estimator__max_iter=50, model__estimator__momentum=0.0, model__estimator__nesterovs_momentum=False, model__estimator__power_t=1, model__estimator__shuffle=False, model__estimator__tol=0.001, model__estimator__validation_fraction=0.3, model__estimator__warm_start=False, preprocessor__num__normalize=Normalizer(), preprocessor__num__scale=passthrought; total time=   0.0s\n",
      "[CV] END model__estimator__alpha=0.01, model__estimator__batch_size=60, model__estimator__beta_1=0.6, model__estimator__early_stopping=False, model__estimator__hidden_layer_sizes=(100, 100, 100), model__estimator__max_iter=50, model__estimator__momentum=0.0, model__estimator__nesterovs_momentum=False, model__estimator__power_t=1, model__estimator__shuffle=False, model__estimator__tol=0.001, model__estimator__validation_fraction=0.3, model__estimator__warm_start=False, preprocessor__num__normalize=Normalizer(), preprocessor__num__scale=passthrought; total time=   0.0s\n"
     ]
    },
    {
     "name": "stdout",
     "output_type": "stream",
     "text": [
      "[CV] END model__estimator__alpha=0.01, model__estimator__batch_size=60, model__estimator__beta_1=0.6, model__estimator__early_stopping=False, model__estimator__hidden_layer_sizes=(100, 100, 100), model__estimator__max_iter=50, model__estimator__momentum=0.0, model__estimator__nesterovs_momentum=False, model__estimator__power_t=1, model__estimator__shuffle=True, model__estimator__tol=0.001, model__estimator__validation_fraction=0.3, model__estimator__warm_start=False, preprocessor__num__normalize=passthrought, preprocessor__num__scale=StandardScaler(); total time=   0.0s\n",
      "[CV] END model__estimator__alpha=0.01, model__estimator__batch_size=60, model__estimator__beta_1=0.6, model__estimator__early_stopping=False, model__estimator__hidden_layer_sizes=(100, 100, 100), model__estimator__max_iter=50, model__estimator__momentum=0.0, model__estimator__nesterovs_momentum=False, model__estimator__power_t=1, model__estimator__shuffle=True, model__estimator__tol=0.001, model__estimator__validation_fraction=0.3, model__estimator__warm_start=False, preprocessor__num__normalize=passthrought, preprocessor__num__scale=StandardScaler(); total time=   0.0s\n",
      "[CV] END model__estimator__alpha=0.01, model__estimator__batch_size=60, model__estimator__beta_1=0.6, model__estimator__early_stopping=False, model__estimator__hidden_layer_sizes=(100, 100, 100), model__estimator__max_iter=50, model__estimator__momentum=0.0, model__estimator__nesterovs_momentum=False, model__estimator__power_t=1, model__estimator__shuffle=True, model__estimator__tol=0.001, model__estimator__validation_fraction=0.3, model__estimator__warm_start=False, preprocessor__num__normalize=passthrought, preprocessor__num__scale=StandardScaler(); total time=   0.0s\n",
      "[CV] END model__estimator__alpha=0.01, model__estimator__batch_size=60, model__estimator__beta_1=0.6, model__estimator__early_stopping=False, model__estimator__hidden_layer_sizes=(100, 100, 100), model__estimator__max_iter=50, model__estimator__momentum=0.0, model__estimator__nesterovs_momentum=False, model__estimator__power_t=1, model__estimator__shuffle=True, model__estimator__tol=0.001, model__estimator__validation_fraction=0.3, model__estimator__warm_start=False, preprocessor__num__normalize=passthrought, preprocessor__num__scale=StandardScaler(); total time=   0.0s\n",
      "[CV] END model__estimator__alpha=0.01, model__estimator__batch_size=60, model__estimator__beta_1=0.6, model__estimator__early_stopping=False, model__estimator__hidden_layer_sizes=(100, 100, 100), model__estimator__max_iter=50, model__estimator__momentum=0.0, model__estimator__nesterovs_momentum=False, model__estimator__power_t=1, model__estimator__shuffle=True, model__estimator__tol=0.001, model__estimator__validation_fraction=0.3, model__estimator__warm_start=False, preprocessor__num__normalize=passthrought, preprocessor__num__scale=passthrought; total time=   0.0s\n",
      "[CV] END model__estimator__alpha=0.01, model__estimator__batch_size=60, model__estimator__beta_1=0.6, model__estimator__early_stopping=False, model__estimator__hidden_layer_sizes=(100, 100, 100), model__estimator__max_iter=50, model__estimator__momentum=0.0, model__estimator__nesterovs_momentum=False, model__estimator__power_t=1, model__estimator__shuffle=True, model__estimator__tol=0.001, model__estimator__validation_fraction=0.3, model__estimator__warm_start=False, preprocessor__num__normalize=passthrought, preprocessor__num__scale=passthrought; total time=   0.0s\n",
      "[CV] END model__estimator__alpha=0.01, model__estimator__batch_size=60, model__estimator__beta_1=0.6, model__estimator__early_stopping=False, model__estimator__hidden_layer_sizes=(100, 100, 100), model__estimator__max_iter=50, model__estimator__momentum=0.0, model__estimator__nesterovs_momentum=False, model__estimator__power_t=1, model__estimator__shuffle=True, model__estimator__tol=0.001, model__estimator__validation_fraction=0.3, model__estimator__warm_start=False, preprocessor__num__normalize=passthrought, preprocessor__num__scale=passthrought; total time=   0.0s\n",
      "[CV] END model__estimator__alpha=0.01, model__estimator__batch_size=60, model__estimator__beta_1=0.6, model__estimator__early_stopping=False, model__estimator__hidden_layer_sizes=(100, 100, 100), model__estimator__max_iter=50, model__estimator__momentum=0.0, model__estimator__nesterovs_momentum=False, model__estimator__power_t=1, model__estimator__shuffle=True, model__estimator__tol=0.001, model__estimator__validation_fraction=0.3, model__estimator__warm_start=False, preprocessor__num__normalize=passthrought, preprocessor__num__scale=passthrought; total time=   0.0s\n",
      "[CV] END model__estimator__alpha=0.01, model__estimator__batch_size=60, model__estimator__beta_1=0.6, model__estimator__early_stopping=False, model__estimator__hidden_layer_sizes=(100, 100, 100), model__estimator__max_iter=50, model__estimator__momentum=0.0, model__estimator__nesterovs_momentum=False, model__estimator__power_t=1, model__estimator__shuffle=True, model__estimator__tol=0.001, model__estimator__validation_fraction=0.3, model__estimator__warm_start=False, preprocessor__num__normalize=passthrought, preprocessor__num__scale=passthrought; total time=   0.0s\n",
      "[CV] END model__estimator__alpha=0.01, model__estimator__batch_size=60, model__estimator__beta_1=0.6, model__estimator__early_stopping=False, model__estimator__hidden_layer_sizes=(100, 100, 100), model__estimator__max_iter=50, model__estimator__momentum=0.0, model__estimator__nesterovs_momentum=False, model__estimator__power_t=1, model__estimator__shuffle=False, model__estimator__tol=0.001, model__estimator__validation_fraction=0.3, model__estimator__warm_start=True, preprocessor__num__normalize=Normalizer(), preprocessor__num__scale=StandardScaler(); total time=  19.4s\n",
      "[CV] END model__estimator__alpha=0.01, model__estimator__batch_size=60, model__estimator__beta_1=0.6, model__estimator__early_stopping=False, model__estimator__hidden_layer_sizes=(100, 100, 100), model__estimator__max_iter=50, model__estimator__momentum=0.0, model__estimator__nesterovs_momentum=False, model__estimator__power_t=1, model__estimator__shuffle=False, model__estimator__tol=0.001, model__estimator__validation_fraction=0.3, model__estimator__warm_start=True, preprocessor__num__normalize=Normalizer(), preprocessor__num__scale=StandardScaler(); total time=  18.3s\n",
      "[CV] END model__estimator__alpha=0.01, model__estimator__batch_size=60, model__estimator__beta_1=0.6, model__estimator__early_stopping=False, model__estimator__hidden_layer_sizes=(100, 100, 100), model__estimator__max_iter=50, model__estimator__momentum=0.0, model__estimator__nesterovs_momentum=False, model__estimator__power_t=1, model__estimator__shuffle=False, model__estimator__tol=0.001, model__estimator__validation_fraction=0.3, model__estimator__warm_start=False, preprocessor__num__normalize=Normalizer(), preprocessor__num__scale=StandardScaler(); total time=  18.3s\n",
      "[CV] END model__estimator__alpha=0.01, model__estimator__batch_size=60, model__estimator__beta_1=0.6, model__estimator__early_stopping=False, model__estimator__hidden_layer_sizes=(100, 100, 100), model__estimator__max_iter=75, model__estimator__momentum=0.0, model__estimator__nesterovs_momentum=True, model__estimator__power_t=1, model__estimator__shuffle=True, model__estimator__tol=0.001, model__estimator__validation_fraction=0.3, model__estimator__warm_start=True, preprocessor__num__normalize=Normalizer(), preprocessor__num__scale=StandardScaler(); total time=  27.7s\n",
      "[CV] END model__estimator__alpha=0.01, model__estimator__batch_size=60, model__estimator__beta_1=0.6, model__estimator__early_stopping=False, model__estimator__hidden_layer_sizes=(100, 100, 100), model__estimator__max_iter=75, model__estimator__momentum=0.0, model__estimator__nesterovs_momentum=True, model__estimator__power_t=1, model__estimator__shuffle=True, model__estimator__tol=0.001, model__estimator__validation_fraction=0.3, model__estimator__warm_start=True, preprocessor__num__normalize=Normalizer(), preprocessor__num__scale=passthrought; total time=   0.0s\n",
      "[CV] END model__estimator__alpha=0.01, model__estimator__batch_size=60, model__estimator__beta_1=0.6, model__estimator__early_stopping=False, model__estimator__hidden_layer_sizes=(100, 100, 100), model__estimator__max_iter=50, model__estimator__momentum=0.0, model__estimator__nesterovs_momentum=False, model__estimator__power_t=1, model__estimator__shuffle=False, model__estimator__tol=0.001, model__estimator__validation_fraction=0.3, model__estimator__warm_start=False, preprocessor__num__normalize=Normalizer(), preprocessor__num__scale=passthrought; total time=   0.0s\n",
      "[CV] END model__estimator__alpha=0.01, model__estimator__batch_size=60, model__estimator__beta_1=0.6, model__estimator__early_stopping=False, model__estimator__hidden_layer_sizes=(100, 100, 100), model__estimator__max_iter=50, model__estimator__momentum=0.0, model__estimator__nesterovs_momentum=False, model__estimator__power_t=1, model__estimator__shuffle=False, model__estimator__tol=0.001, model__estimator__validation_fraction=0.3, model__estimator__warm_start=False, preprocessor__num__normalize=Normalizer(), preprocessor__num__scale=passthrought; total time=   0.0s\n",
      "[CV] END model__estimator__alpha=0.01, model__estimator__batch_size=60, model__estimator__beta_1=0.6, model__estimator__early_stopping=False, model__estimator__hidden_layer_sizes=(100, 100, 100), model__estimator__max_iter=50, model__estimator__momentum=0.0, model__estimator__nesterovs_momentum=False, model__estimator__power_t=1, model__estimator__shuffle=False, model__estimator__tol=0.001, model__estimator__validation_fraction=0.3, model__estimator__warm_start=False, preprocessor__num__normalize=Normalizer(), preprocessor__num__scale=passthrought; total time=   0.0s\n",
      "[CV] END model__estimator__alpha=0.01, model__estimator__batch_size=60, model__estimator__beta_1=0.6, model__estimator__early_stopping=False, model__estimator__hidden_layer_sizes=(100, 100, 100), model__estimator__max_iter=50, model__estimator__momentum=0.0, model__estimator__nesterovs_momentum=False, model__estimator__power_t=1, model__estimator__shuffle=False, model__estimator__tol=0.001, model__estimator__validation_fraction=0.3, model__estimator__warm_start=False, preprocessor__num__normalize=passthrought, preprocessor__num__scale=StandardScaler(); total time=   0.0s\n",
      "[CV] END model__estimator__alpha=0.01, model__estimator__batch_size=60, model__estimator__beta_1=0.6, model__estimator__early_stopping=False, model__estimator__hidden_layer_sizes=(100, 100, 100), model__estimator__max_iter=50, model__estimator__momentum=0.0, model__estimator__nesterovs_momentum=False, model__estimator__power_t=1, model__estimator__shuffle=False, model__estimator__tol=0.001, model__estimator__validation_fraction=0.3, model__estimator__warm_start=False, preprocessor__num__normalize=passthrought, preprocessor__num__scale=StandardScaler(); total time=   0.0s\n",
      "[CV] END model__estimator__alpha=0.01, model__estimator__batch_size=60, model__estimator__beta_1=0.6, model__estimator__early_stopping=False, model__estimator__hidden_layer_sizes=(100, 100, 100), model__estimator__max_iter=50, model__estimator__momentum=0.0, model__estimator__nesterovs_momentum=False, model__estimator__power_t=1, model__estimator__shuffle=False, model__estimator__tol=0.001, model__estimator__validation_fraction=0.3, model__estimator__warm_start=False, preprocessor__num__normalize=passthrought, preprocessor__num__scale=StandardScaler(); total time=   0.0s\n",
      "[CV] END model__estimator__alpha=0.01, model__estimator__batch_size=60, model__estimator__beta_1=0.6, model__estimator__early_stopping=False, model__estimator__hidden_layer_sizes=(100, 100, 100), model__estimator__max_iter=50, model__estimator__momentum=0.0, model__estimator__nesterovs_momentum=False, model__estimator__power_t=1, model__estimator__shuffle=False, model__estimator__tol=0.001, model__estimator__validation_fraction=0.3, model__estimator__warm_start=False, preprocessor__num__normalize=passthrought, preprocessor__num__scale=StandardScaler(); total time=   0.0s\n",
      "[CV] END model__estimator__alpha=0.01, model__estimator__batch_size=60, model__estimator__beta_1=0.6, model__estimator__early_stopping=False, model__estimator__hidden_layer_sizes=(100, 100, 100), model__estimator__max_iter=50, model__estimator__momentum=0.0, model__estimator__nesterovs_momentum=False, model__estimator__power_t=1, model__estimator__shuffle=False, model__estimator__tol=0.001, model__estimator__validation_fraction=0.3, model__estimator__warm_start=False, preprocessor__num__normalize=passthrought, preprocessor__num__scale=StandardScaler(); total time=   0.0s\n",
      "[CV] END model__estimator__alpha=0.01, model__estimator__batch_size=60, model__estimator__beta_1=0.6, model__estimator__early_stopping=False, model__estimator__hidden_layer_sizes=(100, 100, 100), model__estimator__max_iter=50, model__estimator__momentum=0.0, model__estimator__nesterovs_momentum=False, model__estimator__power_t=1, model__estimator__shuffle=False, model__estimator__tol=0.001, model__estimator__validation_fraction=0.3, model__estimator__warm_start=False, preprocessor__num__normalize=passthrought, preprocessor__num__scale=passthrought; total time=   0.0s\n",
      "[CV] END model__estimator__alpha=0.01, model__estimator__batch_size=60, model__estimator__beta_1=0.6, model__estimator__early_stopping=False, model__estimator__hidden_layer_sizes=(100, 100, 100), model__estimator__max_iter=50, model__estimator__momentum=0.0, model__estimator__nesterovs_momentum=False, model__estimator__power_t=1, model__estimator__shuffle=False, model__estimator__tol=0.001, model__estimator__validation_fraction=0.3, model__estimator__warm_start=False, preprocessor__num__normalize=passthrought, preprocessor__num__scale=passthrought; total time=   0.0s\n",
      "[CV] END model__estimator__alpha=0.01, model__estimator__batch_size=60, model__estimator__beta_1=0.6, model__estimator__early_stopping=False, model__estimator__hidden_layer_sizes=(100, 100, 100), model__estimator__max_iter=50, model__estimator__momentum=0.0, model__estimator__nesterovs_momentum=False, model__estimator__power_t=1, model__estimator__shuffle=False, model__estimator__tol=0.001, model__estimator__validation_fraction=0.3, model__estimator__warm_start=False, preprocessor__num__normalize=passthrought, preprocessor__num__scale=passthrought; total time=   0.0s\n",
      "[CV] END model__estimator__alpha=0.01, model__estimator__batch_size=60, model__estimator__beta_1=0.6, model__estimator__early_stopping=False, model__estimator__hidden_layer_sizes=(100, 100, 100), model__estimator__max_iter=50, model__estimator__momentum=0.0, model__estimator__nesterovs_momentum=False, model__estimator__power_t=1, model__estimator__shuffle=False, model__estimator__tol=0.001, model__estimator__validation_fraction=0.3, model__estimator__warm_start=False, preprocessor__num__normalize=passthrought, preprocessor__num__scale=passthrought; total time=   0.0s\n",
      "[CV] END model__estimator__alpha=0.01, model__estimator__batch_size=60, model__estimator__beta_1=0.6, model__estimator__early_stopping=False, model__estimator__hidden_layer_sizes=(100, 100, 100), model__estimator__max_iter=50, model__estimator__momentum=0.0, model__estimator__nesterovs_momentum=False, model__estimator__power_t=1, model__estimator__shuffle=False, model__estimator__tol=0.001, model__estimator__validation_fraction=0.3, model__estimator__warm_start=False, preprocessor__num__normalize=passthrought, preprocessor__num__scale=passthrought; total time=   0.0s\n",
      "[CV] END model__estimator__alpha=0.01, model__estimator__batch_size=60, model__estimator__beta_1=0.6, model__estimator__early_stopping=False, model__estimator__hidden_layer_sizes=(100, 100, 100), model__estimator__max_iter=75, model__estimator__momentum=0.0, model__estimator__nesterovs_momentum=True, model__estimator__power_t=1, model__estimator__shuffle=True, model__estimator__tol=0.001, model__estimator__validation_fraction=0.3, model__estimator__warm_start=True, preprocessor__num__normalize=Normalizer(), preprocessor__num__scale=StandardScaler(); total time=  29.4s\n"
     ]
    },
    {
     "name": "stdout",
     "output_type": "stream",
     "text": [
      "[CV] END model__estimator__alpha=0.01, model__estimator__batch_size=60, model__estimator__beta_1=0.6, model__estimator__early_stopping=False, model__estimator__hidden_layer_sizes=(100, 100, 100), model__estimator__max_iter=75, model__estimator__momentum=0.0, model__estimator__nesterovs_momentum=True, model__estimator__power_t=1, model__estimator__shuffle=True, model__estimator__tol=0.001, model__estimator__validation_fraction=0.3, model__estimator__warm_start=True, preprocessor__num__normalize=Normalizer(), preprocessor__num__scale=passthrought; total time=   0.0s\n",
      "[CV] END model__estimator__alpha=0.01, model__estimator__batch_size=60, model__estimator__beta_1=0.6, model__estimator__early_stopping=False, model__estimator__hidden_layer_sizes=(100, 100, 100), model__estimator__max_iter=75, model__estimator__momentum=0.0, model__estimator__nesterovs_momentum=True, model__estimator__power_t=1, model__estimator__shuffle=True, model__estimator__tol=0.001, model__estimator__validation_fraction=0.3, model__estimator__warm_start=True, preprocessor__num__normalize=Normalizer(), preprocessor__num__scale=passthrought; total time=   0.0s\n",
      "[CV] END model__estimator__alpha=0.01, model__estimator__batch_size=60, model__estimator__beta_1=0.6, model__estimator__early_stopping=False, model__estimator__hidden_layer_sizes=(100, 100, 100), model__estimator__max_iter=75, model__estimator__momentum=0.0, model__estimator__nesterovs_momentum=True, model__estimator__power_t=1, model__estimator__shuffle=True, model__estimator__tol=0.001, model__estimator__validation_fraction=0.3, model__estimator__warm_start=True, preprocessor__num__normalize=Normalizer(), preprocessor__num__scale=passthrought; total time=   0.0s\n",
      "[CV] END model__estimator__alpha=0.01, model__estimator__batch_size=60, model__estimator__beta_1=0.6, model__estimator__early_stopping=False, model__estimator__hidden_layer_sizes=(100, 100, 100), model__estimator__max_iter=75, model__estimator__momentum=0.0, model__estimator__nesterovs_momentum=True, model__estimator__power_t=1, model__estimator__shuffle=True, model__estimator__tol=0.001, model__estimator__validation_fraction=0.3, model__estimator__warm_start=True, preprocessor__num__normalize=Normalizer(), preprocessor__num__scale=passthrought; total time=   0.0s\n",
      "[CV] END model__estimator__alpha=0.01, model__estimator__batch_size=60, model__estimator__beta_1=0.6, model__estimator__early_stopping=False, model__estimator__hidden_layer_sizes=(100, 100, 100), model__estimator__max_iter=75, model__estimator__momentum=0.0, model__estimator__nesterovs_momentum=True, model__estimator__power_t=1, model__estimator__shuffle=True, model__estimator__tol=0.001, model__estimator__validation_fraction=0.3, model__estimator__warm_start=True, preprocessor__num__normalize=passthrought, preprocessor__num__scale=StandardScaler(); total time=   0.0s\n",
      "[CV] END model__estimator__alpha=0.01, model__estimator__batch_size=60, model__estimator__beta_1=0.6, model__estimator__early_stopping=False, model__estimator__hidden_layer_sizes=(100, 100, 100), model__estimator__max_iter=75, model__estimator__momentum=0.0, model__estimator__nesterovs_momentum=True, model__estimator__power_t=1, model__estimator__shuffle=True, model__estimator__tol=0.001, model__estimator__validation_fraction=0.3, model__estimator__warm_start=True, preprocessor__num__normalize=passthrought, preprocessor__num__scale=StandardScaler(); total time=   0.0s\n",
      "[CV] END model__estimator__alpha=0.01, model__estimator__batch_size=60, model__estimator__beta_1=0.6, model__estimator__early_stopping=False, model__estimator__hidden_layer_sizes=(100, 100, 100), model__estimator__max_iter=75, model__estimator__momentum=0.0, model__estimator__nesterovs_momentum=True, model__estimator__power_t=1, model__estimator__shuffle=True, model__estimator__tol=0.001, model__estimator__validation_fraction=0.3, model__estimator__warm_start=True, preprocessor__num__normalize=passthrought, preprocessor__num__scale=StandardScaler(); total time=   0.0s\n",
      "[CV] END model__estimator__alpha=0.01, model__estimator__batch_size=60, model__estimator__beta_1=0.6, model__estimator__early_stopping=False, model__estimator__hidden_layer_sizes=(100, 100, 100), model__estimator__max_iter=75, model__estimator__momentum=0.0, model__estimator__nesterovs_momentum=True, model__estimator__power_t=1, model__estimator__shuffle=True, model__estimator__tol=0.001, model__estimator__validation_fraction=0.3, model__estimator__warm_start=True, preprocessor__num__normalize=passthrought, preprocessor__num__scale=StandardScaler(); total time=   0.0s\n",
      "[CV] END model__estimator__alpha=0.01, model__estimator__batch_size=60, model__estimator__beta_1=0.6, model__estimator__early_stopping=False, model__estimator__hidden_layer_sizes=(100, 100, 100), model__estimator__max_iter=75, model__estimator__momentum=0.0, model__estimator__nesterovs_momentum=True, model__estimator__power_t=1, model__estimator__shuffle=True, model__estimator__tol=0.001, model__estimator__validation_fraction=0.3, model__estimator__warm_start=True, preprocessor__num__normalize=passthrought, preprocessor__num__scale=StandardScaler(); total time=   0.0s\n",
      "[CV] END model__estimator__alpha=0.01, model__estimator__batch_size=60, model__estimator__beta_1=0.6, model__estimator__early_stopping=False, model__estimator__hidden_layer_sizes=(100, 100, 100), model__estimator__max_iter=75, model__estimator__momentum=0.0, model__estimator__nesterovs_momentum=True, model__estimator__power_t=1, model__estimator__shuffle=True, model__estimator__tol=0.001, model__estimator__validation_fraction=0.3, model__estimator__warm_start=True, preprocessor__num__normalize=passthrought, preprocessor__num__scale=passthrought; total time=   0.0s\n",
      "[CV] END model__estimator__alpha=0.01, model__estimator__batch_size=60, model__estimator__beta_1=0.6, model__estimator__early_stopping=False, model__estimator__hidden_layer_sizes=(100, 100, 100), model__estimator__max_iter=75, model__estimator__momentum=0.0, model__estimator__nesterovs_momentum=True, model__estimator__power_t=1, model__estimator__shuffle=True, model__estimator__tol=0.001, model__estimator__validation_fraction=0.3, model__estimator__warm_start=True, preprocessor__num__normalize=passthrought, preprocessor__num__scale=passthrought; total time=   0.0s\n",
      "[CV] END model__estimator__alpha=0.01, model__estimator__batch_size=60, model__estimator__beta_1=0.6, model__estimator__early_stopping=False, model__estimator__hidden_layer_sizes=(100, 100, 100), model__estimator__max_iter=75, model__estimator__momentum=0.0, model__estimator__nesterovs_momentum=True, model__estimator__power_t=1, model__estimator__shuffle=True, model__estimator__tol=0.001, model__estimator__validation_fraction=0.3, model__estimator__warm_start=True, preprocessor__num__normalize=passthrought, preprocessor__num__scale=passthrought; total time=   0.0s\n",
      "[CV] END model__estimator__alpha=0.01, model__estimator__batch_size=60, model__estimator__beta_1=0.6, model__estimator__early_stopping=False, model__estimator__hidden_layer_sizes=(100, 100, 100), model__estimator__max_iter=75, model__estimator__momentum=0.0, model__estimator__nesterovs_momentum=True, model__estimator__power_t=1, model__estimator__shuffle=True, model__estimator__tol=0.001, model__estimator__validation_fraction=0.3, model__estimator__warm_start=True, preprocessor__num__normalize=passthrought, preprocessor__num__scale=passthrought; total time=   0.0s\n",
      "[CV] END model__estimator__alpha=0.01, model__estimator__batch_size=60, model__estimator__beta_1=0.6, model__estimator__early_stopping=False, model__estimator__hidden_layer_sizes=(100, 100, 100), model__estimator__max_iter=75, model__estimator__momentum=0.0, model__estimator__nesterovs_momentum=True, model__estimator__power_t=1, model__estimator__shuffle=True, model__estimator__tol=0.001, model__estimator__validation_fraction=0.3, model__estimator__warm_start=True, preprocessor__num__normalize=passthrought, preprocessor__num__scale=passthrought; total time=   0.0s\n",
      "[CV] END model__estimator__alpha=0.01, model__estimator__batch_size=60, model__estimator__beta_1=0.6, model__estimator__early_stopping=False, model__estimator__hidden_layer_sizes=(100, 100, 100), model__estimator__max_iter=50, model__estimator__momentum=0.0, model__estimator__nesterovs_momentum=False, model__estimator__power_t=1, model__estimator__shuffle=True, model__estimator__tol=0.001, model__estimator__validation_fraction=0.3, model__estimator__warm_start=True, preprocessor__num__normalize=passthrought, preprocessor__num__scale=StandardScaler(); total time=   0.0s\n",
      "[CV] END model__estimator__alpha=0.01, model__estimator__batch_size=60, model__estimator__beta_1=0.6, model__estimator__early_stopping=False, model__estimator__hidden_layer_sizes=(100, 100, 100), model__estimator__max_iter=50, model__estimator__momentum=0.0, model__estimator__nesterovs_momentum=False, model__estimator__power_t=1, model__estimator__shuffle=True, model__estimator__tol=0.001, model__estimator__validation_fraction=0.3, model__estimator__warm_start=True, preprocessor__num__normalize=passthrought, preprocessor__num__scale=StandardScaler(); total time=   0.0s\n",
      "[CV] END model__estimator__alpha=0.01, model__estimator__batch_size=60, model__estimator__beta_1=0.6, model__estimator__early_stopping=False, model__estimator__hidden_layer_sizes=(100, 100, 100), model__estimator__max_iter=50, model__estimator__momentum=0.0, model__estimator__nesterovs_momentum=False, model__estimator__power_t=1, model__estimator__shuffle=True, model__estimator__tol=0.001, model__estimator__validation_fraction=0.3, model__estimator__warm_start=True, preprocessor__num__normalize=passthrought, preprocessor__num__scale=passthrought; total time=   0.0s\n",
      "[CV] END model__estimator__alpha=0.01, model__estimator__batch_size=60, model__estimator__beta_1=0.6, model__estimator__early_stopping=False, model__estimator__hidden_layer_sizes=(100, 100, 100), model__estimator__max_iter=50, model__estimator__momentum=0.0, model__estimator__nesterovs_momentum=False, model__estimator__power_t=1, model__estimator__shuffle=True, model__estimator__tol=0.001, model__estimator__validation_fraction=0.3, model__estimator__warm_start=True, preprocessor__num__normalize=passthrought, preprocessor__num__scale=passthrought; total time=   0.0s\n",
      "[CV] END model__estimator__alpha=0.01, model__estimator__batch_size=60, model__estimator__beta_1=0.6, model__estimator__early_stopping=False, model__estimator__hidden_layer_sizes=(100, 100, 100), model__estimator__max_iter=50, model__estimator__momentum=0.0, model__estimator__nesterovs_momentum=False, model__estimator__power_t=1, model__estimator__shuffle=True, model__estimator__tol=0.001, model__estimator__validation_fraction=0.3, model__estimator__warm_start=True, preprocessor__num__normalize=passthrought, preprocessor__num__scale=passthrought; total time=   0.0s\n",
      "[CV] END model__estimator__alpha=0.01, model__estimator__batch_size=60, model__estimator__beta_1=0.6, model__estimator__early_stopping=False, model__estimator__hidden_layer_sizes=(100, 100, 100), model__estimator__max_iter=50, model__estimator__momentum=0.0, model__estimator__nesterovs_momentum=False, model__estimator__power_t=1, model__estimator__shuffle=True, model__estimator__tol=0.001, model__estimator__validation_fraction=0.3, model__estimator__warm_start=True, preprocessor__num__normalize=passthrought, preprocessor__num__scale=passthrought; total time=   0.0s\n",
      "[CV] END model__estimator__alpha=0.01, model__estimator__batch_size=60, model__estimator__beta_1=0.6, model__estimator__early_stopping=False, model__estimator__hidden_layer_sizes=(100, 100, 100), model__estimator__max_iter=50, model__estimator__momentum=0.0, model__estimator__nesterovs_momentum=False, model__estimator__power_t=1, model__estimator__shuffle=True, model__estimator__tol=0.001, model__estimator__validation_fraction=0.3, model__estimator__warm_start=True, preprocessor__num__normalize=passthrought, preprocessor__num__scale=passthrought; total time=   0.0s\n",
      "[CV] END model__estimator__alpha=0.01, model__estimator__batch_size=60, model__estimator__beta_1=0.6, model__estimator__early_stopping=False, model__estimator__hidden_layer_sizes=(100, 100, 100), model__estimator__max_iter=50, model__estimator__momentum=0.0, model__estimator__nesterovs_momentum=False, model__estimator__power_t=1, model__estimator__shuffle=True, model__estimator__tol=0.001, model__estimator__validation_fraction=0.3, model__estimator__warm_start=False, preprocessor__num__normalize=Normalizer(), preprocessor__num__scale=StandardScaler(); total time=  27.3s\n",
      "[CV] END model__estimator__alpha=0.01, model__estimator__batch_size=60, model__estimator__beta_1=0.6, model__estimator__early_stopping=False, model__estimator__hidden_layer_sizes=(100, 100, 100), model__estimator__max_iter=50, model__estimator__momentum=0.0, model__estimator__nesterovs_momentum=False, model__estimator__power_t=1, model__estimator__shuffle=True, model__estimator__tol=0.001, model__estimator__validation_fraction=0.3, model__estimator__warm_start=False, preprocessor__num__normalize=Normalizer(), preprocessor__num__scale=StandardScaler(); total time=  27.3s\n",
      "[CV] END model__estimator__alpha=0.01, model__estimator__batch_size=60, model__estimator__beta_1=0.6, model__estimator__early_stopping=False, model__estimator__hidden_layer_sizes=(100, 100, 100), model__estimator__max_iter=50, model__estimator__momentum=0.0, model__estimator__nesterovs_momentum=False, model__estimator__power_t=1, model__estimator__shuffle=False, model__estimator__tol=0.001, model__estimator__validation_fraction=0.3, model__estimator__warm_start=True, preprocessor__num__normalize=Normalizer(), preprocessor__num__scale=StandardScaler(); total time=  18.9s\n",
      "[CV] END model__estimator__alpha=0.01, model__estimator__batch_size=60, model__estimator__beta_1=0.6, model__estimator__early_stopping=False, model__estimator__hidden_layer_sizes=(100, 100, 100), model__estimator__max_iter=50, model__estimator__momentum=0.0, model__estimator__nesterovs_momentum=False, model__estimator__power_t=1, model__estimator__shuffle=False, model__estimator__tol=0.001, model__estimator__validation_fraction=0.3, model__estimator__warm_start=False, preprocessor__num__normalize=Normalizer(), preprocessor__num__scale=StandardScaler(); total time=  18.4s\n",
      "[CV] END model__estimator__alpha=0.01, model__estimator__batch_size=60, model__estimator__beta_1=0.6, model__estimator__early_stopping=False, model__estimator__hidden_layer_sizes=(100, 100, 100), model__estimator__max_iter=75, model__estimator__momentum=0.0, model__estimator__nesterovs_momentum=True, model__estimator__power_t=1, model__estimator__shuffle=True, model__estimator__tol=0.001, model__estimator__validation_fraction=0.3, model__estimator__warm_start=True, preprocessor__num__normalize=Normalizer(), preprocessor__num__scale=StandardScaler(); total time=  30.3s\n",
      "[CV] END model__estimator__alpha=0.01, model__estimator__batch_size=60, model__estimator__beta_1=0.6, model__estimator__early_stopping=False, model__estimator__hidden_layer_sizes=(100, 100, 100), model__estimator__max_iter=75, model__estimator__momentum=0.0, model__estimator__nesterovs_momentum=True, model__estimator__power_t=1, model__estimator__shuffle=True, model__estimator__tol=0.001, model__estimator__validation_fraction=0.3, model__estimator__warm_start=False, preprocessor__num__normalize=Normalizer(), preprocessor__num__scale=StandardScaler(); total time=  27.0s\n",
      "[CV] END model__estimator__alpha=0.01, model__estimator__batch_size=60, model__estimator__beta_1=0.6, model__estimator__early_stopping=False, model__estimator__hidden_layer_sizes=(100, 100, 100), model__estimator__max_iter=75, model__estimator__momentum=0.0, model__estimator__nesterovs_momentum=True, model__estimator__power_t=1, model__estimator__shuffle=True, model__estimator__tol=0.001, model__estimator__validation_fraction=0.3, model__estimator__warm_start=False, preprocessor__num__normalize=Normalizer(), preprocessor__num__scale=passthrought; total time=   0.0s\n"
     ]
    },
    {
     "name": "stdout",
     "output_type": "stream",
     "text": [
      "[CV] END model__estimator__alpha=0.01, model__estimator__batch_size=60, model__estimator__beta_1=0.6, model__estimator__early_stopping=False, model__estimator__hidden_layer_sizes=(100, 100, 100), model__estimator__max_iter=75, model__estimator__momentum=0.0, model__estimator__nesterovs_momentum=True, model__estimator__power_t=1, model__estimator__shuffle=True, model__estimator__tol=0.001, model__estimator__validation_fraction=0.3, model__estimator__warm_start=False, preprocessor__num__normalize=Normalizer(), preprocessor__num__scale=passthrought; total time=   0.0s\n",
      "[CV] END model__estimator__alpha=0.01, model__estimator__batch_size=60, model__estimator__beta_1=0.6, model__estimator__early_stopping=False, model__estimator__hidden_layer_sizes=(100, 100, 100), model__estimator__max_iter=75, model__estimator__momentum=0.0, model__estimator__nesterovs_momentum=True, model__estimator__power_t=1, model__estimator__shuffle=True, model__estimator__tol=0.001, model__estimator__validation_fraction=0.3, model__estimator__warm_start=False, preprocessor__num__normalize=Normalizer(), preprocessor__num__scale=passthrought; total time=   0.0s\n",
      "[CV] END model__estimator__alpha=0.01, model__estimator__batch_size=60, model__estimator__beta_1=0.6, model__estimator__early_stopping=False, model__estimator__hidden_layer_sizes=(100, 100, 100), model__estimator__max_iter=75, model__estimator__momentum=0.0, model__estimator__nesterovs_momentum=True, model__estimator__power_t=1, model__estimator__shuffle=True, model__estimator__tol=0.001, model__estimator__validation_fraction=0.3, model__estimator__warm_start=False, preprocessor__num__normalize=Normalizer(), preprocessor__num__scale=passthrought; total time=   0.0s\n",
      "[CV] END model__estimator__alpha=0.01, model__estimator__batch_size=60, model__estimator__beta_1=0.6, model__estimator__early_stopping=False, model__estimator__hidden_layer_sizes=(100, 100, 100), model__estimator__max_iter=75, model__estimator__momentum=0.0, model__estimator__nesterovs_momentum=True, model__estimator__power_t=1, model__estimator__shuffle=True, model__estimator__tol=0.001, model__estimator__validation_fraction=0.3, model__estimator__warm_start=False, preprocessor__num__normalize=Normalizer(), preprocessor__num__scale=passthrought; total time=   0.0s\n",
      "[CV] END model__estimator__alpha=0.01, model__estimator__batch_size=60, model__estimator__beta_1=0.6, model__estimator__early_stopping=False, model__estimator__hidden_layer_sizes=(100, 100, 100), model__estimator__max_iter=75, model__estimator__momentum=0.0, model__estimator__nesterovs_momentum=True, model__estimator__power_t=1, model__estimator__shuffle=True, model__estimator__tol=0.001, model__estimator__validation_fraction=0.3, model__estimator__warm_start=False, preprocessor__num__normalize=passthrought, preprocessor__num__scale=StandardScaler(); total time=   0.0s\n",
      "[CV] END model__estimator__alpha=0.01, model__estimator__batch_size=60, model__estimator__beta_1=0.6, model__estimator__early_stopping=False, model__estimator__hidden_layer_sizes=(100, 100, 100), model__estimator__max_iter=75, model__estimator__momentum=0.0, model__estimator__nesterovs_momentum=True, model__estimator__power_t=1, model__estimator__shuffle=True, model__estimator__tol=0.001, model__estimator__validation_fraction=0.3, model__estimator__warm_start=False, preprocessor__num__normalize=passthrought, preprocessor__num__scale=StandardScaler(); total time=   0.0s\n",
      "[CV] END model__estimator__alpha=0.01, model__estimator__batch_size=60, model__estimator__beta_1=0.6, model__estimator__early_stopping=False, model__estimator__hidden_layer_sizes=(100, 100, 100), model__estimator__max_iter=75, model__estimator__momentum=0.0, model__estimator__nesterovs_momentum=True, model__estimator__power_t=1, model__estimator__shuffle=True, model__estimator__tol=0.001, model__estimator__validation_fraction=0.3, model__estimator__warm_start=False, preprocessor__num__normalize=passthrought, preprocessor__num__scale=StandardScaler(); total time=   0.0s\n",
      "[CV] END model__estimator__alpha=0.01, model__estimator__batch_size=60, model__estimator__beta_1=0.6, model__estimator__early_stopping=False, model__estimator__hidden_layer_sizes=(100, 100, 100), model__estimator__max_iter=75, model__estimator__momentum=0.0, model__estimator__nesterovs_momentum=True, model__estimator__power_t=1, model__estimator__shuffle=True, model__estimator__tol=0.001, model__estimator__validation_fraction=0.3, model__estimator__warm_start=False, preprocessor__num__normalize=passthrought, preprocessor__num__scale=StandardScaler(); total time=   0.0s\n",
      "[CV] END model__estimator__alpha=0.01, model__estimator__batch_size=60, model__estimator__beta_1=0.6, model__estimator__early_stopping=False, model__estimator__hidden_layer_sizes=(100, 100, 100), model__estimator__max_iter=75, model__estimator__momentum=0.0, model__estimator__nesterovs_momentum=True, model__estimator__power_t=1, model__estimator__shuffle=True, model__estimator__tol=0.001, model__estimator__validation_fraction=0.3, model__estimator__warm_start=False, preprocessor__num__normalize=passthrought, preprocessor__num__scale=StandardScaler(); total time=   0.0s\n",
      "[CV] END model__estimator__alpha=0.01, model__estimator__batch_size=60, model__estimator__beta_1=0.6, model__estimator__early_stopping=False, model__estimator__hidden_layer_sizes=(100, 100, 100), model__estimator__max_iter=75, model__estimator__momentum=0.0, model__estimator__nesterovs_momentum=True, model__estimator__power_t=1, model__estimator__shuffle=True, model__estimator__tol=0.001, model__estimator__validation_fraction=0.3, model__estimator__warm_start=False, preprocessor__num__normalize=passthrought, preprocessor__num__scale=passthrought; total time=   0.0s\n",
      "[CV] END model__estimator__alpha=0.01, model__estimator__batch_size=60, model__estimator__beta_1=0.6, model__estimator__early_stopping=False, model__estimator__hidden_layer_sizes=(100, 100, 100), model__estimator__max_iter=75, model__estimator__momentum=0.0, model__estimator__nesterovs_momentum=True, model__estimator__power_t=1, model__estimator__shuffle=True, model__estimator__tol=0.001, model__estimator__validation_fraction=0.3, model__estimator__warm_start=False, preprocessor__num__normalize=passthrought, preprocessor__num__scale=passthrought; total time=   0.0s\n",
      "[CV] END model__estimator__alpha=0.01, model__estimator__batch_size=60, model__estimator__beta_1=0.6, model__estimator__early_stopping=False, model__estimator__hidden_layer_sizes=(100, 100, 100), model__estimator__max_iter=75, model__estimator__momentum=0.0, model__estimator__nesterovs_momentum=True, model__estimator__power_t=1, model__estimator__shuffle=True, model__estimator__tol=0.001, model__estimator__validation_fraction=0.3, model__estimator__warm_start=False, preprocessor__num__normalize=passthrought, preprocessor__num__scale=passthrought; total time=   0.0s\n",
      "[CV] END model__estimator__alpha=0.01, model__estimator__batch_size=60, model__estimator__beta_1=0.6, model__estimator__early_stopping=False, model__estimator__hidden_layer_sizes=(100, 100, 100), model__estimator__max_iter=75, model__estimator__momentum=0.0, model__estimator__nesterovs_momentum=True, model__estimator__power_t=1, model__estimator__shuffle=True, model__estimator__tol=0.001, model__estimator__validation_fraction=0.3, model__estimator__warm_start=False, preprocessor__num__normalize=passthrought, preprocessor__num__scale=passthrought; total time=   0.0s\n",
      "[CV] END model__estimator__alpha=0.01, model__estimator__batch_size=60, model__estimator__beta_1=0.6, model__estimator__early_stopping=False, model__estimator__hidden_layer_sizes=(100, 100, 100), model__estimator__max_iter=75, model__estimator__momentum=0.0, model__estimator__nesterovs_momentum=True, model__estimator__power_t=1, model__estimator__shuffle=True, model__estimator__tol=0.001, model__estimator__validation_fraction=0.3, model__estimator__warm_start=False, preprocessor__num__normalize=passthrought, preprocessor__num__scale=passthrought; total time=   0.0s\n",
      "[CV] END model__estimator__alpha=0.01, model__estimator__batch_size=60, model__estimator__beta_1=0.6, model__estimator__early_stopping=False, model__estimator__hidden_layer_sizes=(100, 100, 100), model__estimator__max_iter=50, model__estimator__momentum=0.0, model__estimator__nesterovs_momentum=False, model__estimator__power_t=1, model__estimator__shuffle=False, model__estimator__tol=0.001, model__estimator__validation_fraction=0.3, model__estimator__warm_start=True, preprocessor__num__normalize=passthrought, preprocessor__num__scale=StandardScaler(); total time=   0.0s\n",
      "[CV] END model__estimator__alpha=0.01, model__estimator__batch_size=60, model__estimator__beta_1=0.6, model__estimator__early_stopping=False, model__estimator__hidden_layer_sizes=(100, 100, 100), model__estimator__max_iter=50, model__estimator__momentum=0.0, model__estimator__nesterovs_momentum=False, model__estimator__power_t=1, model__estimator__shuffle=False, model__estimator__tol=0.001, model__estimator__validation_fraction=0.3, model__estimator__warm_start=True, preprocessor__num__normalize=passthrought, preprocessor__num__scale=StandardScaler(); total time=   0.0s\n",
      "[CV] END model__estimator__alpha=0.01, model__estimator__batch_size=60, model__estimator__beta_1=0.6, model__estimator__early_stopping=False, model__estimator__hidden_layer_sizes=(100, 100, 100), model__estimator__max_iter=50, model__estimator__momentum=0.0, model__estimator__nesterovs_momentum=False, model__estimator__power_t=1, model__estimator__shuffle=False, model__estimator__tol=0.001, model__estimator__validation_fraction=0.3, model__estimator__warm_start=True, preprocessor__num__normalize=passthrought, preprocessor__num__scale=StandardScaler(); total time=   0.0s\n",
      "[CV] END model__estimator__alpha=0.01, model__estimator__batch_size=60, model__estimator__beta_1=0.6, model__estimator__early_stopping=False, model__estimator__hidden_layer_sizes=(100, 100, 100), model__estimator__max_iter=50, model__estimator__momentum=0.0, model__estimator__nesterovs_momentum=False, model__estimator__power_t=1, model__estimator__shuffle=False, model__estimator__tol=0.001, model__estimator__validation_fraction=0.3, model__estimator__warm_start=True, preprocessor__num__normalize=passthrought, preprocessor__num__scale=StandardScaler(); total time=   0.0s\n",
      "[CV] END model__estimator__alpha=0.01, model__estimator__batch_size=60, model__estimator__beta_1=0.6, model__estimator__early_stopping=False, model__estimator__hidden_layer_sizes=(100, 100, 100), model__estimator__max_iter=50, model__estimator__momentum=0.0, model__estimator__nesterovs_momentum=False, model__estimator__power_t=1, model__estimator__shuffle=False, model__estimator__tol=0.001, model__estimator__validation_fraction=0.3, model__estimator__warm_start=True, preprocessor__num__normalize=passthrought, preprocessor__num__scale=StandardScaler(); total time=   0.0s\n",
      "[CV] END model__estimator__alpha=0.01, model__estimator__batch_size=60, model__estimator__beta_1=0.6, model__estimator__early_stopping=False, model__estimator__hidden_layer_sizes=(100, 100, 100), model__estimator__max_iter=50, model__estimator__momentum=0.0, model__estimator__nesterovs_momentum=False, model__estimator__power_t=1, model__estimator__shuffle=False, model__estimator__tol=0.001, model__estimator__validation_fraction=0.3, model__estimator__warm_start=True, preprocessor__num__normalize=passthrought, preprocessor__num__scale=passthrought; total time=   0.0s\n",
      "[CV] END model__estimator__alpha=0.01, model__estimator__batch_size=60, model__estimator__beta_1=0.6, model__estimator__early_stopping=False, model__estimator__hidden_layer_sizes=(100, 100, 100), model__estimator__max_iter=50, model__estimator__momentum=0.0, model__estimator__nesterovs_momentum=False, model__estimator__power_t=1, model__estimator__shuffle=False, model__estimator__tol=0.001, model__estimator__validation_fraction=0.3, model__estimator__warm_start=True, preprocessor__num__normalize=passthrought, preprocessor__num__scale=passthrought; total time=   0.0s\n",
      "[CV] END model__estimator__alpha=0.01, model__estimator__batch_size=60, model__estimator__beta_1=0.6, model__estimator__early_stopping=False, model__estimator__hidden_layer_sizes=(100, 100, 100), model__estimator__max_iter=50, model__estimator__momentum=0.0, model__estimator__nesterovs_momentum=False, model__estimator__power_t=1, model__estimator__shuffle=False, model__estimator__tol=0.001, model__estimator__validation_fraction=0.3, model__estimator__warm_start=True, preprocessor__num__normalize=passthrought, preprocessor__num__scale=passthrought; total time=   0.0s\n",
      "[CV] END model__estimator__alpha=0.01, model__estimator__batch_size=60, model__estimator__beta_1=0.6, model__estimator__early_stopping=False, model__estimator__hidden_layer_sizes=(100, 100, 100), model__estimator__max_iter=50, model__estimator__momentum=0.0, model__estimator__nesterovs_momentum=False, model__estimator__power_t=1, model__estimator__shuffle=False, model__estimator__tol=0.001, model__estimator__validation_fraction=0.3, model__estimator__warm_start=True, preprocessor__num__normalize=passthrought, preprocessor__num__scale=passthrought; total time=   0.0s\n",
      "[CV] END model__estimator__alpha=0.01, model__estimator__batch_size=60, model__estimator__beta_1=0.6, model__estimator__early_stopping=False, model__estimator__hidden_layer_sizes=(100, 100, 100), model__estimator__max_iter=50, model__estimator__momentum=0.0, model__estimator__nesterovs_momentum=False, model__estimator__power_t=1, model__estimator__shuffle=False, model__estimator__tol=0.001, model__estimator__validation_fraction=0.3, model__estimator__warm_start=True, preprocessor__num__normalize=passthrought, preprocessor__num__scale=passthrought; total time=   0.0s\n",
      "[CV] END model__estimator__alpha=0.01, model__estimator__batch_size=60, model__estimator__beta_1=0.6, model__estimator__early_stopping=False, model__estimator__hidden_layer_sizes=(100, 100, 100), model__estimator__max_iter=50, model__estimator__momentum=0.0, model__estimator__nesterovs_momentum=False, model__estimator__power_t=1, model__estimator__shuffle=False, model__estimator__tol=0.001, model__estimator__validation_fraction=0.3, model__estimator__warm_start=False, preprocessor__num__normalize=Normalizer(), preprocessor__num__scale=StandardScaler(); total time=  19.3s\n",
      "[CV] END model__estimator__alpha=0.01, model__estimator__batch_size=60, model__estimator__beta_1=0.6, model__estimator__early_stopping=False, model__estimator__hidden_layer_sizes=(100, 100, 100), model__estimator__max_iter=50, model__estimator__momentum=0.0, model__estimator__nesterovs_momentum=False, model__estimator__power_t=1, model__estimator__shuffle=False, model__estimator__tol=0.001, model__estimator__validation_fraction=0.3, model__estimator__warm_start=False, preprocessor__num__normalize=Normalizer(), preprocessor__num__scale=StandardScaler(); total time=  19.1s\n",
      "[CV] END model__estimator__alpha=0.01, model__estimator__batch_size=60, model__estimator__beta_1=0.6, model__estimator__early_stopping=False, model__estimator__hidden_layer_sizes=(100, 100, 100), model__estimator__max_iter=75, model__estimator__momentum=0.0, model__estimator__nesterovs_momentum=True, model__estimator__power_t=1, model__estimator__shuffle=True, model__estimator__tol=0.001, model__estimator__validation_fraction=0.3, model__estimator__warm_start=True, preprocessor__num__normalize=Normalizer(), preprocessor__num__scale=StandardScaler(); total time=  28.5s\n",
      "[CV] END model__estimator__alpha=0.01, model__estimator__batch_size=60, model__estimator__beta_1=0.6, model__estimator__early_stopping=False, model__estimator__hidden_layer_sizes=(100, 100, 100), model__estimator__max_iter=75, model__estimator__momentum=0.0, model__estimator__nesterovs_momentum=True, model__estimator__power_t=1, model__estimator__shuffle=True, model__estimator__tol=0.001, model__estimator__validation_fraction=0.3, model__estimator__warm_start=False, preprocessor__num__normalize=Normalizer(), preprocessor__num__scale=StandardScaler(); total time=  29.3s\n"
     ]
    },
    {
     "name": "stdout",
     "output_type": "stream",
     "text": [
      "[CV] END model__estimator__alpha=0.01, model__estimator__batch_size=60, model__estimator__beta_1=0.6, model__estimator__early_stopping=False, model__estimator__hidden_layer_sizes=(100, 100, 100), model__estimator__max_iter=75, model__estimator__momentum=0.0, model__estimator__nesterovs_momentum=True, model__estimator__power_t=1, model__estimator__shuffle=True, model__estimator__tol=0.001, model__estimator__validation_fraction=0.3, model__estimator__warm_start=False, preprocessor__num__normalize=Normalizer(), preprocessor__num__scale=StandardScaler(); total time=  26.7s\n",
      "[CV] END model__estimator__alpha=0.01, model__estimator__batch_size=60, model__estimator__beta_1=0.6, model__estimator__early_stopping=False, model__estimator__hidden_layer_sizes=(100, 100, 100), model__estimator__max_iter=75, model__estimator__momentum=0.0, model__estimator__nesterovs_momentum=True, model__estimator__power_t=1, model__estimator__shuffle=True, model__estimator__tol=0.001, model__estimator__validation_fraction=0.3, model__estimator__warm_start=False, preprocessor__num__normalize=Normalizer(), preprocessor__num__scale=StandardScaler(); total time=  33.4s\n",
      "[CV] END model__estimator__alpha=0.01, model__estimator__batch_size=60, model__estimator__beta_1=0.6, model__estimator__early_stopping=False, model__estimator__hidden_layer_sizes=(100, 100, 100), model__estimator__max_iter=75, model__estimator__momentum=0.0, model__estimator__nesterovs_momentum=True, model__estimator__power_t=1, model__estimator__shuffle=False, model__estimator__tol=0.001, model__estimator__validation_fraction=0.3, model__estimator__warm_start=True, preprocessor__num__normalize=Normalizer(), preprocessor__num__scale=passthrought; total time=   0.0s\n",
      "[CV] END model__estimator__alpha=0.01, model__estimator__batch_size=60, model__estimator__beta_1=0.6, model__estimator__early_stopping=False, model__estimator__hidden_layer_sizes=(100, 100, 100), model__estimator__max_iter=75, model__estimator__momentum=0.0, model__estimator__nesterovs_momentum=True, model__estimator__power_t=1, model__estimator__shuffle=False, model__estimator__tol=0.001, model__estimator__validation_fraction=0.3, model__estimator__warm_start=True, preprocessor__num__normalize=Normalizer(), preprocessor__num__scale=passthrought; total time=   0.0s\n",
      "[CV] END model__estimator__alpha=0.01, model__estimator__batch_size=60, model__estimator__beta_1=0.6, model__estimator__early_stopping=False, model__estimator__hidden_layer_sizes=(100, 100, 100), model__estimator__max_iter=75, model__estimator__momentum=0.0, model__estimator__nesterovs_momentum=True, model__estimator__power_t=1, model__estimator__shuffle=False, model__estimator__tol=0.001, model__estimator__validation_fraction=0.3, model__estimator__warm_start=True, preprocessor__num__normalize=Normalizer(), preprocessor__num__scale=passthrought; total time=   0.0s\n",
      "[CV] END model__estimator__alpha=0.01, model__estimator__batch_size=60, model__estimator__beta_1=0.6, model__estimator__early_stopping=False, model__estimator__hidden_layer_sizes=(100, 100, 100), model__estimator__max_iter=75, model__estimator__momentum=0.0, model__estimator__nesterovs_momentum=True, model__estimator__power_t=1, model__estimator__shuffle=False, model__estimator__tol=0.001, model__estimator__validation_fraction=0.3, model__estimator__warm_start=True, preprocessor__num__normalize=Normalizer(), preprocessor__num__scale=passthrought; total time=   0.0s\n",
      "[CV] END model__estimator__alpha=0.01, model__estimator__batch_size=60, model__estimator__beta_1=0.6, model__estimator__early_stopping=False, model__estimator__hidden_layer_sizes=(100, 100, 100), model__estimator__max_iter=75, model__estimator__momentum=0.0, model__estimator__nesterovs_momentum=True, model__estimator__power_t=1, model__estimator__shuffle=False, model__estimator__tol=0.001, model__estimator__validation_fraction=0.3, model__estimator__warm_start=True, preprocessor__num__normalize=Normalizer(), preprocessor__num__scale=passthrought; total time=   0.0s\n",
      "[CV] END model__estimator__alpha=0.01, model__estimator__batch_size=60, model__estimator__beta_1=0.6, model__estimator__early_stopping=False, model__estimator__hidden_layer_sizes=(100, 100, 100), model__estimator__max_iter=75, model__estimator__momentum=0.0, model__estimator__nesterovs_momentum=True, model__estimator__power_t=1, model__estimator__shuffle=False, model__estimator__tol=0.001, model__estimator__validation_fraction=0.3, model__estimator__warm_start=True, preprocessor__num__normalize=passthrought, preprocessor__num__scale=StandardScaler(); total time=   0.0s\n",
      "[CV] END model__estimator__alpha=0.01, model__estimator__batch_size=60, model__estimator__beta_1=0.6, model__estimator__early_stopping=False, model__estimator__hidden_layer_sizes=(100, 100, 100), model__estimator__max_iter=75, model__estimator__momentum=0.0, model__estimator__nesterovs_momentum=True, model__estimator__power_t=1, model__estimator__shuffle=False, model__estimator__tol=0.001, model__estimator__validation_fraction=0.3, model__estimator__warm_start=True, preprocessor__num__normalize=passthrought, preprocessor__num__scale=StandardScaler(); total time=   0.0s\n",
      "[CV] END model__estimator__alpha=0.01, model__estimator__batch_size=60, model__estimator__beta_1=0.6, model__estimator__early_stopping=False, model__estimator__hidden_layer_sizes=(100, 100, 100), model__estimator__max_iter=75, model__estimator__momentum=0.0, model__estimator__nesterovs_momentum=True, model__estimator__power_t=1, model__estimator__shuffle=False, model__estimator__tol=0.001, model__estimator__validation_fraction=0.3, model__estimator__warm_start=True, preprocessor__num__normalize=passthrought, preprocessor__num__scale=StandardScaler(); total time=   0.0s\n",
      "[CV] END model__estimator__alpha=0.01, model__estimator__batch_size=60, model__estimator__beta_1=0.6, model__estimator__early_stopping=False, model__estimator__hidden_layer_sizes=(100, 100, 100), model__estimator__max_iter=75, model__estimator__momentum=0.0, model__estimator__nesterovs_momentum=True, model__estimator__power_t=1, model__estimator__shuffle=False, model__estimator__tol=0.001, model__estimator__validation_fraction=0.3, model__estimator__warm_start=True, preprocessor__num__normalize=passthrought, preprocessor__num__scale=StandardScaler(); total time=   0.0s\n",
      "[CV] END model__estimator__alpha=0.01, model__estimator__batch_size=60, model__estimator__beta_1=0.6, model__estimator__early_stopping=False, model__estimator__hidden_layer_sizes=(100, 100, 100), model__estimator__max_iter=75, model__estimator__momentum=0.0, model__estimator__nesterovs_momentum=True, model__estimator__power_t=1, model__estimator__shuffle=False, model__estimator__tol=0.001, model__estimator__validation_fraction=0.3, model__estimator__warm_start=True, preprocessor__num__normalize=passthrought, preprocessor__num__scale=StandardScaler(); total time=   0.0s\n",
      "[CV] END model__estimator__alpha=0.01, model__estimator__batch_size=60, model__estimator__beta_1=0.6, model__estimator__early_stopping=False, model__estimator__hidden_layer_sizes=(100, 100, 100), model__estimator__max_iter=75, model__estimator__momentum=0.0, model__estimator__nesterovs_momentum=True, model__estimator__power_t=1, model__estimator__shuffle=False, model__estimator__tol=0.001, model__estimator__validation_fraction=0.3, model__estimator__warm_start=True, preprocessor__num__normalize=passthrought, preprocessor__num__scale=passthrought; total time=   0.0s\n",
      "[CV] END model__estimator__alpha=0.01, model__estimator__batch_size=60, model__estimator__beta_1=0.6, model__estimator__early_stopping=False, model__estimator__hidden_layer_sizes=(100, 100, 100), model__estimator__max_iter=75, model__estimator__momentum=0.0, model__estimator__nesterovs_momentum=True, model__estimator__power_t=1, model__estimator__shuffle=False, model__estimator__tol=0.001, model__estimator__validation_fraction=0.3, model__estimator__warm_start=True, preprocessor__num__normalize=passthrought, preprocessor__num__scale=passthrought; total time=   0.0s\n",
      "[CV] END model__estimator__alpha=0.01, model__estimator__batch_size=60, model__estimator__beta_1=0.6, model__estimator__early_stopping=False, model__estimator__hidden_layer_sizes=(100, 100, 100), model__estimator__max_iter=75, model__estimator__momentum=0.0, model__estimator__nesterovs_momentum=True, model__estimator__power_t=1, model__estimator__shuffle=False, model__estimator__tol=0.001, model__estimator__validation_fraction=0.3, model__estimator__warm_start=True, preprocessor__num__normalize=Normalizer(), preprocessor__num__scale=StandardScaler(); total time=  19.8s\n",
      "[CV] END model__estimator__alpha=0.01, model__estimator__batch_size=60, model__estimator__beta_1=0.6, model__estimator__early_stopping=False, model__estimator__hidden_layer_sizes=(100, 100, 100), model__estimator__max_iter=75, model__estimator__momentum=0.0, model__estimator__nesterovs_momentum=True, model__estimator__power_t=1, model__estimator__shuffle=False, model__estimator__tol=0.001, model__estimator__validation_fraction=0.3, model__estimator__warm_start=True, preprocessor__num__normalize=Normalizer(), preprocessor__num__scale=StandardScaler(); total time=  19.0s\n",
      "[CV] END model__estimator__alpha=0.01, model__estimator__batch_size=60, model__estimator__beta_1=0.6, model__estimator__early_stopping=False, model__estimator__hidden_layer_sizes=(100, 100, 100), model__estimator__max_iter=75, model__estimator__momentum=0.0, model__estimator__nesterovs_momentum=True, model__estimator__power_t=1, model__estimator__shuffle=False, model__estimator__tol=0.001, model__estimator__validation_fraction=0.3, model__estimator__warm_start=False, preprocessor__num__normalize=Normalizer(), preprocessor__num__scale=StandardScaler(); total time=  22.1s\n",
      "[CV] END model__estimator__alpha=0.01, model__estimator__batch_size=60, model__estimator__beta_1=0.6, model__estimator__early_stopping=False, model__estimator__hidden_layer_sizes=(100, 100, 100), model__estimator__max_iter=75, model__estimator__momentum=0.0, model__estimator__nesterovs_momentum=True, model__estimator__power_t=1, model__estimator__shuffle=False, model__estimator__tol=0.001, model__estimator__validation_fraction=0.3, model__estimator__warm_start=False, preprocessor__num__normalize=Normalizer(), preprocessor__num__scale=passthrought; total time=   0.0s\n",
      "[CV] END model__estimator__alpha=0.01, model__estimator__batch_size=60, model__estimator__beta_1=0.6, model__estimator__early_stopping=False, model__estimator__hidden_layer_sizes=(100, 100, 100), model__estimator__max_iter=75, model__estimator__momentum=0.0, model__estimator__nesterovs_momentum=True, model__estimator__power_t=1, model__estimator__shuffle=False, model__estimator__tol=0.001, model__estimator__validation_fraction=0.3, model__estimator__warm_start=False, preprocessor__num__normalize=Normalizer(), preprocessor__num__scale=passthrought; total time=   0.0s\n",
      "[CV] END model__estimator__alpha=0.01, model__estimator__batch_size=60, model__estimator__beta_1=0.6, model__estimator__early_stopping=False, model__estimator__hidden_layer_sizes=(100, 100, 100), model__estimator__max_iter=75, model__estimator__momentum=0.0, model__estimator__nesterovs_momentum=True, model__estimator__power_t=1, model__estimator__shuffle=False, model__estimator__tol=0.001, model__estimator__validation_fraction=0.3, model__estimator__warm_start=False, preprocessor__num__normalize=Normalizer(), preprocessor__num__scale=passthrought; total time=   0.0s\n",
      "[CV] END model__estimator__alpha=0.01, model__estimator__batch_size=60, model__estimator__beta_1=0.6, model__estimator__early_stopping=False, model__estimator__hidden_layer_sizes=(100, 100, 100), model__estimator__max_iter=75, model__estimator__momentum=0.0, model__estimator__nesterovs_momentum=True, model__estimator__power_t=1, model__estimator__shuffle=False, model__estimator__tol=0.001, model__estimator__validation_fraction=0.3, model__estimator__warm_start=False, preprocessor__num__normalize=Normalizer(), preprocessor__num__scale=passthrought; total time=   0.0s\n",
      "[CV] END model__estimator__alpha=0.01, model__estimator__batch_size=60, model__estimator__beta_1=0.6, model__estimator__early_stopping=False, model__estimator__hidden_layer_sizes=(100, 100, 100), model__estimator__max_iter=75, model__estimator__momentum=0.0, model__estimator__nesterovs_momentum=True, model__estimator__power_t=1, model__estimator__shuffle=False, model__estimator__tol=0.001, model__estimator__validation_fraction=0.3, model__estimator__warm_start=False, preprocessor__num__normalize=Normalizer(), preprocessor__num__scale=passthrought; total time=   0.0s\n",
      "[CV] END model__estimator__alpha=0.01, model__estimator__batch_size=60, model__estimator__beta_1=0.6, model__estimator__early_stopping=False, model__estimator__hidden_layer_sizes=(100, 100, 100), model__estimator__max_iter=75, model__estimator__momentum=0.0, model__estimator__nesterovs_momentum=True, model__estimator__power_t=1, model__estimator__shuffle=False, model__estimator__tol=0.001, model__estimator__validation_fraction=0.3, model__estimator__warm_start=False, preprocessor__num__normalize=passthrought, preprocessor__num__scale=StandardScaler(); total time=   0.0s\n",
      "[CV] END model__estimator__alpha=0.01, model__estimator__batch_size=60, model__estimator__beta_1=0.6, model__estimator__early_stopping=False, model__estimator__hidden_layer_sizes=(100, 100, 100), model__estimator__max_iter=75, model__estimator__momentum=0.0, model__estimator__nesterovs_momentum=True, model__estimator__power_t=1, model__estimator__shuffle=False, model__estimator__tol=0.001, model__estimator__validation_fraction=0.3, model__estimator__warm_start=False, preprocessor__num__normalize=passthrought, preprocessor__num__scale=StandardScaler(); total time=   0.0s\n",
      "[CV] END model__estimator__alpha=0.01, model__estimator__batch_size=60, model__estimator__beta_1=0.6, model__estimator__early_stopping=False, model__estimator__hidden_layer_sizes=(100, 100, 100), model__estimator__max_iter=75, model__estimator__momentum=0.0, model__estimator__nesterovs_momentum=True, model__estimator__power_t=1, model__estimator__shuffle=False, model__estimator__tol=0.001, model__estimator__validation_fraction=0.3, model__estimator__warm_start=False, preprocessor__num__normalize=passthrought, preprocessor__num__scale=StandardScaler(); total time=   0.0s\n",
      "[CV] END model__estimator__alpha=0.01, model__estimator__batch_size=60, model__estimator__beta_1=0.6, model__estimator__early_stopping=False, model__estimator__hidden_layer_sizes=(100, 100, 100), model__estimator__max_iter=75, model__estimator__momentum=0.0, model__estimator__nesterovs_momentum=True, model__estimator__power_t=1, model__estimator__shuffle=False, model__estimator__tol=0.001, model__estimator__validation_fraction=0.3, model__estimator__warm_start=False, preprocessor__num__normalize=passthrought, preprocessor__num__scale=StandardScaler(); total time=   0.0s\n",
      "[CV] END model__estimator__alpha=0.01, model__estimator__batch_size=60, model__estimator__beta_1=0.6, model__estimator__early_stopping=False, model__estimator__hidden_layer_sizes=(100, 100, 100), model__estimator__max_iter=75, model__estimator__momentum=0.0, model__estimator__nesterovs_momentum=True, model__estimator__power_t=1, model__estimator__shuffle=False, model__estimator__tol=0.001, model__estimator__validation_fraction=0.3, model__estimator__warm_start=False, preprocessor__num__normalize=passthrought, preprocessor__num__scale=StandardScaler(); total time=   0.0s\n",
      "[CV] END model__estimator__alpha=0.01, model__estimator__batch_size=60, model__estimator__beta_1=0.6, model__estimator__early_stopping=False, model__estimator__hidden_layer_sizes=(100, 100, 100), model__estimator__max_iter=75, model__estimator__momentum=0.0, model__estimator__nesterovs_momentum=True, model__estimator__power_t=1, model__estimator__shuffle=False, model__estimator__tol=0.001, model__estimator__validation_fraction=0.3, model__estimator__warm_start=False, preprocessor__num__normalize=passthrought, preprocessor__num__scale=passthrought; total time=   0.0s\n"
     ]
    },
    {
     "name": "stdout",
     "output_type": "stream",
     "text": [
      "[CV] END model__estimator__alpha=0.01, model__estimator__batch_size=60, model__estimator__beta_1=0.6, model__estimator__early_stopping=False, model__estimator__hidden_layer_sizes=(100, 100, 100), model__estimator__max_iter=75, model__estimator__momentum=0.0, model__estimator__nesterovs_momentum=True, model__estimator__power_t=1, model__estimator__shuffle=True, model__estimator__tol=0.001, model__estimator__validation_fraction=0.3, model__estimator__warm_start=True, preprocessor__num__normalize=Normalizer(), preprocessor__num__scale=StandardScaler(); total time=  27.0s\n",
      "[CV] END model__estimator__alpha=0.01, model__estimator__batch_size=60, model__estimator__beta_1=0.6, model__estimator__early_stopping=False, model__estimator__hidden_layer_sizes=(100, 100, 100), model__estimator__max_iter=75, model__estimator__momentum=0.0, model__estimator__nesterovs_momentum=True, model__estimator__power_t=1, model__estimator__shuffle=True, model__estimator__tol=0.001, model__estimator__validation_fraction=0.3, model__estimator__warm_start=False, preprocessor__num__normalize=Normalizer(), preprocessor__num__scale=StandardScaler(); total time=  29.3s\n",
      "[CV] END model__estimator__alpha=0.01, model__estimator__batch_size=60, model__estimator__beta_1=0.6, model__estimator__early_stopping=False, model__estimator__hidden_layer_sizes=(100, 100, 100), model__estimator__max_iter=75, model__estimator__momentum=0.0, model__estimator__nesterovs_momentum=True, model__estimator__power_t=1, model__estimator__shuffle=False, model__estimator__tol=0.001, model__estimator__validation_fraction=0.3, model__estimator__warm_start=True, preprocessor__num__normalize=Normalizer(), preprocessor__num__scale=StandardScaler(); total time=  19.4s\n",
      "[CV] END model__estimator__alpha=0.01, model__estimator__batch_size=60, model__estimator__beta_1=0.6, model__estimator__early_stopping=False, model__estimator__hidden_layer_sizes=(100, 100, 100), model__estimator__max_iter=75, model__estimator__momentum=0.0, model__estimator__nesterovs_momentum=True, model__estimator__power_t=1, model__estimator__shuffle=False, model__estimator__tol=0.001, model__estimator__validation_fraction=0.3, model__estimator__warm_start=False, preprocessor__num__normalize=Normalizer(), preprocessor__num__scale=StandardScaler(); total time=  17.6s\n",
      "[CV] END model__estimator__alpha=0.01, model__estimator__batch_size=60, model__estimator__beta_1=0.6, model__estimator__early_stopping=False, model__estimator__hidden_layer_sizes=(100, 100, 100), model__estimator__max_iter=75, model__estimator__momentum=0.0, model__estimator__nesterovs_momentum=False, model__estimator__power_t=1, model__estimator__shuffle=True, model__estimator__tol=0.001, model__estimator__validation_fraction=0.3, model__estimator__warm_start=True, preprocessor__num__normalize=Normalizer(), preprocessor__num__scale=StandardScaler(); total time=  29.9s\n",
      "[CV] END model__estimator__alpha=0.01, model__estimator__batch_size=60, model__estimator__beta_1=0.6, model__estimator__early_stopping=False, model__estimator__hidden_layer_sizes=(100, 100, 100), model__estimator__max_iter=75, model__estimator__momentum=0.0, model__estimator__nesterovs_momentum=False, model__estimator__power_t=1, model__estimator__shuffle=True, model__estimator__tol=0.001, model__estimator__validation_fraction=0.3, model__estimator__warm_start=True, preprocessor__num__normalize=Normalizer(), preprocessor__num__scale=passthrought; total time=   0.0s\n",
      "[CV] END model__estimator__alpha=0.01, model__estimator__batch_size=60, model__estimator__beta_1=0.6, model__estimator__early_stopping=False, model__estimator__hidden_layer_sizes=(100, 100, 100), model__estimator__max_iter=75, model__estimator__momentum=0.0, model__estimator__nesterovs_momentum=False, model__estimator__power_t=1, model__estimator__shuffle=True, model__estimator__tol=0.001, model__estimator__validation_fraction=0.3, model__estimator__warm_start=True, preprocessor__num__normalize=Normalizer(), preprocessor__num__scale=passthrought; total time=   0.0s\n",
      "[CV] END model__estimator__alpha=0.01, model__estimator__batch_size=60, model__estimator__beta_1=0.6, model__estimator__early_stopping=False, model__estimator__hidden_layer_sizes=(100, 100, 100), model__estimator__max_iter=75, model__estimator__momentum=0.0, model__estimator__nesterovs_momentum=False, model__estimator__power_t=1, model__estimator__shuffle=True, model__estimator__tol=0.001, model__estimator__validation_fraction=0.3, model__estimator__warm_start=True, preprocessor__num__normalize=Normalizer(), preprocessor__num__scale=passthrought; total time=   0.0s\n",
      "[CV] END model__estimator__alpha=0.01, model__estimator__batch_size=60, model__estimator__beta_1=0.6, model__estimator__early_stopping=False, model__estimator__hidden_layer_sizes=(100, 100, 100), model__estimator__max_iter=75, model__estimator__momentum=0.0, model__estimator__nesterovs_momentum=False, model__estimator__power_t=1, model__estimator__shuffle=True, model__estimator__tol=0.001, model__estimator__validation_fraction=0.3, model__estimator__warm_start=True, preprocessor__num__normalize=Normalizer(), preprocessor__num__scale=passthrought; total time=   0.0s\n",
      "[CV] END model__estimator__alpha=0.01, model__estimator__batch_size=60, model__estimator__beta_1=0.6, model__estimator__early_stopping=False, model__estimator__hidden_layer_sizes=(100, 100, 100), model__estimator__max_iter=75, model__estimator__momentum=0.0, model__estimator__nesterovs_momentum=False, model__estimator__power_t=1, model__estimator__shuffle=True, model__estimator__tol=0.001, model__estimator__validation_fraction=0.3, model__estimator__warm_start=True, preprocessor__num__normalize=Normalizer(), preprocessor__num__scale=passthrought; total time=   0.0s\n",
      "[CV] END model__estimator__alpha=0.01, model__estimator__batch_size=60, model__estimator__beta_1=0.6, model__estimator__early_stopping=False, model__estimator__hidden_layer_sizes=(100, 100, 100), model__estimator__max_iter=75, model__estimator__momentum=0.0, model__estimator__nesterovs_momentum=False, model__estimator__power_t=1, model__estimator__shuffle=True, model__estimator__tol=0.001, model__estimator__validation_fraction=0.3, model__estimator__warm_start=True, preprocessor__num__normalize=passthrought, preprocessor__num__scale=StandardScaler(); total time=   0.0s\n",
      "[CV] END model__estimator__alpha=0.01, model__estimator__batch_size=60, model__estimator__beta_1=0.6, model__estimator__early_stopping=False, model__estimator__hidden_layer_sizes=(100, 100, 100), model__estimator__max_iter=75, model__estimator__momentum=0.0, model__estimator__nesterovs_momentum=False, model__estimator__power_t=1, model__estimator__shuffle=True, model__estimator__tol=0.001, model__estimator__validation_fraction=0.3, model__estimator__warm_start=True, preprocessor__num__normalize=passthrought, preprocessor__num__scale=StandardScaler(); total time=   0.0s\n",
      "[CV] END model__estimator__alpha=0.01, model__estimator__batch_size=60, model__estimator__beta_1=0.6, model__estimator__early_stopping=False, model__estimator__hidden_layer_sizes=(100, 100, 100), model__estimator__max_iter=75, model__estimator__momentum=0.0, model__estimator__nesterovs_momentum=False, model__estimator__power_t=1, model__estimator__shuffle=True, model__estimator__tol=0.001, model__estimator__validation_fraction=0.3, model__estimator__warm_start=True, preprocessor__num__normalize=passthrought, preprocessor__num__scale=StandardScaler(); total time=   0.0s\n",
      "[CV] END model__estimator__alpha=0.01, model__estimator__batch_size=60, model__estimator__beta_1=0.6, model__estimator__early_stopping=False, model__estimator__hidden_layer_sizes=(100, 100, 100), model__estimator__max_iter=75, model__estimator__momentum=0.0, model__estimator__nesterovs_momentum=False, model__estimator__power_t=1, model__estimator__shuffle=True, model__estimator__tol=0.001, model__estimator__validation_fraction=0.3, model__estimator__warm_start=True, preprocessor__num__normalize=passthrought, preprocessor__num__scale=StandardScaler(); total time=   0.0s\n",
      "[CV] END model__estimator__alpha=0.01, model__estimator__batch_size=60, model__estimator__beta_1=0.6, model__estimator__early_stopping=False, model__estimator__hidden_layer_sizes=(100, 100, 100), model__estimator__max_iter=75, model__estimator__momentum=0.0, model__estimator__nesterovs_momentum=True, model__estimator__power_t=1, model__estimator__shuffle=False, model__estimator__tol=0.001, model__estimator__validation_fraction=0.3, model__estimator__warm_start=True, preprocessor__num__normalize=Normalizer(), preprocessor__num__scale=StandardScaler(); total time=  19.6s\n",
      "[CV] END model__estimator__alpha=0.01, model__estimator__batch_size=60, model__estimator__beta_1=0.6, model__estimator__early_stopping=False, model__estimator__hidden_layer_sizes=(100, 100, 100), model__estimator__max_iter=75, model__estimator__momentum=0.0, model__estimator__nesterovs_momentum=True, model__estimator__power_t=1, model__estimator__shuffle=False, model__estimator__tol=0.001, model__estimator__validation_fraction=0.3, model__estimator__warm_start=True, preprocessor__num__normalize=Normalizer(), preprocessor__num__scale=StandardScaler(); total time=  18.5s\n",
      "[CV] END model__estimator__alpha=0.01, model__estimator__batch_size=60, model__estimator__beta_1=0.6, model__estimator__early_stopping=False, model__estimator__hidden_layer_sizes=(100, 100, 100), model__estimator__max_iter=75, model__estimator__momentum=0.0, model__estimator__nesterovs_momentum=True, model__estimator__power_t=1, model__estimator__shuffle=False, model__estimator__tol=0.001, model__estimator__validation_fraction=0.3, model__estimator__warm_start=False, preprocessor__num__normalize=Normalizer(), preprocessor__num__scale=StandardScaler(); total time=  21.1s\n",
      "[CV] END model__estimator__alpha=0.01, model__estimator__batch_size=60, model__estimator__beta_1=0.6, model__estimator__early_stopping=False, model__estimator__hidden_layer_sizes=(100, 100, 100), model__estimator__max_iter=75, model__estimator__momentum=0.0, model__estimator__nesterovs_momentum=False, model__estimator__power_t=1, model__estimator__shuffle=True, model__estimator__tol=0.001, model__estimator__validation_fraction=0.3, model__estimator__warm_start=True, preprocessor__num__normalize=Normalizer(), preprocessor__num__scale=StandardScaler(); total time=  33.0s\n",
      "[CV] END model__estimator__alpha=0.01, model__estimator__batch_size=60, model__estimator__beta_1=0.6, model__estimator__early_stopping=False, model__estimator__hidden_layer_sizes=(100, 100, 100), model__estimator__max_iter=75, model__estimator__momentum=0.0, model__estimator__nesterovs_momentum=False, model__estimator__power_t=1, model__estimator__shuffle=True, model__estimator__tol=0.001, model__estimator__validation_fraction=0.3, model__estimator__warm_start=False, preprocessor__num__normalize=Normalizer(), preprocessor__num__scale=StandardScaler(); total time=  28.0s\n",
      "[CV] END model__estimator__alpha=0.01, model__estimator__batch_size=60, model__estimator__beta_1=0.6, model__estimator__early_stopping=False, model__estimator__hidden_layer_sizes=(100, 100, 100), model__estimator__max_iter=75, model__estimator__momentum=0.0, model__estimator__nesterovs_momentum=False, model__estimator__power_t=1, model__estimator__shuffle=True, model__estimator__tol=0.001, model__estimator__validation_fraction=0.3, model__estimator__warm_start=False, preprocessor__num__normalize=Normalizer(), preprocessor__num__scale=passthrought; total time=   0.0s\n",
      "[CV] END model__estimator__alpha=0.01, model__estimator__batch_size=60, model__estimator__beta_1=0.6, model__estimator__early_stopping=False, model__estimator__hidden_layer_sizes=(100, 100, 100), model__estimator__max_iter=75, model__estimator__momentum=0.0, model__estimator__nesterovs_momentum=False, model__estimator__power_t=1, model__estimator__shuffle=True, model__estimator__tol=0.001, model__estimator__validation_fraction=0.3, model__estimator__warm_start=False, preprocessor__num__normalize=Normalizer(), preprocessor__num__scale=passthrought; total time=   0.0s\n",
      "[CV] END model__estimator__alpha=0.01, model__estimator__batch_size=60, model__estimator__beta_1=0.6, model__estimator__early_stopping=False, model__estimator__hidden_layer_sizes=(100, 100, 100), model__estimator__max_iter=75, model__estimator__momentum=0.0, model__estimator__nesterovs_momentum=False, model__estimator__power_t=1, model__estimator__shuffle=True, model__estimator__tol=0.001, model__estimator__validation_fraction=0.3, model__estimator__warm_start=False, preprocessor__num__normalize=Normalizer(), preprocessor__num__scale=passthrought; total time=   0.0s\n",
      "[CV] END model__estimator__alpha=0.01, model__estimator__batch_size=60, model__estimator__beta_1=0.6, model__estimator__early_stopping=False, model__estimator__hidden_layer_sizes=(100, 100, 100), model__estimator__max_iter=75, model__estimator__momentum=0.0, model__estimator__nesterovs_momentum=False, model__estimator__power_t=1, model__estimator__shuffle=True, model__estimator__tol=0.001, model__estimator__validation_fraction=0.3, model__estimator__warm_start=False, preprocessor__num__normalize=Normalizer(), preprocessor__num__scale=passthrought; total time=   0.0s\n",
      "[CV] END model__estimator__alpha=0.01, model__estimator__batch_size=60, model__estimator__beta_1=0.6, model__estimator__early_stopping=False, model__estimator__hidden_layer_sizes=(100, 100, 100), model__estimator__max_iter=75, model__estimator__momentum=0.0, model__estimator__nesterovs_momentum=False, model__estimator__power_t=1, model__estimator__shuffle=True, model__estimator__tol=0.001, model__estimator__validation_fraction=0.3, model__estimator__warm_start=False, preprocessor__num__normalize=Normalizer(), preprocessor__num__scale=passthrought; total time=   0.0s\n",
      "[CV] END model__estimator__alpha=0.01, model__estimator__batch_size=60, model__estimator__beta_1=0.6, model__estimator__early_stopping=False, model__estimator__hidden_layer_sizes=(100, 100, 100), model__estimator__max_iter=75, model__estimator__momentum=0.0, model__estimator__nesterovs_momentum=False, model__estimator__power_t=1, model__estimator__shuffle=True, model__estimator__tol=0.001, model__estimator__validation_fraction=0.3, model__estimator__warm_start=False, preprocessor__num__normalize=passthrought, preprocessor__num__scale=StandardScaler(); total time=   0.0s\n",
      "[CV] END model__estimator__alpha=0.01, model__estimator__batch_size=60, model__estimator__beta_1=0.6, model__estimator__early_stopping=False, model__estimator__hidden_layer_sizes=(100, 100, 100), model__estimator__max_iter=75, model__estimator__momentum=0.0, model__estimator__nesterovs_momentum=False, model__estimator__power_t=1, model__estimator__shuffle=True, model__estimator__tol=0.001, model__estimator__validation_fraction=0.3, model__estimator__warm_start=False, preprocessor__num__normalize=passthrought, preprocessor__num__scale=StandardScaler(); total time=   0.0s\n",
      "[CV] END model__estimator__alpha=0.01, model__estimator__batch_size=60, model__estimator__beta_1=0.6, model__estimator__early_stopping=False, model__estimator__hidden_layer_sizes=(100, 100, 100), model__estimator__max_iter=75, model__estimator__momentum=0.0, model__estimator__nesterovs_momentum=False, model__estimator__power_t=1, model__estimator__shuffle=True, model__estimator__tol=0.001, model__estimator__validation_fraction=0.3, model__estimator__warm_start=False, preprocessor__num__normalize=passthrought, preprocessor__num__scale=StandardScaler(); total time=   0.0s\n",
      "[CV] END model__estimator__alpha=0.01, model__estimator__batch_size=60, model__estimator__beta_1=0.6, model__estimator__early_stopping=False, model__estimator__hidden_layer_sizes=(100, 100, 100), model__estimator__max_iter=75, model__estimator__momentum=0.0, model__estimator__nesterovs_momentum=False, model__estimator__power_t=1, model__estimator__shuffle=True, model__estimator__tol=0.001, model__estimator__validation_fraction=0.3, model__estimator__warm_start=False, preprocessor__num__normalize=passthrought, preprocessor__num__scale=StandardScaler(); total time=   0.0s\n"
     ]
    },
    {
     "name": "stdout",
     "output_type": "stream",
     "text": [
      "[CV] END model__estimator__alpha=0.01, model__estimator__batch_size=60, model__estimator__beta_1=0.6, model__estimator__early_stopping=False, model__estimator__hidden_layer_sizes=(100, 100, 100), model__estimator__max_iter=75, model__estimator__momentum=0.0, model__estimator__nesterovs_momentum=False, model__estimator__power_t=1, model__estimator__shuffle=True, model__estimator__tol=0.001, model__estimator__validation_fraction=0.3, model__estimator__warm_start=True, preprocessor__num__normalize=passthrought, preprocessor__num__scale=StandardScaler(); total time=   0.0s\n",
      "[CV] END model__estimator__alpha=0.01, model__estimator__batch_size=60, model__estimator__beta_1=0.6, model__estimator__early_stopping=False, model__estimator__hidden_layer_sizes=(100, 100, 100), model__estimator__max_iter=75, model__estimator__momentum=0.0, model__estimator__nesterovs_momentum=False, model__estimator__power_t=1, model__estimator__shuffle=True, model__estimator__tol=0.001, model__estimator__validation_fraction=0.3, model__estimator__warm_start=True, preprocessor__num__normalize=passthrought, preprocessor__num__scale=passthrought; total time=   0.0s\n",
      "[CV] END model__estimator__alpha=0.01, model__estimator__batch_size=60, model__estimator__beta_1=0.6, model__estimator__early_stopping=False, model__estimator__hidden_layer_sizes=(100, 100, 100), model__estimator__max_iter=75, model__estimator__momentum=0.0, model__estimator__nesterovs_momentum=False, model__estimator__power_t=1, model__estimator__shuffle=True, model__estimator__tol=0.001, model__estimator__validation_fraction=0.3, model__estimator__warm_start=True, preprocessor__num__normalize=passthrought, preprocessor__num__scale=passthrought; total time=   0.0s\n",
      "[CV] END model__estimator__alpha=0.01, model__estimator__batch_size=60, model__estimator__beta_1=0.6, model__estimator__early_stopping=False, model__estimator__hidden_layer_sizes=(100, 100, 100), model__estimator__max_iter=75, model__estimator__momentum=0.0, model__estimator__nesterovs_momentum=False, model__estimator__power_t=1, model__estimator__shuffle=True, model__estimator__tol=0.001, model__estimator__validation_fraction=0.3, model__estimator__warm_start=True, preprocessor__num__normalize=passthrought, preprocessor__num__scale=passthrought; total time=   0.0s\n",
      "[CV] END model__estimator__alpha=0.01, model__estimator__batch_size=60, model__estimator__beta_1=0.6, model__estimator__early_stopping=False, model__estimator__hidden_layer_sizes=(100, 100, 100), model__estimator__max_iter=75, model__estimator__momentum=0.0, model__estimator__nesterovs_momentum=False, model__estimator__power_t=1, model__estimator__shuffle=True, model__estimator__tol=0.001, model__estimator__validation_fraction=0.3, model__estimator__warm_start=True, preprocessor__num__normalize=passthrought, preprocessor__num__scale=passthrought; total time=   0.0s\n",
      "[CV] END model__estimator__alpha=0.01, model__estimator__batch_size=60, model__estimator__beta_1=0.6, model__estimator__early_stopping=False, model__estimator__hidden_layer_sizes=(100, 100, 100), model__estimator__max_iter=75, model__estimator__momentum=0.0, model__estimator__nesterovs_momentum=False, model__estimator__power_t=1, model__estimator__shuffle=True, model__estimator__tol=0.001, model__estimator__validation_fraction=0.3, model__estimator__warm_start=True, preprocessor__num__normalize=passthrought, preprocessor__num__scale=passthrought; total time=   0.0s\n",
      "[CV] END model__estimator__alpha=0.01, model__estimator__batch_size=60, model__estimator__beta_1=0.6, model__estimator__early_stopping=False, model__estimator__hidden_layer_sizes=(100, 100, 100), model__estimator__max_iter=75, model__estimator__momentum=0.0, model__estimator__nesterovs_momentum=False, model__estimator__power_t=1, model__estimator__shuffle=True, model__estimator__tol=0.001, model__estimator__validation_fraction=0.3, model__estimator__warm_start=False, preprocessor__num__normalize=Normalizer(), preprocessor__num__scale=StandardScaler(); total time=  30.6s\n",
      "[CV] END model__estimator__alpha=0.01, model__estimator__batch_size=60, model__estimator__beta_1=0.6, model__estimator__early_stopping=False, model__estimator__hidden_layer_sizes=(100, 100, 100), model__estimator__max_iter=75, model__estimator__momentum=0.0, model__estimator__nesterovs_momentum=False, model__estimator__power_t=1, model__estimator__shuffle=True, model__estimator__tol=0.001, model__estimator__validation_fraction=0.3, model__estimator__warm_start=False, preprocessor__num__normalize=Normalizer(), preprocessor__num__scale=StandardScaler(); total time=  31.3s\n",
      "[CV] END model__estimator__alpha=0.01, model__estimator__batch_size=60, model__estimator__beta_1=0.6, model__estimator__early_stopping=False, model__estimator__hidden_layer_sizes=(100, 100, 100), model__estimator__max_iter=75, model__estimator__momentum=0.0, model__estimator__nesterovs_momentum=False, model__estimator__power_t=1, model__estimator__shuffle=False, model__estimator__tol=0.001, model__estimator__validation_fraction=0.3, model__estimator__warm_start=True, preprocessor__num__normalize=Normalizer(), preprocessor__num__scale=passthrought; total time=   0.0s\n",
      "[CV] END model__estimator__alpha=0.01, model__estimator__batch_size=60, model__estimator__beta_1=0.6, model__estimator__early_stopping=False, model__estimator__hidden_layer_sizes=(100, 100, 100), model__estimator__max_iter=75, model__estimator__momentum=0.0, model__estimator__nesterovs_momentum=False, model__estimator__power_t=1, model__estimator__shuffle=False, model__estimator__tol=0.001, model__estimator__validation_fraction=0.3, model__estimator__warm_start=True, preprocessor__num__normalize=Normalizer(), preprocessor__num__scale=passthrought; total time=   0.0s\n",
      "[CV] END model__estimator__alpha=0.01, model__estimator__batch_size=60, model__estimator__beta_1=0.6, model__estimator__early_stopping=False, model__estimator__hidden_layer_sizes=(100, 100, 100), model__estimator__max_iter=75, model__estimator__momentum=0.0, model__estimator__nesterovs_momentum=False, model__estimator__power_t=1, model__estimator__shuffle=False, model__estimator__tol=0.001, model__estimator__validation_fraction=0.3, model__estimator__warm_start=True, preprocessor__num__normalize=Normalizer(), preprocessor__num__scale=passthrought; total time=   0.0s\n",
      "[CV] END model__estimator__alpha=0.01, model__estimator__batch_size=60, model__estimator__beta_1=0.6, model__estimator__early_stopping=False, model__estimator__hidden_layer_sizes=(100, 100, 100), model__estimator__max_iter=75, model__estimator__momentum=0.0, model__estimator__nesterovs_momentum=False, model__estimator__power_t=1, model__estimator__shuffle=False, model__estimator__tol=0.001, model__estimator__validation_fraction=0.3, model__estimator__warm_start=True, preprocessor__num__normalize=Normalizer(), preprocessor__num__scale=passthrought; total time=   0.0s\n",
      "[CV] END model__estimator__alpha=0.01, model__estimator__batch_size=60, model__estimator__beta_1=0.6, model__estimator__early_stopping=False, model__estimator__hidden_layer_sizes=(100, 100, 100), model__estimator__max_iter=75, model__estimator__momentum=0.0, model__estimator__nesterovs_momentum=False, model__estimator__power_t=1, model__estimator__shuffle=False, model__estimator__tol=0.001, model__estimator__validation_fraction=0.3, model__estimator__warm_start=True, preprocessor__num__normalize=Normalizer(), preprocessor__num__scale=passthrought; total time=   0.0s\n",
      "[CV] END model__estimator__alpha=0.01, model__estimator__batch_size=60, model__estimator__beta_1=0.6, model__estimator__early_stopping=False, model__estimator__hidden_layer_sizes=(100, 100, 100), model__estimator__max_iter=75, model__estimator__momentum=0.0, model__estimator__nesterovs_momentum=False, model__estimator__power_t=1, model__estimator__shuffle=False, model__estimator__tol=0.001, model__estimator__validation_fraction=0.3, model__estimator__warm_start=True, preprocessor__num__normalize=passthrought, preprocessor__num__scale=StandardScaler(); total time=   0.0s\n",
      "[CV] END model__estimator__alpha=0.01, model__estimator__batch_size=60, model__estimator__beta_1=0.6, model__estimator__early_stopping=False, model__estimator__hidden_layer_sizes=(100, 100, 100), model__estimator__max_iter=75, model__estimator__momentum=0.0, model__estimator__nesterovs_momentum=False, model__estimator__power_t=1, model__estimator__shuffle=True, model__estimator__tol=0.001, model__estimator__validation_fraction=0.3, model__estimator__warm_start=False, preprocessor__num__normalize=passthrought, preprocessor__num__scale=StandardScaler(); total time=   0.0s\n",
      "[CV] END model__estimator__alpha=0.01, model__estimator__batch_size=60, model__estimator__beta_1=0.6, model__estimator__early_stopping=False, model__estimator__hidden_layer_sizes=(100, 100, 100), model__estimator__max_iter=75, model__estimator__momentum=0.0, model__estimator__nesterovs_momentum=False, model__estimator__power_t=1, model__estimator__shuffle=True, model__estimator__tol=0.001, model__estimator__validation_fraction=0.3, model__estimator__warm_start=False, preprocessor__num__normalize=passthrought, preprocessor__num__scale=passthrought; total time=   0.0s\n",
      "[CV] END model__estimator__alpha=0.01, model__estimator__batch_size=60, model__estimator__beta_1=0.6, model__estimator__early_stopping=False, model__estimator__hidden_layer_sizes=(100, 100, 100), model__estimator__max_iter=75, model__estimator__momentum=0.0, model__estimator__nesterovs_momentum=False, model__estimator__power_t=1, model__estimator__shuffle=True, model__estimator__tol=0.001, model__estimator__validation_fraction=0.3, model__estimator__warm_start=False, preprocessor__num__normalize=passthrought, preprocessor__num__scale=passthrought; total time=   0.0s\n",
      "[CV] END model__estimator__alpha=0.01, model__estimator__batch_size=60, model__estimator__beta_1=0.6, model__estimator__early_stopping=False, model__estimator__hidden_layer_sizes=(100, 100, 100), model__estimator__max_iter=75, model__estimator__momentum=0.0, model__estimator__nesterovs_momentum=False, model__estimator__power_t=1, model__estimator__shuffle=True, model__estimator__tol=0.001, model__estimator__validation_fraction=0.3, model__estimator__warm_start=False, preprocessor__num__normalize=passthrought, preprocessor__num__scale=passthrought; total time=   0.0s\n",
      "[CV] END model__estimator__alpha=0.01, model__estimator__batch_size=60, model__estimator__beta_1=0.6, model__estimator__early_stopping=False, model__estimator__hidden_layer_sizes=(100, 100, 100), model__estimator__max_iter=75, model__estimator__momentum=0.0, model__estimator__nesterovs_momentum=False, model__estimator__power_t=1, model__estimator__shuffle=True, model__estimator__tol=0.001, model__estimator__validation_fraction=0.3, model__estimator__warm_start=False, preprocessor__num__normalize=passthrought, preprocessor__num__scale=passthrought; total time=   0.0s\n",
      "[CV] END model__estimator__alpha=0.01, model__estimator__batch_size=60, model__estimator__beta_1=0.6, model__estimator__early_stopping=False, model__estimator__hidden_layer_sizes=(100, 100, 100), model__estimator__max_iter=75, model__estimator__momentum=0.0, model__estimator__nesterovs_momentum=False, model__estimator__power_t=1, model__estimator__shuffle=True, model__estimator__tol=0.001, model__estimator__validation_fraction=0.3, model__estimator__warm_start=False, preprocessor__num__normalize=passthrought, preprocessor__num__scale=passthrought; total time=   0.0s\n",
      "[CV] END model__estimator__alpha=0.01, model__estimator__batch_size=60, model__estimator__beta_1=0.6, model__estimator__early_stopping=False, model__estimator__hidden_layer_sizes=(100, 100, 100), model__estimator__max_iter=75, model__estimator__momentum=0.0, model__estimator__nesterovs_momentum=False, model__estimator__power_t=1, model__estimator__shuffle=False, model__estimator__tol=0.001, model__estimator__validation_fraction=0.3, model__estimator__warm_start=True, preprocessor__num__normalize=Normalizer(), preprocessor__num__scale=StandardScaler(); total time=  20.4s\n",
      "[CV] END model__estimator__alpha=0.01, model__estimator__batch_size=60, model__estimator__beta_1=0.6, model__estimator__early_stopping=False, model__estimator__hidden_layer_sizes=(100, 100, 100), model__estimator__max_iter=75, model__estimator__momentum=0.0, model__estimator__nesterovs_momentum=False, model__estimator__power_t=1, model__estimator__shuffle=False, model__estimator__tol=0.001, model__estimator__validation_fraction=0.3, model__estimator__warm_start=True, preprocessor__num__normalize=Normalizer(), preprocessor__num__scale=StandardScaler(); total time=  21.7s\n",
      "[CV] END model__estimator__alpha=0.01, model__estimator__batch_size=60, model__estimator__beta_1=0.6, model__estimator__early_stopping=False, model__estimator__hidden_layer_sizes=(100, 100, 100), model__estimator__max_iter=75, model__estimator__momentum=0.0, model__estimator__nesterovs_momentum=False, model__estimator__power_t=1, model__estimator__shuffle=False, model__estimator__tol=0.001, model__estimator__validation_fraction=0.3, model__estimator__warm_start=False, preprocessor__num__normalize=Normalizer(), preprocessor__num__scale=StandardScaler(); total time=  26.6s\n",
      "[CV] END model__estimator__alpha=0.01, model__estimator__batch_size=60, model__estimator__beta_1=0.6, model__estimator__early_stopping=False, model__estimator__hidden_layer_sizes=(100, 100, 100), model__estimator__max_iter=75, model__estimator__momentum=0.0, model__estimator__nesterovs_momentum=False, model__estimator__power_t=1, model__estimator__shuffle=False, model__estimator__tol=0.001, model__estimator__validation_fraction=0.3, model__estimator__warm_start=False, preprocessor__num__normalize=Normalizer(), preprocessor__num__scale=passthrought; total time=   0.0s\n",
      "[CV] END model__estimator__alpha=0.01, model__estimator__batch_size=60, model__estimator__beta_1=0.6, model__estimator__early_stopping=False, model__estimator__hidden_layer_sizes=(100, 100, 100), model__estimator__max_iter=75, model__estimator__momentum=0.0, model__estimator__nesterovs_momentum=False, model__estimator__power_t=1, model__estimator__shuffle=False, model__estimator__tol=0.001, model__estimator__validation_fraction=0.3, model__estimator__warm_start=False, preprocessor__num__normalize=Normalizer(), preprocessor__num__scale=passthrought; total time=   0.0s\n",
      "[CV] END model__estimator__alpha=0.01, model__estimator__batch_size=60, model__estimator__beta_1=0.6, model__estimator__early_stopping=False, model__estimator__hidden_layer_sizes=(100, 100, 100), model__estimator__max_iter=75, model__estimator__momentum=0.0, model__estimator__nesterovs_momentum=False, model__estimator__power_t=1, model__estimator__shuffle=False, model__estimator__tol=0.001, model__estimator__validation_fraction=0.3, model__estimator__warm_start=False, preprocessor__num__normalize=Normalizer(), preprocessor__num__scale=passthrought; total time=   0.0s\n",
      "[CV] END model__estimator__alpha=0.01, model__estimator__batch_size=60, model__estimator__beta_1=0.6, model__estimator__early_stopping=False, model__estimator__hidden_layer_sizes=(100, 100, 100), model__estimator__max_iter=75, model__estimator__momentum=0.0, model__estimator__nesterovs_momentum=False, model__estimator__power_t=1, model__estimator__shuffle=False, model__estimator__tol=0.001, model__estimator__validation_fraction=0.3, model__estimator__warm_start=False, preprocessor__num__normalize=Normalizer(), preprocessor__num__scale=passthrought; total time=   0.0s\n",
      "[CV] END model__estimator__alpha=0.01, model__estimator__batch_size=60, model__estimator__beta_1=0.6, model__estimator__early_stopping=False, model__estimator__hidden_layer_sizes=(100, 100, 100), model__estimator__max_iter=75, model__estimator__momentum=0.0, model__estimator__nesterovs_momentum=False, model__estimator__power_t=1, model__estimator__shuffle=False, model__estimator__tol=0.001, model__estimator__validation_fraction=0.3, model__estimator__warm_start=False, preprocessor__num__normalize=Normalizer(), preprocessor__num__scale=passthrought; total time=   0.0s\n"
     ]
    },
    {
     "name": "stdout",
     "output_type": "stream",
     "text": [
      "[CV] END model__estimator__alpha=0.01, model__estimator__batch_size=60, model__estimator__beta_1=0.6, model__estimator__early_stopping=False, model__estimator__hidden_layer_sizes=(100, 100, 100), model__estimator__max_iter=75, model__estimator__momentum=0.0, model__estimator__nesterovs_momentum=True, model__estimator__power_t=1, model__estimator__shuffle=False, model__estimator__tol=0.001, model__estimator__validation_fraction=0.3, model__estimator__warm_start=True, preprocessor__num__normalize=passthrought, preprocessor__num__scale=passthrought; total time=   0.0s\n",
      "[CV] END model__estimator__alpha=0.01, model__estimator__batch_size=60, model__estimator__beta_1=0.6, model__estimator__early_stopping=False, model__estimator__hidden_layer_sizes=(100, 100, 100), model__estimator__max_iter=75, model__estimator__momentum=0.0, model__estimator__nesterovs_momentum=True, model__estimator__power_t=1, model__estimator__shuffle=False, model__estimator__tol=0.001, model__estimator__validation_fraction=0.3, model__estimator__warm_start=True, preprocessor__num__normalize=passthrought, preprocessor__num__scale=passthrought; total time=   0.0s\n",
      "[CV] END model__estimator__alpha=0.01, model__estimator__batch_size=60, model__estimator__beta_1=0.6, model__estimator__early_stopping=False, model__estimator__hidden_layer_sizes=(100, 100, 100), model__estimator__max_iter=75, model__estimator__momentum=0.0, model__estimator__nesterovs_momentum=True, model__estimator__power_t=1, model__estimator__shuffle=False, model__estimator__tol=0.001, model__estimator__validation_fraction=0.3, model__estimator__warm_start=True, preprocessor__num__normalize=passthrought, preprocessor__num__scale=passthrought; total time=   0.0s\n",
      "[CV] END model__estimator__alpha=0.01, model__estimator__batch_size=60, model__estimator__beta_1=0.6, model__estimator__early_stopping=False, model__estimator__hidden_layer_sizes=(100, 100, 100), model__estimator__max_iter=75, model__estimator__momentum=0.0, model__estimator__nesterovs_momentum=True, model__estimator__power_t=1, model__estimator__shuffle=False, model__estimator__tol=0.001, model__estimator__validation_fraction=0.3, model__estimator__warm_start=False, preprocessor__num__normalize=Normalizer(), preprocessor__num__scale=StandardScaler(); total time=  17.7s\n",
      "[CV] END model__estimator__alpha=0.01, model__estimator__batch_size=60, model__estimator__beta_1=0.6, model__estimator__early_stopping=False, model__estimator__hidden_layer_sizes=(100, 100, 100), model__estimator__max_iter=75, model__estimator__momentum=0.0, model__estimator__nesterovs_momentum=True, model__estimator__power_t=1, model__estimator__shuffle=False, model__estimator__tol=0.001, model__estimator__validation_fraction=0.3, model__estimator__warm_start=False, preprocessor__num__normalize=Normalizer(), preprocessor__num__scale=StandardScaler(); total time=  20.0s\n",
      "[CV] END model__estimator__alpha=0.01, model__estimator__batch_size=60, model__estimator__beta_1=0.6, model__estimator__early_stopping=False, model__estimator__hidden_layer_sizes=(100, 100, 100), model__estimator__max_iter=75, model__estimator__momentum=0.0, model__estimator__nesterovs_momentum=False, model__estimator__power_t=1, model__estimator__shuffle=True, model__estimator__tol=0.001, model__estimator__validation_fraction=0.3, model__estimator__warm_start=True, preprocessor__num__normalize=Normalizer(), preprocessor__num__scale=StandardScaler(); total time=  31.6s\n",
      "[CV] END model__estimator__alpha=0.01, model__estimator__batch_size=60, model__estimator__beta_1=0.6, model__estimator__early_stopping=False, model__estimator__hidden_layer_sizes=(100, 100, 100), model__estimator__max_iter=75, model__estimator__momentum=0.0, model__estimator__nesterovs_momentum=False, model__estimator__power_t=1, model__estimator__shuffle=True, model__estimator__tol=0.001, model__estimator__validation_fraction=0.3, model__estimator__warm_start=False, preprocessor__num__normalize=Normalizer(), preprocessor__num__scale=StandardScaler(); total time=  29.7s\n",
      "[CV] END model__estimator__alpha=0.01, model__estimator__batch_size=60, model__estimator__beta_1=0.6, model__estimator__early_stopping=False, model__estimator__hidden_layer_sizes=(100, 100, 100), model__estimator__max_iter=75, model__estimator__momentum=0.0, model__estimator__nesterovs_momentum=False, model__estimator__power_t=1, model__estimator__shuffle=False, model__estimator__tol=0.001, model__estimator__validation_fraction=0.3, model__estimator__warm_start=True, preprocessor__num__normalize=Normalizer(), preprocessor__num__scale=StandardScaler(); total time=  20.6s\n",
      "[CV] END model__estimator__alpha=0.01, model__estimator__batch_size=60, model__estimator__beta_1=0.6, model__estimator__early_stopping=False, model__estimator__hidden_layer_sizes=(100, 100, 100), model__estimator__max_iter=75, model__estimator__momentum=0.0, model__estimator__nesterovs_momentum=False, model__estimator__power_t=1, model__estimator__shuffle=False, model__estimator__tol=0.001, model__estimator__validation_fraction=0.3, model__estimator__warm_start=True, preprocessor__num__normalize=Normalizer(), preprocessor__num__scale=StandardScaler(); total time=  23.5s\n",
      "[CV] END model__estimator__alpha=0.01, model__estimator__batch_size=60, model__estimator__beta_1=0.6, model__estimator__early_stopping=False, model__estimator__hidden_layer_sizes=(100, 100, 100), model__estimator__max_iter=75, model__estimator__momentum=0.0, model__estimator__nesterovs_momentum=False, model__estimator__power_t=1, model__estimator__shuffle=False, model__estimator__tol=0.001, model__estimator__validation_fraction=0.3, model__estimator__warm_start=False, preprocessor__num__normalize=Normalizer(), preprocessor__num__scale=StandardScaler(); total time=  25.2s\n",
      "[CV] END model__estimator__alpha=0.01, model__estimator__batch_size=60, model__estimator__beta_1=0.6, model__estimator__early_stopping=False, model__estimator__hidden_layer_sizes=(100, 100, 100), model__estimator__max_iter=100, model__estimator__momentum=0.0, model__estimator__nesterovs_momentum=True, model__estimator__power_t=1, model__estimator__shuffle=True, model__estimator__tol=0.001, model__estimator__validation_fraction=0.3, model__estimator__warm_start=True, preprocessor__num__normalize=Normalizer(), preprocessor__num__scale=StandardScaler(); total time=  33.4s\n",
      "[CV] END model__estimator__alpha=0.01, model__estimator__batch_size=60, model__estimator__beta_1=0.6, model__estimator__early_stopping=False, model__estimator__hidden_layer_sizes=(100, 100, 100), model__estimator__max_iter=100, model__estimator__momentum=0.0, model__estimator__nesterovs_momentum=True, model__estimator__power_t=1, model__estimator__shuffle=True, model__estimator__tol=0.001, model__estimator__validation_fraction=0.3, model__estimator__warm_start=True, preprocessor__num__normalize=Normalizer(), preprocessor__num__scale=passthrought; total time=   0.0s\n",
      "[CV] END model__estimator__alpha=0.01, model__estimator__batch_size=60, model__estimator__beta_1=0.6, model__estimator__early_stopping=False, model__estimator__hidden_layer_sizes=(100, 100, 100), model__estimator__max_iter=100, model__estimator__momentum=0.0, model__estimator__nesterovs_momentum=True, model__estimator__power_t=1, model__estimator__shuffle=True, model__estimator__tol=0.001, model__estimator__validation_fraction=0.3, model__estimator__warm_start=True, preprocessor__num__normalize=Normalizer(), preprocessor__num__scale=passthrought; total time=   0.0s\n",
      "[CV] END model__estimator__alpha=0.01, model__estimator__batch_size=60, model__estimator__beta_1=0.6, model__estimator__early_stopping=False, model__estimator__hidden_layer_sizes=(100, 100, 100), model__estimator__max_iter=100, model__estimator__momentum=0.0, model__estimator__nesterovs_momentum=True, model__estimator__power_t=1, model__estimator__shuffle=True, model__estimator__tol=0.001, model__estimator__validation_fraction=0.3, model__estimator__warm_start=True, preprocessor__num__normalize=Normalizer(), preprocessor__num__scale=passthrought; total time=   0.0s\n",
      "[CV] END model__estimator__alpha=0.01, model__estimator__batch_size=60, model__estimator__beta_1=0.6, model__estimator__early_stopping=False, model__estimator__hidden_layer_sizes=(100, 100, 100), model__estimator__max_iter=100, model__estimator__momentum=0.0, model__estimator__nesterovs_momentum=True, model__estimator__power_t=1, model__estimator__shuffle=True, model__estimator__tol=0.001, model__estimator__validation_fraction=0.3, model__estimator__warm_start=True, preprocessor__num__normalize=Normalizer(), preprocessor__num__scale=passthrought; total time=   0.0s\n",
      "[CV] END model__estimator__alpha=0.01, model__estimator__batch_size=60, model__estimator__beta_1=0.6, model__estimator__early_stopping=False, model__estimator__hidden_layer_sizes=(100, 100, 100), model__estimator__max_iter=100, model__estimator__momentum=0.0, model__estimator__nesterovs_momentum=True, model__estimator__power_t=1, model__estimator__shuffle=True, model__estimator__tol=0.001, model__estimator__validation_fraction=0.3, model__estimator__warm_start=True, preprocessor__num__normalize=Normalizer(), preprocessor__num__scale=passthrought; total time=   0.0s\n",
      "[CV] END model__estimator__alpha=0.01, model__estimator__batch_size=60, model__estimator__beta_1=0.6, model__estimator__early_stopping=False, model__estimator__hidden_layer_sizes=(100, 100, 100), model__estimator__max_iter=100, model__estimator__momentum=0.0, model__estimator__nesterovs_momentum=True, model__estimator__power_t=1, model__estimator__shuffle=True, model__estimator__tol=0.001, model__estimator__validation_fraction=0.3, model__estimator__warm_start=True, preprocessor__num__normalize=passthrought, preprocessor__num__scale=StandardScaler(); total time=   0.0s\n",
      "[CV] END model__estimator__alpha=0.01, model__estimator__batch_size=60, model__estimator__beta_1=0.6, model__estimator__early_stopping=False, model__estimator__hidden_layer_sizes=(100, 100, 100), model__estimator__max_iter=100, model__estimator__momentum=0.0, model__estimator__nesterovs_momentum=True, model__estimator__power_t=1, model__estimator__shuffle=True, model__estimator__tol=0.001, model__estimator__validation_fraction=0.3, model__estimator__warm_start=True, preprocessor__num__normalize=passthrought, preprocessor__num__scale=StandardScaler(); total time=   0.0s\n",
      "[CV] END model__estimator__alpha=0.01, model__estimator__batch_size=60, model__estimator__beta_1=0.6, model__estimator__early_stopping=False, model__estimator__hidden_layer_sizes=(100, 100, 100), model__estimator__max_iter=100, model__estimator__momentum=0.0, model__estimator__nesterovs_momentum=True, model__estimator__power_t=1, model__estimator__shuffle=True, model__estimator__tol=0.001, model__estimator__validation_fraction=0.3, model__estimator__warm_start=True, preprocessor__num__normalize=passthrought, preprocessor__num__scale=StandardScaler(); total time=   0.0s\n",
      "[CV] END model__estimator__alpha=0.01, model__estimator__batch_size=60, model__estimator__beta_1=0.6, model__estimator__early_stopping=False, model__estimator__hidden_layer_sizes=(100, 100, 100), model__estimator__max_iter=100, model__estimator__momentum=0.0, model__estimator__nesterovs_momentum=True, model__estimator__power_t=1, model__estimator__shuffle=True, model__estimator__tol=0.001, model__estimator__validation_fraction=0.3, model__estimator__warm_start=True, preprocessor__num__normalize=passthrought, preprocessor__num__scale=StandardScaler(); total time=   0.0s\n",
      "[CV] END model__estimator__alpha=0.01, model__estimator__batch_size=60, model__estimator__beta_1=0.6, model__estimator__early_stopping=False, model__estimator__hidden_layer_sizes=(100, 100, 100), model__estimator__max_iter=100, model__estimator__momentum=0.0, model__estimator__nesterovs_momentum=True, model__estimator__power_t=1, model__estimator__shuffle=True, model__estimator__tol=0.001, model__estimator__validation_fraction=0.3, model__estimator__warm_start=True, preprocessor__num__normalize=passthrought, preprocessor__num__scale=StandardScaler(); total time=   0.0s\n",
      "[CV] END model__estimator__alpha=0.01, model__estimator__batch_size=60, model__estimator__beta_1=0.6, model__estimator__early_stopping=False, model__estimator__hidden_layer_sizes=(100, 100, 100), model__estimator__max_iter=100, model__estimator__momentum=0.0, model__estimator__nesterovs_momentum=True, model__estimator__power_t=1, model__estimator__shuffle=True, model__estimator__tol=0.001, model__estimator__validation_fraction=0.3, model__estimator__warm_start=True, preprocessor__num__normalize=passthrought, preprocessor__num__scale=passthrought; total time=   0.0s\n",
      "[CV] END model__estimator__alpha=0.01, model__estimator__batch_size=60, model__estimator__beta_1=0.6, model__estimator__early_stopping=False, model__estimator__hidden_layer_sizes=(100, 100, 100), model__estimator__max_iter=100, model__estimator__momentum=0.0, model__estimator__nesterovs_momentum=True, model__estimator__power_t=1, model__estimator__shuffle=True, model__estimator__tol=0.001, model__estimator__validation_fraction=0.3, model__estimator__warm_start=True, preprocessor__num__normalize=passthrought, preprocessor__num__scale=passthrought; total time=   0.0s\n",
      "[CV] END model__estimator__alpha=0.01, model__estimator__batch_size=60, model__estimator__beta_1=0.6, model__estimator__early_stopping=False, model__estimator__hidden_layer_sizes=(100, 100, 100), model__estimator__max_iter=100, model__estimator__momentum=0.0, model__estimator__nesterovs_momentum=True, model__estimator__power_t=1, model__estimator__shuffle=True, model__estimator__tol=0.001, model__estimator__validation_fraction=0.3, model__estimator__warm_start=True, preprocessor__num__normalize=passthrought, preprocessor__num__scale=passthrought; total time=   0.0s\n",
      "[CV] END model__estimator__alpha=0.01, model__estimator__batch_size=60, model__estimator__beta_1=0.6, model__estimator__early_stopping=False, model__estimator__hidden_layer_sizes=(100, 100, 100), model__estimator__max_iter=100, model__estimator__momentum=0.0, model__estimator__nesterovs_momentum=True, model__estimator__power_t=1, model__estimator__shuffle=True, model__estimator__tol=0.001, model__estimator__validation_fraction=0.3, model__estimator__warm_start=True, preprocessor__num__normalize=passthrought, preprocessor__num__scale=passthrought; total time=   0.0s\n",
      "[CV] END model__estimator__alpha=0.01, model__estimator__batch_size=60, model__estimator__beta_1=0.6, model__estimator__early_stopping=False, model__estimator__hidden_layer_sizes=(100, 100, 100), model__estimator__max_iter=100, model__estimator__momentum=0.0, model__estimator__nesterovs_momentum=True, model__estimator__power_t=1, model__estimator__shuffle=True, model__estimator__tol=0.001, model__estimator__validation_fraction=0.3, model__estimator__warm_start=True, preprocessor__num__normalize=passthrought, preprocessor__num__scale=passthrought; total time=   0.0s\n",
      "[CV] END model__estimator__alpha=0.01, model__estimator__batch_size=60, model__estimator__beta_1=0.6, model__estimator__early_stopping=False, model__estimator__hidden_layer_sizes=(100, 100, 100), model__estimator__max_iter=100, model__estimator__momentum=0.0, model__estimator__nesterovs_momentum=True, model__estimator__power_t=1, model__estimator__shuffle=True, model__estimator__tol=0.001, model__estimator__validation_fraction=0.3, model__estimator__warm_start=False, preprocessor__num__normalize=Normalizer(), preprocessor__num__scale=StandardScaler(); total time=  42.3s\n",
      "[CV] END model__estimator__alpha=0.01, model__estimator__batch_size=60, model__estimator__beta_1=0.6, model__estimator__early_stopping=False, model__estimator__hidden_layer_sizes=(100, 100, 100), model__estimator__max_iter=100, model__estimator__momentum=0.0, model__estimator__nesterovs_momentum=True, model__estimator__power_t=1, model__estimator__shuffle=True, model__estimator__tol=0.001, model__estimator__validation_fraction=0.3, model__estimator__warm_start=False, preprocessor__num__normalize=Normalizer(), preprocessor__num__scale=passthrought; total time=   0.0s\n"
     ]
    },
    {
     "name": "stdout",
     "output_type": "stream",
     "text": [
      "[CV] END model__estimator__alpha=0.01, model__estimator__batch_size=60, model__estimator__beta_1=0.6, model__estimator__early_stopping=False, model__estimator__hidden_layer_sizes=(100, 100, 100), model__estimator__max_iter=100, model__estimator__momentum=0.0, model__estimator__nesterovs_momentum=True, model__estimator__power_t=1, model__estimator__shuffle=True, model__estimator__tol=0.001, model__estimator__validation_fraction=0.3, model__estimator__warm_start=False, preprocessor__num__normalize=Normalizer(), preprocessor__num__scale=passthrought; total time=   0.0s\n",
      "[CV] END model__estimator__alpha=0.01, model__estimator__batch_size=60, model__estimator__beta_1=0.6, model__estimator__early_stopping=False, model__estimator__hidden_layer_sizes=(100, 100, 100), model__estimator__max_iter=100, model__estimator__momentum=0.0, model__estimator__nesterovs_momentum=True, model__estimator__power_t=1, model__estimator__shuffle=True, model__estimator__tol=0.001, model__estimator__validation_fraction=0.3, model__estimator__warm_start=False, preprocessor__num__normalize=Normalizer(), preprocessor__num__scale=passthrought; total time=   0.0s\n",
      "[CV] END model__estimator__alpha=0.01, model__estimator__batch_size=60, model__estimator__beta_1=0.6, model__estimator__early_stopping=False, model__estimator__hidden_layer_sizes=(100, 100, 100), model__estimator__max_iter=100, model__estimator__momentum=0.0, model__estimator__nesterovs_momentum=True, model__estimator__power_t=1, model__estimator__shuffle=True, model__estimator__tol=0.001, model__estimator__validation_fraction=0.3, model__estimator__warm_start=False, preprocessor__num__normalize=Normalizer(), preprocessor__num__scale=passthrought; total time=   0.0s\n",
      "[CV] END model__estimator__alpha=0.01, model__estimator__batch_size=60, model__estimator__beta_1=0.6, model__estimator__early_stopping=False, model__estimator__hidden_layer_sizes=(100, 100, 100), model__estimator__max_iter=100, model__estimator__momentum=0.0, model__estimator__nesterovs_momentum=True, model__estimator__power_t=1, model__estimator__shuffle=True, model__estimator__tol=0.001, model__estimator__validation_fraction=0.3, model__estimator__warm_start=False, preprocessor__num__normalize=Normalizer(), preprocessor__num__scale=passthrought; total time=   0.0s\n",
      "[CV] END model__estimator__alpha=0.01, model__estimator__batch_size=60, model__estimator__beta_1=0.6, model__estimator__early_stopping=False, model__estimator__hidden_layer_sizes=(100, 100, 100), model__estimator__max_iter=100, model__estimator__momentum=0.0, model__estimator__nesterovs_momentum=True, model__estimator__power_t=1, model__estimator__shuffle=True, model__estimator__tol=0.001, model__estimator__validation_fraction=0.3, model__estimator__warm_start=False, preprocessor__num__normalize=passthrought, preprocessor__num__scale=StandardScaler(); total time=   0.0s\n",
      "[CV] END model__estimator__alpha=0.01, model__estimator__batch_size=60, model__estimator__beta_1=0.6, model__estimator__early_stopping=False, model__estimator__hidden_layer_sizes=(100, 100, 100), model__estimator__max_iter=100, model__estimator__momentum=0.0, model__estimator__nesterovs_momentum=True, model__estimator__power_t=1, model__estimator__shuffle=True, model__estimator__tol=0.001, model__estimator__validation_fraction=0.3, model__estimator__warm_start=False, preprocessor__num__normalize=passthrought, preprocessor__num__scale=StandardScaler(); total time=   0.0s\n",
      "[CV] END model__estimator__alpha=0.01, model__estimator__batch_size=60, model__estimator__beta_1=0.6, model__estimator__early_stopping=False, model__estimator__hidden_layer_sizes=(100, 100, 100), model__estimator__max_iter=100, model__estimator__momentum=0.0, model__estimator__nesterovs_momentum=True, model__estimator__power_t=1, model__estimator__shuffle=True, model__estimator__tol=0.001, model__estimator__validation_fraction=0.3, model__estimator__warm_start=False, preprocessor__num__normalize=passthrought, preprocessor__num__scale=StandardScaler(); total time=   0.0s\n",
      "[CV] END model__estimator__alpha=0.01, model__estimator__batch_size=60, model__estimator__beta_1=0.6, model__estimator__early_stopping=False, model__estimator__hidden_layer_sizes=(100, 100, 100), model__estimator__max_iter=100, model__estimator__momentum=0.0, model__estimator__nesterovs_momentum=True, model__estimator__power_t=1, model__estimator__shuffle=True, model__estimator__tol=0.001, model__estimator__validation_fraction=0.3, model__estimator__warm_start=False, preprocessor__num__normalize=passthrought, preprocessor__num__scale=StandardScaler(); total time=   0.0s\n",
      "[CV] END model__estimator__alpha=0.01, model__estimator__batch_size=60, model__estimator__beta_1=0.6, model__estimator__early_stopping=False, model__estimator__hidden_layer_sizes=(100, 100, 100), model__estimator__max_iter=100, model__estimator__momentum=0.0, model__estimator__nesterovs_momentum=True, model__estimator__power_t=1, model__estimator__shuffle=True, model__estimator__tol=0.001, model__estimator__validation_fraction=0.3, model__estimator__warm_start=False, preprocessor__num__normalize=passthrought, preprocessor__num__scale=StandardScaler(); total time=   0.0s\n",
      "[CV] END model__estimator__alpha=0.01, model__estimator__batch_size=60, model__estimator__beta_1=0.6, model__estimator__early_stopping=False, model__estimator__hidden_layer_sizes=(100, 100, 100), model__estimator__max_iter=100, model__estimator__momentum=0.0, model__estimator__nesterovs_momentum=True, model__estimator__power_t=1, model__estimator__shuffle=True, model__estimator__tol=0.001, model__estimator__validation_fraction=0.3, model__estimator__warm_start=False, preprocessor__num__normalize=passthrought, preprocessor__num__scale=passthrought; total time=   0.0s\n",
      "[CV] END model__estimator__alpha=0.01, model__estimator__batch_size=60, model__estimator__beta_1=0.6, model__estimator__early_stopping=False, model__estimator__hidden_layer_sizes=(100, 100, 100), model__estimator__max_iter=100, model__estimator__momentum=0.0, model__estimator__nesterovs_momentum=True, model__estimator__power_t=1, model__estimator__shuffle=True, model__estimator__tol=0.001, model__estimator__validation_fraction=0.3, model__estimator__warm_start=False, preprocessor__num__normalize=passthrought, preprocessor__num__scale=passthrought; total time=   0.0s\n",
      "[CV] END model__estimator__alpha=0.01, model__estimator__batch_size=60, model__estimator__beta_1=0.6, model__estimator__early_stopping=False, model__estimator__hidden_layer_sizes=(100, 100, 100), model__estimator__max_iter=100, model__estimator__momentum=0.0, model__estimator__nesterovs_momentum=True, model__estimator__power_t=1, model__estimator__shuffle=True, model__estimator__tol=0.001, model__estimator__validation_fraction=0.3, model__estimator__warm_start=False, preprocessor__num__normalize=passthrought, preprocessor__num__scale=passthrought; total time=   0.0s\n",
      "[CV] END model__estimator__alpha=0.01, model__estimator__batch_size=60, model__estimator__beta_1=0.6, model__estimator__early_stopping=False, model__estimator__hidden_layer_sizes=(100, 100, 100), model__estimator__max_iter=100, model__estimator__momentum=0.0, model__estimator__nesterovs_momentum=True, model__estimator__power_t=1, model__estimator__shuffle=True, model__estimator__tol=0.001, model__estimator__validation_fraction=0.3, model__estimator__warm_start=False, preprocessor__num__normalize=passthrought, preprocessor__num__scale=passthrought; total time=   0.0s\n",
      "[CV] END model__estimator__alpha=0.01, model__estimator__batch_size=60, model__estimator__beta_1=0.6, model__estimator__early_stopping=False, model__estimator__hidden_layer_sizes=(100, 100, 100), model__estimator__max_iter=100, model__estimator__momentum=0.0, model__estimator__nesterovs_momentum=True, model__estimator__power_t=1, model__estimator__shuffle=True, model__estimator__tol=0.001, model__estimator__validation_fraction=0.3, model__estimator__warm_start=False, preprocessor__num__normalize=passthrought, preprocessor__num__scale=passthrought; total time=   0.0s\n",
      "[CV] END model__estimator__alpha=0.01, model__estimator__batch_size=60, model__estimator__beta_1=0.6, model__estimator__early_stopping=False, model__estimator__hidden_layer_sizes=(100, 100, 100), model__estimator__max_iter=75, model__estimator__momentum=0.0, model__estimator__nesterovs_momentum=False, model__estimator__power_t=1, model__estimator__shuffle=False, model__estimator__tol=0.001, model__estimator__validation_fraction=0.3, model__estimator__warm_start=True, preprocessor__num__normalize=passthrought, preprocessor__num__scale=StandardScaler(); total time=   0.0s\n",
      "[CV] END model__estimator__alpha=0.01, model__estimator__batch_size=60, model__estimator__beta_1=0.6, model__estimator__early_stopping=False, model__estimator__hidden_layer_sizes=(100, 100, 100), model__estimator__max_iter=75, model__estimator__momentum=0.0, model__estimator__nesterovs_momentum=False, model__estimator__power_t=1, model__estimator__shuffle=False, model__estimator__tol=0.001, model__estimator__validation_fraction=0.3, model__estimator__warm_start=True, preprocessor__num__normalize=passthrought, preprocessor__num__scale=StandardScaler(); total time=   0.0s\n",
      "[CV] END model__estimator__alpha=0.01, model__estimator__batch_size=60, model__estimator__beta_1=0.6, model__estimator__early_stopping=False, model__estimator__hidden_layer_sizes=(100, 100, 100), model__estimator__max_iter=75, model__estimator__momentum=0.0, model__estimator__nesterovs_momentum=False, model__estimator__power_t=1, model__estimator__shuffle=False, model__estimator__tol=0.001, model__estimator__validation_fraction=0.3, model__estimator__warm_start=True, preprocessor__num__normalize=passthrought, preprocessor__num__scale=StandardScaler(); total time=   0.0s\n",
      "[CV] END model__estimator__alpha=0.01, model__estimator__batch_size=60, model__estimator__beta_1=0.6, model__estimator__early_stopping=False, model__estimator__hidden_layer_sizes=(100, 100, 100), model__estimator__max_iter=75, model__estimator__momentum=0.0, model__estimator__nesterovs_momentum=False, model__estimator__power_t=1, model__estimator__shuffle=False, model__estimator__tol=0.001, model__estimator__validation_fraction=0.3, model__estimator__warm_start=True, preprocessor__num__normalize=passthrought, preprocessor__num__scale=StandardScaler(); total time=   0.0s\n",
      "[CV] END model__estimator__alpha=0.01, model__estimator__batch_size=60, model__estimator__beta_1=0.6, model__estimator__early_stopping=False, model__estimator__hidden_layer_sizes=(100, 100, 100), model__estimator__max_iter=75, model__estimator__momentum=0.0, model__estimator__nesterovs_momentum=False, model__estimator__power_t=1, model__estimator__shuffle=False, model__estimator__tol=0.001, model__estimator__validation_fraction=0.3, model__estimator__warm_start=True, preprocessor__num__normalize=passthrought, preprocessor__num__scale=passthrought; total time=   0.0s\n",
      "[CV] END model__estimator__alpha=0.01, model__estimator__batch_size=60, model__estimator__beta_1=0.6, model__estimator__early_stopping=False, model__estimator__hidden_layer_sizes=(100, 100, 100), model__estimator__max_iter=75, model__estimator__momentum=0.0, model__estimator__nesterovs_momentum=False, model__estimator__power_t=1, model__estimator__shuffle=False, model__estimator__tol=0.001, model__estimator__validation_fraction=0.3, model__estimator__warm_start=True, preprocessor__num__normalize=passthrought, preprocessor__num__scale=passthrought; total time=   0.0s\n",
      "[CV] END model__estimator__alpha=0.01, model__estimator__batch_size=60, model__estimator__beta_1=0.6, model__estimator__early_stopping=False, model__estimator__hidden_layer_sizes=(100, 100, 100), model__estimator__max_iter=75, model__estimator__momentum=0.0, model__estimator__nesterovs_momentum=False, model__estimator__power_t=1, model__estimator__shuffle=False, model__estimator__tol=0.001, model__estimator__validation_fraction=0.3, model__estimator__warm_start=True, preprocessor__num__normalize=passthrought, preprocessor__num__scale=passthrought; total time=   0.0s\n",
      "[CV] END model__estimator__alpha=0.01, model__estimator__batch_size=60, model__estimator__beta_1=0.6, model__estimator__early_stopping=False, model__estimator__hidden_layer_sizes=(100, 100, 100), model__estimator__max_iter=75, model__estimator__momentum=0.0, model__estimator__nesterovs_momentum=False, model__estimator__power_t=1, model__estimator__shuffle=False, model__estimator__tol=0.001, model__estimator__validation_fraction=0.3, model__estimator__warm_start=True, preprocessor__num__normalize=passthrought, preprocessor__num__scale=passthrought; total time=   0.0s\n",
      "[CV] END model__estimator__alpha=0.01, model__estimator__batch_size=60, model__estimator__beta_1=0.6, model__estimator__early_stopping=False, model__estimator__hidden_layer_sizes=(100, 100, 100), model__estimator__max_iter=75, model__estimator__momentum=0.0, model__estimator__nesterovs_momentum=False, model__estimator__power_t=1, model__estimator__shuffle=False, model__estimator__tol=0.001, model__estimator__validation_fraction=0.3, model__estimator__warm_start=True, preprocessor__num__normalize=passthrought, preprocessor__num__scale=passthrought; total time=   0.0s\n",
      "[CV] END model__estimator__alpha=0.01, model__estimator__batch_size=60, model__estimator__beta_1=0.6, model__estimator__early_stopping=False, model__estimator__hidden_layer_sizes=(100, 100, 100), model__estimator__max_iter=75, model__estimator__momentum=0.0, model__estimator__nesterovs_momentum=False, model__estimator__power_t=1, model__estimator__shuffle=False, model__estimator__tol=0.001, model__estimator__validation_fraction=0.3, model__estimator__warm_start=False, preprocessor__num__normalize=Normalizer(), preprocessor__num__scale=StandardScaler(); total time=  24.1s\n",
      "[CV] END model__estimator__alpha=0.01, model__estimator__batch_size=60, model__estimator__beta_1=0.6, model__estimator__early_stopping=False, model__estimator__hidden_layer_sizes=(100, 100, 100), model__estimator__max_iter=75, model__estimator__momentum=0.0, model__estimator__nesterovs_momentum=False, model__estimator__power_t=1, model__estimator__shuffle=False, model__estimator__tol=0.001, model__estimator__validation_fraction=0.3, model__estimator__warm_start=False, preprocessor__num__normalize=Normalizer(), preprocessor__num__scale=StandardScaler(); total time=  30.0s\n",
      "[CV] END model__estimator__alpha=0.01, model__estimator__batch_size=60, model__estimator__beta_1=0.6, model__estimator__early_stopping=False, model__estimator__hidden_layer_sizes=(100, 100, 100), model__estimator__max_iter=100, model__estimator__momentum=0.0, model__estimator__nesterovs_momentum=True, model__estimator__power_t=1, model__estimator__shuffle=True, model__estimator__tol=0.001, model__estimator__validation_fraction=0.3, model__estimator__warm_start=True, preprocessor__num__normalize=Normalizer(), preprocessor__num__scale=StandardScaler(); total time=  30.9s\n",
      "[CV] END model__estimator__alpha=0.01, model__estimator__batch_size=60, model__estimator__beta_1=0.6, model__estimator__early_stopping=False, model__estimator__hidden_layer_sizes=(100, 100, 100), model__estimator__max_iter=100, model__estimator__momentum=0.0, model__estimator__nesterovs_momentum=True, model__estimator__power_t=1, model__estimator__shuffle=True, model__estimator__tol=0.001, model__estimator__validation_fraction=0.3, model__estimator__warm_start=False, preprocessor__num__normalize=Normalizer(), preprocessor__num__scale=StandardScaler(); total time=  49.1s\n",
      "[CV] END model__estimator__alpha=0.01, model__estimator__batch_size=60, model__estimator__beta_1=0.6, model__estimator__early_stopping=False, model__estimator__hidden_layer_sizes=(100, 100, 100), model__estimator__max_iter=100, model__estimator__momentum=0.0, model__estimator__nesterovs_momentum=True, model__estimator__power_t=1, model__estimator__shuffle=False, model__estimator__tol=0.001, model__estimator__validation_fraction=0.3, model__estimator__warm_start=True, preprocessor__num__normalize=Normalizer(), preprocessor__num__scale=StandardScaler(); total time=  33.5s\n",
      "[CV] END model__estimator__alpha=0.01, model__estimator__batch_size=60, model__estimator__beta_1=0.6, model__estimator__early_stopping=False, model__estimator__hidden_layer_sizes=(100, 100, 100), model__estimator__max_iter=100, model__estimator__momentum=0.0, model__estimator__nesterovs_momentum=True, model__estimator__power_t=1, model__estimator__shuffle=False, model__estimator__tol=0.001, model__estimator__validation_fraction=0.3, model__estimator__warm_start=True, preprocessor__num__normalize=Normalizer(), preprocessor__num__scale=passthrought; total time=   0.0s\n",
      "[CV] END model__estimator__alpha=0.01, model__estimator__batch_size=60, model__estimator__beta_1=0.6, model__estimator__early_stopping=False, model__estimator__hidden_layer_sizes=(100, 100, 100), model__estimator__max_iter=100, model__estimator__momentum=0.0, model__estimator__nesterovs_momentum=True, model__estimator__power_t=1, model__estimator__shuffle=False, model__estimator__tol=0.001, model__estimator__validation_fraction=0.3, model__estimator__warm_start=True, preprocessor__num__normalize=Normalizer(), preprocessor__num__scale=passthrought; total time=   0.0s\n",
      "[CV] END model__estimator__alpha=0.01, model__estimator__batch_size=60, model__estimator__beta_1=0.6, model__estimator__early_stopping=False, model__estimator__hidden_layer_sizes=(100, 100, 100), model__estimator__max_iter=100, model__estimator__momentum=0.0, model__estimator__nesterovs_momentum=True, model__estimator__power_t=1, model__estimator__shuffle=False, model__estimator__tol=0.001, model__estimator__validation_fraction=0.3, model__estimator__warm_start=True, preprocessor__num__normalize=Normalizer(), preprocessor__num__scale=passthrought; total time=   0.0s\n",
      "[CV] END model__estimator__alpha=0.01, model__estimator__batch_size=60, model__estimator__beta_1=0.6, model__estimator__early_stopping=False, model__estimator__hidden_layer_sizes=(100, 100, 100), model__estimator__max_iter=100, model__estimator__momentum=0.0, model__estimator__nesterovs_momentum=True, model__estimator__power_t=1, model__estimator__shuffle=False, model__estimator__tol=0.001, model__estimator__validation_fraction=0.3, model__estimator__warm_start=True, preprocessor__num__normalize=Normalizer(), preprocessor__num__scale=passthrought; total time=   0.0s\n",
      "[CV] END model__estimator__alpha=0.01, model__estimator__batch_size=60, model__estimator__beta_1=0.6, model__estimator__early_stopping=False, model__estimator__hidden_layer_sizes=(100, 100, 100), model__estimator__max_iter=100, model__estimator__momentum=0.0, model__estimator__nesterovs_momentum=True, model__estimator__power_t=1, model__estimator__shuffle=False, model__estimator__tol=0.001, model__estimator__validation_fraction=0.3, model__estimator__warm_start=True, preprocessor__num__normalize=Normalizer(), preprocessor__num__scale=passthrought; total time=   0.0s\n",
      "[CV] END model__estimator__alpha=0.01, model__estimator__batch_size=60, model__estimator__beta_1=0.6, model__estimator__early_stopping=False, model__estimator__hidden_layer_sizes=(100, 100, 100), model__estimator__max_iter=100, model__estimator__momentum=0.0, model__estimator__nesterovs_momentum=True, model__estimator__power_t=1, model__estimator__shuffle=False, model__estimator__tol=0.001, model__estimator__validation_fraction=0.3, model__estimator__warm_start=True, preprocessor__num__normalize=passthrought, preprocessor__num__scale=StandardScaler(); total time=   0.0s\n",
      "[CV] END model__estimator__alpha=0.01, model__estimator__batch_size=60, model__estimator__beta_1=0.6, model__estimator__early_stopping=False, model__estimator__hidden_layer_sizes=(100, 100, 100), model__estimator__max_iter=100, model__estimator__momentum=0.0, model__estimator__nesterovs_momentum=True, model__estimator__power_t=1, model__estimator__shuffle=False, model__estimator__tol=0.001, model__estimator__validation_fraction=0.3, model__estimator__warm_start=True, preprocessor__num__normalize=passthrought, preprocessor__num__scale=StandardScaler(); total time=   0.0s\n",
      "[CV] END model__estimator__alpha=0.01, model__estimator__batch_size=60, model__estimator__beta_1=0.6, model__estimator__early_stopping=False, model__estimator__hidden_layer_sizes=(100, 100, 100), model__estimator__max_iter=100, model__estimator__momentum=0.0, model__estimator__nesterovs_momentum=True, model__estimator__power_t=1, model__estimator__shuffle=False, model__estimator__tol=0.001, model__estimator__validation_fraction=0.3, model__estimator__warm_start=True, preprocessor__num__normalize=passthrought, preprocessor__num__scale=StandardScaler(); total time=   0.0s\n",
      "[CV] END model__estimator__alpha=0.01, model__estimator__batch_size=60, model__estimator__beta_1=0.6, model__estimator__early_stopping=False, model__estimator__hidden_layer_sizes=(100, 100, 100), model__estimator__max_iter=100, model__estimator__momentum=0.0, model__estimator__nesterovs_momentum=True, model__estimator__power_t=1, model__estimator__shuffle=False, model__estimator__tol=0.001, model__estimator__validation_fraction=0.3, model__estimator__warm_start=True, preprocessor__num__normalize=passthrought, preprocessor__num__scale=StandardScaler(); total time=   0.0s\n",
      "[CV] END model__estimator__alpha=0.01, model__estimator__batch_size=60, model__estimator__beta_1=0.6, model__estimator__early_stopping=False, model__estimator__hidden_layer_sizes=(100, 100, 100), model__estimator__max_iter=100, model__estimator__momentum=0.0, model__estimator__nesterovs_momentum=True, model__estimator__power_t=1, model__estimator__shuffle=False, model__estimator__tol=0.001, model__estimator__validation_fraction=0.3, model__estimator__warm_start=True, preprocessor__num__normalize=passthrought, preprocessor__num__scale=StandardScaler(); total time=   0.0s\n",
      "[CV] END model__estimator__alpha=0.01, model__estimator__batch_size=60, model__estimator__beta_1=0.6, model__estimator__early_stopping=False, model__estimator__hidden_layer_sizes=(100, 100, 100), model__estimator__max_iter=100, model__estimator__momentum=0.0, model__estimator__nesterovs_momentum=True, model__estimator__power_t=1, model__estimator__shuffle=False, model__estimator__tol=0.001, model__estimator__validation_fraction=0.3, model__estimator__warm_start=True, preprocessor__num__normalize=passthrought, preprocessor__num__scale=passthrought; total time=   0.0s\n",
      "[CV] END model__estimator__alpha=0.01, model__estimator__batch_size=60, model__estimator__beta_1=0.6, model__estimator__early_stopping=False, model__estimator__hidden_layer_sizes=(100, 100, 100), model__estimator__max_iter=100, model__estimator__momentum=0.0, model__estimator__nesterovs_momentum=True, model__estimator__power_t=1, model__estimator__shuffle=False, model__estimator__tol=0.001, model__estimator__validation_fraction=0.3, model__estimator__warm_start=True, preprocessor__num__normalize=passthrought, preprocessor__num__scale=passthrought; total time=   0.0s\n",
      "[CV] END model__estimator__alpha=0.01, model__estimator__batch_size=60, model__estimator__beta_1=0.6, model__estimator__early_stopping=False, model__estimator__hidden_layer_sizes=(100, 100, 100), model__estimator__max_iter=100, model__estimator__momentum=0.0, model__estimator__nesterovs_momentum=True, model__estimator__power_t=1, model__estimator__shuffle=False, model__estimator__tol=0.001, model__estimator__validation_fraction=0.3, model__estimator__warm_start=True, preprocessor__num__normalize=passthrought, preprocessor__num__scale=passthrought; total time=   0.0s\n",
      "[CV] END model__estimator__alpha=0.01, model__estimator__batch_size=60, model__estimator__beta_1=0.6, model__estimator__early_stopping=False, model__estimator__hidden_layer_sizes=(100, 100, 100), model__estimator__max_iter=100, model__estimator__momentum=0.0, model__estimator__nesterovs_momentum=True, model__estimator__power_t=1, model__estimator__shuffle=False, model__estimator__tol=0.001, model__estimator__validation_fraction=0.3, model__estimator__warm_start=True, preprocessor__num__normalize=passthrought, preprocessor__num__scale=passthrought; total time=   0.0s\n"
     ]
    },
    {
     "name": "stdout",
     "output_type": "stream",
     "text": [
      "[CV] END model__estimator__alpha=0.01, model__estimator__batch_size=60, model__estimator__beta_1=0.6, model__estimator__early_stopping=False, model__estimator__hidden_layer_sizes=(100, 100, 100), model__estimator__max_iter=100, model__estimator__momentum=0.0, model__estimator__nesterovs_momentum=True, model__estimator__power_t=1, model__estimator__shuffle=False, model__estimator__tol=0.001, model__estimator__validation_fraction=0.3, model__estimator__warm_start=True, preprocessor__num__normalize=passthrought, preprocessor__num__scale=passthrought; total time=   0.0s\n",
      "[CV] END model__estimator__alpha=0.01, model__estimator__batch_size=60, model__estimator__beta_1=0.6, model__estimator__early_stopping=False, model__estimator__hidden_layer_sizes=(100, 100, 100), model__estimator__max_iter=100, model__estimator__momentum=0.0, model__estimator__nesterovs_momentum=True, model__estimator__power_t=1, model__estimator__shuffle=False, model__estimator__tol=0.001, model__estimator__validation_fraction=0.3, model__estimator__warm_start=False, preprocessor__num__normalize=Normalizer(), preprocessor__num__scale=StandardScaler(); total time=  29.0s\n",
      "[CV] END model__estimator__alpha=0.01, model__estimator__batch_size=60, model__estimator__beta_1=0.6, model__estimator__early_stopping=False, model__estimator__hidden_layer_sizes=(100, 100, 100), model__estimator__max_iter=100, model__estimator__momentum=0.0, model__estimator__nesterovs_momentum=True, model__estimator__power_t=1, model__estimator__shuffle=False, model__estimator__tol=0.001, model__estimator__validation_fraction=0.3, model__estimator__warm_start=False, preprocessor__num__normalize=Normalizer(), preprocessor__num__scale=passthrought; total time=   0.0s\n",
      "[CV] END model__estimator__alpha=0.01, model__estimator__batch_size=60, model__estimator__beta_1=0.6, model__estimator__early_stopping=False, model__estimator__hidden_layer_sizes=(100, 100, 100), model__estimator__max_iter=100, model__estimator__momentum=0.0, model__estimator__nesterovs_momentum=True, model__estimator__power_t=1, model__estimator__shuffle=False, model__estimator__tol=0.001, model__estimator__validation_fraction=0.3, model__estimator__warm_start=False, preprocessor__num__normalize=Normalizer(), preprocessor__num__scale=passthrought; total time=   0.0s\n",
      "[CV] END model__estimator__alpha=0.01, model__estimator__batch_size=60, model__estimator__beta_1=0.6, model__estimator__early_stopping=False, model__estimator__hidden_layer_sizes=(100, 100, 100), model__estimator__max_iter=100, model__estimator__momentum=0.0, model__estimator__nesterovs_momentum=True, model__estimator__power_t=1, model__estimator__shuffle=False, model__estimator__tol=0.001, model__estimator__validation_fraction=0.3, model__estimator__warm_start=False, preprocessor__num__normalize=Normalizer(), preprocessor__num__scale=passthrought; total time=   0.0s\n",
      "[CV] END model__estimator__alpha=0.01, model__estimator__batch_size=60, model__estimator__beta_1=0.6, model__estimator__early_stopping=False, model__estimator__hidden_layer_sizes=(100, 100, 100), model__estimator__max_iter=100, model__estimator__momentum=0.0, model__estimator__nesterovs_momentum=True, model__estimator__power_t=1, model__estimator__shuffle=False, model__estimator__tol=0.001, model__estimator__validation_fraction=0.3, model__estimator__warm_start=False, preprocessor__num__normalize=Normalizer(), preprocessor__num__scale=passthrought; total time=   0.0s\n",
      "[CV] END model__estimator__alpha=0.01, model__estimator__batch_size=60, model__estimator__beta_1=0.6, model__estimator__early_stopping=False, model__estimator__hidden_layer_sizes=(100, 100, 100), model__estimator__max_iter=100, model__estimator__momentum=0.0, model__estimator__nesterovs_momentum=True, model__estimator__power_t=1, model__estimator__shuffle=False, model__estimator__tol=0.001, model__estimator__validation_fraction=0.3, model__estimator__warm_start=False, preprocessor__num__normalize=Normalizer(), preprocessor__num__scale=passthrought; total time=   0.0s\n",
      "[CV] END model__estimator__alpha=0.01, model__estimator__batch_size=60, model__estimator__beta_1=0.6, model__estimator__early_stopping=False, model__estimator__hidden_layer_sizes=(100, 100, 100), model__estimator__max_iter=100, model__estimator__momentum=0.0, model__estimator__nesterovs_momentum=True, model__estimator__power_t=1, model__estimator__shuffle=False, model__estimator__tol=0.001, model__estimator__validation_fraction=0.3, model__estimator__warm_start=False, preprocessor__num__normalize=passthrought, preprocessor__num__scale=StandardScaler(); total time=   0.0s\n",
      "[CV] END model__estimator__alpha=0.01, model__estimator__batch_size=60, model__estimator__beta_1=0.6, model__estimator__early_stopping=False, model__estimator__hidden_layer_sizes=(100, 100, 100), model__estimator__max_iter=100, model__estimator__momentum=0.0, model__estimator__nesterovs_momentum=True, model__estimator__power_t=1, model__estimator__shuffle=False, model__estimator__tol=0.001, model__estimator__validation_fraction=0.3, model__estimator__warm_start=False, preprocessor__num__normalize=passthrought, preprocessor__num__scale=StandardScaler(); total time=   0.0s\n",
      "[CV] END model__estimator__alpha=0.01, model__estimator__batch_size=60, model__estimator__beta_1=0.6, model__estimator__early_stopping=False, model__estimator__hidden_layer_sizes=(100, 100, 100), model__estimator__max_iter=100, model__estimator__momentum=0.0, model__estimator__nesterovs_momentum=True, model__estimator__power_t=1, model__estimator__shuffle=False, model__estimator__tol=0.001, model__estimator__validation_fraction=0.3, model__estimator__warm_start=False, preprocessor__num__normalize=passthrought, preprocessor__num__scale=StandardScaler(); total time=   0.0s\n",
      "[CV] END model__estimator__alpha=0.01, model__estimator__batch_size=60, model__estimator__beta_1=0.6, model__estimator__early_stopping=False, model__estimator__hidden_layer_sizes=(100, 100, 100), model__estimator__max_iter=100, model__estimator__momentum=0.0, model__estimator__nesterovs_momentum=True, model__estimator__power_t=1, model__estimator__shuffle=False, model__estimator__tol=0.001, model__estimator__validation_fraction=0.3, model__estimator__warm_start=False, preprocessor__num__normalize=passthrought, preprocessor__num__scale=StandardScaler(); total time=   0.0s\n",
      "[CV] END model__estimator__alpha=0.01, model__estimator__batch_size=60, model__estimator__beta_1=0.6, model__estimator__early_stopping=False, model__estimator__hidden_layer_sizes=(100, 100, 100), model__estimator__max_iter=100, model__estimator__momentum=0.0, model__estimator__nesterovs_momentum=True, model__estimator__power_t=1, model__estimator__shuffle=False, model__estimator__tol=0.001, model__estimator__validation_fraction=0.3, model__estimator__warm_start=False, preprocessor__num__normalize=passthrought, preprocessor__num__scale=StandardScaler(); total time=   0.0s\n",
      "[CV] END model__estimator__alpha=0.01, model__estimator__batch_size=60, model__estimator__beta_1=0.6, model__estimator__early_stopping=False, model__estimator__hidden_layer_sizes=(100, 100, 100), model__estimator__max_iter=100, model__estimator__momentum=0.0, model__estimator__nesterovs_momentum=True, model__estimator__power_t=1, model__estimator__shuffle=False, model__estimator__tol=0.001, model__estimator__validation_fraction=0.3, model__estimator__warm_start=False, preprocessor__num__normalize=passthrought, preprocessor__num__scale=passthrought; total time=   0.0s\n",
      "[CV] END model__estimator__alpha=0.01, model__estimator__batch_size=60, model__estimator__beta_1=0.6, model__estimator__early_stopping=False, model__estimator__hidden_layer_sizes=(100, 100, 100), model__estimator__max_iter=100, model__estimator__momentum=0.0, model__estimator__nesterovs_momentum=True, model__estimator__power_t=1, model__estimator__shuffle=False, model__estimator__tol=0.001, model__estimator__validation_fraction=0.3, model__estimator__warm_start=False, preprocessor__num__normalize=passthrought, preprocessor__num__scale=passthrought; total time=   0.0s\n",
      "[CV] END model__estimator__alpha=0.01, model__estimator__batch_size=60, model__estimator__beta_1=0.6, model__estimator__early_stopping=False, model__estimator__hidden_layer_sizes=(100, 100, 100), model__estimator__max_iter=75, model__estimator__momentum=0.0, model__estimator__nesterovs_momentum=True, model__estimator__power_t=1, model__estimator__shuffle=False, model__estimator__tol=0.001, model__estimator__validation_fraction=0.3, model__estimator__warm_start=False, preprocessor__num__normalize=passthrought, preprocessor__num__scale=passthrought; total time=   0.0s\n",
      "[CV] END model__estimator__alpha=0.01, model__estimator__batch_size=60, model__estimator__beta_1=0.6, model__estimator__early_stopping=False, model__estimator__hidden_layer_sizes=(100, 100, 100), model__estimator__max_iter=75, model__estimator__momentum=0.0, model__estimator__nesterovs_momentum=True, model__estimator__power_t=1, model__estimator__shuffle=False, model__estimator__tol=0.001, model__estimator__validation_fraction=0.3, model__estimator__warm_start=False, preprocessor__num__normalize=passthrought, preprocessor__num__scale=passthrought; total time=   0.0s\n",
      "[CV] END model__estimator__alpha=0.01, model__estimator__batch_size=60, model__estimator__beta_1=0.6, model__estimator__early_stopping=False, model__estimator__hidden_layer_sizes=(100, 100, 100), model__estimator__max_iter=75, model__estimator__momentum=0.0, model__estimator__nesterovs_momentum=True, model__estimator__power_t=1, model__estimator__shuffle=False, model__estimator__tol=0.001, model__estimator__validation_fraction=0.3, model__estimator__warm_start=False, preprocessor__num__normalize=passthrought, preprocessor__num__scale=passthrought; total time=   0.0s\n",
      "[CV] END model__estimator__alpha=0.01, model__estimator__batch_size=60, model__estimator__beta_1=0.6, model__estimator__early_stopping=False, model__estimator__hidden_layer_sizes=(100, 100, 100), model__estimator__max_iter=75, model__estimator__momentum=0.0, model__estimator__nesterovs_momentum=True, model__estimator__power_t=1, model__estimator__shuffle=False, model__estimator__tol=0.001, model__estimator__validation_fraction=0.3, model__estimator__warm_start=False, preprocessor__num__normalize=passthrought, preprocessor__num__scale=passthrought; total time=   0.0s\n",
      "[CV] END model__estimator__alpha=0.01, model__estimator__batch_size=60, model__estimator__beta_1=0.6, model__estimator__early_stopping=False, model__estimator__hidden_layer_sizes=(100, 100, 100), model__estimator__max_iter=75, model__estimator__momentum=0.0, model__estimator__nesterovs_momentum=False, model__estimator__power_t=1, model__estimator__shuffle=True, model__estimator__tol=0.001, model__estimator__validation_fraction=0.3, model__estimator__warm_start=True, preprocessor__num__normalize=Normalizer(), preprocessor__num__scale=StandardScaler(); total time=  29.1s\n",
      "[CV] END model__estimator__alpha=0.01, model__estimator__batch_size=60, model__estimator__beta_1=0.6, model__estimator__early_stopping=False, model__estimator__hidden_layer_sizes=(100, 100, 100), model__estimator__max_iter=75, model__estimator__momentum=0.0, model__estimator__nesterovs_momentum=False, model__estimator__power_t=1, model__estimator__shuffle=True, model__estimator__tol=0.001, model__estimator__validation_fraction=0.3, model__estimator__warm_start=True, preprocessor__num__normalize=Normalizer(), preprocessor__num__scale=StandardScaler(); total time=  29.1s\n",
      "[CV] END model__estimator__alpha=0.01, model__estimator__batch_size=60, model__estimator__beta_1=0.6, model__estimator__early_stopping=False, model__estimator__hidden_layer_sizes=(100, 100, 100), model__estimator__max_iter=75, model__estimator__momentum=0.0, model__estimator__nesterovs_momentum=False, model__estimator__power_t=1, model__estimator__shuffle=True, model__estimator__tol=0.001, model__estimator__validation_fraction=0.3, model__estimator__warm_start=False, preprocessor__num__normalize=Normalizer(), preprocessor__num__scale=StandardScaler(); total time=  31.7s\n",
      "[CV] END model__estimator__alpha=0.01, model__estimator__batch_size=60, model__estimator__beta_1=0.6, model__estimator__early_stopping=False, model__estimator__hidden_layer_sizes=(100, 100, 100), model__estimator__max_iter=75, model__estimator__momentum=0.0, model__estimator__nesterovs_momentum=False, model__estimator__power_t=1, model__estimator__shuffle=False, model__estimator__tol=0.001, model__estimator__validation_fraction=0.3, model__estimator__warm_start=True, preprocessor__num__normalize=Normalizer(), preprocessor__num__scale=StandardScaler(); total time=  22.4s\n",
      "[CV] END model__estimator__alpha=0.01, model__estimator__batch_size=60, model__estimator__beta_1=0.6, model__estimator__early_stopping=False, model__estimator__hidden_layer_sizes=(100, 100, 100), model__estimator__max_iter=75, model__estimator__momentum=0.0, model__estimator__nesterovs_momentum=False, model__estimator__power_t=1, model__estimator__shuffle=False, model__estimator__tol=0.001, model__estimator__validation_fraction=0.3, model__estimator__warm_start=False, preprocessor__num__normalize=Normalizer(), preprocessor__num__scale=StandardScaler(); total time=  24.0s\n",
      "[CV] END model__estimator__alpha=0.01, model__estimator__batch_size=60, model__estimator__beta_1=0.6, model__estimator__early_stopping=False, model__estimator__hidden_layer_sizes=(100, 100, 100), model__estimator__max_iter=100, model__estimator__momentum=0.0, model__estimator__nesterovs_momentum=True, model__estimator__power_t=1, model__estimator__shuffle=True, model__estimator__tol=0.001, model__estimator__validation_fraction=0.3, model__estimator__warm_start=True, preprocessor__num__normalize=Normalizer(), preprocessor__num__scale=StandardScaler(); total time=  34.2s\n",
      "[CV] END model__estimator__alpha=0.01, model__estimator__batch_size=60, model__estimator__beta_1=0.6, model__estimator__early_stopping=False, model__estimator__hidden_layer_sizes=(100, 100, 100), model__estimator__max_iter=100, model__estimator__momentum=0.0, model__estimator__nesterovs_momentum=True, model__estimator__power_t=1, model__estimator__shuffle=True, model__estimator__tol=0.001, model__estimator__validation_fraction=0.3, model__estimator__warm_start=False, preprocessor__num__normalize=Normalizer(), preprocessor__num__scale=StandardScaler(); total time=  40.3s\n",
      "[CV] END model__estimator__alpha=0.01, model__estimator__batch_size=60, model__estimator__beta_1=0.6, model__estimator__early_stopping=False, model__estimator__hidden_layer_sizes=(100, 100, 100), model__estimator__max_iter=100, model__estimator__momentum=0.0, model__estimator__nesterovs_momentum=True, model__estimator__power_t=1, model__estimator__shuffle=True, model__estimator__tol=0.001, model__estimator__validation_fraction=0.3, model__estimator__warm_start=False, preprocessor__num__normalize=Normalizer(), preprocessor__num__scale=StandardScaler(); total time=  33.9s\n",
      "[CV] END model__estimator__alpha=0.01, model__estimator__batch_size=60, model__estimator__beta_1=0.6, model__estimator__early_stopping=False, model__estimator__hidden_layer_sizes=(100, 100, 100), model__estimator__max_iter=100, model__estimator__momentum=0.0, model__estimator__nesterovs_momentum=True, model__estimator__power_t=1, model__estimator__shuffle=False, model__estimator__tol=0.001, model__estimator__validation_fraction=0.3, model__estimator__warm_start=True, preprocessor__num__normalize=Normalizer(), preprocessor__num__scale=StandardScaler(); total time=  20.5s\n",
      "[CV] END model__estimator__alpha=0.01, model__estimator__batch_size=60, model__estimator__beta_1=0.6, model__estimator__early_stopping=False, model__estimator__hidden_layer_sizes=(100, 100, 100), model__estimator__max_iter=100, model__estimator__momentum=0.0, model__estimator__nesterovs_momentum=True, model__estimator__power_t=1, model__estimator__shuffle=False, model__estimator__tol=0.001, model__estimator__validation_fraction=0.3, model__estimator__warm_start=False, preprocessor__num__normalize=Normalizer(), preprocessor__num__scale=StandardScaler(); total time=  21.3s\n"
     ]
    },
    {
     "name": "stdout",
     "output_type": "stream",
     "text": [
      "[CV] END model__estimator__alpha=0.01, model__estimator__batch_size=60, model__estimator__beta_1=0.6, model__estimator__early_stopping=False, model__estimator__hidden_layer_sizes=(100, 100, 100), model__estimator__max_iter=75, model__estimator__momentum=0.0, model__estimator__nesterovs_momentum=False, model__estimator__power_t=1, model__estimator__shuffle=False, model__estimator__tol=0.001, model__estimator__validation_fraction=0.3, model__estimator__warm_start=False, preprocessor__num__normalize=passthrought, preprocessor__num__scale=StandardScaler(); total time=   0.0s\n",
      "[CV] END model__estimator__alpha=0.01, model__estimator__batch_size=60, model__estimator__beta_1=0.6, model__estimator__early_stopping=False, model__estimator__hidden_layer_sizes=(100, 100, 100), model__estimator__max_iter=75, model__estimator__momentum=0.0, model__estimator__nesterovs_momentum=False, model__estimator__power_t=1, model__estimator__shuffle=False, model__estimator__tol=0.001, model__estimator__validation_fraction=0.3, model__estimator__warm_start=False, preprocessor__num__normalize=passthrought, preprocessor__num__scale=StandardScaler(); total time=   0.0s\n",
      "[CV] END model__estimator__alpha=0.01, model__estimator__batch_size=60, model__estimator__beta_1=0.6, model__estimator__early_stopping=False, model__estimator__hidden_layer_sizes=(100, 100, 100), model__estimator__max_iter=75, model__estimator__momentum=0.0, model__estimator__nesterovs_momentum=False, model__estimator__power_t=1, model__estimator__shuffle=False, model__estimator__tol=0.001, model__estimator__validation_fraction=0.3, model__estimator__warm_start=False, preprocessor__num__normalize=passthrought, preprocessor__num__scale=StandardScaler(); total time=   0.0s\n",
      "[CV] END model__estimator__alpha=0.01, model__estimator__batch_size=60, model__estimator__beta_1=0.6, model__estimator__early_stopping=False, model__estimator__hidden_layer_sizes=(100, 100, 100), model__estimator__max_iter=75, model__estimator__momentum=0.0, model__estimator__nesterovs_momentum=False, model__estimator__power_t=1, model__estimator__shuffle=False, model__estimator__tol=0.001, model__estimator__validation_fraction=0.3, model__estimator__warm_start=False, preprocessor__num__normalize=passthrought, preprocessor__num__scale=StandardScaler(); total time=   0.0s\n",
      "[CV] END model__estimator__alpha=0.01, model__estimator__batch_size=60, model__estimator__beta_1=0.6, model__estimator__early_stopping=False, model__estimator__hidden_layer_sizes=(100, 100, 100), model__estimator__max_iter=75, model__estimator__momentum=0.0, model__estimator__nesterovs_momentum=False, model__estimator__power_t=1, model__estimator__shuffle=False, model__estimator__tol=0.001, model__estimator__validation_fraction=0.3, model__estimator__warm_start=False, preprocessor__num__normalize=passthrought, preprocessor__num__scale=StandardScaler(); total time=   0.0s\n",
      "[CV] END model__estimator__alpha=0.01, model__estimator__batch_size=60, model__estimator__beta_1=0.6, model__estimator__early_stopping=False, model__estimator__hidden_layer_sizes=(100, 100, 100), model__estimator__max_iter=75, model__estimator__momentum=0.0, model__estimator__nesterovs_momentum=False, model__estimator__power_t=1, model__estimator__shuffle=False, model__estimator__tol=0.001, model__estimator__validation_fraction=0.3, model__estimator__warm_start=False, preprocessor__num__normalize=passthrought, preprocessor__num__scale=passthrought; total time=   0.0s\n",
      "[CV] END model__estimator__alpha=0.01, model__estimator__batch_size=60, model__estimator__beta_1=0.6, model__estimator__early_stopping=False, model__estimator__hidden_layer_sizes=(100, 100, 100), model__estimator__max_iter=75, model__estimator__momentum=0.0, model__estimator__nesterovs_momentum=False, model__estimator__power_t=1, model__estimator__shuffle=False, model__estimator__tol=0.001, model__estimator__validation_fraction=0.3, model__estimator__warm_start=False, preprocessor__num__normalize=passthrought, preprocessor__num__scale=passthrought; total time=   0.0s\n",
      "[CV] END model__estimator__alpha=0.01, model__estimator__batch_size=60, model__estimator__beta_1=0.6, model__estimator__early_stopping=False, model__estimator__hidden_layer_sizes=(100, 100, 100), model__estimator__max_iter=75, model__estimator__momentum=0.0, model__estimator__nesterovs_momentum=False, model__estimator__power_t=1, model__estimator__shuffle=False, model__estimator__tol=0.001, model__estimator__validation_fraction=0.3, model__estimator__warm_start=False, preprocessor__num__normalize=passthrought, preprocessor__num__scale=passthrought; total time=   0.0s\n",
      "[CV] END model__estimator__alpha=0.01, model__estimator__batch_size=60, model__estimator__beta_1=0.6, model__estimator__early_stopping=False, model__estimator__hidden_layer_sizes=(100, 100, 100), model__estimator__max_iter=75, model__estimator__momentum=0.0, model__estimator__nesterovs_momentum=False, model__estimator__power_t=1, model__estimator__shuffle=False, model__estimator__tol=0.001, model__estimator__validation_fraction=0.3, model__estimator__warm_start=False, preprocessor__num__normalize=passthrought, preprocessor__num__scale=passthrought; total time=   0.0s\n",
      "[CV] END model__estimator__alpha=0.01, model__estimator__batch_size=60, model__estimator__beta_1=0.6, model__estimator__early_stopping=False, model__estimator__hidden_layer_sizes=(100, 100, 100), model__estimator__max_iter=75, model__estimator__momentum=0.0, model__estimator__nesterovs_momentum=False, model__estimator__power_t=1, model__estimator__shuffle=False, model__estimator__tol=0.001, model__estimator__validation_fraction=0.3, model__estimator__warm_start=False, preprocessor__num__normalize=passthrought, preprocessor__num__scale=passthrought; total time=   0.0s\n",
      "[CV] END model__estimator__alpha=0.01, model__estimator__batch_size=60, model__estimator__beta_1=0.6, model__estimator__early_stopping=False, model__estimator__hidden_layer_sizes=(100, 100, 100), model__estimator__max_iter=100, model__estimator__momentum=0.0, model__estimator__nesterovs_momentum=True, model__estimator__power_t=1, model__estimator__shuffle=True, model__estimator__tol=0.001, model__estimator__validation_fraction=0.3, model__estimator__warm_start=True, preprocessor__num__normalize=Normalizer(), preprocessor__num__scale=StandardScaler(); total time=  34.2s\n",
      "[CV] END model__estimator__alpha=0.01, model__estimator__batch_size=60, model__estimator__beta_1=0.6, model__estimator__early_stopping=False, model__estimator__hidden_layer_sizes=(100, 100, 100), model__estimator__max_iter=100, model__estimator__momentum=0.0, model__estimator__nesterovs_momentum=True, model__estimator__power_t=1, model__estimator__shuffle=True, model__estimator__tol=0.001, model__estimator__validation_fraction=0.3, model__estimator__warm_start=True, preprocessor__num__normalize=Normalizer(), preprocessor__num__scale=StandardScaler(); total time=  39.7s\n",
      "[CV] END model__estimator__alpha=0.01, model__estimator__batch_size=60, model__estimator__beta_1=0.6, model__estimator__early_stopping=False, model__estimator__hidden_layer_sizes=(100, 100, 100), model__estimator__max_iter=100, model__estimator__momentum=0.0, model__estimator__nesterovs_momentum=True, model__estimator__power_t=1, model__estimator__shuffle=True, model__estimator__tol=0.001, model__estimator__validation_fraction=0.3, model__estimator__warm_start=False, preprocessor__num__normalize=Normalizer(), preprocessor__num__scale=StandardScaler(); total time=  39.6s\n",
      "[CV] END model__estimator__alpha=0.01, model__estimator__batch_size=60, model__estimator__beta_1=0.6, model__estimator__early_stopping=False, model__estimator__hidden_layer_sizes=(100, 100, 100), model__estimator__max_iter=100, model__estimator__momentum=0.0, model__estimator__nesterovs_momentum=True, model__estimator__power_t=1, model__estimator__shuffle=False, model__estimator__tol=0.001, model__estimator__validation_fraction=0.3, model__estimator__warm_start=True, preprocessor__num__normalize=Normalizer(), preprocessor__num__scale=StandardScaler(); total time=  28.4s\n",
      "[CV] END model__estimator__alpha=0.01, model__estimator__batch_size=60, model__estimator__beta_1=0.6, model__estimator__early_stopping=False, model__estimator__hidden_layer_sizes=(100, 100, 100), model__estimator__max_iter=100, model__estimator__momentum=0.0, model__estimator__nesterovs_momentum=True, model__estimator__power_t=1, model__estimator__shuffle=False, model__estimator__tol=0.001, model__estimator__validation_fraction=0.3, model__estimator__warm_start=True, preprocessor__num__normalize=Normalizer(), preprocessor__num__scale=StandardScaler(); total time=  29.8s\n",
      "[CV] END model__estimator__alpha=0.01, model__estimator__batch_size=60, model__estimator__beta_1=0.6, model__estimator__early_stopping=False, model__estimator__hidden_layer_sizes=(100, 100, 100), model__estimator__max_iter=100, model__estimator__momentum=0.0, model__estimator__nesterovs_momentum=True, model__estimator__power_t=1, model__estimator__shuffle=False, model__estimator__tol=0.001, model__estimator__validation_fraction=0.3, model__estimator__warm_start=True, preprocessor__num__normalize=Normalizer(), preprocessor__num__scale=StandardScaler(); total time=  29.1s\n",
      "[CV] END model__estimator__alpha=0.01, model__estimator__batch_size=60, model__estimator__beta_1=0.6, model__estimator__early_stopping=False, model__estimator__hidden_layer_sizes=(100, 100, 100), model__estimator__max_iter=100, model__estimator__momentum=0.0, model__estimator__nesterovs_momentum=True, model__estimator__power_t=1, model__estimator__shuffle=False, model__estimator__tol=0.001, model__estimator__validation_fraction=0.3, model__estimator__warm_start=False, preprocessor__num__normalize=Normalizer(), preprocessor__num__scale=StandardScaler(); total time=  31.8s\n",
      "[CV] END model__estimator__alpha=0.01, model__estimator__batch_size=60, model__estimator__beta_1=0.6, model__estimator__early_stopping=False, model__estimator__hidden_layer_sizes=(100, 100, 100), model__estimator__max_iter=100, model__estimator__momentum=0.0, model__estimator__nesterovs_momentum=False, model__estimator__power_t=1, model__estimator__shuffle=True, model__estimator__tol=0.001, model__estimator__validation_fraction=0.3, model__estimator__warm_start=True, preprocessor__num__normalize=Normalizer(), preprocessor__num__scale=StandardScaler(); total time=  36.9s\n",
      "[CV] END model__estimator__alpha=0.01, model__estimator__batch_size=60, model__estimator__beta_1=0.6, model__estimator__early_stopping=False, model__estimator__hidden_layer_sizes=(100, 100, 100), model__estimator__max_iter=100, model__estimator__momentum=0.0, model__estimator__nesterovs_momentum=False, model__estimator__power_t=1, model__estimator__shuffle=True, model__estimator__tol=0.001, model__estimator__validation_fraction=0.3, model__estimator__warm_start=True, preprocessor__num__normalize=Normalizer(), preprocessor__num__scale=passthrought; total time=   0.0s\n",
      "[CV] END model__estimator__alpha=0.01, model__estimator__batch_size=60, model__estimator__beta_1=0.6, model__estimator__early_stopping=False, model__estimator__hidden_layer_sizes=(100, 100, 100), model__estimator__max_iter=100, model__estimator__momentum=0.0, model__estimator__nesterovs_momentum=False, model__estimator__power_t=1, model__estimator__shuffle=True, model__estimator__tol=0.001, model__estimator__validation_fraction=0.3, model__estimator__warm_start=True, preprocessor__num__normalize=Normalizer(), preprocessor__num__scale=passthrought; total time=   0.0s\n",
      "[CV] END model__estimator__alpha=0.01, model__estimator__batch_size=60, model__estimator__beta_1=0.6, model__estimator__early_stopping=False, model__estimator__hidden_layer_sizes=(100, 100, 100), model__estimator__max_iter=100, model__estimator__momentum=0.0, model__estimator__nesterovs_momentum=False, model__estimator__power_t=1, model__estimator__shuffle=True, model__estimator__tol=0.001, model__estimator__validation_fraction=0.3, model__estimator__warm_start=True, preprocessor__num__normalize=Normalizer(), preprocessor__num__scale=passthrought; total time=   0.0s\n",
      "[CV] END model__estimator__alpha=0.01, model__estimator__batch_size=60, model__estimator__beta_1=0.6, model__estimator__early_stopping=False, model__estimator__hidden_layer_sizes=(100, 100, 100), model__estimator__max_iter=100, model__estimator__momentum=0.0, model__estimator__nesterovs_momentum=False, model__estimator__power_t=1, model__estimator__shuffle=True, model__estimator__tol=0.001, model__estimator__validation_fraction=0.3, model__estimator__warm_start=True, preprocessor__num__normalize=Normalizer(), preprocessor__num__scale=passthrought; total time=   0.0s\n",
      "[CV] END model__estimator__alpha=0.01, model__estimator__batch_size=60, model__estimator__beta_1=0.6, model__estimator__early_stopping=False, model__estimator__hidden_layer_sizes=(100, 100, 100), model__estimator__max_iter=100, model__estimator__momentum=0.0, model__estimator__nesterovs_momentum=False, model__estimator__power_t=1, model__estimator__shuffle=True, model__estimator__tol=0.001, model__estimator__validation_fraction=0.3, model__estimator__warm_start=True, preprocessor__num__normalize=Normalizer(), preprocessor__num__scale=passthrought; total time=   0.0s\n",
      "[CV] END model__estimator__alpha=0.01, model__estimator__batch_size=60, model__estimator__beta_1=0.6, model__estimator__early_stopping=False, model__estimator__hidden_layer_sizes=(100, 100, 100), model__estimator__max_iter=100, model__estimator__momentum=0.0, model__estimator__nesterovs_momentum=False, model__estimator__power_t=1, model__estimator__shuffle=True, model__estimator__tol=0.001, model__estimator__validation_fraction=0.3, model__estimator__warm_start=True, preprocessor__num__normalize=passthrought, preprocessor__num__scale=StandardScaler(); total time=   0.0s\n",
      "[CV] END model__estimator__alpha=0.01, model__estimator__batch_size=60, model__estimator__beta_1=0.6, model__estimator__early_stopping=False, model__estimator__hidden_layer_sizes=(100, 100, 100), model__estimator__max_iter=100, model__estimator__momentum=0.0, model__estimator__nesterovs_momentum=False, model__estimator__power_t=1, model__estimator__shuffle=True, model__estimator__tol=0.001, model__estimator__validation_fraction=0.3, model__estimator__warm_start=True, preprocessor__num__normalize=passthrought, preprocessor__num__scale=StandardScaler(); total time=   0.0s\n",
      "[CV] END model__estimator__alpha=0.01, model__estimator__batch_size=60, model__estimator__beta_1=0.6, model__estimator__early_stopping=False, model__estimator__hidden_layer_sizes=(100, 100, 100), model__estimator__max_iter=100, model__estimator__momentum=0.0, model__estimator__nesterovs_momentum=False, model__estimator__power_t=1, model__estimator__shuffle=True, model__estimator__tol=0.001, model__estimator__validation_fraction=0.3, model__estimator__warm_start=True, preprocessor__num__normalize=passthrought, preprocessor__num__scale=StandardScaler(); total time=   0.0s\n",
      "[CV] END model__estimator__alpha=0.01, model__estimator__batch_size=60, model__estimator__beta_1=0.6, model__estimator__early_stopping=False, model__estimator__hidden_layer_sizes=(100, 100, 100), model__estimator__max_iter=100, model__estimator__momentum=0.0, model__estimator__nesterovs_momentum=False, model__estimator__power_t=1, model__estimator__shuffle=True, model__estimator__tol=0.001, model__estimator__validation_fraction=0.3, model__estimator__warm_start=True, preprocessor__num__normalize=passthrought, preprocessor__num__scale=StandardScaler(); total time=   0.0s\n",
      "[CV] END model__estimator__alpha=0.01, model__estimator__batch_size=60, model__estimator__beta_1=0.6, model__estimator__early_stopping=False, model__estimator__hidden_layer_sizes=(100, 100, 100), model__estimator__max_iter=100, model__estimator__momentum=0.0, model__estimator__nesterovs_momentum=False, model__estimator__power_t=1, model__estimator__shuffle=True, model__estimator__tol=0.001, model__estimator__validation_fraction=0.3, model__estimator__warm_start=True, preprocessor__num__normalize=passthrought, preprocessor__num__scale=StandardScaler(); total time=   0.0s\n"
     ]
    },
    {
     "name": "stdout",
     "output_type": "stream",
     "text": [
      "[CV] END model__estimator__alpha=0.01, model__estimator__batch_size=60, model__estimator__beta_1=0.6, model__estimator__early_stopping=False, model__estimator__hidden_layer_sizes=(100, 100, 100), model__estimator__max_iter=100, model__estimator__momentum=0.0, model__estimator__nesterovs_momentum=True, model__estimator__power_t=1, model__estimator__shuffle=False, model__estimator__tol=0.001, model__estimator__validation_fraction=0.3, model__estimator__warm_start=False, preprocessor__num__normalize=Normalizer(), preprocessor__num__scale=StandardScaler(); total time=  20.7s\n",
      "[CV] END model__estimator__alpha=0.01, model__estimator__batch_size=60, model__estimator__beta_1=0.6, model__estimator__early_stopping=False, model__estimator__hidden_layer_sizes=(100, 100, 100), model__estimator__max_iter=100, model__estimator__momentum=0.0, model__estimator__nesterovs_momentum=False, model__estimator__power_t=1, model__estimator__shuffle=True, model__estimator__tol=0.001, model__estimator__validation_fraction=0.3, model__estimator__warm_start=True, preprocessor__num__normalize=Normalizer(), preprocessor__num__scale=StandardScaler(); total time=  34.8s\n",
      "[CV] END model__estimator__alpha=0.01, model__estimator__batch_size=60, model__estimator__beta_1=0.6, model__estimator__early_stopping=False, model__estimator__hidden_layer_sizes=(100, 100, 100), model__estimator__max_iter=100, model__estimator__momentum=0.0, model__estimator__nesterovs_momentum=False, model__estimator__power_t=1, model__estimator__shuffle=True, model__estimator__tol=0.001, model__estimator__validation_fraction=0.3, model__estimator__warm_start=False, preprocessor__num__normalize=Normalizer(), preprocessor__num__scale=StandardScaler(); total time=  35.2s\n",
      "[CV] END model__estimator__alpha=0.01, model__estimator__batch_size=60, model__estimator__beta_1=0.6, model__estimator__early_stopping=False, model__estimator__hidden_layer_sizes=(100, 100, 100), model__estimator__max_iter=100, model__estimator__momentum=0.0, model__estimator__nesterovs_momentum=False, model__estimator__power_t=1, model__estimator__shuffle=True, model__estimator__tol=0.001, model__estimator__validation_fraction=0.3, model__estimator__warm_start=False, preprocessor__num__normalize=Normalizer(), preprocessor__num__scale=passthrought; total time=   0.0s\n",
      "[CV] END model__estimator__alpha=0.01, model__estimator__batch_size=60, model__estimator__beta_1=0.6, model__estimator__early_stopping=False, model__estimator__hidden_layer_sizes=(100, 100, 100), model__estimator__max_iter=100, model__estimator__momentum=0.0, model__estimator__nesterovs_momentum=False, model__estimator__power_t=1, model__estimator__shuffle=True, model__estimator__tol=0.001, model__estimator__validation_fraction=0.3, model__estimator__warm_start=False, preprocessor__num__normalize=Normalizer(), preprocessor__num__scale=passthrought; total time=   0.0s\n",
      "[CV] END model__estimator__alpha=0.01, model__estimator__batch_size=60, model__estimator__beta_1=0.6, model__estimator__early_stopping=False, model__estimator__hidden_layer_sizes=(100, 100, 100), model__estimator__max_iter=100, model__estimator__momentum=0.0, model__estimator__nesterovs_momentum=False, model__estimator__power_t=1, model__estimator__shuffle=True, model__estimator__tol=0.001, model__estimator__validation_fraction=0.3, model__estimator__warm_start=False, preprocessor__num__normalize=Normalizer(), preprocessor__num__scale=passthrought; total time=   0.0s\n",
      "[CV] END model__estimator__alpha=0.01, model__estimator__batch_size=60, model__estimator__beta_1=0.6, model__estimator__early_stopping=False, model__estimator__hidden_layer_sizes=(100, 100, 100), model__estimator__max_iter=100, model__estimator__momentum=0.0, model__estimator__nesterovs_momentum=False, model__estimator__power_t=1, model__estimator__shuffle=True, model__estimator__tol=0.001, model__estimator__validation_fraction=0.3, model__estimator__warm_start=False, preprocessor__num__normalize=Normalizer(), preprocessor__num__scale=passthrought; total time=   0.0s\n",
      "[CV] END model__estimator__alpha=0.01, model__estimator__batch_size=60, model__estimator__beta_1=0.6, model__estimator__early_stopping=False, model__estimator__hidden_layer_sizes=(100, 100, 100), model__estimator__max_iter=100, model__estimator__momentum=0.0, model__estimator__nesterovs_momentum=False, model__estimator__power_t=1, model__estimator__shuffle=True, model__estimator__tol=0.001, model__estimator__validation_fraction=0.3, model__estimator__warm_start=False, preprocessor__num__normalize=Normalizer(), preprocessor__num__scale=passthrought; total time=   0.0s\n",
      "[CV] END model__estimator__alpha=0.01, model__estimator__batch_size=60, model__estimator__beta_1=0.6, model__estimator__early_stopping=False, model__estimator__hidden_layer_sizes=(100, 100, 100), model__estimator__max_iter=100, model__estimator__momentum=0.0, model__estimator__nesterovs_momentum=False, model__estimator__power_t=1, model__estimator__shuffle=True, model__estimator__tol=0.001, model__estimator__validation_fraction=0.3, model__estimator__warm_start=False, preprocessor__num__normalize=passthrought, preprocessor__num__scale=StandardScaler(); total time=   0.0s\n",
      "[CV] END model__estimator__alpha=0.01, model__estimator__batch_size=60, model__estimator__beta_1=0.6, model__estimator__early_stopping=False, model__estimator__hidden_layer_sizes=(100, 100, 100), model__estimator__max_iter=100, model__estimator__momentum=0.0, model__estimator__nesterovs_momentum=False, model__estimator__power_t=1, model__estimator__shuffle=True, model__estimator__tol=0.001, model__estimator__validation_fraction=0.3, model__estimator__warm_start=False, preprocessor__num__normalize=passthrought, preprocessor__num__scale=StandardScaler(); total time=   0.0s\n",
      "[CV] END model__estimator__alpha=0.01, model__estimator__batch_size=60, model__estimator__beta_1=0.6, model__estimator__early_stopping=False, model__estimator__hidden_layer_sizes=(100, 100, 100), model__estimator__max_iter=100, model__estimator__momentum=0.0, model__estimator__nesterovs_momentum=False, model__estimator__power_t=1, model__estimator__shuffle=True, model__estimator__tol=0.001, model__estimator__validation_fraction=0.3, model__estimator__warm_start=False, preprocessor__num__normalize=passthrought, preprocessor__num__scale=StandardScaler(); total time=   0.0s\n",
      "[CV] END model__estimator__alpha=0.01, model__estimator__batch_size=60, model__estimator__beta_1=0.6, model__estimator__early_stopping=False, model__estimator__hidden_layer_sizes=(100, 100, 100), model__estimator__max_iter=100, model__estimator__momentum=0.0, model__estimator__nesterovs_momentum=False, model__estimator__power_t=1, model__estimator__shuffle=True, model__estimator__tol=0.001, model__estimator__validation_fraction=0.3, model__estimator__warm_start=False, preprocessor__num__normalize=passthrought, preprocessor__num__scale=StandardScaler(); total time=   0.0s\n",
      "[CV] END model__estimator__alpha=0.01, model__estimator__batch_size=60, model__estimator__beta_1=0.6, model__estimator__early_stopping=False, model__estimator__hidden_layer_sizes=(100, 100, 100), model__estimator__max_iter=100, model__estimator__momentum=0.0, model__estimator__nesterovs_momentum=False, model__estimator__power_t=1, model__estimator__shuffle=True, model__estimator__tol=0.001, model__estimator__validation_fraction=0.3, model__estimator__warm_start=False, preprocessor__num__normalize=passthrought, preprocessor__num__scale=StandardScaler(); total time=   0.0s\n",
      "[CV] END model__estimator__alpha=0.01, model__estimator__batch_size=60, model__estimator__beta_1=0.6, model__estimator__early_stopping=False, model__estimator__hidden_layer_sizes=(100, 100, 100), model__estimator__max_iter=100, model__estimator__momentum=0.0, model__estimator__nesterovs_momentum=False, model__estimator__power_t=1, model__estimator__shuffle=True, model__estimator__tol=0.001, model__estimator__validation_fraction=0.3, model__estimator__warm_start=False, preprocessor__num__normalize=passthrought, preprocessor__num__scale=passthrought; total time=   0.0s\n",
      "[CV] END model__estimator__alpha=0.01, model__estimator__batch_size=60, model__estimator__beta_1=0.6, model__estimator__early_stopping=False, model__estimator__hidden_layer_sizes=(100, 100, 100), model__estimator__max_iter=100, model__estimator__momentum=0.0, model__estimator__nesterovs_momentum=True, model__estimator__power_t=1, model__estimator__shuffle=False, model__estimator__tol=0.001, model__estimator__validation_fraction=0.3, model__estimator__warm_start=False, preprocessor__num__normalize=Normalizer(), preprocessor__num__scale=StandardScaler(); total time=  31.9s\n",
      "[CV] END model__estimator__alpha=0.01, model__estimator__batch_size=60, model__estimator__beta_1=0.6, model__estimator__early_stopping=False, model__estimator__hidden_layer_sizes=(100, 100, 100), model__estimator__max_iter=100, model__estimator__momentum=0.0, model__estimator__nesterovs_momentum=False, model__estimator__power_t=1, model__estimator__shuffle=True, model__estimator__tol=0.001, model__estimator__validation_fraction=0.3, model__estimator__warm_start=True, preprocessor__num__normalize=Normalizer(), preprocessor__num__scale=StandardScaler(); total time=  37.7s\n",
      "[CV] END model__estimator__alpha=0.01, model__estimator__batch_size=60, model__estimator__beta_1=0.6, model__estimator__early_stopping=False, model__estimator__hidden_layer_sizes=(100, 100, 100), model__estimator__max_iter=100, model__estimator__momentum=0.0, model__estimator__nesterovs_momentum=False, model__estimator__power_t=1, model__estimator__shuffle=True, model__estimator__tol=0.001, model__estimator__validation_fraction=0.3, model__estimator__warm_start=False, preprocessor__num__normalize=Normalizer(), preprocessor__num__scale=StandardScaler(); total time=  44.7s\n",
      "[CV] END model__estimator__alpha=0.01, model__estimator__batch_size=60, model__estimator__beta_1=0.6, model__estimator__early_stopping=False, model__estimator__hidden_layer_sizes=(100, 100, 100), model__estimator__max_iter=100, model__estimator__momentum=0.0, model__estimator__nesterovs_momentum=False, model__estimator__power_t=1, model__estimator__shuffle=False, model__estimator__tol=0.001, model__estimator__validation_fraction=0.3, model__estimator__warm_start=True, preprocessor__num__normalize=Normalizer(), preprocessor__num__scale=StandardScaler(); total time=  33.8s\n",
      "[CV] END model__estimator__alpha=0.01, model__estimator__batch_size=60, model__estimator__beta_1=0.6, model__estimator__early_stopping=False, model__estimator__hidden_layer_sizes=(100, 100, 100), model__estimator__max_iter=100, model__estimator__momentum=0.0, model__estimator__nesterovs_momentum=False, model__estimator__power_t=1, model__estimator__shuffle=False, model__estimator__tol=0.001, model__estimator__validation_fraction=0.3, model__estimator__warm_start=True, preprocessor__num__normalize=Normalizer(), preprocessor__num__scale=passthrought; total time=   0.0s\n",
      "[CV] END model__estimator__alpha=0.01, model__estimator__batch_size=60, model__estimator__beta_1=0.6, model__estimator__early_stopping=False, model__estimator__hidden_layer_sizes=(100, 100, 100), model__estimator__max_iter=100, model__estimator__momentum=0.0, model__estimator__nesterovs_momentum=False, model__estimator__power_t=1, model__estimator__shuffle=False, model__estimator__tol=0.001, model__estimator__validation_fraction=0.3, model__estimator__warm_start=True, preprocessor__num__normalize=Normalizer(), preprocessor__num__scale=passthrought; total time=   0.0s\n",
      "[CV] END model__estimator__alpha=0.01, model__estimator__batch_size=60, model__estimator__beta_1=0.6, model__estimator__early_stopping=False, model__estimator__hidden_layer_sizes=(100, 100, 100), model__estimator__max_iter=100, model__estimator__momentum=0.0, model__estimator__nesterovs_momentum=False, model__estimator__power_t=1, model__estimator__shuffle=False, model__estimator__tol=0.001, model__estimator__validation_fraction=0.3, model__estimator__warm_start=True, preprocessor__num__normalize=Normalizer(), preprocessor__num__scale=passthrought; total time=   0.0s\n",
      "[CV] END model__estimator__alpha=0.01, model__estimator__batch_size=60, model__estimator__beta_1=0.6, model__estimator__early_stopping=False, model__estimator__hidden_layer_sizes=(100, 100, 100), model__estimator__max_iter=100, model__estimator__momentum=0.0, model__estimator__nesterovs_momentum=False, model__estimator__power_t=1, model__estimator__shuffle=False, model__estimator__tol=0.001, model__estimator__validation_fraction=0.3, model__estimator__warm_start=True, preprocessor__num__normalize=Normalizer(), preprocessor__num__scale=passthrought; total time=   0.0s\n",
      "[CV] END model__estimator__alpha=0.01, model__estimator__batch_size=60, model__estimator__beta_1=0.6, model__estimator__early_stopping=False, model__estimator__hidden_layer_sizes=(100, 100, 100), model__estimator__max_iter=100, model__estimator__momentum=0.0, model__estimator__nesterovs_momentum=False, model__estimator__power_t=1, model__estimator__shuffle=False, model__estimator__tol=0.001, model__estimator__validation_fraction=0.3, model__estimator__warm_start=True, preprocessor__num__normalize=Normalizer(), preprocessor__num__scale=passthrought; total time=   0.0s\n",
      "[CV] END model__estimator__alpha=0.01, model__estimator__batch_size=60, model__estimator__beta_1=0.6, model__estimator__early_stopping=False, model__estimator__hidden_layer_sizes=(100, 100, 100), model__estimator__max_iter=100, model__estimator__momentum=0.0, model__estimator__nesterovs_momentum=False, model__estimator__power_t=1, model__estimator__shuffle=False, model__estimator__tol=0.001, model__estimator__validation_fraction=0.3, model__estimator__warm_start=True, preprocessor__num__normalize=passthrought, preprocessor__num__scale=StandardScaler(); total time=   0.0s\n",
      "[CV] END model__estimator__alpha=0.01, model__estimator__batch_size=60, model__estimator__beta_1=0.6, model__estimator__early_stopping=False, model__estimator__hidden_layer_sizes=(100, 100, 100), model__estimator__max_iter=100, model__estimator__momentum=0.0, model__estimator__nesterovs_momentum=False, model__estimator__power_t=1, model__estimator__shuffle=False, model__estimator__tol=0.001, model__estimator__validation_fraction=0.3, model__estimator__warm_start=True, preprocessor__num__normalize=passthrought, preprocessor__num__scale=StandardScaler(); total time=   0.0s\n",
      "[CV] END model__estimator__alpha=0.01, model__estimator__batch_size=60, model__estimator__beta_1=0.6, model__estimator__early_stopping=False, model__estimator__hidden_layer_sizes=(100, 100, 100), model__estimator__max_iter=100, model__estimator__momentum=0.0, model__estimator__nesterovs_momentum=False, model__estimator__power_t=1, model__estimator__shuffle=False, model__estimator__tol=0.001, model__estimator__validation_fraction=0.3, model__estimator__warm_start=True, preprocessor__num__normalize=passthrought, preprocessor__num__scale=StandardScaler(); total time=   0.0s\n",
      "[CV] END model__estimator__alpha=0.01, model__estimator__batch_size=60, model__estimator__beta_1=0.6, model__estimator__early_stopping=False, model__estimator__hidden_layer_sizes=(100, 100, 100), model__estimator__max_iter=100, model__estimator__momentum=0.0, model__estimator__nesterovs_momentum=False, model__estimator__power_t=1, model__estimator__shuffle=False, model__estimator__tol=0.001, model__estimator__validation_fraction=0.3, model__estimator__warm_start=True, preprocessor__num__normalize=passthrought, preprocessor__num__scale=StandardScaler(); total time=   0.0s\n",
      "[CV] END model__estimator__alpha=0.01, model__estimator__batch_size=60, model__estimator__beta_1=0.6, model__estimator__early_stopping=False, model__estimator__hidden_layer_sizes=(100, 100, 100), model__estimator__max_iter=100, model__estimator__momentum=0.0, model__estimator__nesterovs_momentum=False, model__estimator__power_t=1, model__estimator__shuffle=False, model__estimator__tol=0.001, model__estimator__validation_fraction=0.3, model__estimator__warm_start=True, preprocessor__num__normalize=passthrought, preprocessor__num__scale=StandardScaler(); total time=   0.0s\n"
     ]
    },
    {
     "name": "stdout",
     "output_type": "stream",
     "text": [
      "[CV] END model__estimator__alpha=0.01, model__estimator__batch_size=60, model__estimator__beta_1=0.6, model__estimator__early_stopping=False, model__estimator__hidden_layer_sizes=(100, 100, 100), model__estimator__max_iter=100, model__estimator__momentum=0.0, model__estimator__nesterovs_momentum=False, model__estimator__power_t=1, model__estimator__shuffle=True, model__estimator__tol=0.001, model__estimator__validation_fraction=0.3, model__estimator__warm_start=False, preprocessor__num__normalize=passthrought, preprocessor__num__scale=passthrought; total time=   0.0s\n",
      "[CV] END model__estimator__alpha=0.01, model__estimator__batch_size=60, model__estimator__beta_1=0.6, model__estimator__early_stopping=False, model__estimator__hidden_layer_sizes=(100, 100, 100), model__estimator__max_iter=100, model__estimator__momentum=0.0, model__estimator__nesterovs_momentum=False, model__estimator__power_t=1, model__estimator__shuffle=True, model__estimator__tol=0.001, model__estimator__validation_fraction=0.3, model__estimator__warm_start=False, preprocessor__num__normalize=passthrought, preprocessor__num__scale=passthrought; total time=   0.0s\n",
      "[CV] END model__estimator__alpha=0.01, model__estimator__batch_size=60, model__estimator__beta_1=0.6, model__estimator__early_stopping=False, model__estimator__hidden_layer_sizes=(100, 100, 100), model__estimator__max_iter=100, model__estimator__momentum=0.0, model__estimator__nesterovs_momentum=False, model__estimator__power_t=1, model__estimator__shuffle=True, model__estimator__tol=0.001, model__estimator__validation_fraction=0.3, model__estimator__warm_start=False, preprocessor__num__normalize=passthrought, preprocessor__num__scale=passthrought; total time=   0.0s\n",
      "[CV] END model__estimator__alpha=0.01, model__estimator__batch_size=60, model__estimator__beta_1=0.6, model__estimator__early_stopping=False, model__estimator__hidden_layer_sizes=(100, 100, 100), model__estimator__max_iter=100, model__estimator__momentum=0.0, model__estimator__nesterovs_momentum=False, model__estimator__power_t=1, model__estimator__shuffle=True, model__estimator__tol=0.001, model__estimator__validation_fraction=0.3, model__estimator__warm_start=False, preprocessor__num__normalize=passthrought, preprocessor__num__scale=passthrought; total time=   0.0s\n",
      "[CV] END model__estimator__alpha=0.01, model__estimator__batch_size=60, model__estimator__beta_1=0.6, model__estimator__early_stopping=False, model__estimator__hidden_layer_sizes=(100, 100, 100), model__estimator__max_iter=100, model__estimator__momentum=0.0, model__estimator__nesterovs_momentum=False, model__estimator__power_t=1, model__estimator__shuffle=False, model__estimator__tol=0.001, model__estimator__validation_fraction=0.3, model__estimator__warm_start=True, preprocessor__num__normalize=Normalizer(), preprocessor__num__scale=StandardScaler(); total time=  29.4s\n",
      "[CV] END model__estimator__alpha=0.01, model__estimator__batch_size=60, model__estimator__beta_1=0.6, model__estimator__early_stopping=False, model__estimator__hidden_layer_sizes=(100, 100, 100), model__estimator__max_iter=100, model__estimator__momentum=0.0, model__estimator__nesterovs_momentum=False, model__estimator__power_t=1, model__estimator__shuffle=False, model__estimator__tol=0.001, model__estimator__validation_fraction=0.3, model__estimator__warm_start=True, preprocessor__num__normalize=Normalizer(), preprocessor__num__scale=StandardScaler(); total time=  26.6s\n",
      "[CV] END model__estimator__alpha=0.01, model__estimator__batch_size=60, model__estimator__beta_1=0.6, model__estimator__early_stopping=False, model__estimator__hidden_layer_sizes=(100, 100, 100), model__estimator__max_iter=100, model__estimator__momentum=0.0, model__estimator__nesterovs_momentum=False, model__estimator__power_t=1, model__estimator__shuffle=False, model__estimator__tol=0.001, model__estimator__validation_fraction=0.3, model__estimator__warm_start=False, preprocessor__num__normalize=Normalizer(), preprocessor__num__scale=StandardScaler(); total time=  23.4s\n",
      "[CV] END model__estimator__alpha=0.01, model__estimator__batch_size=60, model__estimator__beta_1=0.6, model__estimator__early_stopping=False, model__estimator__hidden_layer_sizes=(100, 100, 100), model__estimator__max_iter=100, model__estimator__momentum=0.0, model__estimator__nesterovs_momentum=False, model__estimator__power_t=1, model__estimator__shuffle=False, model__estimator__tol=0.001, model__estimator__validation_fraction=0.3, model__estimator__warm_start=False, preprocessor__num__normalize=Normalizer(), preprocessor__num__scale=passthrought; total time=   0.0s\n",
      "[CV] END model__estimator__alpha=0.01, model__estimator__batch_size=60, model__estimator__beta_1=0.6, model__estimator__early_stopping=False, model__estimator__hidden_layer_sizes=(100, 100, 100), model__estimator__max_iter=100, model__estimator__momentum=0.0, model__estimator__nesterovs_momentum=False, model__estimator__power_t=1, model__estimator__shuffle=False, model__estimator__tol=0.001, model__estimator__validation_fraction=0.3, model__estimator__warm_start=False, preprocessor__num__normalize=Normalizer(), preprocessor__num__scale=passthrought; total time=   0.0s\n",
      "[CV] END model__estimator__alpha=0.01, model__estimator__batch_size=60, model__estimator__beta_1=0.6, model__estimator__early_stopping=False, model__estimator__hidden_layer_sizes=(100, 100, 100), model__estimator__max_iter=100, model__estimator__momentum=0.0, model__estimator__nesterovs_momentum=False, model__estimator__power_t=1, model__estimator__shuffle=False, model__estimator__tol=0.001, model__estimator__validation_fraction=0.3, model__estimator__warm_start=False, preprocessor__num__normalize=Normalizer(), preprocessor__num__scale=passthrought; total time=   0.0s\n",
      "[CV] END model__estimator__alpha=0.01, model__estimator__batch_size=60, model__estimator__beta_1=0.6, model__estimator__early_stopping=False, model__estimator__hidden_layer_sizes=(100, 100, 100), model__estimator__max_iter=100, model__estimator__momentum=0.0, model__estimator__nesterovs_momentum=False, model__estimator__power_t=1, model__estimator__shuffle=False, model__estimator__tol=0.001, model__estimator__validation_fraction=0.3, model__estimator__warm_start=False, preprocessor__num__normalize=Normalizer(), preprocessor__num__scale=passthrought; total time=   0.0s\n",
      "[CV] END model__estimator__alpha=0.01, model__estimator__batch_size=60, model__estimator__beta_1=0.6, model__estimator__early_stopping=False, model__estimator__hidden_layer_sizes=(100, 100, 100), model__estimator__max_iter=100, model__estimator__momentum=0.0, model__estimator__nesterovs_momentum=False, model__estimator__power_t=1, model__estimator__shuffle=False, model__estimator__tol=0.001, model__estimator__validation_fraction=0.3, model__estimator__warm_start=False, preprocessor__num__normalize=Normalizer(), preprocessor__num__scale=passthrought; total time=   0.0s\n",
      "[CV] END model__estimator__alpha=0.01, model__estimator__batch_size=60, model__estimator__beta_1=0.6, model__estimator__early_stopping=False, model__estimator__hidden_layer_sizes=(100, 100, 100), model__estimator__max_iter=100, model__estimator__momentum=0.0, model__estimator__nesterovs_momentum=False, model__estimator__power_t=1, model__estimator__shuffle=False, model__estimator__tol=0.001, model__estimator__validation_fraction=0.3, model__estimator__warm_start=False, preprocessor__num__normalize=passthrought, preprocessor__num__scale=StandardScaler(); total time=   0.0s\n",
      "[CV] END model__estimator__alpha=0.01, model__estimator__batch_size=60, model__estimator__beta_1=0.6, model__estimator__early_stopping=False, model__estimator__hidden_layer_sizes=(100, 100, 100), model__estimator__max_iter=100, model__estimator__momentum=0.0, model__estimator__nesterovs_momentum=False, model__estimator__power_t=1, model__estimator__shuffle=False, model__estimator__tol=0.001, model__estimator__validation_fraction=0.3, model__estimator__warm_start=False, preprocessor__num__normalize=passthrought, preprocessor__num__scale=StandardScaler(); total time=   0.0s\n"
     ]
    },
    {
     "name": "stderr",
     "output_type": "stream",
     "text": [
      "/home/chicco/anaconda3/lib/python3.9/site-packages/sklearn/neural_network/_multilayer_perceptron.py:692: ConvergenceWarning: Stochastic Optimizer: Maximum iterations (50) reached and the optimization hasn't converged yet.\n",
      "  warnings.warn(\n",
      "/home/chicco/anaconda3/lib/python3.9/site-packages/sklearn/neural_network/_multilayer_perceptron.py:692: ConvergenceWarning: Stochastic Optimizer: Maximum iterations (50) reached and the optimization hasn't converged yet.\n",
      "  warnings.warn(\n",
      "/home/chicco/anaconda3/lib/python3.9/site-packages/sklearn/neural_network/_multilayer_perceptron.py:692: ConvergenceWarning: Stochastic Optimizer: Maximum iterations (50) reached and the optimization hasn't converged yet.\n",
      "  warnings.warn(\n",
      "/home/chicco/anaconda3/lib/python3.9/site-packages/sklearn/neural_network/_multilayer_perceptron.py:692: ConvergenceWarning: Stochastic Optimizer: Maximum iterations (50) reached and the optimization hasn't converged yet.\n",
      "  warnings.warn(\n",
      "/home/chicco/anaconda3/lib/python3.9/site-packages/sklearn/neural_network/_multilayer_perceptron.py:692: ConvergenceWarning: Stochastic Optimizer: Maximum iterations (50) reached and the optimization hasn't converged yet.\n",
      "  warnings.warn(\n",
      "/home/chicco/anaconda3/lib/python3.9/site-packages/sklearn/neural_network/_multilayer_perceptron.py:692: ConvergenceWarning: Stochastic Optimizer: Maximum iterations (50) reached and the optimization hasn't converged yet.\n",
      "  warnings.warn(\n"
     ]
    },
    {
     "name": "stdout",
     "output_type": "stream",
     "text": [
      "[CV] END model__estimator__alpha=0.01, model__estimator__batch_size=60, model__estimator__beta_1=0.6, model__estimator__early_stopping=False, model__estimator__hidden_layer_sizes=(100, 100, 100), model__estimator__max_iter=100, model__estimator__momentum=0.0, model__estimator__nesterovs_momentum=True, model__estimator__power_t=1, model__estimator__shuffle=False, model__estimator__tol=0.001, model__estimator__validation_fraction=0.3, model__estimator__warm_start=False, preprocessor__num__normalize=passthrought, preprocessor__num__scale=passthrought; total time=   0.0s\n",
      "[CV] END model__estimator__alpha=0.01, model__estimator__batch_size=60, model__estimator__beta_1=0.6, model__estimator__early_stopping=False, model__estimator__hidden_layer_sizes=(100, 100, 100), model__estimator__max_iter=100, model__estimator__momentum=0.0, model__estimator__nesterovs_momentum=True, model__estimator__power_t=1, model__estimator__shuffle=False, model__estimator__tol=0.001, model__estimator__validation_fraction=0.3, model__estimator__warm_start=False, preprocessor__num__normalize=passthrought, preprocessor__num__scale=passthrought; total time=   0.0s\n",
      "[CV] END model__estimator__alpha=0.01, model__estimator__batch_size=60, model__estimator__beta_1=0.6, model__estimator__early_stopping=False, model__estimator__hidden_layer_sizes=(100, 100, 100), model__estimator__max_iter=100, model__estimator__momentum=0.0, model__estimator__nesterovs_momentum=True, model__estimator__power_t=1, model__estimator__shuffle=False, model__estimator__tol=0.001, model__estimator__validation_fraction=0.3, model__estimator__warm_start=False, preprocessor__num__normalize=passthrought, preprocessor__num__scale=passthrought; total time=   0.0s\n",
      "[CV] END model__estimator__alpha=0.01, model__estimator__batch_size=60, model__estimator__beta_1=0.6, model__estimator__early_stopping=False, model__estimator__hidden_layer_sizes=(100, 100, 100), model__estimator__max_iter=100, model__estimator__momentum=0.0, model__estimator__nesterovs_momentum=False, model__estimator__power_t=1, model__estimator__shuffle=True, model__estimator__tol=0.001, model__estimator__validation_fraction=0.3, model__estimator__warm_start=True, preprocessor__num__normalize=Normalizer(), preprocessor__num__scale=StandardScaler(); total time=  37.2s\n",
      "[CV] END model__estimator__alpha=0.01, model__estimator__batch_size=60, model__estimator__beta_1=0.6, model__estimator__early_stopping=False, model__estimator__hidden_layer_sizes=(100, 100, 100), model__estimator__max_iter=100, model__estimator__momentum=0.0, model__estimator__nesterovs_momentum=False, model__estimator__power_t=1, model__estimator__shuffle=True, model__estimator__tol=0.001, model__estimator__validation_fraction=0.3, model__estimator__warm_start=True, preprocessor__num__normalize=Normalizer(), preprocessor__num__scale=StandardScaler(); total time=  35.4s\n",
      "[CV] END model__estimator__alpha=0.01, model__estimator__batch_size=60, model__estimator__beta_1=0.6, model__estimator__early_stopping=False, model__estimator__hidden_layer_sizes=(100, 100, 100), model__estimator__max_iter=100, model__estimator__momentum=0.0, model__estimator__nesterovs_momentum=False, model__estimator__power_t=1, model__estimator__shuffle=True, model__estimator__tol=0.001, model__estimator__validation_fraction=0.3, model__estimator__warm_start=False, preprocessor__num__normalize=Normalizer(), preprocessor__num__scale=StandardScaler(); total time=  52.5s\n",
      "[CV] END model__estimator__alpha=0.01, model__estimator__batch_size=60, model__estimator__beta_1=0.6, model__estimator__early_stopping=False, model__estimator__hidden_layer_sizes=(100, 100, 100), model__estimator__max_iter=100, model__estimator__momentum=0.0, model__estimator__nesterovs_momentum=False, model__estimator__power_t=1, model__estimator__shuffle=False, model__estimator__tol=0.001, model__estimator__validation_fraction=0.3, model__estimator__warm_start=True, preprocessor__num__normalize=Normalizer(), preprocessor__num__scale=StandardScaler(); total time=  26.6s\n",
      "[CV] END model__estimator__alpha=0.01, model__estimator__batch_size=60, model__estimator__beta_1=0.6, model__estimator__early_stopping=False, model__estimator__hidden_layer_sizes=(100, 100, 100), model__estimator__max_iter=100, model__estimator__momentum=0.0, model__estimator__nesterovs_momentum=False, model__estimator__power_t=1, model__estimator__shuffle=False, model__estimator__tol=0.001, model__estimator__validation_fraction=0.3, model__estimator__warm_start=False, preprocessor__num__normalize=Normalizer(), preprocessor__num__scale=StandardScaler(); total time=  32.5s\n",
      "[CV] END model__estimator__alpha=0.01, model__estimator__batch_size=60, model__estimator__beta_1=0.6, model__estimator__early_stopping=False, model__estimator__hidden_layer_sizes=[100, 100], model__estimator__max_iter=50, model__estimator__momentum=0.0, model__estimator__nesterovs_momentum=True, model__estimator__power_t=1, model__estimator__shuffle=True, model__estimator__tol=0.001, model__estimator__validation_fraction=0.3, model__estimator__warm_start=True, preprocessor__num__normalize=Normalizer(), preprocessor__num__scale=StandardScaler(); total time=  38.3s\n",
      "[CV] END model__estimator__alpha=0.01, model__estimator__batch_size=60, model__estimator__beta_1=0.6, model__estimator__early_stopping=False, model__estimator__hidden_layer_sizes=[100, 100], model__estimator__max_iter=50, model__estimator__momentum=0.0, model__estimator__nesterovs_momentum=True, model__estimator__power_t=1, model__estimator__shuffle=True, model__estimator__tol=0.001, model__estimator__validation_fraction=0.3, model__estimator__warm_start=True, preprocessor__num__normalize=Normalizer(), preprocessor__num__scale=passthrought; total time=   0.0s\n",
      "[CV] END model__estimator__alpha=0.01, model__estimator__batch_size=60, model__estimator__beta_1=0.6, model__estimator__early_stopping=False, model__estimator__hidden_layer_sizes=[100, 100], model__estimator__max_iter=50, model__estimator__momentum=0.0, model__estimator__nesterovs_momentum=True, model__estimator__power_t=1, model__estimator__shuffle=True, model__estimator__tol=0.001, model__estimator__validation_fraction=0.3, model__estimator__warm_start=True, preprocessor__num__normalize=Normalizer(), preprocessor__num__scale=passthrought; total time=   0.0s\n",
      "[CV] END model__estimator__alpha=0.01, model__estimator__batch_size=60, model__estimator__beta_1=0.6, model__estimator__early_stopping=False, model__estimator__hidden_layer_sizes=[100, 100], model__estimator__max_iter=50, model__estimator__momentum=0.0, model__estimator__nesterovs_momentum=True, model__estimator__power_t=1, model__estimator__shuffle=True, model__estimator__tol=0.001, model__estimator__validation_fraction=0.3, model__estimator__warm_start=True, preprocessor__num__normalize=Normalizer(), preprocessor__num__scale=passthrought; total time=   0.0s\n",
      "[CV] END model__estimator__alpha=0.01, model__estimator__batch_size=60, model__estimator__beta_1=0.6, model__estimator__early_stopping=False, model__estimator__hidden_layer_sizes=[100, 100], model__estimator__max_iter=50, model__estimator__momentum=0.0, model__estimator__nesterovs_momentum=True, model__estimator__power_t=1, model__estimator__shuffle=True, model__estimator__tol=0.001, model__estimator__validation_fraction=0.3, model__estimator__warm_start=True, preprocessor__num__normalize=Normalizer(), preprocessor__num__scale=passthrought; total time=   0.0s\n",
      "[CV] END model__estimator__alpha=0.01, model__estimator__batch_size=60, model__estimator__beta_1=0.6, model__estimator__early_stopping=False, model__estimator__hidden_layer_sizes=[100, 100], model__estimator__max_iter=50, model__estimator__momentum=0.0, model__estimator__nesterovs_momentum=True, model__estimator__power_t=1, model__estimator__shuffle=True, model__estimator__tol=0.001, model__estimator__validation_fraction=0.3, model__estimator__warm_start=True, preprocessor__num__normalize=Normalizer(), preprocessor__num__scale=passthrought; total time=   0.0s\n"
     ]
    },
    {
     "name": "stderr",
     "output_type": "stream",
     "text": [
      "/home/chicco/anaconda3/lib/python3.9/site-packages/sklearn/neural_network/_multilayer_perceptron.py:692: ConvergenceWarning: Stochastic Optimizer: Maximum iterations (50) reached and the optimization hasn't converged yet.\n",
      "  warnings.warn(\n",
      "/home/chicco/anaconda3/lib/python3.9/site-packages/sklearn/neural_network/_multilayer_perceptron.py:692: ConvergenceWarning: Stochastic Optimizer: Maximum iterations (50) reached and the optimization hasn't converged yet.\n",
      "  warnings.warn(\n",
      "/home/chicco/anaconda3/lib/python3.9/site-packages/sklearn/neural_network/_multilayer_perceptron.py:692: ConvergenceWarning: Stochastic Optimizer: Maximum iterations (50) reached and the optimization hasn't converged yet.\n",
      "  warnings.warn(\n"
     ]
    },
    {
     "ename": "TerminatedWorkerError",
     "evalue": "A worker process managed by the executor was unexpectedly terminated. This could be caused by a segmentation fault while calling the function or by an excessive memory usage causing the Operating System to kill the worker.\n\nThe exit codes of the workers are {SIGSEGV(-11)}",
     "output_type": "error",
     "traceback": [
      "\u001b[0;31m---------------------------------------------------------------------------\u001b[0m",
      "\u001b[0;31mTerminatedWorkerError\u001b[0m                     Traceback (most recent call last)",
      "\u001b[0;32m/tmp/ipykernel_5952/975053863.py\u001b[0m in \u001b[0;36m<module>\u001b[0;34m\u001b[0m\n\u001b[0;32m----> 1\u001b[0;31m \u001b[0mgrid\u001b[0m\u001b[0;34m.\u001b[0m\u001b[0mfit\u001b[0m\u001b[0;34m(\u001b[0m\u001b[0mX_train\u001b[0m\u001b[0;34m,\u001b[0m  \u001b[0my_train\u001b[0m\u001b[0;34m)\u001b[0m\u001b[0;34m\u001b[0m\u001b[0;34m\u001b[0m\u001b[0m\n\u001b[0m",
      "\u001b[0;32m~/anaconda3/lib/python3.9/site-packages/sklearn/model_selection/_search.py\u001b[0m in \u001b[0;36mfit\u001b[0;34m(self, X, y, groups, **fit_params)\u001b[0m\n\u001b[1;32m    889\u001b[0m                 \u001b[0;32mreturn\u001b[0m \u001b[0mresults\u001b[0m\u001b[0;34m\u001b[0m\u001b[0;34m\u001b[0m\u001b[0m\n\u001b[1;32m    890\u001b[0m \u001b[0;34m\u001b[0m\u001b[0m\n\u001b[0;32m--> 891\u001b[0;31m             \u001b[0mself\u001b[0m\u001b[0;34m.\u001b[0m\u001b[0m_run_search\u001b[0m\u001b[0;34m(\u001b[0m\u001b[0mevaluate_candidates\u001b[0m\u001b[0;34m)\u001b[0m\u001b[0;34m\u001b[0m\u001b[0;34m\u001b[0m\u001b[0m\n\u001b[0m\u001b[1;32m    892\u001b[0m \u001b[0;34m\u001b[0m\u001b[0m\n\u001b[1;32m    893\u001b[0m             \u001b[0;31m# multimetric is determined here because in the case of a callable\u001b[0m\u001b[0;34m\u001b[0m\u001b[0;34m\u001b[0m\u001b[0m\n",
      "\u001b[0;32m~/anaconda3/lib/python3.9/site-packages/sklearn/model_selection/_search.py\u001b[0m in \u001b[0;36m_run_search\u001b[0;34m(self, evaluate_candidates)\u001b[0m\n\u001b[1;32m   1390\u001b[0m     \u001b[0;32mdef\u001b[0m \u001b[0m_run_search\u001b[0m\u001b[0;34m(\u001b[0m\u001b[0mself\u001b[0m\u001b[0;34m,\u001b[0m \u001b[0mevaluate_candidates\u001b[0m\u001b[0;34m)\u001b[0m\u001b[0;34m:\u001b[0m\u001b[0;34m\u001b[0m\u001b[0;34m\u001b[0m\u001b[0m\n\u001b[1;32m   1391\u001b[0m         \u001b[0;34m\"\"\"Search all candidates in param_grid\"\"\"\u001b[0m\u001b[0;34m\u001b[0m\u001b[0;34m\u001b[0m\u001b[0m\n\u001b[0;32m-> 1392\u001b[0;31m         \u001b[0mevaluate_candidates\u001b[0m\u001b[0;34m(\u001b[0m\u001b[0mParameterGrid\u001b[0m\u001b[0;34m(\u001b[0m\u001b[0mself\u001b[0m\u001b[0;34m.\u001b[0m\u001b[0mparam_grid\u001b[0m\u001b[0;34m)\u001b[0m\u001b[0;34m)\u001b[0m\u001b[0;34m\u001b[0m\u001b[0;34m\u001b[0m\u001b[0m\n\u001b[0m\u001b[1;32m   1393\u001b[0m \u001b[0;34m\u001b[0m\u001b[0m\n\u001b[1;32m   1394\u001b[0m \u001b[0;34m\u001b[0m\u001b[0m\n",
      "\u001b[0;32m~/anaconda3/lib/python3.9/site-packages/sklearn/model_selection/_search.py\u001b[0m in \u001b[0;36mevaluate_candidates\u001b[0;34m(candidate_params, cv, more_results)\u001b[0m\n\u001b[1;32m    836\u001b[0m                     )\n\u001b[1;32m    837\u001b[0m \u001b[0;34m\u001b[0m\u001b[0m\n\u001b[0;32m--> 838\u001b[0;31m                 out = parallel(\n\u001b[0m\u001b[1;32m    839\u001b[0m                     delayed(_fit_and_score)(\n\u001b[1;32m    840\u001b[0m                         \u001b[0mclone\u001b[0m\u001b[0;34m(\u001b[0m\u001b[0mbase_estimator\u001b[0m\u001b[0;34m)\u001b[0m\u001b[0;34m,\u001b[0m\u001b[0;34m\u001b[0m\u001b[0;34m\u001b[0m\u001b[0m\n",
      "\u001b[0;32m~/anaconda3/lib/python3.9/site-packages/joblib/parallel.py\u001b[0m in \u001b[0;36m__call__\u001b[0;34m(self, iterable)\u001b[0m\n\u001b[1;32m   1059\u001b[0m \u001b[0;34m\u001b[0m\u001b[0m\n\u001b[1;32m   1060\u001b[0m             \u001b[0;32mwith\u001b[0m \u001b[0mself\u001b[0m\u001b[0;34m.\u001b[0m\u001b[0m_backend\u001b[0m\u001b[0;34m.\u001b[0m\u001b[0mretrieval_context\u001b[0m\u001b[0;34m(\u001b[0m\u001b[0;34m)\u001b[0m\u001b[0;34m:\u001b[0m\u001b[0;34m\u001b[0m\u001b[0;34m\u001b[0m\u001b[0m\n\u001b[0;32m-> 1061\u001b[0;31m                 \u001b[0mself\u001b[0m\u001b[0;34m.\u001b[0m\u001b[0mretrieve\u001b[0m\u001b[0;34m(\u001b[0m\u001b[0;34m)\u001b[0m\u001b[0;34m\u001b[0m\u001b[0;34m\u001b[0m\u001b[0m\n\u001b[0m\u001b[1;32m   1062\u001b[0m             \u001b[0;31m# Make sure that we get a last message telling us we are done\u001b[0m\u001b[0;34m\u001b[0m\u001b[0;34m\u001b[0m\u001b[0m\n\u001b[1;32m   1063\u001b[0m             \u001b[0melapsed_time\u001b[0m \u001b[0;34m=\u001b[0m \u001b[0mtime\u001b[0m\u001b[0;34m.\u001b[0m\u001b[0mtime\u001b[0m\u001b[0;34m(\u001b[0m\u001b[0;34m)\u001b[0m \u001b[0;34m-\u001b[0m \u001b[0mself\u001b[0m\u001b[0;34m.\u001b[0m\u001b[0m_start_time\u001b[0m\u001b[0;34m\u001b[0m\u001b[0;34m\u001b[0m\u001b[0m\n",
      "\u001b[0;32m~/anaconda3/lib/python3.9/site-packages/joblib/parallel.py\u001b[0m in \u001b[0;36mretrieve\u001b[0;34m(self)\u001b[0m\n\u001b[1;32m    936\u001b[0m             \u001b[0;32mtry\u001b[0m\u001b[0;34m:\u001b[0m\u001b[0;34m\u001b[0m\u001b[0;34m\u001b[0m\u001b[0m\n\u001b[1;32m    937\u001b[0m                 \u001b[0;32mif\u001b[0m \u001b[0mgetattr\u001b[0m\u001b[0;34m(\u001b[0m\u001b[0mself\u001b[0m\u001b[0;34m.\u001b[0m\u001b[0m_backend\u001b[0m\u001b[0;34m,\u001b[0m \u001b[0;34m'supports_timeout'\u001b[0m\u001b[0;34m,\u001b[0m \u001b[0;32mFalse\u001b[0m\u001b[0;34m)\u001b[0m\u001b[0;34m:\u001b[0m\u001b[0;34m\u001b[0m\u001b[0;34m\u001b[0m\u001b[0m\n\u001b[0;32m--> 938\u001b[0;31m                     \u001b[0mself\u001b[0m\u001b[0;34m.\u001b[0m\u001b[0m_output\u001b[0m\u001b[0;34m.\u001b[0m\u001b[0mextend\u001b[0m\u001b[0;34m(\u001b[0m\u001b[0mjob\u001b[0m\u001b[0;34m.\u001b[0m\u001b[0mget\u001b[0m\u001b[0;34m(\u001b[0m\u001b[0mtimeout\u001b[0m\u001b[0;34m=\u001b[0m\u001b[0mself\u001b[0m\u001b[0;34m.\u001b[0m\u001b[0mtimeout\u001b[0m\u001b[0;34m)\u001b[0m\u001b[0;34m)\u001b[0m\u001b[0;34m\u001b[0m\u001b[0;34m\u001b[0m\u001b[0m\n\u001b[0m\u001b[1;32m    939\u001b[0m                 \u001b[0;32melse\u001b[0m\u001b[0;34m:\u001b[0m\u001b[0;34m\u001b[0m\u001b[0;34m\u001b[0m\u001b[0m\n\u001b[1;32m    940\u001b[0m                     \u001b[0mself\u001b[0m\u001b[0;34m.\u001b[0m\u001b[0m_output\u001b[0m\u001b[0;34m.\u001b[0m\u001b[0mextend\u001b[0m\u001b[0;34m(\u001b[0m\u001b[0mjob\u001b[0m\u001b[0;34m.\u001b[0m\u001b[0mget\u001b[0m\u001b[0;34m(\u001b[0m\u001b[0;34m)\u001b[0m\u001b[0;34m)\u001b[0m\u001b[0;34m\u001b[0m\u001b[0;34m\u001b[0m\u001b[0m\n",
      "\u001b[0;32m~/anaconda3/lib/python3.9/site-packages/joblib/_parallel_backends.py\u001b[0m in \u001b[0;36mwrap_future_result\u001b[0;34m(future, timeout)\u001b[0m\n\u001b[1;32m    540\u001b[0m         AsyncResults.get from multiprocessing.\"\"\"\n\u001b[1;32m    541\u001b[0m         \u001b[0;32mtry\u001b[0m\u001b[0;34m:\u001b[0m\u001b[0;34m\u001b[0m\u001b[0;34m\u001b[0m\u001b[0m\n\u001b[0;32m--> 542\u001b[0;31m             \u001b[0;32mreturn\u001b[0m \u001b[0mfuture\u001b[0m\u001b[0;34m.\u001b[0m\u001b[0mresult\u001b[0m\u001b[0;34m(\u001b[0m\u001b[0mtimeout\u001b[0m\u001b[0;34m=\u001b[0m\u001b[0mtimeout\u001b[0m\u001b[0;34m)\u001b[0m\u001b[0;34m\u001b[0m\u001b[0;34m\u001b[0m\u001b[0m\n\u001b[0m\u001b[1;32m    543\u001b[0m         \u001b[0;32mexcept\u001b[0m \u001b[0mCfTimeoutError\u001b[0m \u001b[0;32mas\u001b[0m \u001b[0me\u001b[0m\u001b[0;34m:\u001b[0m\u001b[0;34m\u001b[0m\u001b[0;34m\u001b[0m\u001b[0m\n\u001b[1;32m    544\u001b[0m             \u001b[0;32mraise\u001b[0m \u001b[0mTimeoutError\u001b[0m \u001b[0;32mfrom\u001b[0m \u001b[0me\u001b[0m\u001b[0;34m\u001b[0m\u001b[0;34m\u001b[0m\u001b[0m\n",
      "\u001b[0;32m~/anaconda3/lib/python3.9/concurrent/futures/_base.py\u001b[0m in \u001b[0;36mresult\u001b[0;34m(self, timeout)\u001b[0m\n\u001b[1;32m    444\u001b[0m                     \u001b[0;32mraise\u001b[0m \u001b[0mCancelledError\u001b[0m\u001b[0;34m(\u001b[0m\u001b[0;34m)\u001b[0m\u001b[0;34m\u001b[0m\u001b[0;34m\u001b[0m\u001b[0m\n\u001b[1;32m    445\u001b[0m                 \u001b[0;32melif\u001b[0m \u001b[0mself\u001b[0m\u001b[0;34m.\u001b[0m\u001b[0m_state\u001b[0m \u001b[0;34m==\u001b[0m \u001b[0mFINISHED\u001b[0m\u001b[0;34m:\u001b[0m\u001b[0;34m\u001b[0m\u001b[0;34m\u001b[0m\u001b[0m\n\u001b[0;32m--> 446\u001b[0;31m                     \u001b[0;32mreturn\u001b[0m \u001b[0mself\u001b[0m\u001b[0;34m.\u001b[0m\u001b[0m__get_result\u001b[0m\u001b[0;34m(\u001b[0m\u001b[0;34m)\u001b[0m\u001b[0;34m\u001b[0m\u001b[0;34m\u001b[0m\u001b[0m\n\u001b[0m\u001b[1;32m    447\u001b[0m                 \u001b[0;32melse\u001b[0m\u001b[0;34m:\u001b[0m\u001b[0;34m\u001b[0m\u001b[0;34m\u001b[0m\u001b[0m\n\u001b[1;32m    448\u001b[0m                     \u001b[0;32mraise\u001b[0m \u001b[0mTimeoutError\u001b[0m\u001b[0;34m(\u001b[0m\u001b[0;34m)\u001b[0m\u001b[0;34m\u001b[0m\u001b[0;34m\u001b[0m\u001b[0m\n",
      "\u001b[0;32m~/anaconda3/lib/python3.9/concurrent/futures/_base.py\u001b[0m in \u001b[0;36m__get_result\u001b[0;34m(self)\u001b[0m\n\u001b[1;32m    389\u001b[0m         \u001b[0;32mif\u001b[0m \u001b[0mself\u001b[0m\u001b[0;34m.\u001b[0m\u001b[0m_exception\u001b[0m\u001b[0;34m:\u001b[0m\u001b[0;34m\u001b[0m\u001b[0;34m\u001b[0m\u001b[0m\n\u001b[1;32m    390\u001b[0m             \u001b[0;32mtry\u001b[0m\u001b[0;34m:\u001b[0m\u001b[0;34m\u001b[0m\u001b[0;34m\u001b[0m\u001b[0m\n\u001b[0;32m--> 391\u001b[0;31m                 \u001b[0;32mraise\u001b[0m \u001b[0mself\u001b[0m\u001b[0;34m.\u001b[0m\u001b[0m_exception\u001b[0m\u001b[0;34m\u001b[0m\u001b[0;34m\u001b[0m\u001b[0m\n\u001b[0m\u001b[1;32m    392\u001b[0m             \u001b[0;32mfinally\u001b[0m\u001b[0;34m:\u001b[0m\u001b[0;34m\u001b[0m\u001b[0;34m\u001b[0m\u001b[0m\n\u001b[1;32m    393\u001b[0m                 \u001b[0;31m# Break a reference cycle with the exception in self._exception\u001b[0m\u001b[0;34m\u001b[0m\u001b[0;34m\u001b[0m\u001b[0m\n",
      "\u001b[0;31mTerminatedWorkerError\u001b[0m: A worker process managed by the executor was unexpectedly terminated. This could be caused by a segmentation fault while calling the function or by an excessive memory usage causing the Operating System to kill the worker.\n\nThe exit codes of the workers are {SIGSEGV(-11)}"
     ]
    }
   ],
   "source": [
    "grid.fit(X_train,  y_train)"
   ]
  },
  {
   "cell_type": "code",
   "execution_count": 62,
   "id": "cfe573b4",
   "metadata": {},
   "outputs": [
    {
     "ename": "AttributeError",
     "evalue": "'GridSearchCV' object has no attribute 'best_score_'",
     "output_type": "error",
     "traceback": [
      "\u001b[0;31m---------------------------------------------------------------------------\u001b[0m",
      "\u001b[0;31mAttributeError\u001b[0m                            Traceback (most recent call last)",
      "\u001b[0;32m/tmp/ipykernel_5952/413240904.py\u001b[0m in \u001b[0;36m<module>\u001b[0;34m\u001b[0m\n\u001b[0;32m----> 1\u001b[0;31m \u001b[0mgrid\u001b[0m\u001b[0;34m.\u001b[0m\u001b[0mbest_score_\u001b[0m\u001b[0;34m\u001b[0m\u001b[0;34m\u001b[0m\u001b[0m\n\u001b[0m",
      "\u001b[0;31mAttributeError\u001b[0m: 'GridSearchCV' object has no attribute 'best_score_'"
     ]
    }
   ],
   "source": [
    "grid.best_score_"
   ]
  },
  {
   "cell_type": "code",
   "execution_count": 63,
   "id": "ec070db4",
   "metadata": {},
   "outputs": [
    {
     "ename": "AttributeError",
     "evalue": "'GridSearchCV' object has no attribute 'best_params_'",
     "output_type": "error",
     "traceback": [
      "\u001b[0;31m---------------------------------------------------------------------------\u001b[0m",
      "\u001b[0;31mAttributeError\u001b[0m                            Traceback (most recent call last)",
      "\u001b[0;32m/tmp/ipykernel_5952/2096562933.py\u001b[0m in \u001b[0;36m<module>\u001b[0;34m\u001b[0m\n\u001b[0;32m----> 1\u001b[0;31m \u001b[0mgrid\u001b[0m\u001b[0;34m.\u001b[0m\u001b[0mbest_params_\u001b[0m\u001b[0;34m\u001b[0m\u001b[0;34m\u001b[0m\u001b[0m\n\u001b[0m",
      "\u001b[0;31mAttributeError\u001b[0m: 'GridSearchCV' object has no attribute 'best_params_'"
     ]
    }
   ],
   "source": [
    "grid.best_params_"
   ]
  },
  {
   "cell_type": "code",
   "execution_count": null,
   "id": "af0ac3e0",
   "metadata": {
    "scrolled": true
   },
   "outputs": [],
   "source": [
    "grid.best_estimator_"
   ]
  },
  {
   "cell_type": "code",
   "execution_count": null,
   "id": "6623725f",
   "metadata": {},
   "outputs": [],
   "source": [
    "best_params = pd.DataFrame(grid.cv_results_)"
   ]
  },
  {
   "cell_type": "code",
   "execution_count": null,
   "id": "6935f64e",
   "metadata": {},
   "outputs": [],
   "source": [
    "best_params [['mean_test_accuracy', 'rank_test_accuracy',\n",
    "     'mean_test_precision','rank_test_precision',\n",
    "     'mean_test_recall','rank_test_recall',\n",
    "     'mean_test_f1', 'rank_test_f1']].sort_values(by='rank_test_accuracy', ascending=True).head(10)"
   ]
  },
  {
   "cell_type": "code",
   "execution_count": null,
   "id": "81d7336d",
   "metadata": {},
   "outputs": [],
   "source": [
    "best_params['params'][5]"
   ]
  },
  {
   "cell_type": "markdown",
   "id": "34da2372",
   "metadata": {},
   "source": [
    "# Base vs Best pipeline"
   ]
  },
  {
   "cell_type": "code",
   "execution_count": 30,
   "id": "6cba4922",
   "metadata": {},
   "outputs": [],
   "source": [
    "categorical_transformer_base = Pipeline(steps=[\n",
    "    ('one' , OneHotEncoder())\n",
    "])"
   ]
  },
  {
   "cell_type": "code",
   "execution_count": 31,
   "id": "6b9e868d",
   "metadata": {},
   "outputs": [],
   "source": [
    "numerical_transformer_base = Pipeline(steps=[\n",
    "    ('scale', StandardScaler())\n",
    "])"
   ]
  },
  {
   "cell_type": "code",
   "execution_count": 32,
   "id": "f2cce19f",
   "metadata": {},
   "outputs": [],
   "source": [
    "preprocessor_base = ColumnTransformer(transformers=[\n",
    "    ('num', numerical_transformer_base, numerical_features),\n",
    "    ('cat', categorical_transformer_base, categorical_features)\n",
    "])"
   ]
  },
  {
   "cell_type": "code",
   "execution_count": 33,
   "id": "dfcec241",
   "metadata": {},
   "outputs": [],
   "source": [
    "pipeline_base = Pipeline(steps=[\n",
    "    ('preprocessor', preprocessor_base),\n",
    "    ('model',  MultiOutputClassifier(MLPClassifier()))\n",
    "])"
   ]
  },
  {
   "cell_type": "code",
   "execution_count": 34,
   "id": "cbb67561",
   "metadata": {},
   "outputs": [
    {
     "name": "stderr",
     "output_type": "stream",
     "text": [
      "/home/chicco/anaconda3/lib/python3.9/site-packages/sklearn/neural_network/_multilayer_perceptron.py:692: ConvergenceWarning: Stochastic Optimizer: Maximum iterations (200) reached and the optimization hasn't converged yet.\n",
      "  warnings.warn(\n"
     ]
    },
    {
     "data": {
      "text/html": [
       "<style>#sk-6fd8bc82-434c-4ad3-86e7-f763c55f41b2 {color: black;background-color: white;}#sk-6fd8bc82-434c-4ad3-86e7-f763c55f41b2 pre{padding: 0;}#sk-6fd8bc82-434c-4ad3-86e7-f763c55f41b2 div.sk-toggleable {background-color: white;}#sk-6fd8bc82-434c-4ad3-86e7-f763c55f41b2 label.sk-toggleable__label {cursor: pointer;display: block;width: 100%;margin-bottom: 0;padding: 0.3em;box-sizing: border-box;text-align: center;}#sk-6fd8bc82-434c-4ad3-86e7-f763c55f41b2 label.sk-toggleable__label-arrow:before {content: \"▸\";float: left;margin-right: 0.25em;color: #696969;}#sk-6fd8bc82-434c-4ad3-86e7-f763c55f41b2 label.sk-toggleable__label-arrow:hover:before {color: black;}#sk-6fd8bc82-434c-4ad3-86e7-f763c55f41b2 div.sk-estimator:hover label.sk-toggleable__label-arrow:before {color: black;}#sk-6fd8bc82-434c-4ad3-86e7-f763c55f41b2 div.sk-toggleable__content {max-height: 0;max-width: 0;overflow: hidden;text-align: left;background-color: #f0f8ff;}#sk-6fd8bc82-434c-4ad3-86e7-f763c55f41b2 div.sk-toggleable__content pre {margin: 0.2em;color: black;border-radius: 0.25em;background-color: #f0f8ff;}#sk-6fd8bc82-434c-4ad3-86e7-f763c55f41b2 input.sk-toggleable__control:checked~div.sk-toggleable__content {max-height: 200px;max-width: 100%;overflow: auto;}#sk-6fd8bc82-434c-4ad3-86e7-f763c55f41b2 input.sk-toggleable__control:checked~label.sk-toggleable__label-arrow:before {content: \"▾\";}#sk-6fd8bc82-434c-4ad3-86e7-f763c55f41b2 div.sk-estimator input.sk-toggleable__control:checked~label.sk-toggleable__label {background-color: #d4ebff;}#sk-6fd8bc82-434c-4ad3-86e7-f763c55f41b2 div.sk-label input.sk-toggleable__control:checked~label.sk-toggleable__label {background-color: #d4ebff;}#sk-6fd8bc82-434c-4ad3-86e7-f763c55f41b2 input.sk-hidden--visually {border: 0;clip: rect(1px 1px 1px 1px);clip: rect(1px, 1px, 1px, 1px);height: 1px;margin: -1px;overflow: hidden;padding: 0;position: absolute;width: 1px;}#sk-6fd8bc82-434c-4ad3-86e7-f763c55f41b2 div.sk-estimator {font-family: monospace;background-color: #f0f8ff;border: 1px dotted black;border-radius: 0.25em;box-sizing: border-box;margin-bottom: 0.5em;}#sk-6fd8bc82-434c-4ad3-86e7-f763c55f41b2 div.sk-estimator:hover {background-color: #d4ebff;}#sk-6fd8bc82-434c-4ad3-86e7-f763c55f41b2 div.sk-parallel-item::after {content: \"\";width: 100%;border-bottom: 1px solid gray;flex-grow: 1;}#sk-6fd8bc82-434c-4ad3-86e7-f763c55f41b2 div.sk-label:hover label.sk-toggleable__label {background-color: #d4ebff;}#sk-6fd8bc82-434c-4ad3-86e7-f763c55f41b2 div.sk-serial::before {content: \"\";position: absolute;border-left: 1px solid gray;box-sizing: border-box;top: 2em;bottom: 0;left: 50%;}#sk-6fd8bc82-434c-4ad3-86e7-f763c55f41b2 div.sk-serial {display: flex;flex-direction: column;align-items: center;background-color: white;padding-right: 0.2em;padding-left: 0.2em;}#sk-6fd8bc82-434c-4ad3-86e7-f763c55f41b2 div.sk-item {z-index: 1;}#sk-6fd8bc82-434c-4ad3-86e7-f763c55f41b2 div.sk-parallel {display: flex;align-items: stretch;justify-content: center;background-color: white;}#sk-6fd8bc82-434c-4ad3-86e7-f763c55f41b2 div.sk-parallel::before {content: \"\";position: absolute;border-left: 1px solid gray;box-sizing: border-box;top: 2em;bottom: 0;left: 50%;}#sk-6fd8bc82-434c-4ad3-86e7-f763c55f41b2 div.sk-parallel-item {display: flex;flex-direction: column;position: relative;background-color: white;}#sk-6fd8bc82-434c-4ad3-86e7-f763c55f41b2 div.sk-parallel-item:first-child::after {align-self: flex-end;width: 50%;}#sk-6fd8bc82-434c-4ad3-86e7-f763c55f41b2 div.sk-parallel-item:last-child::after {align-self: flex-start;width: 50%;}#sk-6fd8bc82-434c-4ad3-86e7-f763c55f41b2 div.sk-parallel-item:only-child::after {width: 0;}#sk-6fd8bc82-434c-4ad3-86e7-f763c55f41b2 div.sk-dashed-wrapped {border: 1px dashed gray;margin: 0 0.4em 0.5em 0.4em;box-sizing: border-box;padding-bottom: 0.4em;background-color: white;position: relative;}#sk-6fd8bc82-434c-4ad3-86e7-f763c55f41b2 div.sk-label label {font-family: monospace;font-weight: bold;background-color: white;display: inline-block;line-height: 1.2em;}#sk-6fd8bc82-434c-4ad3-86e7-f763c55f41b2 div.sk-label-container {position: relative;z-index: 2;text-align: center;}#sk-6fd8bc82-434c-4ad3-86e7-f763c55f41b2 div.sk-container {/* jupyter's `normalize.less` sets `[hidden] { display: none; }` but bootstrap.min.css set `[hidden] { display: none !important; }` so we also need the `!important` here to be able to override the default hidden behavior on the sphinx rendered scikit-learn.org. See: https://github.com/scikit-learn/scikit-learn/issues/21755 */display: inline-block !important;position: relative;}#sk-6fd8bc82-434c-4ad3-86e7-f763c55f41b2 div.sk-text-repr-fallback {display: none;}</style><div id=\"sk-6fd8bc82-434c-4ad3-86e7-f763c55f41b2\" class=\"sk-top-container\"><div class=\"sk-text-repr-fallback\"><pre>Pipeline(steps=[(&#x27;preprocessor&#x27;,\n",
       "                 ColumnTransformer(transformers=[(&#x27;num&#x27;,\n",
       "                                                  Pipeline(steps=[(&#x27;scale&#x27;,\n",
       "                                                                   StandardScaler())]),\n",
       "                                                  [&#x27;feature1&#x27;, &#x27;feature2&#x27;,\n",
       "                                                   &#x27;feature3&#x27;, &#x27;feature4&#x27;,\n",
       "                                                   &#x27;feature5&#x27;, &#x27;feature6&#x27;,\n",
       "                                                   &#x27;feature7&#x27;, &#x27;feature8&#x27;,\n",
       "                                                   &#x27;feature9&#x27;, &#x27;feature10&#x27;,\n",
       "                                                   &#x27;feature11&#x27;, &#x27;feature12&#x27;,\n",
       "                                                   &#x27;feature13&#x27;, &#x27;feature14&#x27;,\n",
       "                                                   &#x27;feature15&#x27;, &#x27;feature16&#x27;,\n",
       "                                                   &#x27;feature17&#x27;, &#x27;feature18&#x27;,\n",
       "                                                   &#x27;feature19&#x27;, &#x27;feature20&#x27;,\n",
       "                                                   &#x27;feature21&#x27;, &#x27;feature22&#x27;,\n",
       "                                                   &#x27;feature23&#x27;, &#x27;feature24&#x27;,\n",
       "                                                   &#x27;feature25&#x27;, &#x27;feature26&#x27;,\n",
       "                                                   &#x27;feature27&#x27;, &#x27;feature28&#x27;,\n",
       "                                                   &#x27;feature29&#x27;, &#x27;feature30&#x27;, ...]),\n",
       "                                                 (&#x27;cat&#x27;,\n",
       "                                                  Pipeline(steps=[(&#x27;one&#x27;,\n",
       "                                                                   OneHotEncoder())]),\n",
       "                                                  [])])),\n",
       "                (&#x27;model&#x27;, MultiOutputClassifier(estimator=MLPClassifier()))])</pre><b>Please rerun this cell to show the HTML repr or trust the notebook.</b></div><div class=\"sk-container\" hidden><div class=\"sk-item sk-dashed-wrapped\"><div class=\"sk-label-container\"><div class=\"sk-label sk-toggleable\"><input class=\"sk-toggleable__control sk-hidden--visually\" id=\"af108056-0335-4215-97e3-78e624fee0a5\" type=\"checkbox\" ><label for=\"af108056-0335-4215-97e3-78e624fee0a5\" class=\"sk-toggleable__label sk-toggleable__label-arrow\">Pipeline</label><div class=\"sk-toggleable__content\"><pre>Pipeline(steps=[(&#x27;preprocessor&#x27;,\n",
       "                 ColumnTransformer(transformers=[(&#x27;num&#x27;,\n",
       "                                                  Pipeline(steps=[(&#x27;scale&#x27;,\n",
       "                                                                   StandardScaler())]),\n",
       "                                                  [&#x27;feature1&#x27;, &#x27;feature2&#x27;,\n",
       "                                                   &#x27;feature3&#x27;, &#x27;feature4&#x27;,\n",
       "                                                   &#x27;feature5&#x27;, &#x27;feature6&#x27;,\n",
       "                                                   &#x27;feature7&#x27;, &#x27;feature8&#x27;,\n",
       "                                                   &#x27;feature9&#x27;, &#x27;feature10&#x27;,\n",
       "                                                   &#x27;feature11&#x27;, &#x27;feature12&#x27;,\n",
       "                                                   &#x27;feature13&#x27;, &#x27;feature14&#x27;,\n",
       "                                                   &#x27;feature15&#x27;, &#x27;feature16&#x27;,\n",
       "                                                   &#x27;feature17&#x27;, &#x27;feature18&#x27;,\n",
       "                                                   &#x27;feature19&#x27;, &#x27;feature20&#x27;,\n",
       "                                                   &#x27;feature21&#x27;, &#x27;feature22&#x27;,\n",
       "                                                   &#x27;feature23&#x27;, &#x27;feature24&#x27;,\n",
       "                                                   &#x27;feature25&#x27;, &#x27;feature26&#x27;,\n",
       "                                                   &#x27;feature27&#x27;, &#x27;feature28&#x27;,\n",
       "                                                   &#x27;feature29&#x27;, &#x27;feature30&#x27;, ...]),\n",
       "                                                 (&#x27;cat&#x27;,\n",
       "                                                  Pipeline(steps=[(&#x27;one&#x27;,\n",
       "                                                                   OneHotEncoder())]),\n",
       "                                                  [])])),\n",
       "                (&#x27;model&#x27;, MultiOutputClassifier(estimator=MLPClassifier()))])</pre></div></div></div><div class=\"sk-serial\"><div class=\"sk-item sk-dashed-wrapped\"><div class=\"sk-label-container\"><div class=\"sk-label sk-toggleable\"><input class=\"sk-toggleable__control sk-hidden--visually\" id=\"0ba1b11d-5d99-4e91-b420-1901007cca30\" type=\"checkbox\" ><label for=\"0ba1b11d-5d99-4e91-b420-1901007cca30\" class=\"sk-toggleable__label sk-toggleable__label-arrow\">preprocessor: ColumnTransformer</label><div class=\"sk-toggleable__content\"><pre>ColumnTransformer(transformers=[(&#x27;num&#x27;,\n",
       "                                 Pipeline(steps=[(&#x27;scale&#x27;, StandardScaler())]),\n",
       "                                 [&#x27;feature1&#x27;, &#x27;feature2&#x27;, &#x27;feature3&#x27;,\n",
       "                                  &#x27;feature4&#x27;, &#x27;feature5&#x27;, &#x27;feature6&#x27;,\n",
       "                                  &#x27;feature7&#x27;, &#x27;feature8&#x27;, &#x27;feature9&#x27;,\n",
       "                                  &#x27;feature10&#x27;, &#x27;feature11&#x27;, &#x27;feature12&#x27;,\n",
       "                                  &#x27;feature13&#x27;, &#x27;feature14&#x27;, &#x27;feature15&#x27;,\n",
       "                                  &#x27;feature16&#x27;, &#x27;feature17&#x27;, &#x27;feature18&#x27;,\n",
       "                                  &#x27;feature19&#x27;, &#x27;feature20&#x27;, &#x27;feature21&#x27;,\n",
       "                                  &#x27;feature22&#x27;, &#x27;feature23&#x27;, &#x27;feature24&#x27;,\n",
       "                                  &#x27;feature25&#x27;, &#x27;feature26&#x27;, &#x27;feature27&#x27;,\n",
       "                                  &#x27;feature28&#x27;, &#x27;feature29&#x27;, &#x27;feature30&#x27;, ...]),\n",
       "                                (&#x27;cat&#x27;,\n",
       "                                 Pipeline(steps=[(&#x27;one&#x27;, OneHotEncoder())]),\n",
       "                                 [])])</pre></div></div></div><div class=\"sk-parallel\"><div class=\"sk-parallel-item\"><div class=\"sk-item\"><div class=\"sk-label-container\"><div class=\"sk-label sk-toggleable\"><input class=\"sk-toggleable__control sk-hidden--visually\" id=\"18fa097b-c5ab-44c2-9efc-cee6b94aabac\" type=\"checkbox\" ><label for=\"18fa097b-c5ab-44c2-9efc-cee6b94aabac\" class=\"sk-toggleable__label sk-toggleable__label-arrow\">num</label><div class=\"sk-toggleable__content\"><pre>[&#x27;feature1&#x27;, &#x27;feature2&#x27;, &#x27;feature3&#x27;, &#x27;feature4&#x27;, &#x27;feature5&#x27;, &#x27;feature6&#x27;, &#x27;feature7&#x27;, &#x27;feature8&#x27;, &#x27;feature9&#x27;, &#x27;feature10&#x27;, &#x27;feature11&#x27;, &#x27;feature12&#x27;, &#x27;feature13&#x27;, &#x27;feature14&#x27;, &#x27;feature15&#x27;, &#x27;feature16&#x27;, &#x27;feature17&#x27;, &#x27;feature18&#x27;, &#x27;feature19&#x27;, &#x27;feature20&#x27;, &#x27;feature21&#x27;, &#x27;feature22&#x27;, &#x27;feature23&#x27;, &#x27;feature24&#x27;, &#x27;feature25&#x27;, &#x27;feature26&#x27;, &#x27;feature27&#x27;, &#x27;feature28&#x27;, &#x27;feature29&#x27;, &#x27;feature30&#x27;, &#x27;feature31&#x27;, &#x27;feature32&#x27;, &#x27;feature33&#x27;, &#x27;feature34&#x27;, &#x27;feature35&#x27;, &#x27;feature36&#x27;, &#x27;feature37&#x27;, &#x27;feature38&#x27;, &#x27;feature39&#x27;, &#x27;feature40&#x27;, &#x27;feature41&#x27;, &#x27;feature42&#x27;, &#x27;feature43&#x27;, &#x27;feature44&#x27;, &#x27;feature45&#x27;, &#x27;feature46&#x27;, &#x27;feature47&#x27;, &#x27;feature48&#x27;, &#x27;feature49&#x27;, &#x27;feature50&#x27;, &#x27;feature51&#x27;, &#x27;feature52&#x27;, &#x27;feature53&#x27;, &#x27;feature54&#x27;, &#x27;feature55&#x27;, &#x27;feature56&#x27;, &#x27;feature57&#x27;, &#x27;feature58&#x27;, &#x27;feature59&#x27;, &#x27;feature60&#x27;, &#x27;feature61&#x27;, &#x27;feature62&#x27;, &#x27;feature63&#x27;, &#x27;feature64&#x27;, &#x27;feature65&#x27;, &#x27;feature66&#x27;, &#x27;feature67&#x27;, &#x27;feature68&#x27;, &#x27;feature69&#x27;, &#x27;feature70&#x27;, &#x27;feature71&#x27;, &#x27;feature72&#x27;, &#x27;feature73&#x27;, &#x27;feature74&#x27;, &#x27;feature75&#x27;, &#x27;feature76&#x27;, &#x27;feature77&#x27;, &#x27;feature78&#x27;, &#x27;feature79&#x27;, &#x27;feature80&#x27;, &#x27;feature81&#x27;, &#x27;feature82&#x27;, &#x27;feature83&#x27;, &#x27;feature84&#x27;, &#x27;feature85&#x27;, &#x27;feature86&#x27;, &#x27;feature87&#x27;, &#x27;feature88&#x27;, &#x27;feature89&#x27;, &#x27;feature90&#x27;, &#x27;feature91&#x27;, &#x27;feature92&#x27;, &#x27;feature93&#x27;, &#x27;feature94&#x27;, &#x27;feature95&#x27;, &#x27;feature96&#x27;, &#x27;feature97&#x27;, &#x27;feature98&#x27;, &#x27;feature99&#x27;, &#x27;feature100&#x27;, &#x27;feature101&#x27;, &#x27;feature102&#x27;, &#x27;feature103&#x27;, &#x27;feature104&#x27;, &#x27;feature105&#x27;, &#x27;feature106&#x27;, &#x27;feature107&#x27;, &#x27;feature108&#x27;, &#x27;feature109&#x27;, &#x27;feature110&#x27;, &#x27;feature111&#x27;, &#x27;feature112&#x27;, &#x27;feature113&#x27;, &#x27;feature114&#x27;, &#x27;feature115&#x27;, &#x27;feature116&#x27;, &#x27;feature117&#x27;, &#x27;feature118&#x27;, &#x27;feature119&#x27;, &#x27;feature120&#x27;, &#x27;feature121&#x27;, &#x27;feature122&#x27;, &#x27;feature123&#x27;, &#x27;feature124&#x27;, &#x27;feature125&#x27;, &#x27;feature126&#x27;, &#x27;feature127&#x27;, &#x27;feature128&#x27;, &#x27;feature129&#x27;, &#x27;feature130&#x27;, &#x27;feature131&#x27;, &#x27;feature132&#x27;, &#x27;feature133&#x27;, &#x27;feature134&#x27;, &#x27;feature135&#x27;, &#x27;feature136&#x27;, &#x27;feature137&#x27;, &#x27;feature138&#x27;, &#x27;feature139&#x27;, &#x27;feature140&#x27;, &#x27;feature141&#x27;, &#x27;feature142&#x27;, &#x27;feature143&#x27;, &#x27;feature144&#x27;, &#x27;feature145&#x27;, &#x27;feature146&#x27;, &#x27;feature147&#x27;, &#x27;feature148&#x27;, &#x27;feature149&#x27;, &#x27;feature150&#x27;, &#x27;feature151&#x27;, &#x27;feature152&#x27;, &#x27;feature153&#x27;, &#x27;feature154&#x27;, &#x27;feature155&#x27;, &#x27;feature156&#x27;, &#x27;feature157&#x27;, &#x27;feature158&#x27;, &#x27;feature159&#x27;, &#x27;feature160&#x27;, &#x27;feature161&#x27;, &#x27;feature162&#x27;, &#x27;feature163&#x27;, &#x27;feature164&#x27;, &#x27;feature165&#x27;, &#x27;feature166&#x27;, &#x27;feature167&#x27;, &#x27;feature168&#x27;, &#x27;feature169&#x27;, &#x27;feature170&#x27;, &#x27;feature171&#x27;, &#x27;feature172&#x27;, &#x27;feature173&#x27;, &#x27;feature174&#x27;, &#x27;feature175&#x27;, &#x27;feature176&#x27;, &#x27;feature177&#x27;, &#x27;feature178&#x27;, &#x27;feature179&#x27;, &#x27;feature180&#x27;, &#x27;feature181&#x27;, &#x27;feature182&#x27;, &#x27;feature183&#x27;, &#x27;feature184&#x27;, &#x27;feature185&#x27;, &#x27;feature186&#x27;, &#x27;feature187&#x27;, &#x27;feature188&#x27;, &#x27;feature189&#x27;, &#x27;feature190&#x27;, &#x27;feature191&#x27;, &#x27;feature192&#x27;, &#x27;feature193&#x27;, &#x27;feature194&#x27;, &#x27;feature195&#x27;, &#x27;feature196&#x27;, &#x27;feature197&#x27;, &#x27;feature198&#x27;, &#x27;feature199&#x27;, &#x27;feature200&#x27;, &#x27;feature201&#x27;, &#x27;feature202&#x27;, &#x27;feature203&#x27;, &#x27;feature204&#x27;, &#x27;feature205&#x27;, &#x27;feature206&#x27;, &#x27;feature207&#x27;, &#x27;feature208&#x27;, &#x27;feature209&#x27;, &#x27;feature210&#x27;, &#x27;feature211&#x27;, &#x27;feature212&#x27;, &#x27;feature213&#x27;, &#x27;feature214&#x27;, &#x27;feature215&#x27;, &#x27;feature216&#x27;, &#x27;feature217&#x27;, &#x27;feature218&#x27;, &#x27;feature219&#x27;, &#x27;feature220&#x27;, &#x27;feature221&#x27;, &#x27;feature222&#x27;, &#x27;feature223&#x27;, &#x27;feature224&#x27;, &#x27;feature225&#x27;, &#x27;feature226&#x27;, &#x27;feature227&#x27;, &#x27;feature228&#x27;, &#x27;feature229&#x27;, &#x27;feature230&#x27;, &#x27;feature231&#x27;, &#x27;feature232&#x27;, &#x27;feature233&#x27;, &#x27;feature234&#x27;, &#x27;feature235&#x27;, &#x27;feature236&#x27;, &#x27;feature237&#x27;, &#x27;feature238&#x27;, &#x27;feature239&#x27;, &#x27;feature240&#x27;, &#x27;feature241&#x27;, &#x27;feature242&#x27;, &#x27;feature243&#x27;]</pre></div></div></div><div class=\"sk-serial\"><div class=\"sk-item\"><div class=\"sk-serial\"><div class=\"sk-item\"><div class=\"sk-estimator sk-toggleable\"><input class=\"sk-toggleable__control sk-hidden--visually\" id=\"e6217c07-0d0d-4389-8250-4c520eaca107\" type=\"checkbox\" ><label for=\"e6217c07-0d0d-4389-8250-4c520eaca107\" class=\"sk-toggleable__label sk-toggleable__label-arrow\">StandardScaler</label><div class=\"sk-toggleable__content\"><pre>StandardScaler()</pre></div></div></div></div></div></div></div></div><div class=\"sk-parallel-item\"><div class=\"sk-item\"><div class=\"sk-label-container\"><div class=\"sk-label sk-toggleable\"><input class=\"sk-toggleable__control sk-hidden--visually\" id=\"2c172b6d-4596-49e9-9b3c-3e11a3966967\" type=\"checkbox\" ><label for=\"2c172b6d-4596-49e9-9b3c-3e11a3966967\" class=\"sk-toggleable__label sk-toggleable__label-arrow\">cat</label><div class=\"sk-toggleable__content\"><pre>[]</pre></div></div></div><div class=\"sk-serial\"><div class=\"sk-item\"><div class=\"sk-serial\"><div class=\"sk-item\"><div class=\"sk-estimator sk-toggleable\"><input class=\"sk-toggleable__control sk-hidden--visually\" id=\"e3ad3076-c5c5-406a-a31f-20b720de6df4\" type=\"checkbox\" ><label for=\"e3ad3076-c5c5-406a-a31f-20b720de6df4\" class=\"sk-toggleable__label sk-toggleable__label-arrow\">OneHotEncoder</label><div class=\"sk-toggleable__content\"><pre>OneHotEncoder()</pre></div></div></div></div></div></div></div></div></div></div><div class=\"sk-item sk-dashed-wrapped\"><div class=\"sk-label-container\"><div class=\"sk-label sk-toggleable\"><input class=\"sk-toggleable__control sk-hidden--visually\" id=\"fdcbbbab-e95f-479e-87ba-a36c12437d66\" type=\"checkbox\" ><label for=\"fdcbbbab-e95f-479e-87ba-a36c12437d66\" class=\"sk-toggleable__label sk-toggleable__label-arrow\">model: MultiOutputClassifier</label><div class=\"sk-toggleable__content\"><pre>MultiOutputClassifier(estimator=MLPClassifier())</pre></div></div></div><div class=\"sk-parallel\"><div class=\"sk-parallel-item\"><div class=\"sk-item\"><div class=\"sk-serial\"><div class=\"sk-item\"><div class=\"sk-estimator sk-toggleable\"><input class=\"sk-toggleable__control sk-hidden--visually\" id=\"77b7d36f-65a2-48ea-9f3c-181ed91343e9\" type=\"checkbox\" ><label for=\"77b7d36f-65a2-48ea-9f3c-181ed91343e9\" class=\"sk-toggleable__label sk-toggleable__label-arrow\">MLPClassifier</label><div class=\"sk-toggleable__content\"><pre>MLPClassifier()</pre></div></div></div></div></div></div></div></div></div></div></div></div>"
      ],
      "text/plain": [
       "Pipeline(steps=[('preprocessor',\n",
       "                 ColumnTransformer(transformers=[('num',\n",
       "                                                  Pipeline(steps=[('scale',\n",
       "                                                                   StandardScaler())]),\n",
       "                                                  ['feature1', 'feature2',\n",
       "                                                   'feature3', 'feature4',\n",
       "                                                   'feature5', 'feature6',\n",
       "                                                   'feature7', 'feature8',\n",
       "                                                   'feature9', 'feature10',\n",
       "                                                   'feature11', 'feature12',\n",
       "                                                   'feature13', 'feature14',\n",
       "                                                   'feature15', 'feature16',\n",
       "                                                   'feature17', 'feature18',\n",
       "                                                   'feature19', 'feature20',\n",
       "                                                   'feature21', 'feature22',\n",
       "                                                   'feature23', 'feature24',\n",
       "                                                   'feature25', 'feature26',\n",
       "                                                   'feature27', 'feature28',\n",
       "                                                   'feature29', 'feature30', ...]),\n",
       "                                                 ('cat',\n",
       "                                                  Pipeline(steps=[('one',\n",
       "                                                                   OneHotEncoder())]),\n",
       "                                                  [])])),\n",
       "                ('model', MultiOutputClassifier(estimator=MLPClassifier()))])"
      ]
     },
     "execution_count": 34,
     "metadata": {},
     "output_type": "execute_result"
    }
   ],
   "source": [
    "pipeline_base.fit(X_train, y_train)"
   ]
  },
  {
   "cell_type": "code",
   "execution_count": 35,
   "id": "858e0ff5",
   "metadata": {},
   "outputs": [],
   "source": [
    "categorical_transformer_best = Pipeline(steps=[\n",
    "    ('one' , OneHotEncoder())\n",
    "])"
   ]
  },
  {
   "cell_type": "code",
   "execution_count": 36,
   "id": "be528d13",
   "metadata": {},
   "outputs": [],
   "source": [
    "numerical_transformer_best = Pipeline(steps=[\n",
    "    ('scale', StandardScaler()),\n",
    "    ('normalize', Normalizer())\n",
    "])"
   ]
  },
  {
   "cell_type": "code",
   "execution_count": 37,
   "id": "71aeb870",
   "metadata": {},
   "outputs": [],
   "source": [
    "preprocessor_best = ColumnTransformer(transformers=[\n",
    "    ('num', numerical_transformer_best, numerical_features),\n",
    "    ('cat', categorical_transformer_best, categorical_features)\n",
    "])"
   ]
  },
  {
   "cell_type": "code",
   "execution_count": 38,
   "id": "b38b5055",
   "metadata": {},
   "outputs": [],
   "source": [
    "pipeline_best = Pipeline(steps=[\n",
    "    ('preprocessor', preprocessor_best),\n",
    "    ('model', MultiOutputClassifier(MLPClassifier(alpha=0.01, batch_size=60, beta_1=0.6,\n",
    "              hidden_layer_sizes=(100, 100, 100), max_iter=50, momentum=0.0,\n",
    "              power_t=1, shuffle=False, tol=0.001, validation_fraction=0.3)))\n",
    "])"
   ]
  },
  {
   "cell_type": "code",
   "execution_count": 39,
   "id": "169b8608",
   "metadata": {},
   "outputs": [
    {
     "data": {
      "text/html": [
       "<style>#sk-75d47da4-84c4-4320-8aa2-df34fd3e474b {color: black;background-color: white;}#sk-75d47da4-84c4-4320-8aa2-df34fd3e474b pre{padding: 0;}#sk-75d47da4-84c4-4320-8aa2-df34fd3e474b div.sk-toggleable {background-color: white;}#sk-75d47da4-84c4-4320-8aa2-df34fd3e474b label.sk-toggleable__label {cursor: pointer;display: block;width: 100%;margin-bottom: 0;padding: 0.3em;box-sizing: border-box;text-align: center;}#sk-75d47da4-84c4-4320-8aa2-df34fd3e474b label.sk-toggleable__label-arrow:before {content: \"▸\";float: left;margin-right: 0.25em;color: #696969;}#sk-75d47da4-84c4-4320-8aa2-df34fd3e474b label.sk-toggleable__label-arrow:hover:before {color: black;}#sk-75d47da4-84c4-4320-8aa2-df34fd3e474b div.sk-estimator:hover label.sk-toggleable__label-arrow:before {color: black;}#sk-75d47da4-84c4-4320-8aa2-df34fd3e474b div.sk-toggleable__content {max-height: 0;max-width: 0;overflow: hidden;text-align: left;background-color: #f0f8ff;}#sk-75d47da4-84c4-4320-8aa2-df34fd3e474b div.sk-toggleable__content pre {margin: 0.2em;color: black;border-radius: 0.25em;background-color: #f0f8ff;}#sk-75d47da4-84c4-4320-8aa2-df34fd3e474b input.sk-toggleable__control:checked~div.sk-toggleable__content {max-height: 200px;max-width: 100%;overflow: auto;}#sk-75d47da4-84c4-4320-8aa2-df34fd3e474b input.sk-toggleable__control:checked~label.sk-toggleable__label-arrow:before {content: \"▾\";}#sk-75d47da4-84c4-4320-8aa2-df34fd3e474b div.sk-estimator input.sk-toggleable__control:checked~label.sk-toggleable__label {background-color: #d4ebff;}#sk-75d47da4-84c4-4320-8aa2-df34fd3e474b div.sk-label input.sk-toggleable__control:checked~label.sk-toggleable__label {background-color: #d4ebff;}#sk-75d47da4-84c4-4320-8aa2-df34fd3e474b input.sk-hidden--visually {border: 0;clip: rect(1px 1px 1px 1px);clip: rect(1px, 1px, 1px, 1px);height: 1px;margin: -1px;overflow: hidden;padding: 0;position: absolute;width: 1px;}#sk-75d47da4-84c4-4320-8aa2-df34fd3e474b div.sk-estimator {font-family: monospace;background-color: #f0f8ff;border: 1px dotted black;border-radius: 0.25em;box-sizing: border-box;margin-bottom: 0.5em;}#sk-75d47da4-84c4-4320-8aa2-df34fd3e474b div.sk-estimator:hover {background-color: #d4ebff;}#sk-75d47da4-84c4-4320-8aa2-df34fd3e474b div.sk-parallel-item::after {content: \"\";width: 100%;border-bottom: 1px solid gray;flex-grow: 1;}#sk-75d47da4-84c4-4320-8aa2-df34fd3e474b div.sk-label:hover label.sk-toggleable__label {background-color: #d4ebff;}#sk-75d47da4-84c4-4320-8aa2-df34fd3e474b div.sk-serial::before {content: \"\";position: absolute;border-left: 1px solid gray;box-sizing: border-box;top: 2em;bottom: 0;left: 50%;}#sk-75d47da4-84c4-4320-8aa2-df34fd3e474b div.sk-serial {display: flex;flex-direction: column;align-items: center;background-color: white;padding-right: 0.2em;padding-left: 0.2em;}#sk-75d47da4-84c4-4320-8aa2-df34fd3e474b div.sk-item {z-index: 1;}#sk-75d47da4-84c4-4320-8aa2-df34fd3e474b div.sk-parallel {display: flex;align-items: stretch;justify-content: center;background-color: white;}#sk-75d47da4-84c4-4320-8aa2-df34fd3e474b div.sk-parallel::before {content: \"\";position: absolute;border-left: 1px solid gray;box-sizing: border-box;top: 2em;bottom: 0;left: 50%;}#sk-75d47da4-84c4-4320-8aa2-df34fd3e474b div.sk-parallel-item {display: flex;flex-direction: column;position: relative;background-color: white;}#sk-75d47da4-84c4-4320-8aa2-df34fd3e474b div.sk-parallel-item:first-child::after {align-self: flex-end;width: 50%;}#sk-75d47da4-84c4-4320-8aa2-df34fd3e474b div.sk-parallel-item:last-child::after {align-self: flex-start;width: 50%;}#sk-75d47da4-84c4-4320-8aa2-df34fd3e474b div.sk-parallel-item:only-child::after {width: 0;}#sk-75d47da4-84c4-4320-8aa2-df34fd3e474b div.sk-dashed-wrapped {border: 1px dashed gray;margin: 0 0.4em 0.5em 0.4em;box-sizing: border-box;padding-bottom: 0.4em;background-color: white;position: relative;}#sk-75d47da4-84c4-4320-8aa2-df34fd3e474b div.sk-label label {font-family: monospace;font-weight: bold;background-color: white;display: inline-block;line-height: 1.2em;}#sk-75d47da4-84c4-4320-8aa2-df34fd3e474b div.sk-label-container {position: relative;z-index: 2;text-align: center;}#sk-75d47da4-84c4-4320-8aa2-df34fd3e474b div.sk-container {/* jupyter's `normalize.less` sets `[hidden] { display: none; }` but bootstrap.min.css set `[hidden] { display: none !important; }` so we also need the `!important` here to be able to override the default hidden behavior on the sphinx rendered scikit-learn.org. See: https://github.com/scikit-learn/scikit-learn/issues/21755 */display: inline-block !important;position: relative;}#sk-75d47da4-84c4-4320-8aa2-df34fd3e474b div.sk-text-repr-fallback {display: none;}</style><div id=\"sk-75d47da4-84c4-4320-8aa2-df34fd3e474b\" class=\"sk-top-container\"><div class=\"sk-text-repr-fallback\"><pre>Pipeline(steps=[(&#x27;preprocessor&#x27;,\n",
       "                 ColumnTransformer(transformers=[(&#x27;num&#x27;,\n",
       "                                                  Pipeline(steps=[(&#x27;scale&#x27;,\n",
       "                                                                   StandardScaler()),\n",
       "                                                                  (&#x27;normalize&#x27;,\n",
       "                                                                   Normalizer())]),\n",
       "                                                  [&#x27;feature1&#x27;, &#x27;feature2&#x27;,\n",
       "                                                   &#x27;feature3&#x27;, &#x27;feature4&#x27;,\n",
       "                                                   &#x27;feature5&#x27;, &#x27;feature6&#x27;,\n",
       "                                                   &#x27;feature7&#x27;, &#x27;feature8&#x27;,\n",
       "                                                   &#x27;feature9&#x27;, &#x27;feature10&#x27;,\n",
       "                                                   &#x27;feature11&#x27;, &#x27;feature12&#x27;,\n",
       "                                                   &#x27;feature13&#x27;, &#x27;feature14&#x27;,\n",
       "                                                   &#x27;feature15&#x27;, &#x27;feature16&#x27;,\n",
       "                                                   &#x27;feature17&#x27;, &#x27;feature18&#x27;...\n",
       "                                                   &#x27;feature23&#x27;, &#x27;feature24&#x27;,\n",
       "                                                   &#x27;feature25&#x27;, &#x27;feature26&#x27;,\n",
       "                                                   &#x27;feature27&#x27;, &#x27;feature28&#x27;,\n",
       "                                                   &#x27;feature29&#x27;, &#x27;feature30&#x27;, ...]),\n",
       "                                                 (&#x27;cat&#x27;,\n",
       "                                                  Pipeline(steps=[(&#x27;one&#x27;,\n",
       "                                                                   OneHotEncoder())]),\n",
       "                                                  [])])),\n",
       "                (&#x27;model&#x27;,\n",
       "                 MultiOutputClassifier(estimator=MLPClassifier(alpha=0.01,\n",
       "                                                               batch_size=60,\n",
       "                                                               beta_1=0.6,\n",
       "                                                               hidden_layer_sizes=(100,\n",
       "                                                                                   100,\n",
       "                                                                                   100),\n",
       "                                                               max_iter=50,\n",
       "                                                               momentum=0.0,\n",
       "                                                               power_t=1,\n",
       "                                                               shuffle=False,\n",
       "                                                               tol=0.001,\n",
       "                                                               validation_fraction=0.3)))])</pre><b>Please rerun this cell to show the HTML repr or trust the notebook.</b></div><div class=\"sk-container\" hidden><div class=\"sk-item sk-dashed-wrapped\"><div class=\"sk-label-container\"><div class=\"sk-label sk-toggleable\"><input class=\"sk-toggleable__control sk-hidden--visually\" id=\"23b2b22c-7624-4c57-a5bb-c3f76286aa77\" type=\"checkbox\" ><label for=\"23b2b22c-7624-4c57-a5bb-c3f76286aa77\" class=\"sk-toggleable__label sk-toggleable__label-arrow\">Pipeline</label><div class=\"sk-toggleable__content\"><pre>Pipeline(steps=[(&#x27;preprocessor&#x27;,\n",
       "                 ColumnTransformer(transformers=[(&#x27;num&#x27;,\n",
       "                                                  Pipeline(steps=[(&#x27;scale&#x27;,\n",
       "                                                                   StandardScaler()),\n",
       "                                                                  (&#x27;normalize&#x27;,\n",
       "                                                                   Normalizer())]),\n",
       "                                                  [&#x27;feature1&#x27;, &#x27;feature2&#x27;,\n",
       "                                                   &#x27;feature3&#x27;, &#x27;feature4&#x27;,\n",
       "                                                   &#x27;feature5&#x27;, &#x27;feature6&#x27;,\n",
       "                                                   &#x27;feature7&#x27;, &#x27;feature8&#x27;,\n",
       "                                                   &#x27;feature9&#x27;, &#x27;feature10&#x27;,\n",
       "                                                   &#x27;feature11&#x27;, &#x27;feature12&#x27;,\n",
       "                                                   &#x27;feature13&#x27;, &#x27;feature14&#x27;,\n",
       "                                                   &#x27;feature15&#x27;, &#x27;feature16&#x27;,\n",
       "                                                   &#x27;feature17&#x27;, &#x27;feature18&#x27;...\n",
       "                                                   &#x27;feature23&#x27;, &#x27;feature24&#x27;,\n",
       "                                                   &#x27;feature25&#x27;, &#x27;feature26&#x27;,\n",
       "                                                   &#x27;feature27&#x27;, &#x27;feature28&#x27;,\n",
       "                                                   &#x27;feature29&#x27;, &#x27;feature30&#x27;, ...]),\n",
       "                                                 (&#x27;cat&#x27;,\n",
       "                                                  Pipeline(steps=[(&#x27;one&#x27;,\n",
       "                                                                   OneHotEncoder())]),\n",
       "                                                  [])])),\n",
       "                (&#x27;model&#x27;,\n",
       "                 MultiOutputClassifier(estimator=MLPClassifier(alpha=0.01,\n",
       "                                                               batch_size=60,\n",
       "                                                               beta_1=0.6,\n",
       "                                                               hidden_layer_sizes=(100,\n",
       "                                                                                   100,\n",
       "                                                                                   100),\n",
       "                                                               max_iter=50,\n",
       "                                                               momentum=0.0,\n",
       "                                                               power_t=1,\n",
       "                                                               shuffle=False,\n",
       "                                                               tol=0.001,\n",
       "                                                               validation_fraction=0.3)))])</pre></div></div></div><div class=\"sk-serial\"><div class=\"sk-item sk-dashed-wrapped\"><div class=\"sk-label-container\"><div class=\"sk-label sk-toggleable\"><input class=\"sk-toggleable__control sk-hidden--visually\" id=\"5fb486f3-62ae-4a07-a377-4a12179851fa\" type=\"checkbox\" ><label for=\"5fb486f3-62ae-4a07-a377-4a12179851fa\" class=\"sk-toggleable__label sk-toggleable__label-arrow\">preprocessor: ColumnTransformer</label><div class=\"sk-toggleable__content\"><pre>ColumnTransformer(transformers=[(&#x27;num&#x27;,\n",
       "                                 Pipeline(steps=[(&#x27;scale&#x27;, StandardScaler()),\n",
       "                                                 (&#x27;normalize&#x27;, Normalizer())]),\n",
       "                                 [&#x27;feature1&#x27;, &#x27;feature2&#x27;, &#x27;feature3&#x27;,\n",
       "                                  &#x27;feature4&#x27;, &#x27;feature5&#x27;, &#x27;feature6&#x27;,\n",
       "                                  &#x27;feature7&#x27;, &#x27;feature8&#x27;, &#x27;feature9&#x27;,\n",
       "                                  &#x27;feature10&#x27;, &#x27;feature11&#x27;, &#x27;feature12&#x27;,\n",
       "                                  &#x27;feature13&#x27;, &#x27;feature14&#x27;, &#x27;feature15&#x27;,\n",
       "                                  &#x27;feature16&#x27;, &#x27;feature17&#x27;, &#x27;feature18&#x27;,\n",
       "                                  &#x27;feature19&#x27;, &#x27;feature20&#x27;, &#x27;feature21&#x27;,\n",
       "                                  &#x27;feature22&#x27;, &#x27;feature23&#x27;, &#x27;feature24&#x27;,\n",
       "                                  &#x27;feature25&#x27;, &#x27;feature26&#x27;, &#x27;feature27&#x27;,\n",
       "                                  &#x27;feature28&#x27;, &#x27;feature29&#x27;, &#x27;feature30&#x27;, ...]),\n",
       "                                (&#x27;cat&#x27;,\n",
       "                                 Pipeline(steps=[(&#x27;one&#x27;, OneHotEncoder())]),\n",
       "                                 [])])</pre></div></div></div><div class=\"sk-parallel\"><div class=\"sk-parallel-item\"><div class=\"sk-item\"><div class=\"sk-label-container\"><div class=\"sk-label sk-toggleable\"><input class=\"sk-toggleable__control sk-hidden--visually\" id=\"70aa8431-4e85-40c7-b021-4ff2f843cb44\" type=\"checkbox\" ><label for=\"70aa8431-4e85-40c7-b021-4ff2f843cb44\" class=\"sk-toggleable__label sk-toggleable__label-arrow\">num</label><div class=\"sk-toggleable__content\"><pre>[&#x27;feature1&#x27;, &#x27;feature2&#x27;, &#x27;feature3&#x27;, &#x27;feature4&#x27;, &#x27;feature5&#x27;, &#x27;feature6&#x27;, &#x27;feature7&#x27;, &#x27;feature8&#x27;, &#x27;feature9&#x27;, &#x27;feature10&#x27;, &#x27;feature11&#x27;, &#x27;feature12&#x27;, &#x27;feature13&#x27;, &#x27;feature14&#x27;, &#x27;feature15&#x27;, &#x27;feature16&#x27;, &#x27;feature17&#x27;, &#x27;feature18&#x27;, &#x27;feature19&#x27;, &#x27;feature20&#x27;, &#x27;feature21&#x27;, &#x27;feature22&#x27;, &#x27;feature23&#x27;, &#x27;feature24&#x27;, &#x27;feature25&#x27;, &#x27;feature26&#x27;, &#x27;feature27&#x27;, &#x27;feature28&#x27;, &#x27;feature29&#x27;, &#x27;feature30&#x27;, &#x27;feature31&#x27;, &#x27;feature32&#x27;, &#x27;feature33&#x27;, &#x27;feature34&#x27;, &#x27;feature35&#x27;, &#x27;feature36&#x27;, &#x27;feature37&#x27;, &#x27;feature38&#x27;, &#x27;feature39&#x27;, &#x27;feature40&#x27;, &#x27;feature41&#x27;, &#x27;feature42&#x27;, &#x27;feature43&#x27;, &#x27;feature44&#x27;, &#x27;feature45&#x27;, &#x27;feature46&#x27;, &#x27;feature47&#x27;, &#x27;feature48&#x27;, &#x27;feature49&#x27;, &#x27;feature50&#x27;, &#x27;feature51&#x27;, &#x27;feature52&#x27;, &#x27;feature53&#x27;, &#x27;feature54&#x27;, &#x27;feature55&#x27;, &#x27;feature56&#x27;, &#x27;feature57&#x27;, &#x27;feature58&#x27;, &#x27;feature59&#x27;, &#x27;feature60&#x27;, &#x27;feature61&#x27;, &#x27;feature62&#x27;, &#x27;feature63&#x27;, &#x27;feature64&#x27;, &#x27;feature65&#x27;, &#x27;feature66&#x27;, &#x27;feature67&#x27;, &#x27;feature68&#x27;, &#x27;feature69&#x27;, &#x27;feature70&#x27;, &#x27;feature71&#x27;, &#x27;feature72&#x27;, &#x27;feature73&#x27;, &#x27;feature74&#x27;, &#x27;feature75&#x27;, &#x27;feature76&#x27;, &#x27;feature77&#x27;, &#x27;feature78&#x27;, &#x27;feature79&#x27;, &#x27;feature80&#x27;, &#x27;feature81&#x27;, &#x27;feature82&#x27;, &#x27;feature83&#x27;, &#x27;feature84&#x27;, &#x27;feature85&#x27;, &#x27;feature86&#x27;, &#x27;feature87&#x27;, &#x27;feature88&#x27;, &#x27;feature89&#x27;, &#x27;feature90&#x27;, &#x27;feature91&#x27;, &#x27;feature92&#x27;, &#x27;feature93&#x27;, &#x27;feature94&#x27;, &#x27;feature95&#x27;, &#x27;feature96&#x27;, &#x27;feature97&#x27;, &#x27;feature98&#x27;, &#x27;feature99&#x27;, &#x27;feature100&#x27;, &#x27;feature101&#x27;, &#x27;feature102&#x27;, &#x27;feature103&#x27;, &#x27;feature104&#x27;, &#x27;feature105&#x27;, &#x27;feature106&#x27;, &#x27;feature107&#x27;, &#x27;feature108&#x27;, &#x27;feature109&#x27;, &#x27;feature110&#x27;, &#x27;feature111&#x27;, &#x27;feature112&#x27;, &#x27;feature113&#x27;, &#x27;feature114&#x27;, &#x27;feature115&#x27;, &#x27;feature116&#x27;, &#x27;feature117&#x27;, &#x27;feature118&#x27;, &#x27;feature119&#x27;, &#x27;feature120&#x27;, &#x27;feature121&#x27;, &#x27;feature122&#x27;, &#x27;feature123&#x27;, &#x27;feature124&#x27;, &#x27;feature125&#x27;, &#x27;feature126&#x27;, &#x27;feature127&#x27;, &#x27;feature128&#x27;, &#x27;feature129&#x27;, &#x27;feature130&#x27;, &#x27;feature131&#x27;, &#x27;feature132&#x27;, &#x27;feature133&#x27;, &#x27;feature134&#x27;, &#x27;feature135&#x27;, &#x27;feature136&#x27;, &#x27;feature137&#x27;, &#x27;feature138&#x27;, &#x27;feature139&#x27;, &#x27;feature140&#x27;, &#x27;feature141&#x27;, &#x27;feature142&#x27;, &#x27;feature143&#x27;, &#x27;feature144&#x27;, &#x27;feature145&#x27;, &#x27;feature146&#x27;, &#x27;feature147&#x27;, &#x27;feature148&#x27;, &#x27;feature149&#x27;, &#x27;feature150&#x27;, &#x27;feature151&#x27;, &#x27;feature152&#x27;, &#x27;feature153&#x27;, &#x27;feature154&#x27;, &#x27;feature155&#x27;, &#x27;feature156&#x27;, &#x27;feature157&#x27;, &#x27;feature158&#x27;, &#x27;feature159&#x27;, &#x27;feature160&#x27;, &#x27;feature161&#x27;, &#x27;feature162&#x27;, &#x27;feature163&#x27;, &#x27;feature164&#x27;, &#x27;feature165&#x27;, &#x27;feature166&#x27;, &#x27;feature167&#x27;, &#x27;feature168&#x27;, &#x27;feature169&#x27;, &#x27;feature170&#x27;, &#x27;feature171&#x27;, &#x27;feature172&#x27;, &#x27;feature173&#x27;, &#x27;feature174&#x27;, &#x27;feature175&#x27;, &#x27;feature176&#x27;, &#x27;feature177&#x27;, &#x27;feature178&#x27;, &#x27;feature179&#x27;, &#x27;feature180&#x27;, &#x27;feature181&#x27;, &#x27;feature182&#x27;, &#x27;feature183&#x27;, &#x27;feature184&#x27;, &#x27;feature185&#x27;, &#x27;feature186&#x27;, &#x27;feature187&#x27;, &#x27;feature188&#x27;, &#x27;feature189&#x27;, &#x27;feature190&#x27;, &#x27;feature191&#x27;, &#x27;feature192&#x27;, &#x27;feature193&#x27;, &#x27;feature194&#x27;, &#x27;feature195&#x27;, &#x27;feature196&#x27;, &#x27;feature197&#x27;, &#x27;feature198&#x27;, &#x27;feature199&#x27;, &#x27;feature200&#x27;, &#x27;feature201&#x27;, &#x27;feature202&#x27;, &#x27;feature203&#x27;, &#x27;feature204&#x27;, &#x27;feature205&#x27;, &#x27;feature206&#x27;, &#x27;feature207&#x27;, &#x27;feature208&#x27;, &#x27;feature209&#x27;, &#x27;feature210&#x27;, &#x27;feature211&#x27;, &#x27;feature212&#x27;, &#x27;feature213&#x27;, &#x27;feature214&#x27;, &#x27;feature215&#x27;, &#x27;feature216&#x27;, &#x27;feature217&#x27;, &#x27;feature218&#x27;, &#x27;feature219&#x27;, &#x27;feature220&#x27;, &#x27;feature221&#x27;, &#x27;feature222&#x27;, &#x27;feature223&#x27;, &#x27;feature224&#x27;, &#x27;feature225&#x27;, &#x27;feature226&#x27;, &#x27;feature227&#x27;, &#x27;feature228&#x27;, &#x27;feature229&#x27;, &#x27;feature230&#x27;, &#x27;feature231&#x27;, &#x27;feature232&#x27;, &#x27;feature233&#x27;, &#x27;feature234&#x27;, &#x27;feature235&#x27;, &#x27;feature236&#x27;, &#x27;feature237&#x27;, &#x27;feature238&#x27;, &#x27;feature239&#x27;, &#x27;feature240&#x27;, &#x27;feature241&#x27;, &#x27;feature242&#x27;, &#x27;feature243&#x27;]</pre></div></div></div><div class=\"sk-serial\"><div class=\"sk-item\"><div class=\"sk-serial\"><div class=\"sk-item\"><div class=\"sk-estimator sk-toggleable\"><input class=\"sk-toggleable__control sk-hidden--visually\" id=\"1d17fa6c-7f21-47d8-804f-aaff0ab3d6d9\" type=\"checkbox\" ><label for=\"1d17fa6c-7f21-47d8-804f-aaff0ab3d6d9\" class=\"sk-toggleable__label sk-toggleable__label-arrow\">StandardScaler</label><div class=\"sk-toggleable__content\"><pre>StandardScaler()</pre></div></div></div><div class=\"sk-item\"><div class=\"sk-estimator sk-toggleable\"><input class=\"sk-toggleable__control sk-hidden--visually\" id=\"0723628a-f9f9-4bf6-bc41-3521612d63dc\" type=\"checkbox\" ><label for=\"0723628a-f9f9-4bf6-bc41-3521612d63dc\" class=\"sk-toggleable__label sk-toggleable__label-arrow\">Normalizer</label><div class=\"sk-toggleable__content\"><pre>Normalizer()</pre></div></div></div></div></div></div></div></div><div class=\"sk-parallel-item\"><div class=\"sk-item\"><div class=\"sk-label-container\"><div class=\"sk-label sk-toggleable\"><input class=\"sk-toggleable__control sk-hidden--visually\" id=\"5053b485-947e-4518-9a08-83dbf40b7a19\" type=\"checkbox\" ><label for=\"5053b485-947e-4518-9a08-83dbf40b7a19\" class=\"sk-toggleable__label sk-toggleable__label-arrow\">cat</label><div class=\"sk-toggleable__content\"><pre>[]</pre></div></div></div><div class=\"sk-serial\"><div class=\"sk-item\"><div class=\"sk-serial\"><div class=\"sk-item\"><div class=\"sk-estimator sk-toggleable\"><input class=\"sk-toggleable__control sk-hidden--visually\" id=\"0eb64d0b-273f-4952-b993-918be00974fe\" type=\"checkbox\" ><label for=\"0eb64d0b-273f-4952-b993-918be00974fe\" class=\"sk-toggleable__label sk-toggleable__label-arrow\">OneHotEncoder</label><div class=\"sk-toggleable__content\"><pre>OneHotEncoder()</pre></div></div></div></div></div></div></div></div></div></div><div class=\"sk-item sk-dashed-wrapped\"><div class=\"sk-label-container\"><div class=\"sk-label sk-toggleable\"><input class=\"sk-toggleable__control sk-hidden--visually\" id=\"9766453f-b889-4fb6-a121-7498c773c237\" type=\"checkbox\" ><label for=\"9766453f-b889-4fb6-a121-7498c773c237\" class=\"sk-toggleable__label sk-toggleable__label-arrow\">model: MultiOutputClassifier</label><div class=\"sk-toggleable__content\"><pre>MultiOutputClassifier(estimator=MLPClassifier(alpha=0.01, batch_size=60,\n",
       "                                              beta_1=0.6,\n",
       "                                              hidden_layer_sizes=(100, 100,\n",
       "                                                                  100),\n",
       "                                              max_iter=50, momentum=0.0,\n",
       "                                              power_t=1, shuffle=False,\n",
       "                                              tol=0.001,\n",
       "                                              validation_fraction=0.3))</pre></div></div></div><div class=\"sk-parallel\"><div class=\"sk-parallel-item\"><div class=\"sk-item\"><div class=\"sk-serial\"><div class=\"sk-item\"><div class=\"sk-estimator sk-toggleable\"><input class=\"sk-toggleable__control sk-hidden--visually\" id=\"fbe88d5c-3ec8-4200-8129-e43900fc491e\" type=\"checkbox\" ><label for=\"fbe88d5c-3ec8-4200-8129-e43900fc491e\" class=\"sk-toggleable__label sk-toggleable__label-arrow\">MLPClassifier</label><div class=\"sk-toggleable__content\"><pre>MLPClassifier(alpha=0.01, batch_size=60, beta_1=0.6,\n",
       "              hidden_layer_sizes=(100, 100, 100), max_iter=50, momentum=0.0,\n",
       "              power_t=1, shuffle=False, tol=0.001, validation_fraction=0.3)</pre></div></div></div></div></div></div></div></div></div></div></div></div>"
      ],
      "text/plain": [
       "Pipeline(steps=[('preprocessor',\n",
       "                 ColumnTransformer(transformers=[('num',\n",
       "                                                  Pipeline(steps=[('scale',\n",
       "                                                                   StandardScaler()),\n",
       "                                                                  ('normalize',\n",
       "                                                                   Normalizer())]),\n",
       "                                                  ['feature1', 'feature2',\n",
       "                                                   'feature3', 'feature4',\n",
       "                                                   'feature5', 'feature6',\n",
       "                                                   'feature7', 'feature8',\n",
       "                                                   'feature9', 'feature10',\n",
       "                                                   'feature11', 'feature12',\n",
       "                                                   'feature13', 'feature14',\n",
       "                                                   'feature15', 'feature16',\n",
       "                                                   'feature17', 'feature18'...\n",
       "                                                   'feature23', 'feature24',\n",
       "                                                   'feature25', 'feature26',\n",
       "                                                   'feature27', 'feature28',\n",
       "                                                   'feature29', 'feature30', ...]),\n",
       "                                                 ('cat',\n",
       "                                                  Pipeline(steps=[('one',\n",
       "                                                                   OneHotEncoder())]),\n",
       "                                                  [])])),\n",
       "                ('model',\n",
       "                 MultiOutputClassifier(estimator=MLPClassifier(alpha=0.01,\n",
       "                                                               batch_size=60,\n",
       "                                                               beta_1=0.6,\n",
       "                                                               hidden_layer_sizes=(100,\n",
       "                                                                                   100,\n",
       "                                                                                   100),\n",
       "                                                               max_iter=50,\n",
       "                                                               momentum=0.0,\n",
       "                                                               power_t=1,\n",
       "                                                               shuffle=False,\n",
       "                                                               tol=0.001,\n",
       "                                                               validation_fraction=0.3)))])"
      ]
     },
     "execution_count": 39,
     "metadata": {},
     "output_type": "execute_result"
    }
   ],
   "source": [
    "pipeline_best.fit(X_train, y_train)"
   ]
  },
  {
   "cell_type": "code",
   "execution_count": 40,
   "id": "17268e77",
   "metadata": {},
   "outputs": [],
   "source": [
    "pipeline_base_train = accuracy_performance(pipeline_base, X_train, y_train)\n",
    "pipeline_base_test = accuracy_performance(pipeline_base, X_test, y_test)"
   ]
  },
  {
   "cell_type": "code",
   "execution_count": 41,
   "id": "529f81ff",
   "metadata": {},
   "outputs": [],
   "source": [
    "pipeline_base_train.insert(1, 'data', 'train')\n",
    "pipeline_base_train['pipeline'] = 'base'\n",
    "pipeline_base_test.insert(1, 'data', 'test')\n",
    "pipeline_base_test['pipeline'] = 'base'\n",
    "results = pd.concat([pipeline_base_train, pipeline_base_test], ignore_index=True)"
   ]
  },
  {
   "cell_type": "code",
   "execution_count": 42,
   "id": "c1b4c420",
   "metadata": {},
   "outputs": [],
   "source": [
    "pipeline_best_train = accuracy_performance(pipeline_best, X_train, y_train)\n",
    "pipeline_best_test = accuracy_performance(pipeline_best, X_test, y_test)"
   ]
  },
  {
   "cell_type": "code",
   "execution_count": 43,
   "id": "6e4d22fd",
   "metadata": {},
   "outputs": [],
   "source": [
    "pipeline_best_train.insert(1, 'data', 'train')\n",
    "pipeline_best_train['pipeline'] = 'best'\n",
    "pipeline_best_test.insert(1, 'data', 'test')\n",
    "pipeline_best_test['pipeline'] = 'best'\n",
    "results = pd.concat([results,pipeline_best_train, pipeline_best_test], ignore_index=True)"
   ]
  },
  {
   "cell_type": "markdown",
   "id": "55bf4199",
   "metadata": {},
   "source": [
    "### Base pipeline vs Best pipeline - Accuracy"
   ]
  },
  {
   "cell_type": "code",
   "execution_count": 44,
   "id": "fd88ac90",
   "metadata": {},
   "outputs": [
    {
     "data": {
      "text/html": [
       "<div>\n",
       "<style scoped>\n",
       "    .dataframe tbody tr th:only-of-type {\n",
       "        vertical-align: middle;\n",
       "    }\n",
       "\n",
       "    .dataframe tbody tr th {\n",
       "        vertical-align: top;\n",
       "    }\n",
       "\n",
       "    .dataframe thead th {\n",
       "        text-align: right;\n",
       "    }\n",
       "</style>\n",
       "<table border=\"1\" class=\"dataframe\">\n",
       "  <thead>\n",
       "    <tr style=\"text-align: right;\">\n",
       "      <th></th>\n",
       "      <th>pipeline</th>\n",
       "      <th>data</th>\n",
       "      <th>accuracy</th>\n",
       "    </tr>\n",
       "  </thead>\n",
       "  <tbody>\n",
       "    <tr>\n",
       "      <th>0</th>\n",
       "      <td>base</td>\n",
       "      <td>train</td>\n",
       "      <td>0.993</td>\n",
       "    </tr>\n",
       "    <tr>\n",
       "      <th>1</th>\n",
       "      <td>base</td>\n",
       "      <td>test</td>\n",
       "      <td>0.652</td>\n",
       "    </tr>\n",
       "    <tr>\n",
       "      <th>2</th>\n",
       "      <td>best</td>\n",
       "      <td>train</td>\n",
       "      <td>0.993</td>\n",
       "    </tr>\n",
       "    <tr>\n",
       "      <th>3</th>\n",
       "      <td>best</td>\n",
       "      <td>test</td>\n",
       "      <td>0.650</td>\n",
       "    </tr>\n",
       "  </tbody>\n",
       "</table>\n",
       "</div>"
      ],
      "text/plain": [
       "  pipeline   data  accuracy\n",
       "0     base  train     0.993\n",
       "1     base   test     0.652\n",
       "2     best  train     0.993\n",
       "3     best   test     0.650"
      ]
     },
     "execution_count": 44,
     "metadata": {},
     "output_type": "execute_result"
    }
   ],
   "source": [
    "results"
   ]
  },
  {
   "cell_type": "code",
   "execution_count": 45,
   "id": "b9c3d264",
   "metadata": {},
   "outputs": [],
   "source": [
    "df_results = results[(results['data'] != 'train')]\n",
    "df_results = df_results.sort_values(by='accuracy', ascending=False)\n",
    "df_results = df_results.reset_index(drop=True)\n",
    "df_results.index = df_results.index + 1"
   ]
  },
  {
   "cell_type": "code",
   "execution_count": 46,
   "id": "1d5caecf",
   "metadata": {},
   "outputs": [
    {
     "data": {
      "image/png": "[encoded data removed]",
      "text/plain": [
       "<Figure size 600x400 with 1 Axes>"
      ]
     },
     "metadata": {},
     "output_type": "display_data"
    },
    {
     "data": {
      "text/html": [
       "<div>\n",
       "<style scoped>\n",
       "    .dataframe tbody tr th:only-of-type {\n",
       "        vertical-align: middle;\n",
       "    }\n",
       "\n",
       "    .dataframe tbody tr th {\n",
       "        vertical-align: top;\n",
       "    }\n",
       "\n",
       "    .dataframe thead th {\n",
       "        text-align: right;\n",
       "    }\n",
       "</style>\n",
       "<table border=\"1\" class=\"dataframe\">\n",
       "  <thead>\n",
       "    <tr style=\"text-align: right;\">\n",
       "      <th></th>\n",
       "      <th>pipeline</th>\n",
       "      <th>data</th>\n",
       "      <th>accuracy</th>\n",
       "    </tr>\n",
       "  </thead>\n",
       "  <tbody>\n",
       "    <tr>\n",
       "      <th>1</th>\n",
       "      <td>base</td>\n",
       "      <td>test</td>\n",
       "      <td>0.652</td>\n",
       "    </tr>\n",
       "    <tr>\n",
       "      <th>2</th>\n",
       "      <td>best</td>\n",
       "      <td>test</td>\n",
       "      <td>0.650</td>\n",
       "    </tr>\n",
       "  </tbody>\n",
       "</table>\n",
       "</div>"
      ],
      "text/plain": [
       "  pipeline  data  accuracy\n",
       "1     base  test     0.652\n",
       "2     best  test     0.650"
      ]
     },
     "execution_count": 46,
     "metadata": {},
     "output_type": "execute_result"
    }
   ],
   "source": [
    "classification_analysis(df_results)"
   ]
  },
  {
   "cell_type": "markdown",
   "id": "c5314d96",
   "metadata": {},
   "source": [
    "### Base pipeline vs Best pipeline - Classificator performance for train dataset"
   ]
  },
  {
   "cell_type": "code",
   "execution_count": 47,
   "id": "aa264049",
   "metadata": {},
   "outputs": [
    {
     "name": "stdout",
     "output_type": "stream",
     "text": [
      "              precision    recall  f1-score   support\n",
      "\n",
      "      label1       1.00      1.00      1.00       615\n",
      "      label2       1.00      0.99      1.00       356\n",
      "      label3       0.99      1.00      0.99       237\n",
      "      label4       1.00      1.00      1.00       111\n",
      "      label5       1.00      0.99      0.99        96\n",
      "      label6       1.00      0.99      1.00       116\n",
      "      label7       0.99      1.00      0.99       202\n",
      "\n",
      "   micro avg       1.00      1.00      1.00      1733\n",
      "   macro avg       1.00      1.00      1.00      1733\n",
      "weighted avg       1.00      1.00      1.00      1733\n",
      " samples avg       0.99      1.00      1.00      1733\n",
      "\n"
     ]
    }
   ],
   "source": [
    "classificator_performance(pipeline_base, X_train, y_train, labels)"
   ]
  },
  {
   "cell_type": "code",
   "execution_count": 48,
   "id": "b951b1c5",
   "metadata": {},
   "outputs": [
    {
     "name": "stdout",
     "output_type": "stream",
     "text": [
      "              precision    recall  f1-score   support\n",
      "\n",
      "      label1       1.00      1.00      1.00       615\n",
      "      label2       1.00      0.99      1.00       356\n",
      "      label3       0.98      1.00      0.99       237\n",
      "      label4       1.00      1.00      1.00       111\n",
      "      label5       1.00      0.99      0.99        96\n",
      "      label6       1.00      1.00      1.00       116\n",
      "      label7       0.99      1.00      0.99       202\n",
      "\n",
      "   micro avg       1.00      1.00      1.00      1733\n",
      "   macro avg       1.00      1.00      1.00      1733\n",
      "weighted avg       1.00      1.00      1.00      1733\n",
      " samples avg       1.00      1.00      1.00      1733\n",
      "\n"
     ]
    }
   ],
   "source": [
    "classificator_performance(pipeline_best, X_train, y_train, labels)"
   ]
  },
  {
   "cell_type": "markdown",
   "id": "e6aaec48",
   "metadata": {},
   "source": [
    "### Base pipeline vs Best pipeline - Classificator performance for test dataset"
   ]
  },
  {
   "cell_type": "code",
   "execution_count": 49,
   "id": "e927b11e",
   "metadata": {},
   "outputs": [
    {
     "name": "stdout",
     "output_type": "stream",
     "text": [
      "              precision    recall  f1-score   support\n",
      "\n",
      "      label1       0.92      0.90      0.91       216\n",
      "      label2       0.74      0.79      0.76       126\n",
      "      label3       0.73      0.74      0.74        62\n",
      "      label4       0.58      0.43      0.49        42\n",
      "      label5       0.50      0.19      0.27        32\n",
      "      label6       0.52      0.34      0.41        38\n",
      "      label7       0.75      0.64      0.69        59\n",
      "\n",
      "   micro avg       0.79      0.72      0.75       575\n",
      "   macro avg       0.68      0.58      0.61       575\n",
      "weighted avg       0.77      0.72      0.74       575\n",
      " samples avg       0.74      0.74      0.73       575\n",
      "\n"
     ]
    }
   ],
   "source": [
    "classificator_performance(pipeline_base, X_test, y_test, labels)"
   ]
  },
  {
   "cell_type": "code",
   "execution_count": 50,
   "id": "dacd3701",
   "metadata": {},
   "outputs": [
    {
     "name": "stdout",
     "output_type": "stream",
     "text": [
      "              precision    recall  f1-score   support\n",
      "\n",
      "      label1       0.92      0.90      0.91       216\n",
      "      label2       0.78      0.75      0.77       126\n",
      "      label3       0.80      0.77      0.79        62\n",
      "      label4       0.62      0.38      0.47        42\n",
      "      label5       0.54      0.22      0.31        32\n",
      "      label6       0.63      0.32      0.42        38\n",
      "      label7       0.76      0.64      0.70        59\n",
      "\n",
      "   micro avg       0.82      0.71      0.76       575\n",
      "   macro avg       0.72      0.57      0.62       575\n",
      "weighted avg       0.80      0.71      0.75       575\n",
      " samples avg       0.73      0.74      0.73       575\n",
      "\n"
     ]
    }
   ],
   "source": [
    "classificator_performance(pipeline_best, X_test, y_test, labels)"
   ]
  },
  {
   "cell_type": "code",
   "execution_count": null,
   "id": "8cf8a86f",
   "metadata": {},
   "outputs": [],
   "source": []
  }
 ],
 "metadata": {
  "kernelspec": {
   "display_name": "Python 3 (ipykernel)",
   "language": "python",
   "name": "python3"
  },
  "language_info": {
   "codemirror_mode": {
    "name": "ipython",
    "version": 3
   },
   "file_extension": ".py",
   "mimetype": "text/x-python",
   "name": "python",
   "nbconvert_exporter": "python",
   "pygments_lexer": "ipython3",
   "version": "3.9.16"
  }
 },
 "nbformat": 4,
 "nbformat_minor": 5
}
