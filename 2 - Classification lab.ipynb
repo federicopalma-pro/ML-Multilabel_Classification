{
 "cells": [
  {
   "cell_type": "markdown",
   "id": "c88fb767",
   "metadata": {},
   "source": [
    "# Import libraries"
   ]
  },
  {
   "cell_type": "code",
   "execution_count": 1,
   "id": "44640d2c",
   "metadata": {},
   "outputs": [],
   "source": [
    "import pandas as pd\n",
    "import numpy as np\n",
    "import matplotlib.pyplot as plt\n",
    "import seaborn as sns\n",
    "import pickle"
   ]
  },
  {
   "cell_type": "code",
   "execution_count": 2,
   "id": "231e2c5b",
   "metadata": {},
   "outputs": [],
   "source": [
    "from sklearn.model_selection import train_test_split\n",
    "from sklearn.metrics import classification_report\n",
    "from sklearn.model_selection import cross_validate\n",
    "from sklearn.multioutput import MultiOutputClassifier"
   ]
  },
  {
   "cell_type": "code",
   "execution_count": 3,
   "id": "b73fb3b8",
   "metadata": {},
   "outputs": [],
   "source": [
    "from sklearn.linear_model import LogisticRegression\n",
    "from sklearn.svm import SVC\n",
    "from sklearn.neighbors import KNeighborsClassifier\n",
    "from sklearn.naive_bayes import GaussianNB\n",
    "from sklearn.tree import DecisionTreeClassifier\n",
    "from sklearn.neural_network import MLPClassifier\n",
    "from sklearn.ensemble import AdaBoostClassifier, GradientBoostingClassifier, RandomForestClassifier\n",
    "from sklearn.dummy import DummyClassifier"
   ]
  },
  {
   "cell_type": "markdown",
   "id": "dca77011",
   "metadata": {},
   "source": [
    "# Custom functions"
   ]
  },
  {
   "cell_type": "code",
   "execution_count": 4,
   "id": "6cfeba2c",
   "metadata": {},
   "outputs": [],
   "source": [
    "def accuracy_performance(model, X, y):\n",
    "    accuracy = round(model.score(X,y),3)\n",
    "    return pd.DataFrame({'model':[str(model.estimator)], 'accuracy':[accuracy]})"
   ]
  },
  {
   "cell_type": "code",
   "execution_count": 5,
   "id": "32a99102",
   "metadata": {},
   "outputs": [],
   "source": [
    "def classification_analysis(df):\n",
    "    df['model'] = df['model'].apply(lambda x: x.split('(')[0])\n",
    "    \n",
    "    fig = plt.figure(figsize=(11, 5))\n",
    "    sns.barplot(x='model', y='accuracy', data=df)\n",
    "    plt.ylim(0, 1)\n",
    "    plt.xlabel('')\n",
    "    plt.ylabel('accuracy', fontsize=14)\n",
    "    plt.xticks(rotation=60, fontsize=10)\n",
    "    plt.yticks(fontsize=10)\n",
    "    plt.grid(axis='y', linestyle='--', linewidth=0.8)\n",
    "\n",
    "    plt.show()\n",
    "    return df"
   ]
  },
  {
   "cell_type": "code",
   "execution_count": 6,
   "id": "175ce946",
   "metadata": {},
   "outputs": [],
   "source": [
    "def classificator_performance(model, X_test, y_test, target_names):\n",
    "    y_pred = model.predict(X_test)\n",
    "    return print(classification_report(y_test, y_pred, target_names=target_names, zero_division=0))  "
   ]
  },
  {
   "cell_type": "code",
   "execution_count": 7,
   "id": "e2fe086b",
   "metadata": {},
   "outputs": [],
   "source": [
    "def cross_validation(model, X, y, cv):\n",
    "    r = cross_validate(model, X, y, cv=cv, n_jobs=-1, scoring=('accuracy'), return_train_score=True)\n",
    "    r2_test_mean = round(r['test_score'].mean(),3)\n",
    "    r2_train_mean = round(r['train_score'].mean(),3)\n",
    "    r2_test_min = round(r['test_score'].min(),3)\n",
    "    r2_train_min = round(r['train_score'].min(),3)\n",
    "    r2_test_max = round(r['test_score'].max(),3)\n",
    "    r2_train_max = round(r['train_score'].max(),3)    \n",
    "    data = pd.DataFrame(r)\n",
    "    data = data[['test_score', 'train_score']]\n",
    "    \n",
    "    sns.barplot(data=data)\n",
    "    plt.grid(axis='y', linestyle='--', linewidth=0.8)\n",
    "    plt.yticks(np.arange(0, 1.1, 0.1))\n",
    "    plt.ylabel('accuracy')\n",
    "   \n",
    "    print('test accuracy score: worst={0}, best={1}, avarage={2}'.format(r2_test_min,r2_test_max,r2_test_mean))\n",
    "    print('train accuracy score: worst={0}, best={1}, avarage={2}'.format(r2_train_min,r2_train_max,r2_train_mean))\n",
    "   \n",
    "    return plt.show()"
   ]
  },
  {
   "cell_type": "markdown",
   "id": "3465965e",
   "metadata": {},
   "source": [
    "# Loading data"
   ]
  },
  {
   "cell_type": "code",
   "execution_count": 8,
   "id": "2add9f3f",
   "metadata": {},
   "outputs": [],
   "source": [
    "with open('reuters_dataset.pkl', 'rb') as f:\n",
    "    data = pickle.load(f)"
   ]
  },
  {
   "cell_type": "code",
   "execution_count": 9,
   "id": "7726cc1b",
   "metadata": {},
   "outputs": [],
   "source": [
    "X, y = data"
   ]
  },
  {
   "cell_type": "code",
   "execution_count": 10,
   "id": "687758a5",
   "metadata": {},
   "outputs": [],
   "source": [
    "with open('reuters_df_processed.pkl', 'rb') as f:\n",
    "    data_frame = pickle.load(f)"
   ]
  },
  {
   "cell_type": "code",
   "execution_count": 11,
   "id": "c7140608",
   "metadata": {},
   "outputs": [],
   "source": [
    "df = data_frame"
   ]
  },
  {
   "cell_type": "code",
   "execution_count": 12,
   "id": "f804289f",
   "metadata": {},
   "outputs": [],
   "source": [
    "labels = ['label1', 'label2', 'label3', 'label4', 'label5', 'label6', 'label7']"
   ]
  },
  {
   "cell_type": "code",
   "execution_count": 13,
   "id": "90ffb923",
   "metadata": {},
   "outputs": [
    {
     "data": {
      "text/html": [
       "<div>\n",
       "<style scoped>\n",
       "    .dataframe tbody tr th:only-of-type {\n",
       "        vertical-align: middle;\n",
       "    }\n",
       "\n",
       "    .dataframe tbody tr th {\n",
       "        vertical-align: top;\n",
       "    }\n",
       "\n",
       "    .dataframe thead th {\n",
       "        text-align: right;\n",
       "    }\n",
       "</style>\n",
       "<table border=\"1\" class=\"dataframe\">\n",
       "  <thead>\n",
       "    <tr style=\"text-align: right;\">\n",
       "      <th></th>\n",
       "      <th>feature1</th>\n",
       "      <th>feature2</th>\n",
       "      <th>feature3</th>\n",
       "      <th>feature4</th>\n",
       "      <th>feature5</th>\n",
       "      <th>feature6</th>\n",
       "      <th>feature7</th>\n",
       "      <th>feature8</th>\n",
       "      <th>feature9</th>\n",
       "      <th>feature10</th>\n",
       "      <th>...</th>\n",
       "      <th>feature241</th>\n",
       "      <th>feature242</th>\n",
       "      <th>feature243</th>\n",
       "      <th>label1</th>\n",
       "      <th>label2</th>\n",
       "      <th>label3</th>\n",
       "      <th>label4</th>\n",
       "      <th>label5</th>\n",
       "      <th>label6</th>\n",
       "      <th>label7</th>\n",
       "    </tr>\n",
       "  </thead>\n",
       "  <tbody>\n",
       "    <tr>\n",
       "      <th>0</th>\n",
       "      <td>-1.798184</td>\n",
       "      <td>-1.008223</td>\n",
       "      <td>-1.054374</td>\n",
       "      <td>-0.963048</td>\n",
       "      <td>1.157219</td>\n",
       "      <td>1.231856</td>\n",
       "      <td>-0.431932</td>\n",
       "      <td>-0.501863</td>\n",
       "      <td>-0.496616</td>\n",
       "      <td>-0.607625</td>\n",
       "      <td>...</td>\n",
       "      <td>-0.203617</td>\n",
       "      <td>-0.18575</td>\n",
       "      <td>-0.214451</td>\n",
       "      <td>0</td>\n",
       "      <td>0</td>\n",
       "      <td>0</td>\n",
       "      <td>1</td>\n",
       "      <td>0</td>\n",
       "      <td>0</td>\n",
       "      <td>0</td>\n",
       "    </tr>\n",
       "    <tr>\n",
       "      <th>1</th>\n",
       "      <td>-0.052374</td>\n",
       "      <td>-1.008223</td>\n",
       "      <td>-1.054374</td>\n",
       "      <td>-0.963048</td>\n",
       "      <td>-0.580782</td>\n",
       "      <td>-0.520428</td>\n",
       "      <td>-0.431932</td>\n",
       "      <td>-0.501863</td>\n",
       "      <td>-0.496616</td>\n",
       "      <td>-0.117209</td>\n",
       "      <td>...</td>\n",
       "      <td>-0.203617</td>\n",
       "      <td>-0.18575</td>\n",
       "      <td>-0.214451</td>\n",
       "      <td>0</td>\n",
       "      <td>0</td>\n",
       "      <td>0</td>\n",
       "      <td>1</td>\n",
       "      <td>0</td>\n",
       "      <td>0</td>\n",
       "      <td>1</td>\n",
       "    </tr>\n",
       "    <tr>\n",
       "      <th>2</th>\n",
       "      <td>-0.052374</td>\n",
       "      <td>-1.008223</td>\n",
       "      <td>-1.054374</td>\n",
       "      <td>-0.963048</td>\n",
       "      <td>-0.580782</td>\n",
       "      <td>-0.520428</td>\n",
       "      <td>-0.431932</td>\n",
       "      <td>-0.501863</td>\n",
       "      <td>-0.496616</td>\n",
       "      <td>-0.607625</td>\n",
       "      <td>...</td>\n",
       "      <td>-0.203617</td>\n",
       "      <td>-0.18575</td>\n",
       "      <td>4.207223</td>\n",
       "      <td>0</td>\n",
       "      <td>1</td>\n",
       "      <td>0</td>\n",
       "      <td>0</td>\n",
       "      <td>0</td>\n",
       "      <td>0</td>\n",
       "      <td>0</td>\n",
       "    </tr>\n",
       "    <tr>\n",
       "      <th>3</th>\n",
       "      <td>-0.052374</td>\n",
       "      <td>-1.008223</td>\n",
       "      <td>0.632624</td>\n",
       "      <td>-0.963048</td>\n",
       "      <td>-0.580782</td>\n",
       "      <td>-0.520428</td>\n",
       "      <td>-0.431932</td>\n",
       "      <td>-0.501863</td>\n",
       "      <td>-0.496616</td>\n",
       "      <td>-0.607625</td>\n",
       "      <td>...</td>\n",
       "      <td>-0.203617</td>\n",
       "      <td>-0.18575</td>\n",
       "      <td>-0.214451</td>\n",
       "      <td>0</td>\n",
       "      <td>0</td>\n",
       "      <td>1</td>\n",
       "      <td>0</td>\n",
       "      <td>0</td>\n",
       "      <td>0</td>\n",
       "      <td>0</td>\n",
       "    </tr>\n",
       "    <tr>\n",
       "      <th>4</th>\n",
       "      <td>-0.052374</td>\n",
       "      <td>-1.008223</td>\n",
       "      <td>0.632624</td>\n",
       "      <td>-0.963048</td>\n",
       "      <td>-0.580782</td>\n",
       "      <td>-0.520428</td>\n",
       "      <td>2.405727</td>\n",
       "      <td>2.599888</td>\n",
       "      <td>0.269471</td>\n",
       "      <td>-0.607625</td>\n",
       "      <td>...</td>\n",
       "      <td>-0.203617</td>\n",
       "      <td>-0.18575</td>\n",
       "      <td>-0.214451</td>\n",
       "      <td>0</td>\n",
       "      <td>0</td>\n",
       "      <td>1</td>\n",
       "      <td>0</td>\n",
       "      <td>0</td>\n",
       "      <td>0</td>\n",
       "      <td>1</td>\n",
       "    </tr>\n",
       "    <tr>\n",
       "      <th>...</th>\n",
       "      <td>...</td>\n",
       "      <td>...</td>\n",
       "      <td>...</td>\n",
       "      <td>...</td>\n",
       "      <td>...</td>\n",
       "      <td>...</td>\n",
       "      <td>...</td>\n",
       "      <td>...</td>\n",
       "      <td>...</td>\n",
       "      <td>...</td>\n",
       "      <td>...</td>\n",
       "      <td>...</td>\n",
       "      <td>...</td>\n",
       "      <td>...</td>\n",
       "      <td>...</td>\n",
       "      <td>...</td>\n",
       "      <td>...</td>\n",
       "      <td>...</td>\n",
       "      <td>...</td>\n",
       "      <td>...</td>\n",
       "      <td>...</td>\n",
       "    </tr>\n",
       "    <tr>\n",
       "      <th>1995</th>\n",
       "      <td>-0.052374</td>\n",
       "      <td>0.964816</td>\n",
       "      <td>-1.054374</td>\n",
       "      <td>-0.963048</td>\n",
       "      <td>-0.580782</td>\n",
       "      <td>-0.520428</td>\n",
       "      <td>-0.026552</td>\n",
       "      <td>0.118487</td>\n",
       "      <td>-0.496616</td>\n",
       "      <td>-0.607625</td>\n",
       "      <td>...</td>\n",
       "      <td>-0.203617</td>\n",
       "      <td>-0.18575</td>\n",
       "      <td>-0.214451</td>\n",
       "      <td>0</td>\n",
       "      <td>0</td>\n",
       "      <td>0</td>\n",
       "      <td>0</td>\n",
       "      <td>1</td>\n",
       "      <td>0</td>\n",
       "      <td>0</td>\n",
       "    </tr>\n",
       "    <tr>\n",
       "      <th>1996</th>\n",
       "      <td>-0.052374</td>\n",
       "      <td>-1.008223</td>\n",
       "      <td>-1.054374</td>\n",
       "      <td>-0.963048</td>\n",
       "      <td>-0.580782</td>\n",
       "      <td>-0.520428</td>\n",
       "      <td>-0.026552</td>\n",
       "      <td>3.220239</td>\n",
       "      <td>0.652515</td>\n",
       "      <td>-0.117209</td>\n",
       "      <td>...</td>\n",
       "      <td>-0.203617</td>\n",
       "      <td>-0.18575</td>\n",
       "      <td>-0.214451</td>\n",
       "      <td>0</td>\n",
       "      <td>1</td>\n",
       "      <td>0</td>\n",
       "      <td>0</td>\n",
       "      <td>0</td>\n",
       "      <td>0</td>\n",
       "      <td>0</td>\n",
       "    </tr>\n",
       "    <tr>\n",
       "      <th>1997</th>\n",
       "      <td>-0.052374</td>\n",
       "      <td>0.964816</td>\n",
       "      <td>0.632624</td>\n",
       "      <td>0.425630</td>\n",
       "      <td>1.736553</td>\n",
       "      <td>1.815950</td>\n",
       "      <td>-0.431932</td>\n",
       "      <td>-0.501863</td>\n",
       "      <td>1.035559</td>\n",
       "      <td>1.354037</td>\n",
       "      <td>...</td>\n",
       "      <td>-0.203617</td>\n",
       "      <td>-0.18575</td>\n",
       "      <td>-0.214451</td>\n",
       "      <td>1</td>\n",
       "      <td>0</td>\n",
       "      <td>0</td>\n",
       "      <td>0</td>\n",
       "      <td>0</td>\n",
       "      <td>0</td>\n",
       "      <td>0</td>\n",
       "    </tr>\n",
       "    <tr>\n",
       "      <th>1998</th>\n",
       "      <td>-0.052374</td>\n",
       "      <td>-1.008223</td>\n",
       "      <td>0.632624</td>\n",
       "      <td>-0.963048</td>\n",
       "      <td>-0.580782</td>\n",
       "      <td>-0.520428</td>\n",
       "      <td>-0.431932</td>\n",
       "      <td>-0.501863</td>\n",
       "      <td>-0.496616</td>\n",
       "      <td>-0.607625</td>\n",
       "      <td>...</td>\n",
       "      <td>-0.203617</td>\n",
       "      <td>-0.18575</td>\n",
       "      <td>-0.214451</td>\n",
       "      <td>0</td>\n",
       "      <td>0</td>\n",
       "      <td>0</td>\n",
       "      <td>1</td>\n",
       "      <td>0</td>\n",
       "      <td>0</td>\n",
       "      <td>0</td>\n",
       "    </tr>\n",
       "    <tr>\n",
       "      <th>1999</th>\n",
       "      <td>-0.052374</td>\n",
       "      <td>0.964816</td>\n",
       "      <td>0.632624</td>\n",
       "      <td>0.425630</td>\n",
       "      <td>-0.001448</td>\n",
       "      <td>0.063666</td>\n",
       "      <td>-0.431932</td>\n",
       "      <td>-0.501863</td>\n",
       "      <td>0.269471</td>\n",
       "      <td>0.373206</td>\n",
       "      <td>...</td>\n",
       "      <td>-0.203617</td>\n",
       "      <td>-0.18575</td>\n",
       "      <td>-0.214451</td>\n",
       "      <td>1</td>\n",
       "      <td>0</td>\n",
       "      <td>0</td>\n",
       "      <td>0</td>\n",
       "      <td>0</td>\n",
       "      <td>0</td>\n",
       "      <td>0</td>\n",
       "    </tr>\n",
       "  </tbody>\n",
       "</table>\n",
       "<p>2000 rows × 250 columns</p>\n",
       "</div>"
      ],
      "text/plain": [
       "      feature1  feature2  feature3  feature4  feature5  feature6  feature7  \\\n",
       "0    -1.798184 -1.008223 -1.054374 -0.963048  1.157219  1.231856 -0.431932   \n",
       "1    -0.052374 -1.008223 -1.054374 -0.963048 -0.580782 -0.520428 -0.431932   \n",
       "2    -0.052374 -1.008223 -1.054374 -0.963048 -0.580782 -0.520428 -0.431932   \n",
       "3    -0.052374 -1.008223  0.632624 -0.963048 -0.580782 -0.520428 -0.431932   \n",
       "4    -0.052374 -1.008223  0.632624 -0.963048 -0.580782 -0.520428  2.405727   \n",
       "...        ...       ...       ...       ...       ...       ...       ...   \n",
       "1995 -0.052374  0.964816 -1.054374 -0.963048 -0.580782 -0.520428 -0.026552   \n",
       "1996 -0.052374 -1.008223 -1.054374 -0.963048 -0.580782 -0.520428 -0.026552   \n",
       "1997 -0.052374  0.964816  0.632624  0.425630  1.736553  1.815950 -0.431932   \n",
       "1998 -0.052374 -1.008223  0.632624 -0.963048 -0.580782 -0.520428 -0.431932   \n",
       "1999 -0.052374  0.964816  0.632624  0.425630 -0.001448  0.063666 -0.431932   \n",
       "\n",
       "      feature8  feature9  feature10  ...  feature241  feature242  feature243  \\\n",
       "0    -0.501863 -0.496616  -0.607625  ...   -0.203617    -0.18575   -0.214451   \n",
       "1    -0.501863 -0.496616  -0.117209  ...   -0.203617    -0.18575   -0.214451   \n",
       "2    -0.501863 -0.496616  -0.607625  ...   -0.203617    -0.18575    4.207223   \n",
       "3    -0.501863 -0.496616  -0.607625  ...   -0.203617    -0.18575   -0.214451   \n",
       "4     2.599888  0.269471  -0.607625  ...   -0.203617    -0.18575   -0.214451   \n",
       "...        ...       ...        ...  ...         ...         ...         ...   \n",
       "1995  0.118487 -0.496616  -0.607625  ...   -0.203617    -0.18575   -0.214451   \n",
       "1996  3.220239  0.652515  -0.117209  ...   -0.203617    -0.18575   -0.214451   \n",
       "1997 -0.501863  1.035559   1.354037  ...   -0.203617    -0.18575   -0.214451   \n",
       "1998 -0.501863 -0.496616  -0.607625  ...   -0.203617    -0.18575   -0.214451   \n",
       "1999 -0.501863  0.269471   0.373206  ...   -0.203617    -0.18575   -0.214451   \n",
       "\n",
       "      label1  label2  label3  label4  label5  label6  label7  \n",
       "0          0       0       0       1       0       0       0  \n",
       "1          0       0       0       1       0       0       1  \n",
       "2          0       1       0       0       0       0       0  \n",
       "3          0       0       1       0       0       0       0  \n",
       "4          0       0       1       0       0       0       1  \n",
       "...      ...     ...     ...     ...     ...     ...     ...  \n",
       "1995       0       0       0       0       1       0       0  \n",
       "1996       0       1       0       0       0       0       0  \n",
       "1997       1       0       0       0       0       0       0  \n",
       "1998       0       0       0       1       0       0       0  \n",
       "1999       1       0       0       0       0       0       0  \n",
       "\n",
       "[2000 rows x 250 columns]"
      ]
     },
     "execution_count": 13,
     "metadata": {},
     "output_type": "execute_result"
    }
   ],
   "source": [
    "df"
   ]
  },
  {
   "cell_type": "code",
   "execution_count": 14,
   "id": "5cd1cbaf",
   "metadata": {},
   "outputs": [],
   "source": [
    "with open('reuters_labels_classes.pkl', 'rb') as f:\n",
    "    target_classes = pickle.load(f)"
   ]
  },
  {
   "cell_type": "markdown",
   "id": "ebf6d53a",
   "metadata": {},
   "source": [
    "# Setup classification models"
   ]
  },
  {
   "cell_type": "code",
   "execution_count": 15,
   "id": "22a44154",
   "metadata": {},
   "outputs": [
    {
     "data": {
      "text/plain": [
       "{'estimator__C': 1.0,\n",
       " 'estimator__class_weight': None,\n",
       " 'estimator__dual': False,\n",
       " 'estimator__fit_intercept': True,\n",
       " 'estimator__intercept_scaling': 1,\n",
       " 'estimator__l1_ratio': None,\n",
       " 'estimator__max_iter': 100,\n",
       " 'estimator__multi_class': 'auto',\n",
       " 'estimator__n_jobs': None,\n",
       " 'estimator__penalty': 'l2',\n",
       " 'estimator__random_state': None,\n",
       " 'estimator__solver': 'lbfgs',\n",
       " 'estimator__tol': 0.0001,\n",
       " 'estimator__verbose': 0,\n",
       " 'estimator__warm_start': False,\n",
       " 'estimator': LogisticRegression(),\n",
       " 'n_jobs': None}"
      ]
     },
     "execution_count": 15,
     "metadata": {},
     "output_type": "execute_result"
    }
   ],
   "source": [
    "model_LG = MultiOutputClassifier(LogisticRegression())\n",
    "model_LG.get_params()"
   ]
  },
  {
   "cell_type": "code",
   "execution_count": 16,
   "id": "23ac5b4a",
   "metadata": {},
   "outputs": [
    {
     "data": {
      "text/plain": [
       "{'estimator__C': 1.0,\n",
       " 'estimator__break_ties': False,\n",
       " 'estimator__cache_size': 200,\n",
       " 'estimator__class_weight': None,\n",
       " 'estimator__coef0': 0.0,\n",
       " 'estimator__decision_function_shape': 'ovr',\n",
       " 'estimator__degree': 3,\n",
       " 'estimator__gamma': 'scale',\n",
       " 'estimator__kernel': 'rbf',\n",
       " 'estimator__max_iter': -1,\n",
       " 'estimator__probability': True,\n",
       " 'estimator__random_state': None,\n",
       " 'estimator__shrinking': True,\n",
       " 'estimator__tol': 0.001,\n",
       " 'estimator__verbose': False,\n",
       " 'estimator': SVC(probability=True),\n",
       " 'n_jobs': None}"
      ]
     },
     "execution_count": 16,
     "metadata": {},
     "output_type": "execute_result"
    }
   ],
   "source": [
    "model_SVC = MultiOutputClassifier(SVC(probability=True))\n",
    "model_SVC.get_params()"
   ]
  },
  {
   "cell_type": "code",
   "execution_count": 17,
   "id": "25a84988",
   "metadata": {},
   "outputs": [
    {
     "data": {
      "text/plain": [
       "{'estimator__algorithm': 'auto',\n",
       " 'estimator__leaf_size': 30,\n",
       " 'estimator__metric': 'minkowski',\n",
       " 'estimator__metric_params': None,\n",
       " 'estimator__n_jobs': None,\n",
       " 'estimator__n_neighbors': 5,\n",
       " 'estimator__p': 2,\n",
       " 'estimator__weights': 'uniform',\n",
       " 'estimator': KNeighborsClassifier(),\n",
       " 'n_jobs': None}"
      ]
     },
     "execution_count": 17,
     "metadata": {},
     "output_type": "execute_result"
    }
   ],
   "source": [
    "model_KNC = MultiOutputClassifier(KNeighborsClassifier())\n",
    "model_KNC.get_params()"
   ]
  },
  {
   "cell_type": "code",
   "execution_count": 18,
   "id": "3bed07b4",
   "metadata": {},
   "outputs": [
    {
     "data": {
      "text/plain": [
       "{'estimator__priors': None,\n",
       " 'estimator__var_smoothing': 1e-09,\n",
       " 'estimator': GaussianNB(),\n",
       " 'n_jobs': None}"
      ]
     },
     "execution_count": 18,
     "metadata": {},
     "output_type": "execute_result"
    }
   ],
   "source": [
    "model_GNB = MultiOutputClassifier(GaussianNB())\n",
    "model_GNB.get_params()"
   ]
  },
  {
   "cell_type": "code",
   "execution_count": 19,
   "id": "dac1c698",
   "metadata": {},
   "outputs": [
    {
     "data": {
      "text/plain": [
       "{'estimator__ccp_alpha': 0.0,\n",
       " 'estimator__class_weight': None,\n",
       " 'estimator__criterion': 'gini',\n",
       " 'estimator__max_depth': None,\n",
       " 'estimator__max_features': None,\n",
       " 'estimator__max_leaf_nodes': None,\n",
       " 'estimator__min_impurity_decrease': 0.0,\n",
       " 'estimator__min_samples_leaf': 1,\n",
       " 'estimator__min_samples_split': 2,\n",
       " 'estimator__min_weight_fraction_leaf': 0.0,\n",
       " 'estimator__random_state': None,\n",
       " 'estimator__splitter': 'best',\n",
       " 'estimator': DecisionTreeClassifier(),\n",
       " 'n_jobs': None}"
      ]
     },
     "execution_count": 19,
     "metadata": {},
     "output_type": "execute_result"
    }
   ],
   "source": [
    "model_DTC = MultiOutputClassifier(DecisionTreeClassifier())\n",
    "model_DTC.get_params()"
   ]
  },
  {
   "cell_type": "code",
   "execution_count": 20,
   "id": "face8d78",
   "metadata": {},
   "outputs": [
    {
     "data": {
      "text/plain": [
       "{'estimator__activation': 'relu',\n",
       " 'estimator__alpha': 0.0001,\n",
       " 'estimator__batch_size': 'auto',\n",
       " 'estimator__beta_1': 0.9,\n",
       " 'estimator__beta_2': 0.999,\n",
       " 'estimator__early_stopping': False,\n",
       " 'estimator__epsilon': 1e-08,\n",
       " 'estimator__hidden_layer_sizes': (100,),\n",
       " 'estimator__learning_rate': 'constant',\n",
       " 'estimator__learning_rate_init': 0.001,\n",
       " 'estimator__max_fun': 15000,\n",
       " 'estimator__max_iter': 200,\n",
       " 'estimator__momentum': 0.9,\n",
       " 'estimator__n_iter_no_change': 10,\n",
       " 'estimator__nesterovs_momentum': True,\n",
       " 'estimator__power_t': 0.5,\n",
       " 'estimator__random_state': None,\n",
       " 'estimator__shuffle': True,\n",
       " 'estimator__solver': 'adam',\n",
       " 'estimator__tol': 0.0001,\n",
       " 'estimator__validation_fraction': 0.1,\n",
       " 'estimator__verbose': False,\n",
       " 'estimator__warm_start': False,\n",
       " 'estimator': MLPClassifier(),\n",
       " 'n_jobs': None}"
      ]
     },
     "execution_count": 20,
     "metadata": {},
     "output_type": "execute_result"
    }
   ],
   "source": [
    "model_MLPC = MultiOutputClassifier(MLPClassifier())\n",
    "model_MLPC.get_params()"
   ]
  },
  {
   "cell_type": "code",
   "execution_count": 21,
   "id": "f93664a2",
   "metadata": {},
   "outputs": [
    {
     "data": {
      "text/plain": [
       "{'estimator__bootstrap': True,\n",
       " 'estimator__ccp_alpha': 0.0,\n",
       " 'estimator__class_weight': None,\n",
       " 'estimator__criterion': 'gini',\n",
       " 'estimator__max_depth': None,\n",
       " 'estimator__max_features': 'auto',\n",
       " 'estimator__max_leaf_nodes': None,\n",
       " 'estimator__max_samples': None,\n",
       " 'estimator__min_impurity_decrease': 0.0,\n",
       " 'estimator__min_samples_leaf': 1,\n",
       " 'estimator__min_samples_split': 2,\n",
       " 'estimator__min_weight_fraction_leaf': 0.0,\n",
       " 'estimator__n_estimators': 100,\n",
       " 'estimator__n_jobs': None,\n",
       " 'estimator__oob_score': False,\n",
       " 'estimator__random_state': None,\n",
       " 'estimator__verbose': 0,\n",
       " 'estimator__warm_start': False,\n",
       " 'estimator': RandomForestClassifier(),\n",
       " 'n_jobs': None}"
      ]
     },
     "execution_count": 21,
     "metadata": {},
     "output_type": "execute_result"
    }
   ],
   "source": [
    "model_RFC = MultiOutputClassifier(RandomForestClassifier())\n",
    "model_RFC.get_params()"
   ]
  },
  {
   "cell_type": "code",
   "execution_count": 22,
   "id": "f285ee49",
   "metadata": {},
   "outputs": [
    {
     "data": {
      "text/plain": [
       "{'estimator__algorithm': 'SAMME.R',\n",
       " 'estimator__base_estimator': None,\n",
       " 'estimator__learning_rate': 1.0,\n",
       " 'estimator__n_estimators': 50,\n",
       " 'estimator__random_state': None,\n",
       " 'estimator': AdaBoostClassifier(),\n",
       " 'n_jobs': None}"
      ]
     },
     "execution_count": 22,
     "metadata": {},
     "output_type": "execute_result"
    }
   ],
   "source": [
    "model_ABC = MultiOutputClassifier(AdaBoostClassifier())\n",
    "model_ABC.get_params()"
   ]
  },
  {
   "cell_type": "code",
   "execution_count": 23,
   "id": "116a6096",
   "metadata": {},
   "outputs": [
    {
     "data": {
      "text/plain": [
       "{'estimator__ccp_alpha': 0.0,\n",
       " 'estimator__criterion': 'friedman_mse',\n",
       " 'estimator__init': None,\n",
       " 'estimator__learning_rate': 0.1,\n",
       " 'estimator__loss': 'deviance',\n",
       " 'estimator__max_depth': 3,\n",
       " 'estimator__max_features': None,\n",
       " 'estimator__max_leaf_nodes': None,\n",
       " 'estimator__min_impurity_decrease': 0.0,\n",
       " 'estimator__min_samples_leaf': 1,\n",
       " 'estimator__min_samples_split': 2,\n",
       " 'estimator__min_weight_fraction_leaf': 0.0,\n",
       " 'estimator__n_estimators': 100,\n",
       " 'estimator__n_iter_no_change': None,\n",
       " 'estimator__random_state': None,\n",
       " 'estimator__subsample': 1.0,\n",
       " 'estimator__tol': 0.0001,\n",
       " 'estimator__validation_fraction': 0.1,\n",
       " 'estimator__verbose': 0,\n",
       " 'estimator__warm_start': False,\n",
       " 'estimator': GradientBoostingClassifier(),\n",
       " 'n_jobs': None}"
      ]
     },
     "execution_count": 23,
     "metadata": {},
     "output_type": "execute_result"
    }
   ],
   "source": [
    "model_GBC = MultiOutputClassifier(GradientBoostingClassifier())\n",
    "model_GBC.get_params()"
   ]
  },
  {
   "cell_type": "code",
   "execution_count": 24,
   "id": "92e715c2",
   "metadata": {},
   "outputs": [
    {
     "data": {
      "text/plain": [
       "{'estimator__constant': None,\n",
       " 'estimator__random_state': None,\n",
       " 'estimator__strategy': 'stratified',\n",
       " 'estimator': DummyClassifier(strategy='stratified'),\n",
       " 'n_jobs': None}"
      ]
     },
     "execution_count": 24,
     "metadata": {},
     "output_type": "execute_result"
    }
   ],
   "source": [
    "model_DC= MultiOutputClassifier(DummyClassifier(strategy='stratified'))\n",
    "model_DC.get_params()"
   ]
  },
  {
   "cell_type": "markdown",
   "id": "833bf0a5",
   "metadata": {},
   "source": [
    "# Training models"
   ]
  },
  {
   "cell_type": "code",
   "execution_count": 25,
   "id": "f4b3551e",
   "metadata": {},
   "outputs": [],
   "source": [
    "X_train, X_test, y_train, y_test = train_test_split(X, y, test_size=0.3, random_state=13)"
   ]
  },
  {
   "cell_type": "code",
   "execution_count": 26,
   "id": "211e61d3",
   "metadata": {},
   "outputs": [
    {
     "name": "stderr",
     "output_type": "stream",
     "text": [
      "/home/chicco/anaconda3/lib/python3.9/site-packages/sklearn/linear_model/_logistic.py:814: ConvergenceWarning: lbfgs failed to converge (status=1):\n",
      "STOP: TOTAL NO. of ITERATIONS REACHED LIMIT.\n",
      "\n",
      "Increase the number of iterations (max_iter) or scale the data as shown in:\n",
      "    https://scikit-learn.org/stable/modules/preprocessing.html\n",
      "Please also refer to the documentation for alternative solver options:\n",
      "    https://scikit-learn.org/stable/modules/linear_model.html#logistic-regression\n",
      "  n_iter_i = _check_optimize_result(\n"
     ]
    },
    {
     "data": {
      "text/plain": [
       "MultiOutputClassifier(estimator=LogisticRegression())"
      ]
     },
     "execution_count": 26,
     "metadata": {},
     "output_type": "execute_result"
    }
   ],
   "source": [
    "model_LG.fit(X_train, y_train)"
   ]
  },
  {
   "cell_type": "code",
   "execution_count": 27,
   "id": "9a929a46",
   "metadata": {},
   "outputs": [
    {
     "data": {
      "text/plain": [
       "MultiOutputClassifier(estimator=SVC(probability=True))"
      ]
     },
     "execution_count": 27,
     "metadata": {},
     "output_type": "execute_result"
    }
   ],
   "source": [
    "model_SVC.fit(X_train, y_train)"
   ]
  },
  {
   "cell_type": "code",
   "execution_count": 28,
   "id": "bb472a0e",
   "metadata": {},
   "outputs": [
    {
     "data": {
      "text/plain": [
       "MultiOutputClassifier(estimator=KNeighborsClassifier())"
      ]
     },
     "execution_count": 28,
     "metadata": {},
     "output_type": "execute_result"
    }
   ],
   "source": [
    "model_KNC.fit(X_train, y_train)"
   ]
  },
  {
   "cell_type": "code",
   "execution_count": 29,
   "id": "9ecf2a54",
   "metadata": {},
   "outputs": [
    {
     "data": {
      "text/plain": [
       "MultiOutputClassifier(estimator=GaussianNB())"
      ]
     },
     "execution_count": 29,
     "metadata": {},
     "output_type": "execute_result"
    }
   ],
   "source": [
    "model_GNB.fit(X_train, y_train)"
   ]
  },
  {
   "cell_type": "code",
   "execution_count": 30,
   "id": "d65d47a0",
   "metadata": {},
   "outputs": [
    {
     "data": {
      "text/plain": [
       "MultiOutputClassifier(estimator=DecisionTreeClassifier())"
      ]
     },
     "execution_count": 30,
     "metadata": {},
     "output_type": "execute_result"
    }
   ],
   "source": [
    "model_DTC.fit(X_train, y_train)"
   ]
  },
  {
   "cell_type": "code",
   "execution_count": 31,
   "id": "39568628",
   "metadata": {},
   "outputs": [
    {
     "data": {
      "text/plain": [
       "MultiOutputClassifier(estimator=MLPClassifier())"
      ]
     },
     "execution_count": 31,
     "metadata": {},
     "output_type": "execute_result"
    }
   ],
   "source": [
    "model_MLPC.fit(X_train, y_train)"
   ]
  },
  {
   "cell_type": "code",
   "execution_count": 32,
   "id": "b24e3346",
   "metadata": {},
   "outputs": [
    {
     "data": {
      "text/plain": [
       "MultiOutputClassifier(estimator=RandomForestClassifier())"
      ]
     },
     "execution_count": 32,
     "metadata": {},
     "output_type": "execute_result"
    }
   ],
   "source": [
    "model_RFC.fit(X_train, y_train)"
   ]
  },
  {
   "cell_type": "code",
   "execution_count": 33,
   "id": "f22dad69",
   "metadata": {},
   "outputs": [
    {
     "data": {
      "text/plain": [
       "MultiOutputClassifier(estimator=AdaBoostClassifier())"
      ]
     },
     "execution_count": 33,
     "metadata": {},
     "output_type": "execute_result"
    }
   ],
   "source": [
    "model_ABC.fit(X_train, y_train)"
   ]
  },
  {
   "cell_type": "code",
   "execution_count": 34,
   "id": "d280497d",
   "metadata": {},
   "outputs": [
    {
     "data": {
      "text/plain": [
       "MultiOutputClassifier(estimator=GradientBoostingClassifier())"
      ]
     },
     "execution_count": 34,
     "metadata": {},
     "output_type": "execute_result"
    }
   ],
   "source": [
    "model_GBC.fit(X_train, y_train)"
   ]
  },
  {
   "cell_type": "code",
   "execution_count": 35,
   "id": "aad4c0d2",
   "metadata": {},
   "outputs": [
    {
     "name": "stderr",
     "output_type": "stream",
     "text": [
      "/home/chicco/anaconda3/lib/python3.9/site-packages/sklearn/utils/deprecation.py:103: FutureWarning: `n_features_in_` is deprecated in 1.0 and will be removed in 1.2.\n",
      "  warnings.warn(msg, category=FutureWarning)\n"
     ]
    },
    {
     "data": {
      "text/plain": [
       "MultiOutputClassifier(estimator=DummyClassifier(strategy='stratified'))"
      ]
     },
     "execution_count": 35,
     "metadata": {},
     "output_type": "execute_result"
    }
   ],
   "source": [
    "model_DC.fit(X_train, y_train)"
   ]
  },
  {
   "cell_type": "markdown",
   "id": "96d1739b",
   "metadata": {},
   "source": [
    "# Accuracy score for Train and Test dataset"
   ]
  },
  {
   "cell_type": "code",
   "execution_count": 36,
   "id": "b0e7a2be",
   "metadata": {},
   "outputs": [],
   "source": [
    "model_LG_train = accuracy_performance(model_LG, X_train, y_train)\n",
    "model_LG_test = accuracy_performance(model_LG, X_test, y_test)"
   ]
  },
  {
   "cell_type": "code",
   "execution_count": 37,
   "id": "2e543ecc",
   "metadata": {},
   "outputs": [],
   "source": [
    "model_LG_train.insert(1, 'data', 'train')\n",
    "model_LG_test.insert(1, 'data', 'test')\n",
    "results = pd.concat([model_LG_train, model_LG_test], ignore_index=True)"
   ]
  },
  {
   "cell_type": "code",
   "execution_count": 38,
   "id": "f5807d3b",
   "metadata": {},
   "outputs": [],
   "source": [
    "model_SVC_train = accuracy_performance(model_SVC, X_train, y_train)\n",
    "model_SVC_test = accuracy_performance(model_SVC, X_test, y_test)"
   ]
  },
  {
   "cell_type": "code",
   "execution_count": 39,
   "id": "bbaa2787",
   "metadata": {},
   "outputs": [],
   "source": [
    "model_SVC_train.insert(1, 'data', 'train')\n",
    "model_SVC_test.insert(1, 'data', 'test')\n",
    "results = pd.concat([results, model_SVC_train, model_SVC_test], ignore_index=True)"
   ]
  },
  {
   "cell_type": "code",
   "execution_count": 40,
   "id": "b2903744",
   "metadata": {},
   "outputs": [],
   "source": [
    "model_KNC_train = accuracy_performance(model_KNC, X_train, y_train)\n",
    "model_KNC_test = accuracy_performance(model_KNC, X_test, y_test)"
   ]
  },
  {
   "cell_type": "code",
   "execution_count": 41,
   "id": "7be764a4",
   "metadata": {},
   "outputs": [],
   "source": [
    "model_KNC_train.insert(1, 'data', 'train')\n",
    "model_KNC_test.insert(1, 'data', 'test')\n",
    "results = pd.concat([results, model_KNC_train, model_KNC_test], ignore_index=True)"
   ]
  },
  {
   "cell_type": "code",
   "execution_count": 42,
   "id": "882d90b1",
   "metadata": {},
   "outputs": [],
   "source": [
    "model_GNB_train = accuracy_performance(model_GNB, X_train, y_train)\n",
    "model_GNB_test = accuracy_performance(model_GNB, X_test, y_test)"
   ]
  },
  {
   "cell_type": "code",
   "execution_count": 43,
   "id": "cccebf93",
   "metadata": {},
   "outputs": [],
   "source": [
    "model_GNB_train.insert(1, 'data', 'train')\n",
    "model_GNB_test.insert(1, 'data', 'test')\n",
    "results = pd.concat([results, model_GNB_train, model_GNB_test], ignore_index=True)"
   ]
  },
  {
   "cell_type": "code",
   "execution_count": 44,
   "id": "ed343b41",
   "metadata": {},
   "outputs": [],
   "source": [
    "model_DTC_train = accuracy_performance(model_DTC, X_train, y_train)\n",
    "model_DTC_test = accuracy_performance(model_DTC, X_test, y_test)"
   ]
  },
  {
   "cell_type": "code",
   "execution_count": 45,
   "id": "6e134175",
   "metadata": {},
   "outputs": [],
   "source": [
    "model_DTC_train.insert(1, 'data', 'train')\n",
    "model_DTC_test.insert(1, 'data', 'test')\n",
    "results = pd.concat([results, model_DTC_train, model_DTC_test], ignore_index=True)"
   ]
  },
  {
   "cell_type": "code",
   "execution_count": 46,
   "id": "fd605c71",
   "metadata": {},
   "outputs": [],
   "source": [
    "model_MLPC_train = accuracy_performance(model_MLPC, X_train, y_train)\n",
    "model_MLPC_test = accuracy_performance(model_MLPC, X_test, y_test)"
   ]
  },
  {
   "cell_type": "code",
   "execution_count": 47,
   "id": "963115b2",
   "metadata": {},
   "outputs": [],
   "source": [
    "model_MLPC_train.insert(1, 'data', 'train')\n",
    "model_MLPC_test.insert(1, 'data', 'test')\n",
    "results = pd.concat([results, model_MLPC_train, model_MLPC_test], ignore_index=True)"
   ]
  },
  {
   "cell_type": "code",
   "execution_count": 48,
   "id": "710d9734",
   "metadata": {},
   "outputs": [],
   "source": [
    "model_RFC_train = accuracy_performance(model_RFC, X_train, y_train)\n",
    "model_RFC_test = accuracy_performance(model_RFC, X_test, y_test)"
   ]
  },
  {
   "cell_type": "code",
   "execution_count": 49,
   "id": "5c6b90af",
   "metadata": {},
   "outputs": [],
   "source": [
    "model_RFC_train.insert(1, 'data', 'train')\n",
    "model_RFC_test.insert(1, 'data', 'test')\n",
    "results = pd.concat([results, model_RFC_train, model_RFC_test], ignore_index=True)"
   ]
  },
  {
   "cell_type": "code",
   "execution_count": 50,
   "id": "a532c25d",
   "metadata": {},
   "outputs": [],
   "source": [
    "model_GBC_train = accuracy_performance(model_GBC, X_train, y_train)\n",
    "model_GBC_test = accuracy_performance(model_GBC, X_test, y_test)"
   ]
  },
  {
   "cell_type": "code",
   "execution_count": 51,
   "id": "b1f1b346",
   "metadata": {},
   "outputs": [],
   "source": [
    "model_GBC_train.insert(1, 'data', 'train')\n",
    "model_GBC_test.insert(1, 'data', 'test')\n",
    "results = pd.concat([results, model_GBC_train, model_GBC_test], ignore_index=True)"
   ]
  },
  {
   "cell_type": "code",
   "execution_count": 52,
   "id": "665945c3",
   "metadata": {},
   "outputs": [],
   "source": [
    "model_ABC_train = accuracy_performance(model_ABC, X_train, y_train)\n",
    "model_ABC_test = accuracy_performance(model_ABC, X_test, y_test)"
   ]
  },
  {
   "cell_type": "code",
   "execution_count": 53,
   "id": "cefc8a80",
   "metadata": {},
   "outputs": [],
   "source": [
    "model_ABC_train.insert(1, 'data', 'train')\n",
    "model_ABC_test.insert(1, 'data', 'test')\n",
    "results = pd.concat([results, model_ABC_train, model_ABC_test], ignore_index=True)"
   ]
  },
  {
   "cell_type": "code",
   "execution_count": 54,
   "id": "7657dde3",
   "metadata": {},
   "outputs": [],
   "source": [
    "model_DC_train = accuracy_performance(model_DC, X_train, y_train)\n",
    "model_DC_test = accuracy_performance(model_DC, X_test, y_test)"
   ]
  },
  {
   "cell_type": "code",
   "execution_count": 55,
   "id": "385492d6",
   "metadata": {},
   "outputs": [],
   "source": [
    "model_DC_train.insert(1, 'data', 'train')\n",
    "model_DC_test.insert(1, 'data', 'test')\n",
    "results = pd.concat([results, model_DC_train, model_DC_test], ignore_index=True)"
   ]
  },
  {
   "cell_type": "code",
   "execution_count": 56,
   "id": "9c6aed52",
   "metadata": {},
   "outputs": [
    {
     "data": {
      "text/html": [
       "<div>\n",
       "<style scoped>\n",
       "    .dataframe tbody tr th:only-of-type {\n",
       "        vertical-align: middle;\n",
       "    }\n",
       "\n",
       "    .dataframe tbody tr th {\n",
       "        vertical-align: top;\n",
       "    }\n",
       "\n",
       "    .dataframe thead th {\n",
       "        text-align: right;\n",
       "    }\n",
       "</style>\n",
       "<table border=\"1\" class=\"dataframe\">\n",
       "  <thead>\n",
       "    <tr style=\"text-align: right;\">\n",
       "      <th></th>\n",
       "      <th>model</th>\n",
       "      <th>data</th>\n",
       "      <th>accuracy</th>\n",
       "    </tr>\n",
       "  </thead>\n",
       "  <tbody>\n",
       "    <tr>\n",
       "      <th>0</th>\n",
       "      <td>LogisticRegression()</td>\n",
       "      <td>train</td>\n",
       "      <td>0.920</td>\n",
       "    </tr>\n",
       "    <tr>\n",
       "      <th>1</th>\n",
       "      <td>LogisticRegression()</td>\n",
       "      <td>test</td>\n",
       "      <td>0.602</td>\n",
       "    </tr>\n",
       "    <tr>\n",
       "      <th>2</th>\n",
       "      <td>SVC(probability=True)</td>\n",
       "      <td>train</td>\n",
       "      <td>0.793</td>\n",
       "    </tr>\n",
       "    <tr>\n",
       "      <th>3</th>\n",
       "      <td>SVC(probability=True)</td>\n",
       "      <td>test</td>\n",
       "      <td>0.552</td>\n",
       "    </tr>\n",
       "    <tr>\n",
       "      <th>4</th>\n",
       "      <td>KNeighborsClassifier()</td>\n",
       "      <td>train</td>\n",
       "      <td>0.646</td>\n",
       "    </tr>\n",
       "    <tr>\n",
       "      <th>5</th>\n",
       "      <td>KNeighborsClassifier()</td>\n",
       "      <td>test</td>\n",
       "      <td>0.605</td>\n",
       "    </tr>\n",
       "    <tr>\n",
       "      <th>6</th>\n",
       "      <td>GaussianNB()</td>\n",
       "      <td>train</td>\n",
       "      <td>0.281</td>\n",
       "    </tr>\n",
       "    <tr>\n",
       "      <th>7</th>\n",
       "      <td>GaussianNB()</td>\n",
       "      <td>test</td>\n",
       "      <td>0.235</td>\n",
       "    </tr>\n",
       "    <tr>\n",
       "      <th>8</th>\n",
       "      <td>DecisionTreeClassifier()</td>\n",
       "      <td>train</td>\n",
       "      <td>0.994</td>\n",
       "    </tr>\n",
       "    <tr>\n",
       "      <th>9</th>\n",
       "      <td>DecisionTreeClassifier()</td>\n",
       "      <td>test</td>\n",
       "      <td>0.555</td>\n",
       "    </tr>\n",
       "    <tr>\n",
       "      <th>10</th>\n",
       "      <td>MLPClassifier()</td>\n",
       "      <td>train</td>\n",
       "      <td>0.992</td>\n",
       "    </tr>\n",
       "    <tr>\n",
       "      <th>11</th>\n",
       "      <td>MLPClassifier()</td>\n",
       "      <td>test</td>\n",
       "      <td>0.665</td>\n",
       "    </tr>\n",
       "    <tr>\n",
       "      <th>12</th>\n",
       "      <td>RandomForestClassifier()</td>\n",
       "      <td>train</td>\n",
       "      <td>0.994</td>\n",
       "    </tr>\n",
       "    <tr>\n",
       "      <th>13</th>\n",
       "      <td>RandomForestClassifier()</td>\n",
       "      <td>test</td>\n",
       "      <td>0.625</td>\n",
       "    </tr>\n",
       "    <tr>\n",
       "      <th>14</th>\n",
       "      <td>GradientBoostingClassifier()</td>\n",
       "      <td>train</td>\n",
       "      <td>0.852</td>\n",
       "    </tr>\n",
       "    <tr>\n",
       "      <th>15</th>\n",
       "      <td>GradientBoostingClassifier()</td>\n",
       "      <td>test</td>\n",
       "      <td>0.597</td>\n",
       "    </tr>\n",
       "    <tr>\n",
       "      <th>16</th>\n",
       "      <td>AdaBoostClassifier()</td>\n",
       "      <td>train</td>\n",
       "      <td>0.696</td>\n",
       "    </tr>\n",
       "    <tr>\n",
       "      <th>17</th>\n",
       "      <td>AdaBoostClassifier()</td>\n",
       "      <td>test</td>\n",
       "      <td>0.567</td>\n",
       "    </tr>\n",
       "    <tr>\n",
       "      <th>18</th>\n",
       "      <td>DummyClassifier(strategy='stratified')</td>\n",
       "      <td>train</td>\n",
       "      <td>0.098</td>\n",
       "    </tr>\n",
       "    <tr>\n",
       "      <th>19</th>\n",
       "      <td>DummyClassifier(strategy='stratified')</td>\n",
       "      <td>test</td>\n",
       "      <td>0.127</td>\n",
       "    </tr>\n",
       "  </tbody>\n",
       "</table>\n",
       "</div>"
      ],
      "text/plain": [
       "                                     model   data  accuracy\n",
       "0                     LogisticRegression()  train     0.920\n",
       "1                     LogisticRegression()   test     0.602\n",
       "2                    SVC(probability=True)  train     0.793\n",
       "3                    SVC(probability=True)   test     0.552\n",
       "4                   KNeighborsClassifier()  train     0.646\n",
       "5                   KNeighborsClassifier()   test     0.605\n",
       "6                             GaussianNB()  train     0.281\n",
       "7                             GaussianNB()   test     0.235\n",
       "8                 DecisionTreeClassifier()  train     0.994\n",
       "9                 DecisionTreeClassifier()   test     0.555\n",
       "10                         MLPClassifier()  train     0.992\n",
       "11                         MLPClassifier()   test     0.665\n",
       "12                RandomForestClassifier()  train     0.994\n",
       "13                RandomForestClassifier()   test     0.625\n",
       "14            GradientBoostingClassifier()  train     0.852\n",
       "15            GradientBoostingClassifier()   test     0.597\n",
       "16                    AdaBoostClassifier()  train     0.696\n",
       "17                    AdaBoostClassifier()   test     0.567\n",
       "18  DummyClassifier(strategy='stratified')  train     0.098\n",
       "19  DummyClassifier(strategy='stratified')   test     0.127"
      ]
     },
     "execution_count": 56,
     "metadata": {},
     "output_type": "execute_result"
    }
   ],
   "source": [
    "results"
   ]
  },
  {
   "cell_type": "markdown",
   "id": "e0397098",
   "metadata": {},
   "source": [
    "# Accuracy rank for classification models test"
   ]
  },
  {
   "cell_type": "code",
   "execution_count": 57,
   "id": "4da89533",
   "metadata": {},
   "outputs": [],
   "source": [
    "df_results = results[(results['data'] != 'train')]\n",
    "df_results = df_results.sort_values(by='accuracy', ascending=False)\n",
    "df_results = df_results.reset_index(drop=True)\n",
    "df_results.index = df_results.index + 1"
   ]
  },
  {
   "cell_type": "code",
   "execution_count": 58,
   "id": "95ab5656",
   "metadata": {},
   "outputs": [
    {
     "data": {
      "image/png": "[encoded data removed]",
      "text/plain": [
       "<Figure size 1100x500 with 1 Axes>"
      ]
     },
     "metadata": {},
     "output_type": "display_data"
    },
    {
     "data": {
      "text/html": [
       "<div>\n",
       "<style scoped>\n",
       "    .dataframe tbody tr th:only-of-type {\n",
       "        vertical-align: middle;\n",
       "    }\n",
       "\n",
       "    .dataframe tbody tr th {\n",
       "        vertical-align: top;\n",
       "    }\n",
       "\n",
       "    .dataframe thead th {\n",
       "        text-align: right;\n",
       "    }\n",
       "</style>\n",
       "<table border=\"1\" class=\"dataframe\">\n",
       "  <thead>\n",
       "    <tr style=\"text-align: right;\">\n",
       "      <th></th>\n",
       "      <th>model</th>\n",
       "      <th>data</th>\n",
       "      <th>accuracy</th>\n",
       "    </tr>\n",
       "  </thead>\n",
       "  <tbody>\n",
       "    <tr>\n",
       "      <th>1</th>\n",
       "      <td>MLPClassifier</td>\n",
       "      <td>test</td>\n",
       "      <td>0.665</td>\n",
       "    </tr>\n",
       "    <tr>\n",
       "      <th>2</th>\n",
       "      <td>RandomForestClassifier</td>\n",
       "      <td>test</td>\n",
       "      <td>0.625</td>\n",
       "    </tr>\n",
       "    <tr>\n",
       "      <th>3</th>\n",
       "      <td>KNeighborsClassifier</td>\n",
       "      <td>test</td>\n",
       "      <td>0.605</td>\n",
       "    </tr>\n",
       "    <tr>\n",
       "      <th>4</th>\n",
       "      <td>LogisticRegression</td>\n",
       "      <td>test</td>\n",
       "      <td>0.602</td>\n",
       "    </tr>\n",
       "    <tr>\n",
       "      <th>5</th>\n",
       "      <td>GradientBoostingClassifier</td>\n",
       "      <td>test</td>\n",
       "      <td>0.597</td>\n",
       "    </tr>\n",
       "    <tr>\n",
       "      <th>6</th>\n",
       "      <td>AdaBoostClassifier</td>\n",
       "      <td>test</td>\n",
       "      <td>0.567</td>\n",
       "    </tr>\n",
       "    <tr>\n",
       "      <th>7</th>\n",
       "      <td>DecisionTreeClassifier</td>\n",
       "      <td>test</td>\n",
       "      <td>0.555</td>\n",
       "    </tr>\n",
       "    <tr>\n",
       "      <th>8</th>\n",
       "      <td>SVC</td>\n",
       "      <td>test</td>\n",
       "      <td>0.552</td>\n",
       "    </tr>\n",
       "    <tr>\n",
       "      <th>9</th>\n",
       "      <td>GaussianNB</td>\n",
       "      <td>test</td>\n",
       "      <td>0.235</td>\n",
       "    </tr>\n",
       "    <tr>\n",
       "      <th>10</th>\n",
       "      <td>DummyClassifier</td>\n",
       "      <td>test</td>\n",
       "      <td>0.127</td>\n",
       "    </tr>\n",
       "  </tbody>\n",
       "</table>\n",
       "</div>"
      ],
      "text/plain": [
       "                         model  data  accuracy\n",
       "1                MLPClassifier  test     0.665\n",
       "2       RandomForestClassifier  test     0.625\n",
       "3         KNeighborsClassifier  test     0.605\n",
       "4           LogisticRegression  test     0.602\n",
       "5   GradientBoostingClassifier  test     0.597\n",
       "6           AdaBoostClassifier  test     0.567\n",
       "7       DecisionTreeClassifier  test     0.555\n",
       "8                          SVC  test     0.552\n",
       "9                   GaussianNB  test     0.235\n",
       "10             DummyClassifier  test     0.127"
      ]
     },
     "execution_count": 58,
     "metadata": {},
     "output_type": "execute_result"
    }
   ],
   "source": [
    "classification_analysis(df_results)"
   ]
  },
  {
   "cell_type": "markdown",
   "id": "f1b418f0",
   "metadata": {},
   "source": [
    "# Pecision and Recall scores analysis"
   ]
  },
  {
   "cell_type": "code",
   "execution_count": 59,
   "id": "abce8598",
   "metadata": {},
   "outputs": [
    {
     "data": {
      "text/plain": [
       "dict_values([False, True])"
      ]
     },
     "execution_count": 59,
     "metadata": {},
     "output_type": "execute_result"
    }
   ],
   "source": [
    "target_classes.values()"
   ]
  },
  {
   "cell_type": "code",
   "execution_count": 60,
   "id": "ef6ce8b1",
   "metadata": {},
   "outputs": [
    {
     "name": "stdout",
     "output_type": "stream",
     "text": [
      "              precision    recall  f1-score   support\n",
      "\n",
      "      label1       0.99      0.97      0.98       570\n",
      "      label2       0.97      0.92      0.95       331\n",
      "      label3       0.95      0.93      0.94       225\n",
      "      label4       1.00      0.96      0.98       102\n",
      "      label5       1.00      0.88      0.94        91\n",
      "      label6       1.00      0.95      0.97       111\n",
      "      label7       0.96      0.92      0.94       193\n",
      "\n",
      "   micro avg       0.98      0.94      0.96      1623\n",
      "   macro avg       0.98      0.93      0.96      1623\n",
      "weighted avg       0.98      0.94      0.96      1623\n",
      " samples avg       0.94      0.94      0.94      1623\n",
      "\n"
     ]
    }
   ],
   "source": [
    "classificator_performance(model_LG, X_train, y_train, labels)"
   ]
  },
  {
   "cell_type": "code",
   "execution_count": 61,
   "id": "1723662a",
   "metadata": {},
   "outputs": [
    {
     "name": "stdout",
     "output_type": "stream",
     "text": [
      "              precision    recall  f1-score   support\n",
      "\n",
      "      label1       0.87      0.87      0.87       261\n",
      "      label2       0.68      0.75      0.71       151\n",
      "      label3       0.59      0.65      0.62        74\n",
      "      label4       0.41      0.37      0.39        51\n",
      "      label5       0.33      0.30      0.31        37\n",
      "      label6       0.40      0.44      0.42        43\n",
      "      label7       0.68      0.60      0.64        68\n",
      "\n",
      "   micro avg       0.69      0.70      0.69       685\n",
      "   macro avg       0.57      0.57      0.57       685\n",
      "weighted avg       0.68      0.70      0.69       685\n",
      " samples avg       0.68      0.72      0.69       685\n",
      "\n"
     ]
    }
   ],
   "source": [
    "classificator_performance(model_LG, X_test, y_test, labels)"
   ]
  },
  {
   "cell_type": "code",
   "execution_count": 62,
   "id": "f9d03d01",
   "metadata": {},
   "outputs": [
    {
     "name": "stdout",
     "output_type": "stream",
     "text": [
      "              precision    recall  f1-score   support\n",
      "\n",
      "      label1       0.87      0.88      0.88       570\n",
      "      label2       0.87      0.62      0.72       331\n",
      "      label3       0.79      0.68      0.73       225\n",
      "      label4       0.85      0.38      0.53       102\n",
      "      label5       0.94      0.19      0.31        91\n",
      "      label6       0.90      0.39      0.54       111\n",
      "      label7       0.83      0.69      0.75       193\n",
      "\n",
      "   micro avg       0.85      0.67      0.75      1623\n",
      "   macro avg       0.86      0.55      0.64      1623\n",
      "weighted avg       0.86      0.67      0.73      1623\n",
      " samples avg       0.70      0.69      0.69      1623\n",
      "\n"
     ]
    }
   ],
   "source": [
    "classificator_performance(model_KNC, X_train, y_train, labels)"
   ]
  },
  {
   "cell_type": "code",
   "execution_count": 63,
   "id": "00dfa229",
   "metadata": {},
   "outputs": [
    {
     "name": "stdout",
     "output_type": "stream",
     "text": [
      "              precision    recall  f1-score   support\n",
      "\n",
      "      label1       0.84      0.87      0.86       261\n",
      "      label2       0.81      0.52      0.63       151\n",
      "      label3       0.63      0.58      0.61        74\n",
      "      label4       0.70      0.31      0.43        51\n",
      "      label5       0.60      0.16      0.26        37\n",
      "      label6       0.53      0.19      0.28        43\n",
      "      label7       0.75      0.62      0.68        68\n",
      "\n",
      "   micro avg       0.78      0.61      0.69       685\n",
      "   macro avg       0.70      0.46      0.53       685\n",
      "weighted avg       0.76      0.61      0.66       685\n",
      " samples avg       0.65      0.64      0.64       685\n",
      "\n"
     ]
    }
   ],
   "source": [
    "classificator_performance(model_KNC, X_test, y_test, labels)"
   ]
  },
  {
   "cell_type": "code",
   "execution_count": 64,
   "id": "95751ac2",
   "metadata": {},
   "outputs": [
    {
     "name": "stdout",
     "output_type": "stream",
     "text": [
      "              precision    recall  f1-score   support\n",
      "\n",
      "      label1       1.00      0.94      0.97       570\n",
      "      label2       0.98      0.88      0.93       331\n",
      "      label3       0.97      0.75      0.84       225\n",
      "      label4       1.00      0.56      0.72       102\n",
      "      label5       1.00      0.43      0.60        91\n",
      "      label6       1.00      0.67      0.80       111\n",
      "      label7       0.96      0.80      0.88       193\n",
      "\n",
      "   micro avg       0.99      0.81      0.89      1623\n",
      "   macro avg       0.99      0.72      0.82      1623\n",
      "weighted avg       0.99      0.81      0.88      1623\n",
      " samples avg       0.82      0.82      0.81      1623\n",
      "\n"
     ]
    }
   ],
   "source": [
    "classificator_performance(model_SVC, X_train, y_train, labels)"
   ]
  },
  {
   "cell_type": "code",
   "execution_count": 65,
   "id": "752d0b14",
   "metadata": {},
   "outputs": [
    {
     "name": "stdout",
     "output_type": "stream",
     "text": [
      "              precision    recall  f1-score   support\n",
      "\n",
      "      label1       1.00      0.78      0.87       261\n",
      "      label2       0.91      0.60      0.72       151\n",
      "      label3       0.96      0.36      0.53        74\n",
      "      label4       1.00      0.14      0.24        51\n",
      "      label5       0.00      0.00      0.00        37\n",
      "      label6       1.00      0.07      0.13        43\n",
      "      label7       1.00      0.47      0.64        68\n",
      "\n",
      "   micro avg       0.97      0.53      0.68       685\n",
      "   macro avg       0.84      0.35      0.45       685\n",
      "weighted avg       0.92      0.53      0.64       685\n",
      " samples avg       0.57      0.56      0.56       685\n",
      "\n"
     ]
    }
   ],
   "source": [
    "classificator_performance(model_SVC, X_test, y_test, labels)"
   ]
  },
  {
   "cell_type": "code",
   "execution_count": 66,
   "id": "2b3a6823",
   "metadata": {},
   "outputs": [
    {
     "name": "stdout",
     "output_type": "stream",
     "text": [
      "              precision    recall  f1-score   support\n",
      "\n",
      "      label1       0.62      0.92      0.74       570\n",
      "      label2       0.40      0.88      0.55       331\n",
      "      label3       0.39      0.92      0.54       225\n",
      "      label4       0.25      0.92      0.39       102\n",
      "      label5       0.36      0.73      0.48        91\n",
      "      label6       0.44      0.78      0.57       111\n",
      "      label7       0.40      0.94      0.56       193\n",
      "\n",
      "   micro avg       0.44      0.89      0.59      1623\n",
      "   macro avg       0.41      0.87      0.55      1623\n",
      "weighted avg       0.47      0.89      0.60      1623\n",
      " samples avg       0.54      0.90      0.64      1623\n",
      "\n"
     ]
    }
   ],
   "source": [
    "classificator_performance(model_GNB, X_train, y_train, labels)"
   ]
  },
  {
   "cell_type": "code",
   "execution_count": 67,
   "id": "fbe78041",
   "metadata": {},
   "outputs": [
    {
     "name": "stdout",
     "output_type": "stream",
     "text": [
      "              precision    recall  f1-score   support\n",
      "\n",
      "      label1       0.65      0.89      0.75       261\n",
      "      label2       0.38      0.77      0.51       151\n",
      "      label3       0.29      0.85      0.44        74\n",
      "      label4       0.19      0.61      0.29        51\n",
      "      label5       0.22      0.51      0.31        37\n",
      "      label6       0.31      0.56      0.40        43\n",
      "      label7       0.31      0.88      0.45        68\n",
      "\n",
      "   micro avg       0.39      0.80      0.52       685\n",
      "   macro avg       0.33      0.73      0.45       685\n",
      "weighted avg       0.44      0.80      0.55       685\n",
      " samples avg       0.48      0.81      0.56       685\n",
      "\n"
     ]
    }
   ],
   "source": [
    "classificator_performance(model_GNB, X_test, y_test, labels)"
   ]
  },
  {
   "cell_type": "code",
   "execution_count": 68,
   "id": "8bda84ab",
   "metadata": {},
   "outputs": [
    {
     "name": "stdout",
     "output_type": "stream",
     "text": [
      "              precision    recall  f1-score   support\n",
      "\n",
      "      label1       1.00      1.00      1.00       570\n",
      "      label2       1.00      0.99      1.00       331\n",
      "      label3       0.99      0.99      0.99       225\n",
      "      label4       1.00      1.00      1.00       102\n",
      "      label5       1.00      0.99      0.99        91\n",
      "      label6       1.00      1.00      1.00       111\n",
      "      label7       1.00      0.99      1.00       193\n",
      "\n",
      "   micro avg       1.00      1.00      1.00      1623\n",
      "   macro avg       1.00      1.00      1.00      1623\n",
      "weighted avg       1.00      1.00      1.00      1623\n",
      " samples avg       1.00      1.00      1.00      1623\n",
      "\n"
     ]
    }
   ],
   "source": [
    "classificator_performance(model_DTC, X_train, y_train, labels)"
   ]
  },
  {
   "cell_type": "code",
   "execution_count": 69,
   "id": "82a91ef2",
   "metadata": {},
   "outputs": [
    {
     "name": "stdout",
     "output_type": "stream",
     "text": [
      "              precision    recall  f1-score   support\n",
      "\n",
      "      label1       0.86      0.89      0.87       261\n",
      "      label2       0.70      0.66      0.68       151\n",
      "      label3       0.59      0.64      0.61        74\n",
      "      label4       0.40      0.35      0.38        51\n",
      "      label5       0.18      0.19      0.19        37\n",
      "      label6       0.40      0.44      0.42        43\n",
      "      label7       0.56      0.54      0.55        68\n",
      "\n",
      "   micro avg       0.67      0.67      0.67       685\n",
      "   macro avg       0.53      0.53      0.53       685\n",
      "weighted avg       0.67      0.67      0.67       685\n",
      " samples avg       0.64      0.69      0.65       685\n",
      "\n"
     ]
    }
   ],
   "source": [
    "classificator_performance(model_DTC, X_test, y_test, labels)"
   ]
  },
  {
   "cell_type": "code",
   "execution_count": 70,
   "id": "483247b9",
   "metadata": {},
   "outputs": [
    {
     "name": "stdout",
     "output_type": "stream",
     "text": [
      "              precision    recall  f1-score   support\n",
      "\n",
      "      label1       1.00      1.00      1.00       570\n",
      "      label2       1.00      0.99      1.00       331\n",
      "      label3       0.99      1.00      0.99       225\n",
      "      label4       1.00      1.00      1.00       102\n",
      "      label5       1.00      0.99      0.99        91\n",
      "      label6       1.00      1.00      1.00       111\n",
      "      label7       0.99      1.00      1.00       193\n",
      "\n",
      "   micro avg       1.00      1.00      1.00      1623\n",
      "   macro avg       1.00      1.00      1.00      1623\n",
      "weighted avg       1.00      1.00      1.00      1623\n",
      " samples avg       1.00      1.00      1.00      1623\n",
      "\n"
     ]
    }
   ],
   "source": [
    "classificator_performance(model_RFC, X_train, y_train, labels)"
   ]
  },
  {
   "cell_type": "code",
   "execution_count": 71,
   "id": "3daa5f53",
   "metadata": {},
   "outputs": [
    {
     "name": "stdout",
     "output_type": "stream",
     "text": [
      "              precision    recall  f1-score   support\n",
      "\n",
      "      label1       0.97      0.89      0.93       261\n",
      "      label2       0.93      0.67      0.78       151\n",
      "      label3       0.80      0.58      0.67        74\n",
      "      label4       0.62      0.10      0.17        51\n",
      "      label5       1.00      0.14      0.24        37\n",
      "      label6       0.62      0.12      0.20        43\n",
      "      label7       1.00      0.57      0.73        68\n",
      "\n",
      "   micro avg       0.93      0.63      0.75       685\n",
      "   macro avg       0.85      0.44      0.53       685\n",
      "weighted avg       0.90      0.63      0.71       685\n",
      " samples avg       0.67      0.65      0.66       685\n",
      "\n"
     ]
    }
   ],
   "source": [
    "classificator_performance(model_RFC, X_test, y_test, labels)"
   ]
  },
  {
   "cell_type": "code",
   "execution_count": 72,
   "id": "3343e3b5",
   "metadata": {},
   "outputs": [
    {
     "name": "stdout",
     "output_type": "stream",
     "text": [
      "              precision    recall  f1-score   support\n",
      "\n",
      "      label1       1.00      1.00      1.00       570\n",
      "      label2       1.00      0.99      1.00       331\n",
      "      label3       0.99      1.00      0.99       225\n",
      "      label4       1.00      1.00      1.00       102\n",
      "      label5       1.00      0.99      0.99        91\n",
      "      label6       1.00      0.98      0.99       111\n",
      "      label7       0.99      1.00      0.99       193\n",
      "\n",
      "   micro avg       1.00      1.00      1.00      1623\n",
      "   macro avg       1.00      0.99      1.00      1623\n",
      "weighted avg       1.00      1.00      1.00      1623\n",
      " samples avg       0.99      1.00      0.99      1623\n",
      "\n"
     ]
    }
   ],
   "source": [
    "classificator_performance(model_MLPC, X_train, y_train, labels)"
   ]
  },
  {
   "cell_type": "code",
   "execution_count": 73,
   "id": "7531f50f",
   "metadata": {},
   "outputs": [
    {
     "name": "stdout",
     "output_type": "stream",
     "text": [
      "              precision    recall  f1-score   support\n",
      "\n",
      "      label1       0.93      0.91      0.92       261\n",
      "      label2       0.78      0.79      0.79       151\n",
      "      label3       0.71      0.73      0.72        74\n",
      "      label4       0.55      0.41      0.47        51\n",
      "      label5       0.50      0.22      0.30        37\n",
      "      label6       0.59      0.44      0.51        43\n",
      "      label7       0.73      0.65      0.69        68\n",
      "\n",
      "   micro avg       0.80      0.74      0.77       685\n",
      "   macro avg       0.69      0.59      0.63       685\n",
      "weighted avg       0.78      0.74      0.75       685\n",
      " samples avg       0.75      0.76      0.75       685\n",
      "\n"
     ]
    }
   ],
   "source": [
    "classificator_performance(model_MLPC, X_test, y_test, labels)"
   ]
  },
  {
   "cell_type": "code",
   "execution_count": 74,
   "id": "8f60dd2f",
   "metadata": {},
   "outputs": [
    {
     "name": "stdout",
     "output_type": "stream",
     "text": [
      "              precision    recall  f1-score   support\n",
      "\n",
      "      label1       0.95      0.91      0.93       570\n",
      "      label2       0.88      0.76      0.82       331\n",
      "      label3       0.85      0.74      0.79       225\n",
      "      label4       0.82      0.49      0.61       102\n",
      "      label5       0.95      0.42      0.58        91\n",
      "      label6       0.89      0.60      0.72       111\n",
      "      label7       0.88      0.77      0.82       193\n",
      "\n",
      "   micro avg       0.90      0.77      0.83      1623\n",
      "   macro avg       0.89      0.67      0.75      1623\n",
      "weighted avg       0.90      0.77      0.82      1623\n",
      " samples avg       0.77      0.78      0.77      1623\n",
      "\n"
     ]
    }
   ],
   "source": [
    "classificator_performance(model_ABC, X_train, y_train, labels)"
   ]
  },
  {
   "cell_type": "code",
   "execution_count": 75,
   "id": "09e8780f",
   "metadata": {},
   "outputs": [
    {
     "name": "stdout",
     "output_type": "stream",
     "text": [
      "              precision    recall  f1-score   support\n",
      "\n",
      "      label1       0.90      0.89      0.90       261\n",
      "      label2       0.76      0.62      0.69       151\n",
      "      label3       0.59      0.50      0.54        74\n",
      "      label4       0.44      0.14      0.21        51\n",
      "      label5       0.15      0.05      0.08        37\n",
      "      label6       0.38      0.23      0.29        43\n",
      "      label7       0.75      0.53      0.62        68\n",
      "\n",
      "   micro avg       0.77      0.61      0.68       685\n",
      "   macro avg       0.57      0.42      0.47       685\n",
      "weighted avg       0.72      0.61      0.65       685\n",
      " samples avg       0.64      0.63      0.63       685\n",
      "\n"
     ]
    }
   ],
   "source": [
    "classificator_performance(model_ABC, X_test, y_test, labels)"
   ]
  },
  {
   "cell_type": "code",
   "execution_count": 76,
   "id": "9e46f977",
   "metadata": {},
   "outputs": [
    {
     "name": "stdout",
     "output_type": "stream",
     "text": [
      "              precision    recall  f1-score   support\n",
      "\n",
      "      label1       1.00      0.97      0.98       570\n",
      "      label2       1.00      0.89      0.94       331\n",
      "      label3       0.97      0.83      0.90       225\n",
      "      label4       1.00      0.69      0.81       102\n",
      "      label5       1.00      0.66      0.79        91\n",
      "      label6       1.00      0.77      0.87       111\n",
      "      label7       0.97      0.86      0.91       193\n",
      "\n",
      "   micro avg       0.99      0.87      0.93      1623\n",
      "   macro avg       0.99      0.81      0.89      1623\n",
      "weighted avg       0.99      0.87      0.92      1623\n",
      " samples avg       0.88      0.87      0.87      1623\n",
      "\n"
     ]
    }
   ],
   "source": [
    "classificator_performance(model_GBC, X_train, y_train, labels)"
   ]
  },
  {
   "cell_type": "code",
   "execution_count": 77,
   "id": "fdef733d",
   "metadata": {},
   "outputs": [
    {
     "name": "stdout",
     "output_type": "stream",
     "text": [
      "              precision    recall  f1-score   support\n",
      "\n",
      "      label1       0.94      0.90      0.92       261\n",
      "      label2       0.84      0.62      0.71       151\n",
      "      label3       0.73      0.47      0.57        74\n",
      "      label4       0.73      0.22      0.33        51\n",
      "      label5       0.31      0.11      0.16        37\n",
      "      label6       0.50      0.16      0.25        43\n",
      "      label7       0.80      0.53      0.64        68\n",
      "\n",
      "   micro avg       0.85      0.61      0.71       685\n",
      "   macro avg       0.69      0.43      0.51       685\n",
      "weighted avg       0.80      0.61      0.68       685\n",
      " samples avg       0.65      0.64      0.64       685\n",
      "\n"
     ]
    }
   ],
   "source": [
    "classificator_performance(model_GBC, X_test, y_test, labels)"
   ]
  },
  {
   "cell_type": "code",
   "execution_count": 78,
   "id": "3623ce7f",
   "metadata": {},
   "outputs": [
    {
     "name": "stdout",
     "output_type": "stream",
     "text": [
      "              precision    recall  f1-score   support\n",
      "\n",
      "      label1       0.40      0.42      0.41       570\n",
      "      label2       0.25      0.23      0.24       331\n",
      "      label3       0.15      0.15      0.15       225\n",
      "      label4       0.05      0.05      0.05       102\n",
      "      label5       0.04      0.04      0.04        91\n",
      "      label6       0.06      0.05      0.05       111\n",
      "      label7       0.14      0.13      0.13       193\n",
      "\n",
      "   micro avg       0.24      0.24      0.24      1623\n",
      "   macro avg       0.16      0.15      0.15      1623\n",
      "weighted avg       0.24      0.24      0.24      1623\n",
      " samples avg       0.19      0.26      0.20      1623\n",
      "\n"
     ]
    }
   ],
   "source": [
    "classificator_performance(model_DC, X_train, y_train, labels)"
   ]
  },
  {
   "cell_type": "code",
   "execution_count": 79,
   "id": "ea62ab51",
   "metadata": {},
   "outputs": [
    {
     "name": "stdout",
     "output_type": "stream",
     "text": [
      "              precision    recall  f1-score   support\n",
      "\n",
      "      label1       0.44      0.41      0.42       261\n",
      "      label2       0.18      0.17      0.18       151\n",
      "      label3       0.13      0.19      0.16        74\n",
      "      label4       0.04      0.04      0.04        51\n",
      "      label5       0.00      0.00      0.00        37\n",
      "      label6       0.02      0.02      0.02        43\n",
      "      label7       0.10      0.13      0.12        68\n",
      "\n",
      "   micro avg       0.23      0.23      0.23       685\n",
      "   macro avg       0.13      0.14      0.13       685\n",
      "weighted avg       0.24      0.23      0.23       685\n",
      " samples avg       0.18      0.24      0.19       685\n",
      "\n"
     ]
    }
   ],
   "source": [
    "classificator_performance(model_DC, X_test, y_test, labels)"
   ]
  },
  {
   "cell_type": "markdown",
   "id": "ecbccba7",
   "metadata": {},
   "source": [
    "# Cross validation model analysis"
   ]
  },
  {
   "cell_type": "code",
   "execution_count": 80,
   "id": "a38ff227",
   "metadata": {},
   "outputs": [
    {
     "name": "stdout",
     "output_type": "stream",
     "text": [
      "test accuracy score: worst=0.25, best=0.833, avarage=0.568\n",
      "train accuracy score: worst=0.971, best=0.976, avarage=0.973\n"
     ]
    },
    {
     "data": {
      "image/png": "[encoded data removed]",
      "text/plain": [
       "<Figure size 640x480 with 1 Axes>"
      ]
     },
     "metadata": {},
     "output_type": "display_data"
    }
   ],
   "source": [
    "cross_validation(model_LG, X_test, y_test, cv=50)"
   ]
  },
  {
   "cell_type": "code",
   "execution_count": 81,
   "id": "3e53ffc5",
   "metadata": {},
   "outputs": [
    {
     "name": "stdout",
     "output_type": "stream",
     "text": [
      "test accuracy score: worst=0.417, best=0.833, avarage=0.592\n",
      "train accuracy score: worst=0.995, best=0.998, avarage=0.997\n"
     ]
    },
    {
     "data": {
      "image/png": "[encoded data removed]",
      "text/plain": [
       "<Figure size 640x480 with 1 Axes>"
      ]
     },
     "metadata": {},
     "output_type": "display_data"
    }
   ],
   "source": [
    "cross_validation(model_RFC, X_test, y_test, cv=50)"
   ]
  }
 ],
 "metadata": {
  "kernelspec": {
   "display_name": "Python 3 (ipykernel)",
   "language": "python",
   "name": "python3"
  },
  "language_info": {
   "codemirror_mode": {
    "name": "ipython",
    "version": 3
   },
   "file_extension": ".py",
   "mimetype": "text/x-python",
   "name": "python",
   "nbconvert_exporter": "python",
   "pygments_lexer": "ipython3",
   "version": "3.9.16"
  }
 },
 "nbformat": 4,
 "nbformat_minor": 5
}
